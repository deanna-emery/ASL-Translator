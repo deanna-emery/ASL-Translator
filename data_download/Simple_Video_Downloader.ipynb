{
 "cells": [
  {
   "cell_type": "markdown",
   "id": "f3302ca6-cb54-4991-8bd0-9e86071d0f00",
   "metadata": {},
   "source": [
    "### Purpose of this notebook\n",
    "The purpose of this notebook is to convert 1000+ videos and its parquet into video frames and load the numpy files to S3"
   ]
  },
  {
   "cell_type": "code",
   "execution_count": 1,
   "id": "74ea70dc-4528-4568-870d-07de046eff1a",
   "metadata": {},
   "outputs": [],
   "source": [
    "#Install missing packages\n",
    "#!pip install boto3\n",
    "#!pip install pyarrow\n",
    "#!pip install fastparquet\n",
    "#!pip install s3fs\n",
    "#!pip install configparser\n",
    "#!pip install zlib\n",
    "#!pip install psutil\n",
    "#!pip install opencv-python"
   ]
  },
  {
   "cell_type": "code",
   "execution_count": 1,
   "id": "8ae7a476-c650-46fa-b556-87fa80bf2a1a",
   "metadata": {},
   "outputs": [],
   "source": [
    "# Import required libraries\n",
    "import boto3 #Video files get read through this\n",
    "import cv2\n",
    "import os\n",
    "import pandas as pd\n",
    "import math\n",
    "import numpy as np\n",
    "import random\n",
    "import io\n",
    "import s3fs # Parquet files get read through this\n",
    "import zlib # For compression\n",
    "import time # To calculate download time\n",
    "import configparser\n",
    "import requests\n",
    "import psutil # Checks memory usage"
   ]
  },
  {
   "cell_type": "code",
   "execution_count": 2,
   "id": "f3b8e545-36ce-48af-a8ab-b9a647ab1356",
   "metadata": {},
   "outputs": [
    {
     "data": {
      "text/plain": [
       "['credentials']"
      ]
     },
     "execution_count": 2,
     "metadata": {},
     "output_type": "execute_result"
    }
   ],
   "source": [
    "# Let's read in the credentials file\n",
    "config = configparser.ConfigParser()\n",
    "config.read('credentials')"
   ]
  },
  {
   "cell_type": "code",
   "execution_count": 6,
   "id": "e41445ca-7160-4280-83cc-ce7c0560e5ed",
   "metadata": {},
   "outputs": [],
   "source": [
    "aws_access_key_id = config[\"default\"]['aws_access_key_id']\n",
    "aws_secret_access_key = config[\"default\"]['aws_secret_access_key']\n",
    "bucket_name = 'asl-capstone'\n",
    "prefix = 'youtube-asl/1000-samples/'\n",
    "save_path = '/content/temp_folder'\n",
    "s3_URI = 's3://asl-capstone/'"
   ]
  },
  {
   "cell_type": "code",
   "execution_count": 7,
   "id": "0805229f-1ba0-4360-9e3d-1c3d73f01e7d",
   "metadata": {},
   "outputs": [],
   "source": [
    "# Create an s3 object\n",
    "s3 = boto3.client('s3',aws_access_key_id = aws_access_key_id, aws_secret_access_key = aws_secret_access_key,\n",
    "                  region_name = 'us-west-2')"
   ]
  },
  {
   "cell_type": "code",
   "execution_count": 8,
   "id": "34895f47-d1d3-4ad8-8579-75fa4fbde865",
   "metadata": {},
   "outputs": [
    {
     "name": "stdout",
     "output_type": "stream",
     "text": [
      "['youtube-asl/1000-samples/parsed/--6bmFM9wT4.ase.parquet', 'youtube-asl/1000-samples/parsed/-9aGqJpaN7c.ase.parquet', 'youtube-asl/1000-samples/parsed/-FSlHH2ReLA.ase.parquet', 'youtube-asl/1000-samples/parsed/-GtDaiSJkSQ.en.parquet']\n"
     ]
    }
   ],
   "source": [
    "# Let's get a list of all the parquet files in the S3 bucket\n",
    "paginator = s3.get_paginator('list_objects_v2')\n",
    "parquet_files = []\n",
    "for page in paginator.paginate(Bucket = bucket_name, Prefix = prefix+'parsed/'):\n",
    "    parquet_files.extend(content['Key'] for content in page.get('Contents',[]))\n",
    "print(parquet_files[0:4])"
   ]
  },
  {
   "cell_type": "code",
   "execution_count": 9,
   "id": "155ba8a1-cb7e-494a-b110-cd9d76ad28a4",
   "metadata": {},
   "outputs": [
    {
     "name": "stdout",
     "output_type": "stream",
     "text": [
      "['youtube-asl/1000-samples/--6bmFM9wT4.webm', 'youtube-asl/1000-samples/-9aGqJpaN7c.mkv', 'youtube-asl/1000-samples/-FSlHH2ReLA.webm', 'youtube-asl/1000-samples/-GtDaiSJkSQ.mkv']\n"
     ]
    }
   ],
   "source": [
    "# Let's get a list of all the videos\n",
    "paginator = s3.get_paginator('list_objects_v2')\n",
    "video_files = []\n",
    "for page in paginator.paginate(Bucket = bucket_name, Prefix = 'youtube-asl/1000-samples/'):\n",
    "    video_files.extend(content['Key'] for content in page.get('Contents',[]) if content['Key'].endswith(('.mkv','.webm','.mp4')))\n",
    "print(video_files[0:4])"
   ]
  },
  {
   "cell_type": "code",
   "execution_count": 8,
   "id": "ce913633-be71-4960-84ae-7ee2016926ca",
   "metadata": {},
   "outputs": [
    {
     "name": "stdout",
     "output_type": "stream",
     "text": [
      "['youtube-asl/1000-samples/numpy_files/--6bmFM9wT4.npy', 'youtube-asl/1000-samples/numpy_files/--6bmFM9wT4_cap.npy', 'youtube-asl/1000-samples/numpy_files/-9aGqJpaN7c.npy', 'youtube-asl/1000-samples/numpy_files/-9aGqJpaN7c_cap.npy']\n"
     ]
    }
   ],
   "source": [
    "# Let's get a list of all the downloaded videos\n",
    "paginator = s3.get_paginator('list_objects_v2')\n",
    "downloaded_videos = []\n",
    "for page in paginator.paginate(Bucket = bucket_name, Prefix = 'youtube-asl/1000-samples/numpy_files/'):\n",
    "    downloaded_videos.extend(content['Key'] for content in page.get('Contents',[]) if content['Key'].endswith(('.npy')))\n",
    "print(downloaded_videos[0:4])"
   ]
  },
  {
   "cell_type": "code",
   "execution_count": 8,
   "id": "dc567bbc-a3ab-4924-a798-afcbf643c8a7",
   "metadata": {},
   "outputs": [
    {
     "name": "stdout",
     "output_type": "stream",
     "text": [
      "['--6bmFM9wT4', '-9aGqJpaN7c', '-FSlHH2ReLA', '-GtDaiSJkSQ']\n"
     ]
    }
   ],
   "source": [
    "downloaded_videos = [file for file in downloaded_videos if '_cap' not in os.path.basename(file).split('.')[0]]\n",
    "downloaded_videos = [os.path.basename(file).split('.')[0] for file in downloaded_videos]\n",
    "print(downloaded_videos[0:4])"
   ]
  },
  {
   "cell_type": "code",
   "execution_count": 9,
   "id": "c5fe371f-4366-4c42-9b0c-3d64a184fb02",
   "metadata": {},
   "outputs": [],
   "source": [
    "video_files = [file for file in video_files if os.path.basename(file).split('.')[0] not in downloaded_videos]"
   ]
  },
  {
   "cell_type": "code",
   "execution_count": 10,
   "id": "d8cc5d69-127a-4d12-8a48-b4f26232a84c",
   "metadata": {},
   "outputs": [
    {
     "name": "stdout",
     "output_type": "stream",
     "text": [
      "['youtube-asl/1000-samples/EoByRQldF-4.mkv', 'youtube-asl/1000-samples/GdYNF6g73eI.webm']\n"
     ]
    }
   ],
   "source": [
    "print(video_files[0:4])\n",
    "try:\n",
    "    video_files.remove('youtube-asl/1000-samples/EoByRQldF-4.mkv')\n",
    "    #video_files.remove('youtube-asl/1000-samples/GdYNF6g73eI.webm')\n",
    "except:\n",
    "    print(\"Video not found\")"
   ]
  },
  {
   "cell_type": "code",
   "execution_count": 11,
   "id": "6c9106d1-029f-4fd6-a2b4-5e6f1b71c7da",
   "metadata": {},
   "outputs": [],
   "source": [
    "parquet_names = [os.path.basename(file).split('.')[0] for file in parquet_files]\n",
    "video_names = [os.path.basename(file).split('.')[0] for file in video_files]\n",
    "not_there_files = [file for file in parquet_names if file not in video_names]"
   ]
  },
  {
   "cell_type": "code",
   "execution_count": 12,
   "id": "97e336fe-c180-4415-be66-17f49839c3f6",
   "metadata": {},
   "outputs": [
    {
     "name": "stdout",
     "output_type": "stream",
     "text": [
      "1154\n",
      "['--6bmFM9wT4', '-9aGqJpaN7c', '-FSlHH2ReLA', '-GtDaiSJkSQ', '-HkeOGWJWLI', '-JGpOd2AlVY', '-QHnZBBE8Ho', '-ZOyG_dW_1M', '-Zrf6jWiFZs', '-_oUXqM2Zjc', '-aLiyA30EQI', '-d4a2kGy0sg', '-eBnWC1ngLg', '-j1GUcRAbPc', '-jar_eJa87Y', '-kvW8iUnuoo', '-o9Tj5gJGI4', '-oqvbNZSFnA', '-qK5tz1UHSM', '-toZLgPr-7E', '-ulbptDunGg', '-w3fITJYQy0', '00urZoasbzw', '03LKR5Kjgd4', '04QD9ew7UHI', '0553Gp2y-RE', '0I7h9AmcusY', '0J4_26aTVF8', '0L6S0b14ZmI', '0Pp2AcPbHnw', '0WcGVcWLLy0', '0axfOnsyUE8', '0dMMGRq3EaI', '0gLuBychKgQ', '0ibHGUofRWQ', '0oJp4HiGlqw', '0tQRCmF1lhE', '0u2AVVL5KRE', '0zIK6G6DdTI', '11QQwlNKUr4', '11bYjaf1gWc', '11gzqTBlm5Q', '182RxC-rQZw', '1PM8NOrXLMc', '1Tr77GEcSrE', '1W05nmX9T38', '1Wol7Y3ezhA', '1YYaRxqSxNc', '1ZByLiG8-3c', '1fCuZxuGHGM', '1hQ3N5wsyeI', '1iTycyw2jcE', '1nJt4VHPNE0', '1utumpy3Aec', '2-0BoNb-3DE', '209YWxzAzyQ', '20nY5jgoY8w', '2FqUerxjxXY', '2Kxcrq-_Jts', '2RjGna641y4', '2SEgXpck6-o', '2Tgl8gxz_HA', '2cryaHnc62w', '2msG66_yfBw', '2pDVyY9wsRg', '2r-hs8cizg4', '2rUWPvdAVMw', '2uqfhF-Of_U', '2wUQUwnxxtE', '35bR5TNTd2M', '37O1I0qQC38', '3D-KZP5NFk8', '3Iu3rAesooU', '3IzgQqiETPE', '3Q9umXcc3UI', '3SXfajMCua4', '3VnprO5BPiU', '3czV8z7v_6M', '3dFFzsCxZDg', '3derzMnQLDY', '3gPumCu8Whk', '3kK7lt2QG-0', '3mXKwT5Cgsk', '3pGRATrswG0', '3v8sZtJUTFw', '3vBArm5y3EM', '3yHjg_u2MjA', '3zBcV4VQ2lg', '4DBavnAzNpM', '4IKRQSTErXw', '4K4OjRaKu9Y', '4LVtQ_shm-M', '4Ll6DW1-A2k', '4MLsp8dZBjw', '4Qa2r-L4euE', '4SLHWjGmHR4', '4Sp_9wH8hLs', '4Up1W41Xyfg', '4W-g21npdkg', '4Y1TNFRw3Nc', '4eTllnsMOUU', '4fqpBXE0_Dc', '4iDvV-RDVcw', '4jp6_7JGdW4', '4k_S5S4-sok', '4kp2CBOi69c', '4m2eE_yGmek', '4u07zqg_jRY', '4zPLsd-C7cI', '50iETKggGHg', '50muznl1uOY', '52MGfKDRnmA', '54RqBmjdq9g', '54q7y2npxbM', '5555bq_jvnU', '5BM9FSYEeo0', '5DolK2hufSM', '5F8t4Bd-aWM', '5Jmlftgw9-E', '5Ke194FDKvw', '5MUTjks5Dac', '5O0BtJC12gg', '5TeY1R1UAmw', '5_kA8RIsUjY', '5pWfew_lLx8', '61yO6Y8dgXw', '66VDsxPC_EU', '67C8WkVF2gM', '689vmfYsFyk', '6DuQPRnG0Ww', '6FfnSGBp1AE', '6FsVL71Vv2s', '6KigrppBbT8', '6LM-dcvG38I', '6YRIw7EFtwA', '6aLr21Iza1U', '6dKIcUCzRHc', '6eRl2gkin9w', '6ibLm_CpHbY', '6jAXjIR_ES8', '6mmsUCfyXuw', '6pTpjuf_75U', '6rf3bfocwRE', '6sHCD5Z-PY8', '6y4R_EYLT4A', '7-uJbyWnwfU', '71vyx6s25i4', '72MBWdDPmSU', '74v26n8OHpE', '750f5tzGBUc', '791GHmxK14k', '7BgQM7l2ZY0', '7GLXUu1NgsE', '7Mmse6ucEno', '7OVCgCEuf1o', '7T89OwdCd3E', '7TFuYF-v3tk', '7W5O55LihF4', '7ZxGAEkLZ5w', '7aUa50q0GcE', '7eKKiA5Bpi8', '7yOoVC0OriY', '8-sswQ3Cw3A', '86OJd-nTUpE', '88f52dxKnyU', '8A3jpDQmkPA', '8GFchtY79-M', '8La0s8H3bi4', '8Nw9ABhSbvc', '8PBPVKdDuXM', '8UyZnhkitnE', '8VTAvocbMpI', '8Z9yl0lQdCo', '8aBCxWS5srA', '8gNm4gUMQP8', '8iRXatR0VW4', '8ioj9vM1sI0', '8ldCRYsaU2M', '8lws0OAn9gI', '934jUcffpjY', '93JsMuhFRVs', '93zQA7Z700g', '94Z2ddg4B5g', '95DJ0rJYUYc', '9PukWssJCj0', '9VviAP3FNv4', '9W0mJdMgfwQ', '9X63lpKoKQ0', '9cIomSQEspQ', '9f2qSHZWunQ', '9mlylMfZso8', '9p6eojPZWu4', '9p_xk6lXHOs', '9rvcLj4ZWiQ', '9sMSMwz2j10', '9x7l1wRg6sg', 'A7mHAymbVoU', 'A9ScW8a1tzY', 'AAHiho3UP2c', 'ADbko17YZlM', 'AFCFJK9dQPs', 'AFCmSxEWgf8', 'AFppCpvS8_k', 'ALnkXxhqaxA', 'ALu_DksseeE', 'AOK2nsPOXgE', 'AQcNynTZ_yw', 'ATnZP3ehz1s', 'AV6oZ4aKJ74', 'AVPl_ac46eA', 'AY5qRY4s3_U', 'AdDxgNZ7nC0', 'AdtXXwufcbM', 'AmfgYMfevG0', 'Annxe8N51aQ', 'As0Dy9BpNAk', 'AvMJBcDQls8', 'B9LXIV_CXy8', 'BDNP8gl4oAo', 'BUtB2V4nIcg', 'BV-nypLO-Lc', 'BVaHKGSOzXU', 'BVrZ2mPsdS0', 'BXH5iwRLjVI', 'BaMqQQIlBbM', 'Bawbmhprvqs', 'Bb--E2HYwB0', 'Bdz98mfDRS4', 'BfUPRI3h4vo', 'BkZ8qHji_Ko', 'Bl1e8ie1i9Y', 'BnSehf67YhY', 'BnfqJS7g3VI', 'BsiYCzSSQK4', 'C-3WmnLMw0I', 'C8Xd_6u3Xm0', 'C8g6fYK5Vlo', 'CHDaCHZkn9s', 'CIl6r9nP-VA', 'CN5_ihghSYQ', 'CQX6COkq3J0', 'CYhe6-RGUTQ', 'CdZ6jTw4Byg', 'Ce5LhZNuT-U', 'CePMsA2CxM4', 'CfUObE5-6fA', 'ChRXIP56Y4w', 'CihteHtAA3U', 'Ctna-GMK5Dc', 'CxFQLGkoq_8', 'CzhP4vJdsFY', 'D-eSDrtB8_s', 'D8TzPjxW9S4', 'DFwQQL6_YZ8', 'DLSKUtb3jF4', 'DP1v8icEFro', 'DT6E2wEkBQo', 'DTJdB0vIYm4', 'DT_itWmz85w', 'DVz7K3ktQP4', 'DYCk20Pngm0', 'DdLgzk4yz6A', 'DfzD_N5GUT0', 'DnCDenDmn_Q', 'DoJe-4c7WmE', 'DpE-kbcdJn0', 'Dt1cMDD8SpY', 'DtJ8pZjpD6k', 'Dud6KEMLZJk', 'E2BfEJr4k0A', 'E5fsRVLZ4y8', 'E6B7cp-4lSY', 'E9aV5Wt5PWA', 'EDDQnj0kF5Y', 'EL0lXGrXFJg', 'ELWr19SlxiE', 'Ec8LjnVuJx8', 'EgmtkIDWytA', 'EkMdRlKewG8', 'ElaPk8M5GT4', 'EoByRQldF-4', 'EovmEMDNQY0', 'Ev6Ta3AwKl0', 'EwVxIU8Ahbg', 'F41xtoSjCY0', 'F7_oWzc3VPQ', 'F9hlfvaaul8', 'FEDCoHulc6Y', 'FJ6gbD22oxk', 'FJfkcDF60lc', 'FQEp3JYlru4', 'FTMSjV_KuNg', 'FZ-o3FNEVnA', 'FZ10xSnJCEI', 'F_wlPOPz_gI', 'FcaRUI2fWY4', 'FcfZ7KUo62M', 'Fcp8ifIdXEo', 'FcyhvkyQewI', 'FeEKEz5CA1c', 'FfVpT1A48WQ', 'FkT1qlh8hN4', 'FldFKGwNLIY', 'Fn_6QEOUybk', 'FqQmLCNddoY', 'FtrLw203ERE', 'FuJvJHtRPao', 'FvyP-TE_UCE', 'Fyq60KVzYqU', 'G-B_q7EUfvs', 'G1_Smq087Ak', 'GD4rTFsxuyA', 'GDBg3OSfLuQ', 'GHbmDCXymrU', 'GJrmYISEbEI', 'GN48AMTOrO4', 'GNJLBQizHAw', 'GUzRS-YvImY', 'GaKCjboMg8k', 'GiJflpuTwXg', 'GlFbv_2kkQQ', 'GleXfn7X5ig', 'GmEuBaW9F80', 'GmpPSx_UekY', 'GnUB49aqFpI', 'GrUr1IMddhA', 'GueYpbpsx6k', 'H3_xg8U_iAY', 'H3eHAKpTF70', 'H4DZacb6RKo', 'H99OAlBt1dw', 'HF4prec7t08', 'HILTIdPmr6M', 'HNoipn5eFfU', 'HO1brUaZ0ss', 'HUo_OPTb97o', 'Hg1IwnvNV9M', 'HkQF_1B90EE', 'Hma5m50Husg', 'HndRDXCPjkY', 'HphwkF_huj4', 'Hri_tzPO1zc', 'HuZVXbNK9CE', 'Hy2N_KYeQjw', 'HyGIBdTs9yg', 'I-BuvRRzqVc', 'I1HAs1moH7k', 'I3A7r1fvEJE', 'IET4fAzJ5I4', 'IEquvs6P_sA', 'IF7tuIGr1cw', 'ILfmiXD55OQ', 'IMd4o6zmSZY', 'IO4Mva8y3Ok', 'ISnOZgQyT1E', 'I_jPkH4SQUw', 'IaQu3ADpYlQ', 'Im3X9mj2xt8', 'Imp8F0qKXXc', 'IomekhW8ly0', 'IqmHliYD2s0', 'IrHgc9zU6RE', 'IusZylrn178', 'IwJ4gEJMYKk', 'J4TQ1bw9KLU', 'J7EdSDL_wQM', 'J9HZ1JdV1Us', 'JHSL5Gz_89U', 'JKh2qI4v7Qg', 'JLUa6WwwP_s', 'JSebhjs_lrk', 'JUssiVlEg-k', 'JYUk8DDSUTs', 'JZYGQAByfGo', 'JcghlrvmXHY', 'Jgr5hmP_-4Q', 'JkLMA1UxB4E', 'JleJlRuEcBU', 'Jr2ytwpBTPc', 'Jre657dWfwQ', 'JvFeQBjtv7Y', 'JwFdCtGGRyw', 'JwUpFXZWimU', 'K2QpT7fkRzQ', 'K2UvM22_7q8', 'KT8jSO_nR8c', 'KU1gFL0XBxA', 'KUSj-Xk-CBU', 'KW7GMZvZSdY', 'KWI-daG53Bw', 'KYc_PUsyNPY', 'KgkjdIK6AOg', 'Kj_r27A9CF8', 'KlhA4GXkbDQ', 'KroImfKZ6yU', 'KtXrzu-UyMw', 'LNcg4mSf-Zs', 'LP3LIu1plJo', 'LRAy2e1ocNI', 'LTo_jOV3Nzk', 'LgsgDepgROw', 'LjNgGytr99Q', 'LjsGFIUqGGM', 'Llgrxnk6LCE', 'LmQx5X9FB1g', 'Lp6T3jqcdfo', 'LrwRi4YhByE', 'LtVZfkxGME4', 'LwpUtlbUfMk', 'LzU-kjS2xHY', 'LzaPSlJI75Y', 'M1UpvJATinc', 'M56Fdz5GAx4', 'M7ZnG6Ydius', 'MCOAfpj75U0', 'MEGOHtOvxug', 'MGmpIW991_I', 'MH7tmcrhVGM', 'MO35UjFWv60', 'MWmUdruw_kI', 'MXfNUAVa7aA', 'M_d6CtmEG7A', 'Mg4RL51rQvU', 'Mm1l6PFAobI', 'MrbLstG4IRQ', 'Ms7ZBdfN9SI', 'N0lyCUL7byY', 'N1XYEEMI-SI', 'N5hHUGVN1G4', 'N7jgY0Omxr0', 'NB1GTWM2Ua8', 'NG6SwCt3A3o', 'NKetQuRu0pE', 'NQ5aPqFXysE', 'NSShTHCjWAc', 'NXrsfeaXDGI', 'NZ30k9hRE6s', 'NaH4SlkN4cQ', 'NadXBd_JTFA', 'NdBXUOI7sEI', 'NlxgTd-T--s', 'NncQqYawYDY', 'NuVCeHWw4Jo', 'O0gHXHpPT9c', 'O0vUOCi5nTU', 'O1tmcqoplQQ', 'O5RNVnuZejc', 'O6vvyEPkd94', 'O8Ktzn_Wojg', 'O8thLeHNICM', 'OIXrd4RDy4g', 'OKZRkbpWYbI', 'OKkHSNurkEg', 'OOit-RY_oeM', 'OTh9A3GnKjE', 'OV7A_KVhtmk', 'OcR5RzTtpHg', 'OeSY7G5t-t4', 'Olothut9A-A', 'OmzetLBYWXg', 'OnxkZaOfw_U', 'Opan_5EBDBY', 'Oq2xyDjIizg', 'OvSRJexBEnI', 'P0ZMGSu-cV4', 'PM0FG6mGT40', 'PN59NXlRlgk', 'PVm5QDzOumA', 'PWhDgKVtmh8', 'PXibMBecImM', 'PhFpDlAr9Pg', 'Pjflt6TwXvc', 'PmYeilTNPPc', 'PoE7P3nvQSo', 'PpmxqVsTL_k', 'PrvraHyIRik', 'PxtwICKF6SI', 'PyBY9-dSJt8', 'Q1H12PaWroc', 'Q3RXIsG0bdo', 'Q4kyTq8v3jI', 'QB4_--8j9Yc', 'QBHfCU8CrY0', 'QGN1HIw2ue8', 'QJ7jcCbpwUQ', 'QJbLCX3Wk7M', 'QJwynJWyPlI', 'QNCzyGiITfE', 'QQImlGHO_W8', 'QWhaP1mZeEk', 'QZu3GMMJ4_Y', 'QbFTZo05I28', 'QfQw_AN4bFM', 'QgTPL4L5iMQ', 'QiLaj0Ye55I', 'QuPiyUy3FYk', 'Qvm8TGPGFBs', 'Qx7QNUPYfN4', 'R1rj5DHomPA', 'R4-JHCbM4EA', 'R5Xdi6yESKs', 'RAgyCxxPbZU', 'RCi45Oumau8', 'RIqWIBl1bRw', 'RLIzeTGgDhM', 'RXnxpoaT3u4', 'R_jb1_zLTPM', 'RhVC38YG98c', 'RkOfKMz_XoM', 'RoxpRy7H1OE', 'RpGptEw9inE', 'RpZtoiKnw-Y', 'Rr1BOTU2mhk', 'RrRK1s6vlBU', 'RwnVt5_xFO8', 'Rx7L1RhiTP0', 'S0df727tfIM', 'SC484m4Qrw8', 'SGu2BtQQcHY', 'SOQRch0pGsA', 'SWf8m4u2IiE', 'Sd-vKNGjfOU', 'SeXD0sQ4ykM', 'SkCOrdWm0eo', 'Sm8t96C6wZM', 'Ssp76E0zfFc', 'TAUY41RTUy8', 'TBjnpL8Mtys', 'TD-_HOmdhig', 'TJgxItJ1apo', 'TKatS4-gzxE', 'TKjektBCp-w', 'T_Lr9-TkV4M', 'TaRcyuMdal8', 'TaoKVnV3QyM', 'Tk2RStE3HwM', 'TknJbrY_5JE', 'TmkTzCvEdh8', 'TpbJl1puoR0', 'Tpw8ajX8Tv8', 'Tw1R28bMFqg', 'TyzULpKvSys', 'TzzRusI7XwQ', 'U-ZU8kR1iQg', 'U1G4GaX1O20', 'U6LNeJLLbvo', 'U6MLPAvr5wY', 'UEqftX8fwno', 'UJTMSNJzjYE', 'UMQh-3Z04gA', 'UTdpVFb-xYc', 'UYCiJI1aXU4', 'UbzoUh87zzQ', 'UfA7IKbD_Bo', 'UkeRNzk3mWk', 'Unst7_p33HE', 'Uo_qsRF9wfs', 'V3hNJgdAHkE', 'VCBmBxUdzwU', 'VDwvRQPyT0Q', 'VF3nskTUXJI', 'VHvvbpwj_qM', 'VI8D-mr_u08', 'VJpyYc7n5os', 'VKIVGkcJyTI', 'VLPFZNxLzN0', 'VSfgzF_mAu4', 'VUkXi6clr0U', 'VXB5zz9uOWY', 'V_6uSqOmL58', 'V_MIbTMsODc', 'Vh7R5Q2nX-o', 'VkRMtc8eVMY', 'Vml7p_qwcCo', 'Vsaio98oS7k', 'VunaefwHP_0', 'W2BljJP2gR4', 'W8F3S9okjDg', 'WA7K5fox-QI', 'WEO8o5cZQ2Y', 'WFE5atTN6rE', 'WGwaWtigG5o', 'WJe7ra_GWtI', 'WSPCvubQxoI', 'WTZVsC8NcAI', 'WUsdJa14x24', 'WZVRfaR4JXM', 'WajlvmxlcTk', 'WbUpc1ukr64', 'Wbj-yWkgjqQ', 'WcGJ3kIHs40', 'WpKV4ZJIBdo', 'Wru5F1JV_sU', 'Wvj_1xiRetk', 'WxwW91yqFCQ', 'X23iEEG-jsQ', 'X5qgcOYBmTw', 'X6Un-sYy1rI', 'XCKirhfQWIo', 'XKIb7PFa27o', 'XNth76T4tbc', 'XOrC6fcUOgY', 'XOyBchMnXyQ', 'XPoP2hzwLIY', 'XQJp2F6N7OQ', 'XTJrtxfCw9k', 'XUvJzrV1-l4', 'XZ6-u_1h9Lk', 'XgQ3G08wcb4', 'XiD4W0pk3Q8', 'Xj8CMwBbq4I', 'XoOGnYKdoMQ', 'XvEKAhUfgZk', 'Xzcyz8G9lxI', 'Y-e0RRx7Uy8', 'Y2FdIBexC5I', 'Y7GFNpouVvo', 'Y8q4yqbHyv0', 'YCoWhi2OviI', 'YFml14FDLSw', 'YH3YLEZJasg', 'YIiktQCJpP8', 'YJcuOI3L47c', 'YJx3ku3uc4M', 'YQI8XOghfj0', 'YYDdyqeLdqM', 'YakYyLLxdyc', 'YdhEJOqLPwg', 'YiSVZJ_Xo_0', 'YigHr6YNpMw', 'YjzJjO5Br1I', 'YoDqDMj02_4', 'YuIwOOtAu58', 'Yy2hzz3OYc4', 'YynYZyoETto', 'YzFHh1as26o', 'Z-EZnkI4bxc', 'Z3j2srwHiBo', 'ZHyZZ9YdrNo', 'ZJtQuntEBMU', 'ZNgzCj2EilU', 'ZOOpGprUm3w', 'ZU944NBADL8', 'ZV2FGoulS6Y', 'ZXXc2_Omveg', 'ZmVnTZ7olx4', 'ZqrmQ08D5SY', 'ZyBqOoWIqIc', 'Zzd-eBKqLXE', '_90FhxcumBI', '_9Ary6lW4GU', '_9bfBIagfB4', '_BYU2WYAlsw', '_DxZQsc_Tew', '_HJXVKhSRmY', '_JpDTLv9jzM', '_KJU_YzsaZc', '_N5zuJa9vJI', '_RoeH-S-n0M', '_SsSiUT8mNc', '_TdZgh-y35U', '_U4p4x0Q5aY', '_Un-CI3aDxQ', '_YRjnKrM5HI', '_cQrY-He_hg', '_lWBaVa6Yy4', '_mGxpZOodCY', '_nz_sivss20', '_t6Z15JQyk0', '_tlpKLYakE4', '_wwt0VH6y8c', '_zA4_EFlFZ4', 'a0KZ55-OH-0', 'a1m-T0nMQsU', 'a3VmH-0K0Ac', 'a4ODkFXJohk', 'a4l-djeGlFM', 'a5IkcDdUxwQ', 'a7rFQZJ4WI0', 'aAvGGOGrldk', 'aGLSkA16Kr8', 'aMEneUac3OU', 'aNzFw9F1dGs', 'aRK1R-kmY-E', 'aSncB-Kn0YM', 'aT7TCz0kHIw', 'aTBj3sh9bqA', 'aW-aUwkZDOk', 'aWcrOVjF214', 'aZ57SXfZQfY', 'acF155d_s74', 'af1xbDYTdmU', 'af7uKdq0G5Q', 'agI9_i8Q8aI', 'aiPBneEjA4M', 'aiaHWZ8Knus', 'amk9yeY1Liw', 'ap_Q5YzDsbk', 'axcvjWlMkJY', 'b11HbwXAl58', 'b9DYAmkIWNI', 'b9kyfhGjegU', 'bAptpD7Vl84', 'bID5jo0JTcI', 'bKLcIMCTgkg', 'bN2zn1ZglDE', 'bV_FqA4KOCQ', 'ba4N59LLHuw', 'bd5RruPAoRw', 'bevmxyIsCNU', 'bfQm2rGmjmk', 'bhgQu7de-II', 'bqVT4SyswVE', 'br_IeqF6cdA', 'bv-OG0WNwP0', 'bw8En_9BKGI', 'bxnEvMndlkk', 'bxv4f1F_MWc', 'c-G-9dKVcRw', 'c1QeZsIdxrU', 'c2DgrSc2LZ0', 'c2xlyCv41ZA', 'c4QV2nNb1wM', 'c6XoNo1NKRQ', 'c6ZfjqY5Xfc', 'cC3t7u6QyJY', 'cCe9qA5BXt4', 'cCrJuudhhT4', 'cE1qcIYpXB8', 'cGyl_HYEcLk', 'cIUaCkrUJyE', 'cIwq1kX6zks', 'cOasrBZLyOM', 'cPCxvX9An28', 'cPUz6R_xvc0', 'cRL_gBi3UsM', 'cU7srvz5xn4', 'cWHOIpmLHlw', 'cWu_kQKgSoQ', 'cYLJj-Dfnn8', 'c_YTwu43V9k', 'ccTI6hipys0', 'cks28NSNK1c', 'combined_data', 'cps01ioPsEE', 'cre3jN-Wkt0', 'cwLsswn6f_8', 'dATJBSktK3w', 'dAzt--IDaFY', 'dBKY0y6Zypk', 'dKc9PsZxU4s', 'dN8XTnFcSUg', 'dWTa7WroKYo', 'ddrcAKO82zI', 'df6t1W4MiSU', 'dieUvlQnaks', 'dktRu1PeGyk', 'dmx_6CERYlM', 'dpN1dQkUnek', 'drxldErz6LM', 'dvYi5p-Tn0Y', 'dyaeVNlFrxs', 'e0bxKJXsUyw', 'e3XTUCFN_Ws', 'e3rrkRQIc9w', 'e6br5aZLDg0', 'e8GJCgn87KM', 'eLoTGscYCdA', 'eNEGtLtHksQ', 'eOpoyiDdCF4', 'eQWb3YMg3xY', 'eUOuqDVk0nE', 'eXWZAMUjsNs', 'eYP1Z8zkyN4', 'ebmMWgdHy1s', 'efRZKDXvOhU', 'egcQ1AXRPjw', 'egtA9WSLbr4', 'eh6zjWtmh3E', 'ehL_3Vdb8TY', 'euB_EZILQhY', 'ezEb24qlGVw', 'f1I8srCPXNc', 'f5Ku8IWyXOA', 'f6y1F7Kk9LU', 'f7stRw_pSyw', 'f9ZOD3HK_xY', 'fAXI7cI16iA', 'fB3iylAznns', 'fB3k2bsdEdM', 'fDPNdbii6Mc', 'fFCrQJPmJXI', 'fFQzfHyKzqU', 'fG_poJU7NDg', 'fH0Xmb4Q0Xs', 'fIs7tLYRU-o', 'fOunrHObNHs', 'f_Wh4gwv_w4', 'fggwxcIuVM4', 'flbQ8g0b3iA', 'frhkGlZr26o', 'fvtzSxV_DE4', 'fxA1QJpnwNg', 'g1R9CpeSCHM', 'g1czxN0hn8s', 'gAlZK4088pY', 'gD1qIg05Rgs', 'gHdecxmMibc', 'gU7PIZI6R1w', 'gYhuMbzJkfU', 'gbnXu91AiEE', 'gjFTs3fPAVA', 'gklD8Xj0jNw', 'grqN8du3InM', 'gtiGisJHBXQ', 'h-0xl-v2Bv4', 'h-DgCfQeB08', 'h0bQrwXm-BE', 'h4IbZunM4hM', 'hHd4t8Bwn-0', 'hOXTMirjFWo', 'hS8hqMX1_ug', 'hStn03G0JUQ', 'hVDHrtvy-9w', 'hVwaGil0cvg', 'heiiaUwtoyE', 'hi8RtGrEnQk', 'hm70wXKIzGc', 'hngFfU521EM', 'hnuf1u2vjeE', 'hqUF3DAYfnI', 'hwoCpVw1jPk', 'hxzR3y9beks', 'i02cSjHVGl8', 'i5bbd54dMuQ', 'i89jw_gx8p4', 'i9GBUGn5Ux8', 'iBLqOoYTFCo', 'iEdoqHJbfDo', 'iN5Obi6a9J4', 'iOjnonVaG3A', 'iSivHxAApDA', 'iSyUC4tsVU4', 'icJNRTvnAKA', 'id_HAlDh44k', 'iiWWh9Jlj08', 'ijjgKaNZ6wE', 'ijtEc7X4XCw', 'iuBVDypUS3c', 'ivzkwPlDvZs', 'iyDKel55tfo', 'izES-hb4FQY', 'j130XHaXAmY', 'j1S__5JJS2s', 'j2iRHiIYtTg', 'j4EMGOoSzXk', 'j5qa6NykqLo', 'j9jSj1oFzes', 'jBOS5GmQGTw', 'jEOl4do2loA', 'jEjtVRj8yRA', 'jGWuW5Me2m8', 'jGoDXwgDCNU', 'jHD2Q2uS4B0', 'jJD-taXs_nc', 'jJmz6BT_qqE', 'jMnUP2WYC2s', 'jOXdPLKz22I', 'jPvOkmxsKoA', 'jQ9XRNipeFE', 'jYPIzg1NWIQ', 'jcddO1vjVY0', 'jdAHCKsMRTc', 'jj9NPUw4yfo', 'jm0DCg0UhZ4', 'jvEiBWay2KA', 'jw9kuUQhuws', 'jwdlFwyM8Lg', 'jy2dq2F27Ds', 'jyzlf4rdRIU', 'jzUTBq9-P1U', 'k3Tnrie3A_E', 'k4B8pdgvBC8', 'k5Gxbifw8s8', 'k5pGqJtTh94', 'kIBZ8PavNk0', 'kJvaQYxj69k', 'kKjJA9PP9_o', 'kWAg5KC8YOw', 'kXS7TAVKF-I', 'kcOpCJZM0iM', 'kcSSlDl_mfs', 'khX1X2ateYo', 'km1K3otjHzA', 'kn_0P5FKcrM', 'koufT8XN5OA', 'krIKEOXaht4', 'l8JzJ56_aS4', 'lCEDpSt-BCI', 'lD8U0kmKADU', 'lDc0WwqHzLw', 'lLPFTLjYFho', 'lLZFWRuAyy8', 'lMqn2KJkFxg', 'lOkx3ikOZPU', 'lUSQmBDU_sc', 'lVAlWxuUtRI', 'lXvixyqvSqk', 'lYywKl5At2A', 'la2ENi7JxIY', 'lnFttTUbgK4', 'ltIROXJfv2c', 'm30-SOG3CNw', 'm53IOag4z_w', 'mEV8qpIAa4w', 'mGmAVK2cQZI', 'mK3N7HmbyVY', 'mNUeLd9VAFM', 'mPUu-sp82uw', 'mUKJPbLGpCU', 'mWxFenhFv8c', 'mXaQWYtOhBA', 'mY_lgD18XN8', 'mYzGZp3KyE4', 'master_parquet', 'mblgz6r00NM', 'md2_n2PIyk0', 'miXDRqW0ArU', 'mjtuNwD-CcU', 'mmRqmCE_iAg', 'mvw1OJIhUSc', 'my4mxg6lXYQ', 'n-8LdSZabx4', 'n1FwuRX-iMs', 'n4zOmqOWfGc', 'nCh0-7P_SJI', 'nObaguRC9xo', 'nRGWA8RKKU4', 'nXLM8hn1HSc', 'nYIpIv_qNFo', 'nfjCTfDSUk8', 'ngGYyMkmCvU', 'ngatok1tQrU', 'nh-6sk8yuog', 'niKgGbsogJc', 'nicLQH_Fzao', 'nr6McqlrCMQ', 'ntvyhHY5mRQ', 'nv44-7RHbXI', 'o-N0ToHzUDk', 'o0vCRLF-0Uk', 'o758iH5L6CU', 'o90dgdXbvRU', 'oDIrPfLthvs', 'oDROcplSQUQ', 'oI2lSIZKEuI', 'oOkSSJbNv68', 'oY8YjuAjdkk', 'o_z_t2ZKADo', 'oaGpJO-vqvo', 'oa_wl6IAZvo', 'odm4AmvN_rk', 'oej1DRHuJKY', 'oelN80DCHFM', 'ofZunib3szg', 'onbzPBlTWqU', 'opsieiD2Sg0', 'oqV6bWyjpPA', 'oyVP3UIxksQ', 'p3LBU2IpipM', 'p5ckd3OIlCg', 'p9HOk8dHbvY', 'p9KWO3SsUbE', 'pPKbHp8A57A', 'pRa-RvjSRmQ', 'pVNxXM4WF04', 'pYHNX1K_nLQ', 'paqo2WdSQBk', 'pb1QTrunoUA', 'pgwDcLVNryE', 'phMM_TDMAGU', 'pimixabgzlc', 'piv2Py71v04', 'pkfr-y5GRWo', 'poWavwlUcwI', 'ppNd7bMKVJg', 'q6vGVX_Y-Nc', 'q9Q2FrV9pWM', 'qJ-s84W3eTY', 'qJ9zroo2alU', 'qMITYqTzaIs', 'qTZDshOTU9Q', 'qVxNP9TnBjY', 'qamOaenr-5Q', 'qjueKHOYZNo', 'qmXmcxAE6XQ', 'qmc5Wg7uEEc', 'qmweIgEEGAg', 'qnOJ5DNBRyY', 'qpzePP8ZTCs', 'qrwXj-iP-Mk', 'qth8McP5Nmw', 'qxxJZJ2gvEY', 'r0tiB29olkk', 'r2N3ZHStnO0', 'r2pmr-rSxpw', 'r37PxJuv7lk', 'r6jSu9Y_67M', 'rApOB1K87H0', 'rJaRD0ZXAv4', 'rK-JGp_D8h4', 'rPQTvR5-cEk', 'rQwNWCq4JBY', 'rQyqvBLY6CE', 'rdpxHJ4-Gnc', 'rfzTOT34JTU', 'rk7aBQZR4UI', 'rnbzXYt5CBA', 'rncXf-_rDjg', 'rxwsO_SLOPA', 'ryAROpNBaHY', 'rzGo6eQvstY', 's5RG4l7xBM0', 's6Jwx7uv1Fw', 'sAesoWOSknI', 'sEhe2UYOh6s', 'sIGxxHGOsIA', 'sIUI5Ryoeo4', 'sKa_LS7JInw', 'sQ5xGV3L1HA', 'sXkksZ1s--U', 'sZ4wn4SMC5s', 'sf97tIvbTyE', 'sj7qCV5OECA', 'skkmWn1AMCQ', 'slXjkfjxciU', 'svXAShvmaWk', 'tAcJ0wIXq0s', 'tD_MWKbUqIk', 'tEBeJNUlcq8', 'tFsx2W0lZHA', 'tLXwnbvdQ1U', 'tOuITjdAPAw', 'tTxh7FIfzIw', 't_OFOP6zljQ', 'tg36Rz1HQb4', 'th1NtUWTwdI', 'ti7l9BLTuxU', 'tiZr1Ke69Es', 'tvARExSHFeo', 'tzIaQJPzSrQ', 'u-GVwe279TU', 'u0YZRLZjekM', 'u4G85uraIVo', 'uDAk-PBzBNg', 'uF1j6l_91QM', 'uL9WOcOlszU', 'uPEQ3BAI_K8', 'uT5d2SzurGY', 'ub1ezhzMBds', 'uk0VgSEivPU', 'ukGitZu46yc', 'ulGp-rv5VnQ', 'uow_J5m4ero', 'urbmlc51Y5o', 'usOlT8V9eB4', 'uw2vqwR_4sM', 'v4kjeekPhDk', 'vBTZhsvEaTo', 'vGcM63aYiEk', 'vGh12x58hoI', 'vHZkRYTNQLc', 'vKocl_4-reE', 'vNnjH3l-WdI', 'vPLSV6VDvXw', 'vPeJyhXqaLI', 'vQac1J2ZomM', 'vTlANV__F-4', 'vU9HLizCklE', 'vbitnUh3XXA', 'vc9W1DJdkaY', 'vgSrb2zrcLM', 'vloegJYaPe0', 'vqhvdGHo23k', 'vyICFDJR7cA', 'vyIqnkpFrhQ', 'w0iJ6Nt4GlE', 'w9kCw1yLPew', 'wAOdIe1wLoE', 'wCXJMMWa2F0', 'wMcn2bperZc', 'wPeQg9ZHeWk', 'wRWsH1xBPSQ', 'wSWAKjNFNUo', 'wbS_8FELWC4', 'wdBczQQjC14', 'wfX4siXmd_M', 'wjZfHnfCmcw', 'wm5nc-zBdUE', 'woBf_0sHPOU', 'wq9Iz35lcdU', 'wtBSBY91rn8', 'wztQ9wqTc_s', 'x25u45N-EtQ', 'x7ab2NZtIF0', 'xE98VmNNnyk', 'xEMYPKqc6e4', 'xHs1M52_oIk', 'xNzCVbdwnEI', 'xPdsUzXLt34', 'xUKMPR1fEvg', 'xUznuvfYol8', 'xbm12icWb8w', 'xd8pyTZZAwo', 'xecv4abyVIM', 'xfyEt1g8SEU', 'xl9Scp4jnDw', 'xmovw262tks', 'xpNulaQBhBI', 'xpTYAjshwKc', 'xpda1kbu4pE', 'xr2I49QdWFY', 'y3-Zbi2qczE', 'y3FNZxh8d44', 'y57lszB5Ptk', 'yHLjnHcZSU4', 'yMlpKcRmoJ8', 'ySFjRsP2-8Y', 'ySkbC60ys5w', 'yUzHZxi3RPE', 'yVfN9ZJjCrs', 'yYhcefXgJSc', 'ycoVwwNxS4Q', 'ysLZHkrdjx4', 'yzYUr7_W_3E', 'z3XbyGeIvqQ', 'z4kZB8kM-dE', 'z8fD-wOr4wg', 'zF4i07qD54o', 'zF5A9Y_1CDs', 'zIrG7Y1CRb8', 'zKk0CsTnFG4', 'zQkzwgh2atM', 'zRU8Sd9mIPc', 'zcQTDJAZJlA', 'zeVOrz1gmd4', 'zfmkSZqbytg', 'zjZd6kna5DI', 'zl5Q-PahKrQ', 'zpSpwWajGXo', 'zqSAwuiVxWw', 'zsX7rrJK2Ho', 'zw3idxiuYL8', 'zypp7v04K9c']\n"
     ]
    }
   ],
   "source": [
    "print(len(not_there_files))\n",
    "print(not_there_files)"
   ]
  },
  {
   "cell_type": "code",
   "execution_count": 13,
   "id": "8e2b2cbf-7aca-415c-bbd1-75006fb88159",
   "metadata": {},
   "outputs": [],
   "source": [
    "# Make sure that parquet_files only has the same files as video_files\n",
    "parquet_files = [file for file in parquet_files if os.path.basename(file).split('.')[0] not in not_there_files] "
   ]
  },
  {
   "cell_type": "code",
   "execution_count": 14,
   "id": "e2ed0a55-a012-41d7-a8fc-624bbf2a105b",
   "metadata": {},
   "outputs": [
    {
     "name": "stdout",
     "output_type": "stream",
     "text": [
      "1 1\n"
     ]
    }
   ],
   "source": [
    "print(len(video_files), len(parquet_files)) # Confirm that the lists are equal"
   ]
  },
  {
   "cell_type": "code",
   "execution_count": 15,
   "id": "8053f660-5c62-41f1-a0c6-1ca78596abbd",
   "metadata": {},
   "outputs": [],
   "source": [
    "filename = os.path.basename(video_files[0])\n",
    "local_video_path = \"temp_folder/\" + filename\n",
    "# Let's read in one parquet file using S3FS\n",
    "fs = s3fs.S3FileSystem(key=aws_access_key_id, secret=aws_secret_access_key)"
   ]
  },
  {
   "cell_type": "code",
   "execution_count": 16,
   "id": "7dce12df-6354-43dd-8f00-13d5f0e3d0c3",
   "metadata": {},
   "outputs": [],
   "source": [
    "# Define function to process video\n",
    "def video_frame_capturer(video_name, start_frame, end_frame):\n",
    "  current_frame = start_frame\n",
    "  filename = os.path.basename(video_name)\n",
    "  video_path = \"temp_folder/\" + filename\n",
    "  #download_from_s3('asl-capstone', video_name, local_video_path, aws_access_key_id, aws_secret_access_key)\n",
    "  #print(f\"Reading {video_path}\") \n",
    "  #if psutil.virtual_memory().percent>=90:\n",
    "  #    time.sleep(20)\n",
    "  video_capture = cv2.VideoCapture(video_path)\n",
    "  video_capture.set(cv2.CAP_PROP_POS_FRAMES, start_frame)\n",
    "  while video_capture.isOpened() and current_frame <= end_frame:\n",
    "    ret, frame = video_capture.read()\n",
    "    #print(\"In frame number \",video_capture.get(cv2.CAP_PROP_POS_FRAMES))\n",
    "    if not ret:\n",
    "      break\n",
    "    frame = cv2.cvtColor(frame, cv2.COLOR_BGR2GRAY)\n",
    "    frame = cv2.resize(frame, (1280, 720))\n",
    "    current_frame+=1\n",
    "    yield frame # Does not terminate the function call; but comes back to it\n",
    "  video_capture.release()"
   ]
  },
  {
   "cell_type": "code",
   "execution_count": 17,
   "id": "a47db211-db2b-49e2-88c5-4f657b9004ac",
   "metadata": {},
   "outputs": [],
   "source": [
    "def read_caption(caption_file):\n",
    "    with fs.open('asl-capstone/'+caption_file, 'rb') as f:\n",
    "        df = pd.read_parquet(f)\n",
    "    return df"
   ]
  },
  {
   "cell_type": "code",
   "execution_count": 18,
   "id": "0dd61a04-35b9-4897-a6f7-78726e19d41d",
   "metadata": {},
   "outputs": [],
   "source": [
    "def save_frames_file(frame_list, filename, caption_list): #, caption_list):\n",
    "    numpy_array = frame_list[0]\n",
    "    caption_array = np.array(caption_list[0], dtype = str)\n",
    "    filename = filename.split('.')[0]\n",
    "    s3_file_path = f'{prefix}numpy_files/{filename}.npy'\n",
    "    s3_cap_path = f'{prefix}numpy_files/{filename}_cap.npy'\n",
    "    file_path = \"temp_folder/\"+filename+\".npy\"\n",
    "    caption_path = \"temp_folder/\"+filename+\"_cap.npy\"\n",
    "    #file_path = \"s3://asl-capstone/youtube-asl/1000-samples/numpy_files/\"+filename\n",
    "    np.save(f\"{file_path}\",numpy_array)\n",
    "    np.save(f\"{caption_path}\",caption_array)\n",
    "    s3.upload_file(file_path, bucket_name, s3_file_path)\n",
    "    s3.upload_file(caption_path, bucket_name, s3_cap_path)\n",
    "    os.remove(file_path)\n",
    "    os.remove(caption_path)"
   ]
  },
  {
   "cell_type": "code",
   "execution_count": null,
   "id": "bb6753d6-2474-4d12-ac99-9a59d88712ea",
   "metadata": {},
   "outputs": [],
   "source": [
    "download_time = []\n",
    "errored_video = []\n",
    "errored_caption = []\n",
    "counter = 0\n",
    "skipped_videos = []\n",
    "skipped_captions = []\n",
    "for video, caption in zip(video_files, parquet_files):\n",
    "    try:\n",
    "        if os.path.basename(video).split('.')[0] in os.path.basename(caption):\n",
    "            vid_frames = [] # Empty list to store video frames\n",
    "            master_caption = [] # Empty list to store captions\n",
    "            start_time = time.time()\n",
    "            filename = os.path.basename(video)\n",
    "            local_video_path = \"temp_folder/\"+filename\n",
    "            #print(local_video_path)\n",
    "            if os.path.exists(local_video_path):\n",
    "                print(\"Video already exists. Not downloading again\")\n",
    "            else:\n",
    "                s3.download_file(bucket_name,video,local_video_path)\n",
    "            temp_df = read_caption(caption)\n",
    "            size_file_name = os.path.basename(video)\n",
    "            size_file_path = 'temp_folder/'+size_file_name\n",
    "            if os.path.getsize(size_file_path) < (195*1024*1024):\n",
    "                print(f\"Skipping a video as it's huge. Video name: {size_file_name} of size {os.path.getsize(size_file_path)/(1024*1024)} MB\")\n",
    "                skipped_videos.append(video)\n",
    "                skipped_captions.append(caption)\n",
    "                os.remove(size_file_path)\n",
    "                continue\n",
    "            for _, row in temp_df.iterrows():            \n",
    "                temp_frame = video_frame_capturer(video,int(row['start_frame']), int(row['end_frame']))\n",
    "                for frame in temp_frame:\n",
    "                    vid_frames.append(frame)\n",
    "                master_caption.append(row['Caption'])\n",
    "            save_frames_file(vid_frames,filename, master_caption)\n",
    "            file_size = os.path.getsize(local_video_path)/(1024*1024)\n",
    "            os.remove(local_video_path)\n",
    "            end_time = time.time()\n",
    "            download_time.append(end_time-start_time)\n",
    "            counter+=1\n",
    "            print(f\"Number of videos complete is {counter}.\")\n",
    "            #time.sleep(5)\n",
    "    except Exception as e:\n",
    "        print(f\"An error occurred. See {e}\")\n",
    "        errored_video.append(video)\n",
    "        errored_caption.append(caption)\n",
    "        print(\"We will still kill the instance\")\n",
    "            #print(f\"Time taken to process {filename} of size {file_size:.2f} MB is {((end_time - start_time)):.2f} seconds\")"
   ]
  },
  {
   "cell_type": "code",
   "execution_count": null,
   "id": "4859d4c5-b395-4ebc-82d7-8337963fcc72",
   "metadata": {},
   "outputs": [],
   "source": [
    "time_download = sum(download_time)/len(download_time)\n",
    "print(f\"Average processing time per video is {time_download:.2f} seconds\")"
   ]
  },
  {
   "cell_type": "code",
   "execution_count": 21,
   "id": "a3c31b1d-32ea-4557-8c81-304332069936",
   "metadata": {},
   "outputs": [],
   "source": [
    "def get_instance_id():\n",
    "    \"\"\"Get current instance ID from metadata\"\"\"\n",
    "    url = \"http://169.254.169.254/latest/meta-data/instance-id\"\n",
    "    response = requests.get(url)\n",
    "    return response.text"
   ]
  },
  {
   "cell_type": "code",
   "execution_count": 22,
   "id": "52c96f94-eb8d-4673-9db8-c7a54809f8d1",
   "metadata": {},
   "outputs": [],
   "source": [
    "def stop_instance(instance_id, region_name='us-west-2'):\n",
    "    \"\"\"Stop the EC2 instance\"\"\"\n",
    "    ec2 = boto3.client('ec2', region_name=region_name)\n",
    "    ec2.stop_instances(InstanceIds=[instance_id])"
   ]
  },
  {
   "cell_type": "code",
   "execution_count": 23,
   "id": "5ca7909a-ce52-4693-ac1a-a033e1c1f4b4",
   "metadata": {},
   "outputs": [
    {
     "ename": "NoCredentialsError",
     "evalue": "Unable to locate credentials",
     "output_type": "error",
     "traceback": [
      "\u001b[0;31m---------------------------------------------------------------------------\u001b[0m",
      "\u001b[0;31mNoCredentialsError\u001b[0m                        Traceback (most recent call last)",
      "Cell \u001b[0;32mIn[23], line 5\u001b[0m\n\u001b[1;32m      2\u001b[0m instance_id \u001b[38;5;241m=\u001b[39m get_instance_id()\n\u001b[1;32m      4\u001b[0m \u001b[38;5;66;03m# Stop the instance\u001b[39;00m\n\u001b[0;32m----> 5\u001b[0m \u001b[43mstop_instance\u001b[49m\u001b[43m(\u001b[49m\u001b[43minstance_id\u001b[49m\u001b[43m)\u001b[49m\n",
      "Cell \u001b[0;32mIn[22], line 4\u001b[0m, in \u001b[0;36mstop_instance\u001b[0;34m(instance_id, region_name)\u001b[0m\n\u001b[1;32m      2\u001b[0m \u001b[38;5;250m\u001b[39m\u001b[38;5;124;03m\"\"\"Stop the EC2 instance\"\"\"\u001b[39;00m\n\u001b[1;32m      3\u001b[0m ec2 \u001b[38;5;241m=\u001b[39m boto3\u001b[38;5;241m.\u001b[39mclient(\u001b[38;5;124m'\u001b[39m\u001b[38;5;124mec2\u001b[39m\u001b[38;5;124m'\u001b[39m, region_name\u001b[38;5;241m=\u001b[39mregion_name)\n\u001b[0;32m----> 4\u001b[0m \u001b[43mec2\u001b[49m\u001b[38;5;241;43m.\u001b[39;49m\u001b[43mstop_instances\u001b[49m\u001b[43m(\u001b[49m\u001b[43mInstanceIds\u001b[49m\u001b[38;5;241;43m=\u001b[39;49m\u001b[43m[\u001b[49m\u001b[43minstance_id\u001b[49m\u001b[43m]\u001b[49m\u001b[43m)\u001b[49m\n",
      "File \u001b[0;32m/opt/tensorflow/lib/python3.10/site-packages/botocore/client.py:535\u001b[0m, in \u001b[0;36mClientCreator._create_api_method.<locals>._api_call\u001b[0;34m(self, *args, **kwargs)\u001b[0m\n\u001b[1;32m    531\u001b[0m     \u001b[38;5;28;01mraise\u001b[39;00m \u001b[38;5;167;01mTypeError\u001b[39;00m(\n\u001b[1;32m    532\u001b[0m         \u001b[38;5;124mf\u001b[39m\u001b[38;5;124m\"\u001b[39m\u001b[38;5;132;01m{\u001b[39;00mpy_operation_name\u001b[38;5;132;01m}\u001b[39;00m\u001b[38;5;124m() only accepts keyword arguments.\u001b[39m\u001b[38;5;124m\"\u001b[39m\n\u001b[1;32m    533\u001b[0m     )\n\u001b[1;32m    534\u001b[0m \u001b[38;5;66;03m# The \"self\" in this scope is referring to the BaseClient.\u001b[39;00m\n\u001b[0;32m--> 535\u001b[0m \u001b[38;5;28;01mreturn\u001b[39;00m \u001b[38;5;28;43mself\u001b[39;49m\u001b[38;5;241;43m.\u001b[39;49m\u001b[43m_make_api_call\u001b[49m\u001b[43m(\u001b[49m\u001b[43moperation_name\u001b[49m\u001b[43m,\u001b[49m\u001b[43m \u001b[49m\u001b[43mkwargs\u001b[49m\u001b[43m)\u001b[49m\n",
      "File \u001b[0;32m/opt/tensorflow/lib/python3.10/site-packages/botocore/client.py:963\u001b[0m, in \u001b[0;36mBaseClient._make_api_call\u001b[0;34m(self, operation_name, api_params)\u001b[0m\n\u001b[1;32m    959\u001b[0m     maybe_compress_request(\n\u001b[1;32m    960\u001b[0m         \u001b[38;5;28mself\u001b[39m\u001b[38;5;241m.\u001b[39mmeta\u001b[38;5;241m.\u001b[39mconfig, request_dict, operation_model\n\u001b[1;32m    961\u001b[0m     )\n\u001b[1;32m    962\u001b[0m     apply_request_checksum(request_dict)\n\u001b[0;32m--> 963\u001b[0m     http, parsed_response \u001b[38;5;241m=\u001b[39m \u001b[38;5;28;43mself\u001b[39;49m\u001b[38;5;241;43m.\u001b[39;49m\u001b[43m_make_request\u001b[49m\u001b[43m(\u001b[49m\n\u001b[1;32m    964\u001b[0m \u001b[43m        \u001b[49m\u001b[43moperation_model\u001b[49m\u001b[43m,\u001b[49m\u001b[43m \u001b[49m\u001b[43mrequest_dict\u001b[49m\u001b[43m,\u001b[49m\u001b[43m \u001b[49m\u001b[43mrequest_context\u001b[49m\n\u001b[1;32m    965\u001b[0m \u001b[43m    \u001b[49m\u001b[43m)\u001b[49m\n\u001b[1;32m    967\u001b[0m \u001b[38;5;28mself\u001b[39m\u001b[38;5;241m.\u001b[39mmeta\u001b[38;5;241m.\u001b[39mevents\u001b[38;5;241m.\u001b[39memit(\n\u001b[1;32m    968\u001b[0m     \u001b[38;5;124m'\u001b[39m\u001b[38;5;124mafter-call.\u001b[39m\u001b[38;5;132;01m{service_id}\u001b[39;00m\u001b[38;5;124m.\u001b[39m\u001b[38;5;132;01m{operation_name}\u001b[39;00m\u001b[38;5;124m'\u001b[39m\u001b[38;5;241m.\u001b[39mformat(\n\u001b[1;32m    969\u001b[0m         service_id\u001b[38;5;241m=\u001b[39mservice_id, operation_name\u001b[38;5;241m=\u001b[39moperation_name\n\u001b[0;32m   (...)\u001b[0m\n\u001b[1;32m    974\u001b[0m     context\u001b[38;5;241m=\u001b[39mrequest_context,\n\u001b[1;32m    975\u001b[0m )\n\u001b[1;32m    977\u001b[0m \u001b[38;5;28;01mif\u001b[39;00m http\u001b[38;5;241m.\u001b[39mstatus_code \u001b[38;5;241m>\u001b[39m\u001b[38;5;241m=\u001b[39m \u001b[38;5;241m300\u001b[39m:\n",
      "File \u001b[0;32m/opt/tensorflow/lib/python3.10/site-packages/botocore/client.py:986\u001b[0m, in \u001b[0;36mBaseClient._make_request\u001b[0;34m(self, operation_model, request_dict, request_context)\u001b[0m\n\u001b[1;32m    984\u001b[0m \u001b[38;5;28;01mdef\u001b[39;00m \u001b[38;5;21m_make_request\u001b[39m(\u001b[38;5;28mself\u001b[39m, operation_model, request_dict, request_context):\n\u001b[1;32m    985\u001b[0m     \u001b[38;5;28;01mtry\u001b[39;00m:\n\u001b[0;32m--> 986\u001b[0m         \u001b[38;5;28;01mreturn\u001b[39;00m \u001b[38;5;28;43mself\u001b[39;49m\u001b[38;5;241;43m.\u001b[39;49m\u001b[43m_endpoint\u001b[49m\u001b[38;5;241;43m.\u001b[39;49m\u001b[43mmake_request\u001b[49m\u001b[43m(\u001b[49m\u001b[43moperation_model\u001b[49m\u001b[43m,\u001b[49m\u001b[43m \u001b[49m\u001b[43mrequest_dict\u001b[49m\u001b[43m)\u001b[49m\n\u001b[1;32m    987\u001b[0m     \u001b[38;5;28;01mexcept\u001b[39;00m \u001b[38;5;167;01mException\u001b[39;00m \u001b[38;5;28;01mas\u001b[39;00m e:\n\u001b[1;32m    988\u001b[0m         \u001b[38;5;28mself\u001b[39m\u001b[38;5;241m.\u001b[39mmeta\u001b[38;5;241m.\u001b[39mevents\u001b[38;5;241m.\u001b[39memit(\n\u001b[1;32m    989\u001b[0m             \u001b[38;5;124m'\u001b[39m\u001b[38;5;124mafter-call-error.\u001b[39m\u001b[38;5;132;01m{service_id}\u001b[39;00m\u001b[38;5;124m.\u001b[39m\u001b[38;5;132;01m{operation_name}\u001b[39;00m\u001b[38;5;124m'\u001b[39m\u001b[38;5;241m.\u001b[39mformat(\n\u001b[1;32m    990\u001b[0m                 service_id\u001b[38;5;241m=\u001b[39m\u001b[38;5;28mself\u001b[39m\u001b[38;5;241m.\u001b[39m_service_model\u001b[38;5;241m.\u001b[39mservice_id\u001b[38;5;241m.\u001b[39mhyphenize(),\n\u001b[0;32m   (...)\u001b[0m\n\u001b[1;32m    994\u001b[0m             context\u001b[38;5;241m=\u001b[39mrequest_context,\n\u001b[1;32m    995\u001b[0m         )\n",
      "File \u001b[0;32m/opt/tensorflow/lib/python3.10/site-packages/botocore/endpoint.py:119\u001b[0m, in \u001b[0;36mEndpoint.make_request\u001b[0;34m(self, operation_model, request_dict)\u001b[0m\n\u001b[1;32m    113\u001b[0m \u001b[38;5;28;01mdef\u001b[39;00m \u001b[38;5;21mmake_request\u001b[39m(\u001b[38;5;28mself\u001b[39m, operation_model, request_dict):\n\u001b[1;32m    114\u001b[0m     logger\u001b[38;5;241m.\u001b[39mdebug(\n\u001b[1;32m    115\u001b[0m         \u001b[38;5;124m\"\u001b[39m\u001b[38;5;124mMaking request for \u001b[39m\u001b[38;5;132;01m%s\u001b[39;00m\u001b[38;5;124m with params: \u001b[39m\u001b[38;5;132;01m%s\u001b[39;00m\u001b[38;5;124m\"\u001b[39m,\n\u001b[1;32m    116\u001b[0m         operation_model,\n\u001b[1;32m    117\u001b[0m         request_dict,\n\u001b[1;32m    118\u001b[0m     )\n\u001b[0;32m--> 119\u001b[0m     \u001b[38;5;28;01mreturn\u001b[39;00m \u001b[38;5;28;43mself\u001b[39;49m\u001b[38;5;241;43m.\u001b[39;49m\u001b[43m_send_request\u001b[49m\u001b[43m(\u001b[49m\u001b[43mrequest_dict\u001b[49m\u001b[43m,\u001b[49m\u001b[43m \u001b[49m\u001b[43moperation_model\u001b[49m\u001b[43m)\u001b[49m\n",
      "File \u001b[0;32m/opt/tensorflow/lib/python3.10/site-packages/botocore/endpoint.py:198\u001b[0m, in \u001b[0;36mEndpoint._send_request\u001b[0;34m(self, request_dict, operation_model)\u001b[0m\n\u001b[1;32m    196\u001b[0m context \u001b[38;5;241m=\u001b[39m request_dict[\u001b[38;5;124m'\u001b[39m\u001b[38;5;124mcontext\u001b[39m\u001b[38;5;124m'\u001b[39m]\n\u001b[1;32m    197\u001b[0m \u001b[38;5;28mself\u001b[39m\u001b[38;5;241m.\u001b[39m_update_retries_context(context, attempts)\n\u001b[0;32m--> 198\u001b[0m request \u001b[38;5;241m=\u001b[39m \u001b[38;5;28;43mself\u001b[39;49m\u001b[38;5;241;43m.\u001b[39;49m\u001b[43mcreate_request\u001b[49m\u001b[43m(\u001b[49m\u001b[43mrequest_dict\u001b[49m\u001b[43m,\u001b[49m\u001b[43m \u001b[49m\u001b[43moperation_model\u001b[49m\u001b[43m)\u001b[49m\n\u001b[1;32m    199\u001b[0m success_response, exception \u001b[38;5;241m=\u001b[39m \u001b[38;5;28mself\u001b[39m\u001b[38;5;241m.\u001b[39m_get_response(\n\u001b[1;32m    200\u001b[0m     request, operation_model, context\n\u001b[1;32m    201\u001b[0m )\n\u001b[1;32m    202\u001b[0m \u001b[38;5;28;01mwhile\u001b[39;00m \u001b[38;5;28mself\u001b[39m\u001b[38;5;241m.\u001b[39m_needs_retry(\n\u001b[1;32m    203\u001b[0m     attempts,\n\u001b[1;32m    204\u001b[0m     operation_model,\n\u001b[0;32m   (...)\u001b[0m\n\u001b[1;32m    207\u001b[0m     exception,\n\u001b[1;32m    208\u001b[0m ):\n",
      "File \u001b[0;32m/opt/tensorflow/lib/python3.10/site-packages/botocore/endpoint.py:134\u001b[0m, in \u001b[0;36mEndpoint.create_request\u001b[0;34m(self, params, operation_model)\u001b[0m\n\u001b[1;32m    130\u001b[0m     service_id \u001b[38;5;241m=\u001b[39m operation_model\u001b[38;5;241m.\u001b[39mservice_model\u001b[38;5;241m.\u001b[39mservice_id\u001b[38;5;241m.\u001b[39mhyphenize()\n\u001b[1;32m    131\u001b[0m     event_name \u001b[38;5;241m=\u001b[39m \u001b[38;5;124m'\u001b[39m\u001b[38;5;124mrequest-created.\u001b[39m\u001b[38;5;132;01m{service_id}\u001b[39;00m\u001b[38;5;124m.\u001b[39m\u001b[38;5;132;01m{op_name}\u001b[39;00m\u001b[38;5;124m'\u001b[39m\u001b[38;5;241m.\u001b[39mformat(\n\u001b[1;32m    132\u001b[0m         service_id\u001b[38;5;241m=\u001b[39mservice_id, op_name\u001b[38;5;241m=\u001b[39moperation_model\u001b[38;5;241m.\u001b[39mname\n\u001b[1;32m    133\u001b[0m     )\n\u001b[0;32m--> 134\u001b[0m     \u001b[38;5;28;43mself\u001b[39;49m\u001b[38;5;241;43m.\u001b[39;49m\u001b[43m_event_emitter\u001b[49m\u001b[38;5;241;43m.\u001b[39;49m\u001b[43memit\u001b[49m\u001b[43m(\u001b[49m\n\u001b[1;32m    135\u001b[0m \u001b[43m        \u001b[49m\u001b[43mevent_name\u001b[49m\u001b[43m,\u001b[49m\n\u001b[1;32m    136\u001b[0m \u001b[43m        \u001b[49m\u001b[43mrequest\u001b[49m\u001b[38;5;241;43m=\u001b[39;49m\u001b[43mrequest\u001b[49m\u001b[43m,\u001b[49m\n\u001b[1;32m    137\u001b[0m \u001b[43m        \u001b[49m\u001b[43moperation_name\u001b[49m\u001b[38;5;241;43m=\u001b[39;49m\u001b[43moperation_model\u001b[49m\u001b[38;5;241;43m.\u001b[39;49m\u001b[43mname\u001b[49m\u001b[43m,\u001b[49m\n\u001b[1;32m    138\u001b[0m \u001b[43m    \u001b[49m\u001b[43m)\u001b[49m\n\u001b[1;32m    139\u001b[0m prepared_request \u001b[38;5;241m=\u001b[39m \u001b[38;5;28mself\u001b[39m\u001b[38;5;241m.\u001b[39mprepare_request(request)\n\u001b[1;32m    140\u001b[0m \u001b[38;5;28;01mreturn\u001b[39;00m prepared_request\n",
      "File \u001b[0;32m/opt/tensorflow/lib/python3.10/site-packages/botocore/hooks.py:412\u001b[0m, in \u001b[0;36mEventAliaser.emit\u001b[0;34m(self, event_name, **kwargs)\u001b[0m\n\u001b[1;32m    410\u001b[0m \u001b[38;5;28;01mdef\u001b[39;00m \u001b[38;5;21memit\u001b[39m(\u001b[38;5;28mself\u001b[39m, event_name, \u001b[38;5;241m*\u001b[39m\u001b[38;5;241m*\u001b[39mkwargs):\n\u001b[1;32m    411\u001b[0m     aliased_event_name \u001b[38;5;241m=\u001b[39m \u001b[38;5;28mself\u001b[39m\u001b[38;5;241m.\u001b[39m_alias_event_name(event_name)\n\u001b[0;32m--> 412\u001b[0m     \u001b[38;5;28;01mreturn\u001b[39;00m \u001b[38;5;28;43mself\u001b[39;49m\u001b[38;5;241;43m.\u001b[39;49m\u001b[43m_emitter\u001b[49m\u001b[38;5;241;43m.\u001b[39;49m\u001b[43memit\u001b[49m\u001b[43m(\u001b[49m\u001b[43maliased_event_name\u001b[49m\u001b[43m,\u001b[49m\u001b[43m \u001b[49m\u001b[38;5;241;43m*\u001b[39;49m\u001b[38;5;241;43m*\u001b[39;49m\u001b[43mkwargs\u001b[49m\u001b[43m)\u001b[49m\n",
      "File \u001b[0;32m/opt/tensorflow/lib/python3.10/site-packages/botocore/hooks.py:256\u001b[0m, in \u001b[0;36mHierarchicalEmitter.emit\u001b[0;34m(self, event_name, **kwargs)\u001b[0m\n\u001b[1;32m    245\u001b[0m \u001b[38;5;28;01mdef\u001b[39;00m \u001b[38;5;21memit\u001b[39m(\u001b[38;5;28mself\u001b[39m, event_name, \u001b[38;5;241m*\u001b[39m\u001b[38;5;241m*\u001b[39mkwargs):\n\u001b[1;32m    246\u001b[0m \u001b[38;5;250m    \u001b[39m\u001b[38;5;124;03m\"\"\"\u001b[39;00m\n\u001b[1;32m    247\u001b[0m \u001b[38;5;124;03m    Emit an event by name with arguments passed as keyword args.\u001b[39;00m\n\u001b[1;32m    248\u001b[0m \n\u001b[0;32m   (...)\u001b[0m\n\u001b[1;32m    254\u001b[0m \u001b[38;5;124;03m             handlers.\u001b[39;00m\n\u001b[1;32m    255\u001b[0m \u001b[38;5;124;03m    \"\"\"\u001b[39;00m\n\u001b[0;32m--> 256\u001b[0m     \u001b[38;5;28;01mreturn\u001b[39;00m \u001b[38;5;28;43mself\u001b[39;49m\u001b[38;5;241;43m.\u001b[39;49m\u001b[43m_emit\u001b[49m\u001b[43m(\u001b[49m\u001b[43mevent_name\u001b[49m\u001b[43m,\u001b[49m\u001b[43m \u001b[49m\u001b[43mkwargs\u001b[49m\u001b[43m)\u001b[49m\n",
      "File \u001b[0;32m/opt/tensorflow/lib/python3.10/site-packages/botocore/hooks.py:239\u001b[0m, in \u001b[0;36mHierarchicalEmitter._emit\u001b[0;34m(self, event_name, kwargs, stop_on_response)\u001b[0m\n\u001b[1;32m    237\u001b[0m \u001b[38;5;28;01mfor\u001b[39;00m handler \u001b[38;5;129;01min\u001b[39;00m handlers_to_call:\n\u001b[1;32m    238\u001b[0m     logger\u001b[38;5;241m.\u001b[39mdebug(\u001b[38;5;124m'\u001b[39m\u001b[38;5;124mEvent \u001b[39m\u001b[38;5;132;01m%s\u001b[39;00m\u001b[38;5;124m: calling handler \u001b[39m\u001b[38;5;132;01m%s\u001b[39;00m\u001b[38;5;124m'\u001b[39m, event_name, handler)\n\u001b[0;32m--> 239\u001b[0m     response \u001b[38;5;241m=\u001b[39m \u001b[43mhandler\u001b[49m\u001b[43m(\u001b[49m\u001b[38;5;241;43m*\u001b[39;49m\u001b[38;5;241;43m*\u001b[39;49m\u001b[43mkwargs\u001b[49m\u001b[43m)\u001b[49m\n\u001b[1;32m    240\u001b[0m     responses\u001b[38;5;241m.\u001b[39mappend((handler, response))\n\u001b[1;32m    241\u001b[0m     \u001b[38;5;28;01mif\u001b[39;00m stop_on_response \u001b[38;5;129;01mand\u001b[39;00m response \u001b[38;5;129;01mis\u001b[39;00m \u001b[38;5;129;01mnot\u001b[39;00m \u001b[38;5;28;01mNone\u001b[39;00m:\n",
      "File \u001b[0;32m/opt/tensorflow/lib/python3.10/site-packages/botocore/signers.py:105\u001b[0m, in \u001b[0;36mRequestSigner.handler\u001b[0;34m(self, operation_name, request, **kwargs)\u001b[0m\n\u001b[1;32m    100\u001b[0m \u001b[38;5;28;01mdef\u001b[39;00m \u001b[38;5;21mhandler\u001b[39m(\u001b[38;5;28mself\u001b[39m, operation_name\u001b[38;5;241m=\u001b[39m\u001b[38;5;28;01mNone\u001b[39;00m, request\u001b[38;5;241m=\u001b[39m\u001b[38;5;28;01mNone\u001b[39;00m, \u001b[38;5;241m*\u001b[39m\u001b[38;5;241m*\u001b[39mkwargs):\n\u001b[1;32m    101\u001b[0m     \u001b[38;5;66;03m# This is typically hooked up to the \"request-created\" event\u001b[39;00m\n\u001b[1;32m    102\u001b[0m     \u001b[38;5;66;03m# from a client's event emitter.  When a new request is created\u001b[39;00m\n\u001b[1;32m    103\u001b[0m     \u001b[38;5;66;03m# this method is invoked to sign the request.\u001b[39;00m\n\u001b[1;32m    104\u001b[0m     \u001b[38;5;66;03m# Don't call this method directly.\u001b[39;00m\n\u001b[0;32m--> 105\u001b[0m     \u001b[38;5;28;01mreturn\u001b[39;00m \u001b[38;5;28;43mself\u001b[39;49m\u001b[38;5;241;43m.\u001b[39;49m\u001b[43msign\u001b[49m\u001b[43m(\u001b[49m\u001b[43moperation_name\u001b[49m\u001b[43m,\u001b[49m\u001b[43m \u001b[49m\u001b[43mrequest\u001b[49m\u001b[43m)\u001b[49m\n",
      "File \u001b[0;32m/opt/tensorflow/lib/python3.10/site-packages/botocore/signers.py:189\u001b[0m, in \u001b[0;36mRequestSigner.sign\u001b[0;34m(self, operation_name, request, region_name, signing_type, expires_in, signing_name)\u001b[0m\n\u001b[1;32m    186\u001b[0m     \u001b[38;5;28;01melse\u001b[39;00m:\n\u001b[1;32m    187\u001b[0m         \u001b[38;5;28;01mraise\u001b[39;00m e\n\u001b[0;32m--> 189\u001b[0m \u001b[43mauth\u001b[49m\u001b[38;5;241;43m.\u001b[39;49m\u001b[43madd_auth\u001b[49m\u001b[43m(\u001b[49m\u001b[43mrequest\u001b[49m\u001b[43m)\u001b[49m\n",
      "File \u001b[0;32m/opt/tensorflow/lib/python3.10/site-packages/botocore/auth.py:418\u001b[0m, in \u001b[0;36mSigV4Auth.add_auth\u001b[0;34m(self, request)\u001b[0m\n\u001b[1;32m    416\u001b[0m \u001b[38;5;28;01mdef\u001b[39;00m \u001b[38;5;21madd_auth\u001b[39m(\u001b[38;5;28mself\u001b[39m, request):\n\u001b[1;32m    417\u001b[0m     \u001b[38;5;28;01mif\u001b[39;00m \u001b[38;5;28mself\u001b[39m\u001b[38;5;241m.\u001b[39mcredentials \u001b[38;5;129;01mis\u001b[39;00m \u001b[38;5;28;01mNone\u001b[39;00m:\n\u001b[0;32m--> 418\u001b[0m         \u001b[38;5;28;01mraise\u001b[39;00m NoCredentialsError()\n\u001b[1;32m    419\u001b[0m     datetime_now \u001b[38;5;241m=\u001b[39m datetime\u001b[38;5;241m.\u001b[39mdatetime\u001b[38;5;241m.\u001b[39mutcnow()\n\u001b[1;32m    420\u001b[0m     request\u001b[38;5;241m.\u001b[39mcontext[\u001b[38;5;124m'\u001b[39m\u001b[38;5;124mtimestamp\u001b[39m\u001b[38;5;124m'\u001b[39m] \u001b[38;5;241m=\u001b[39m datetime_now\u001b[38;5;241m.\u001b[39mstrftime(SIGV4_TIMESTAMP)\n",
      "\u001b[0;31mNoCredentialsError\u001b[0m: Unable to locate credentials"
     ]
    }
   ],
   "source": [
    "# Get the current instance ID\n",
    "instance_id = get_instance_id()\n",
    "\n",
    "# Stop the instance\n",
    "stop_instance(instance_id)"
   ]
  },
  {
   "cell_type": "code",
   "execution_count": null,
   "id": "53c3fc17-0088-4a3c-82f3-7f98abf5ad3b",
   "metadata": {},
   "outputs": [],
   "source": []
  }
 ],
 "metadata": {
  "kernelspec": {
   "display_name": "Python 3 (ipykernel)",
   "language": "python",
   "name": "python3"
  },
  "language_info": {
   "codemirror_mode": {
    "name": "ipython",
    "version": 3
   },
   "file_extension": ".py",
   "mimetype": "text/x-python",
   "name": "python",
   "nbconvert_exporter": "python",
   "pygments_lexer": "ipython3",
   "version": "3.10.12"
  }
 },
 "nbformat": 4,
 "nbformat_minor": 5
}
