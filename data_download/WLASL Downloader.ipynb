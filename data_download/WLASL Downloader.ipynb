{
 "cells": [
  {
   "cell_type": "markdown",
   "id": "f3302ca6-cb54-4991-8bd0-9e86071d0f00",
   "metadata": {},
   "source": [
    "### Purpose of this notebook\n",
    "The purpose of this notebook is to download WLASL dataset and upload to S3 bucket after processing as Numpy"
   ]
  },
  {
   "cell_type": "markdown",
   "id": "1b997ab6-08af-4c02-86a8-152f13e963fb",
   "metadata": {},
   "source": [
    "The videos will be labeled by the 'gloss' name from the Json.\n",
    "Some videos only have the required sign between Frame-A and Frame-B. These will be cropped accordingly"
   ]
  },
  {
   "cell_type": "code",
   "execution_count": 1,
   "id": "74ea70dc-4528-4568-870d-07de046eff1a",
   "metadata": {},
   "outputs": [],
   "source": [
    "#Install missing packages\n",
    "#!pip install boto3\n",
    "#!pip install pyarrow\n",
    "#!pip install fastparquet\n",
    "#!pip install s3fs\n",
    "#!pip install mediapipe\n",
    "#!pip install kaggle"
   ]
  },
  {
   "cell_type": "code",
   "execution_count": 2,
   "id": "8ae7a476-c650-46fa-b556-87fa80bf2a1a",
   "metadata": {},
   "outputs": [],
   "source": [
    "# Import required libraries\n",
    "import boto3 #Video files get read through this\n",
    "import cv2\n",
    "import os\n",
    "import pandas as pd\n",
    "import math\n",
    "import numpy as np\n",
    "import random\n",
    "import io\n",
    "import s3fs # Parquet files get read through this\n",
    "import zlib # For compression\n",
    "import time # To calculate download time\n",
    "import configparser\n",
    "import requests\n",
    "import psutil # Checks memory usage\n",
    "import tempfile\n",
    "import json\n",
    "#import mediapipe as mp\n"
   ]
  },
  {
   "cell_type": "code",
   "execution_count": 3,
   "id": "acebc799-53d0-4abc-8877-27ce920c34d1",
   "metadata": {},
   "outputs": [
    {
     "data": {
      "text/plain": [
       "['credentials']"
      ]
     },
     "execution_count": 3,
     "metadata": {},
     "output_type": "execute_result"
    }
   ],
   "source": [
    "# Let's read in the credentials file\n",
    "config = configparser.ConfigParser()\n",
    "config.read('credentials')"
   ]
  },
  {
   "cell_type": "code",
   "execution_count": 4,
   "id": "e1bc54a8-c2b2-4b31-934b-d0a97eaa68d8",
   "metadata": {},
   "outputs": [],
   "source": [
    "aws_access_key_id = config[\"default\"]['aws_access_key_id']\n",
    "aws_secret_access_key = config[\"default\"]['aws_secret_access_key']\n",
    "bucket_name = 'asl-capstone'\n",
    "prefix = '/WLASL/'\n",
    "save_path = '/content/temp_folder'\n",
    "s3_URI = 's3://asl-capstone/'"
   ]
  },
  {
   "cell_type": "code",
   "execution_count": 5,
   "id": "e41445ca-7160-4280-83cc-ce7c0560e5ed",
   "metadata": {},
   "outputs": [],
   "source": [
    "# Create an s3 object\n",
    "s3 = boto3.client('s3',aws_access_key_id = aws_access_key_id, aws_secret_access_key = aws_secret_access_key,\n",
    "                  region_name = 'us-west-2')"
   ]
  },
  {
   "cell_type": "code",
   "execution_count": 6,
   "id": "cb6202d1-bcd3-4d8f-b862-9aeaafca1e3b",
   "metadata": {},
   "outputs": [],
   "source": [
    "# Create an S3FS object\n",
    "fs = s3fs.S3FileSystem(key=aws_access_key_id, secret=aws_secret_access_key) # Define an S3FS object"
   ]
  },
  {
   "cell_type": "code",
   "execution_count": 7,
   "id": "ae3d295e-8830-4481-8eaa-d14877d9a696",
   "metadata": {},
   "outputs": [],
   "source": [
    "# Let's read the WLASL json file to map the number to the word\n",
    "filename = \"wlasl-dataset/WLASL_v0.3.json\"\n",
    "wlasl_df = pd.read_json(filename)"
   ]
  },
  {
   "cell_type": "code",
   "execution_count": 8,
   "id": "d7c50cec-7698-4c26-9c07-a54816b95582",
   "metadata": {},
   "outputs": [
    {
     "data": {
      "text/html": [
       "<div>\n",
       "<style scoped>\n",
       "    .dataframe tbody tr th:only-of-type {\n",
       "        vertical-align: middle;\n",
       "    }\n",
       "\n",
       "    .dataframe tbody tr th {\n",
       "        vertical-align: top;\n",
       "    }\n",
       "\n",
       "    .dataframe thead th {\n",
       "        text-align: right;\n",
       "    }\n",
       "</style>\n",
       "<table border=\"1\" class=\"dataframe\">\n",
       "  <thead>\n",
       "    <tr style=\"text-align: right;\">\n",
       "      <th></th>\n",
       "      <th>gloss</th>\n",
       "      <th>instances</th>\n",
       "    </tr>\n",
       "  </thead>\n",
       "  <tbody>\n",
       "    <tr>\n",
       "      <th>0</th>\n",
       "      <td>book</td>\n",
       "      <td>[{'bbox': [385, 37, 885, 720], 'fps': 25, 'fra...</td>\n",
       "    </tr>\n",
       "    <tr>\n",
       "      <th>1</th>\n",
       "      <td>drink</td>\n",
       "      <td>[{'bbox': [551, 68, 1350, 1080], 'fps': 25, 'f...</td>\n",
       "    </tr>\n",
       "    <tr>\n",
       "      <th>2</th>\n",
       "      <td>computer</td>\n",
       "      <td>[{'bbox': [0, 0, 360, 240], 'fps': 25, 'frame_...</td>\n",
       "    </tr>\n",
       "    <tr>\n",
       "      <th>3</th>\n",
       "      <td>before</td>\n",
       "      <td>[{'bbox': [0, 0, 360, 240], 'fps': 25, 'frame_...</td>\n",
       "    </tr>\n",
       "    <tr>\n",
       "      <th>4</th>\n",
       "      <td>chair</td>\n",
       "      <td>[{'bbox': [0, 0, 360, 240], 'fps': 25, 'frame_...</td>\n",
       "    </tr>\n",
       "  </tbody>\n",
       "</table>\n",
       "</div>"
      ],
      "text/plain": [
       "      gloss                                          instances\n",
       "0      book  [{'bbox': [385, 37, 885, 720], 'fps': 25, 'fra...\n",
       "1     drink  [{'bbox': [551, 68, 1350, 1080], 'fps': 25, 'f...\n",
       "2  computer  [{'bbox': [0, 0, 360, 240], 'fps': 25, 'frame_...\n",
       "3    before  [{'bbox': [0, 0, 360, 240], 'fps': 25, 'frame_...\n",
       "4     chair  [{'bbox': [0, 0, 360, 240], 'fps': 25, 'frame_..."
      ]
     },
     "metadata": {},
     "output_type": "display_data"
    },
    {
     "name": "stdout",
     "output_type": "stream",
     "text": [
      "(2000, 2)\n"
     ]
    }
   ],
   "source": [
    "display(wlasl_df.head())\n",
    "print(wlasl_df.shape)\n",
    "#print(wlasl_df['instances'][0])"
   ]
  },
  {
   "cell_type": "code",
   "execution_count": 9,
   "id": "a3037063-8729-427a-b4a5-d1fb7e3d10c2",
   "metadata": {},
   "outputs": [],
   "source": [
    "# Not all videos from the JSON exist. Let's create a function to check which ones exist\n",
    "def video_features(json_data):\n",
    "    video_list = []\n",
    "    frame_list = []\n",
    "    gloss = json_data['gloss']\n",
    "    json_list = json_data['instances']\n",
    "    for id in json_list:\n",
    "        vid = id['video_id']\n",
    "        frame_start = id['frame_start']\n",
    "        frame_end = id['frame_end']\n",
    "        bbox = id['bbox']\n",
    "        if os.path.exists(f\"wlasl-dataset/videos/{vid}.mp4\"):\n",
    "            features = {'word':gloss,'id':vid,'start':frame_start, 'end':frame_end,'box':bbox}\n",
    "            #yield features\n",
    "            video_list.append(features)\n",
    "    return video_list"
   ]
  },
  {
   "cell_type": "code",
   "execution_count": 10,
   "id": "b0c07b4f-4900-488c-9cf7-ca20788d4152",
   "metadata": {},
   "outputs": [],
   "source": [
    "# Load the data and get the features\n",
    "with open(\"wlasl-dataset/WLASL_v0.3.json\",'r') as file:\n",
    "    json_data = file.read()\n",
    "json_data = json.loads(json_data)"
   ]
  },
  {
   "cell_type": "code",
   "execution_count": 11,
   "id": "529fb2d9-147a-40c1-b766-fa6cb38f28cb",
   "metadata": {},
   "outputs": [],
   "source": [
    "# Let's extract all relevant features from the JSON\n",
    "video_list = []\n",
    "for data in json_data:\n",
    "    video_list.append(video_features(data))"
   ]
  },
  {
   "cell_type": "code",
   "execution_count": 12,
   "id": "8a973795-73f5-4937-91f8-2bfb28b29366",
   "metadata": {},
   "outputs": [
    {
     "name": "stdout",
     "output_type": "stream",
     "text": [
      "[{'word': 'drink', 'id': '69302', 'start': 1, 'end': -1, 'box': [551, 68, 1350, 1080]}, {'word': 'drink', 'id': '65539', 'start': 1, 'end': -1, 'box': [153, 11, 488, 370]}, {'word': 'drink', 'id': '17710', 'start': 1, 'end': -1, 'box': [196, 15, 521, 414]}, {'word': 'drink', 'id': '17733', 'start': 1, 'end': -1, 'box': [186, 63, 551, 400]}, {'word': 'drink', 'id': '65540', 'start': 1, 'end': -1, 'box': [167, 19, 480, 370]}, {'word': 'drink', 'id': '17734', 'start': 1, 'end': -1, 'box': [183, 55, 552, 400]}, {'word': 'drink', 'id': '17711', 'start': 1, 'end': -1, 'box': [289, 9, 783, 480]}, {'word': 'drink', 'id': '17712', 'start': 1, 'end': -1, 'box': [673, 90, 1571, 1072]}, {'word': 'drink', 'id': '17713', 'start': 1, 'end': -1, 'box': [28, 0, 542, 480]}, {'word': 'drink', 'id': '17709', 'start': 1, 'end': -1, 'box': [41, 9, 257, 240]}, {'word': 'drink', 'id': '17720', 'start': 1, 'end': -1, 'box': [49, 3, 220, 192]}, {'word': 'drink', 'id': '17721', 'start': 1, 'end': -1, 'box': [66, 19, 209, 192]}, {'word': 'drink', 'id': '17722', 'start': 1, 'end': -1, 'box': [66, 19, 209, 192]}, {'word': 'drink', 'id': '17723', 'start': 1, 'end': -1, 'box': [65, 20, 208, 192]}, {'word': 'drink', 'id': '17724', 'start': 1, 'end': -1, 'box': [68, 18, 220, 192]}]\n"
     ]
    }
   ],
   "source": [
    "# Print a subset to see what the final list looks like\n",
    "print(video_list[1])"
   ]
  },
  {
   "cell_type": "code",
   "execution_count": 13,
   "id": "9f62975f-43be-4634-a87d-01ebd5b4384a",
   "metadata": {},
   "outputs": [],
   "source": [
    "# Create a folder ~/.kaggle/ in order to use the Kaggle API\n",
    "#os.makedirs(os.path.expanduser('~/.kaggle/'), exist_ok=True)\n",
    "#os.rename('kaggle.json', os.path.expanduser('~/.kaggle/kaggle.json')) # Move the file using os.rename\n",
    "#!chmod 600 ~/.kaggle/kaggle.json  # Change permissions"
   ]
  },
  {
   "cell_type": "code",
   "execution_count": 14,
   "id": "1112d9d7-e32c-4c1d-88af-17121a8b23e6",
   "metadata": {},
   "outputs": [],
   "source": [
    "# Download the WLASL dataset (Zip file) from Kaggle\n",
    "#!kaggle datasets download -d risangbaskoro/wlasl-processed"
   ]
  },
  {
   "cell_type": "code",
   "execution_count": 15,
   "id": "1f19cb6d-79ab-44b2-92ee-c2258b37aaae",
   "metadata": {},
   "outputs": [],
   "source": [
    "# Unzip the downloaded file\n",
    "#!unzip wlasl-processed.zip -d wlasl-dataset"
   ]
  },
  {
   "cell_type": "code",
   "execution_count": 16,
   "id": "9523fd79-58ac-45f1-b1bc-3cf27288a428",
   "metadata": {},
   "outputs": [],
   "source": [
    "def crop_center_square(frame):\n",
    "    y, x = frame.shape[0:2]\n",
    "    if x > y:\n",
    "        start_x = (x-y)/2\n",
    "        end_x = start_x + y\n",
    "        start_x = int(start_x)\n",
    "        end_x = int(end_x)\n",
    "        return frame[:, int(start_x):int(end_x)]\n",
    "    else:\n",
    "        return frame"
   ]
  },
  {
   "cell_type": "code",
   "execution_count": 17,
   "id": "050f35dc-fd1c-4ca7-bf08-4e73a0c6f7fc",
   "metadata": {},
   "outputs": [],
   "source": [
    "def load_video(vid_id, max_frames=0, resize=(256,256)):\n",
    "    local_video_path = \"wlasl-dataset/videos/\"+vid_id+\".mp4\"\n",
    "    video_capture = cv2.VideoCapture(local_video_path)\n",
    "    frames = []\n",
    "    try:\n",
    "      while video_capture.isOpened():\n",
    "        ret, frame = video_capture.read()\n",
    "        if not ret:\n",
    "          break\n",
    "        frame = crop_center_square(frame)\n",
    "        frame = cv2.resize(frame, resize)\n",
    "        frame = frame[:, :, [2, 1, 0]]\n",
    "        frames.append(frame)\n",
    "\n",
    "        if len(frames) == max_frames:\n",
    "          break\n",
    "    finally:\n",
    "      video_capture.release()\n",
    "    return np.array(frames) / 255.0"
   ]
  },
  {
   "cell_type": "code",
   "execution_count": 18,
   "id": "18bb0945-d00b-41db-85ae-17f41353542e",
   "metadata": {},
   "outputs": [],
   "source": [
    "def save_frame_file(video_array, caption, start_frame, end_frame, counter):\n",
    "    s3_uri = \"s3://asl-capstone/wlasl/\"\n",
    "    if end_frame!=-1:\n",
    "        video_array = video_array[int(start_frame):int(end_frame)]\n",
    "    filename = caption+\"_\"+str(counter)+\".npy\"\n",
    "    with fs.open(f\"{s3_uri+filename}\",\"wb\") as f:\n",
    "        np.save(f,video_array)\n",
    "    caption_name = caption+\".npy\"\n",
    "    caption_array = np.array(caption)\n",
    "    with fs.open(f\"{s3_uri+caption_name}\",\"wb\") as f:\n",
    "        np.save(f,caption_array)\n",
    "    "
   ]
  },
  {
   "cell_type": "code",
   "execution_count": 19,
   "id": "ac920ee7-bb06-406d-92d2-3af9fa9fc652",
   "metadata": {},
   "outputs": [
    {
     "name": "stdout",
     "output_type": "stream",
     "text": [
      "{'word': 'book', 'id': '69241', 'start': 1, 'end': -1, 'box': [385, 37, 885, 720]}\n"
     ]
    }
   ],
   "source": [
    "for videos in video_list[:1]:\n",
    "    counter = 0\n",
    "    print(videos[0])"
   ]
  },
  {
   "cell_type": "code",
   "execution_count": 20,
   "id": "886b705f-9e4b-40d1-9513-c9832ab7f1d2",
   "metadata": {},
   "outputs": [
    {
     "name": "stdout",
     "output_type": "stream",
     "text": [
      "2000\n"
     ]
    }
   ],
   "source": [
    "print(len(video_list))"
   ]
  },
  {
   "cell_type": "code",
   "execution_count": null,
   "id": "b8b019bf-b823-460d-a39d-b696dfa3719c",
   "metadata": {},
   "outputs": [
    {
     "name": "stdout",
     "output_type": "stream",
     "text": [
      "814 completed\n",
      "815 completed\n",
      "816 completed\n",
      "817 completed\n",
      "818 completed\n",
      "819 completed\n",
      "820 completed\n",
      "821 completed\n",
      "822 completed\n",
      "823 completed\n",
      "824 completed\n",
      "825 completed\n",
      "826 completed\n",
      "827 completed\n",
      "828 completed\n",
      "829 completed\n",
      "830 completed\n",
      "831 completed\n",
      "832 completed\n",
      "833 completed\n",
      "834 completed\n",
      "835 completed\n",
      "836 completed\n",
      "837 completed\n",
      "838 completed\n",
      "839 completed\n",
      "840 completed\n",
      "841 completed\n",
      "842 completed\n",
      "843 completed\n",
      "844 completed\n",
      "845 completed\n",
      "846 completed\n",
      "847 completed\n",
      "848 completed\n",
      "849 completed\n",
      "850 completed\n",
      "851 completed\n",
      "852 completed\n",
      "853 completed\n",
      "854 completed\n"
     ]
    }
   ],
   "source": [
    "try:\n",
    "    num_words = 813\n",
    "    for videos in video_list[813:890]:\n",
    "        counter = 0\n",
    "        for ind_vid in videos:\n",
    "            video_array = load_video(ind_vid['id'])\n",
    "            save_frame_file(video_array, ind_vid['word'], ind_vid['start'], ind_vid['end'], counter)\n",
    "            counter+=1\n",
    "        num_words+=1\n",
    "        print(f\"{num_words} completed\")\n",
    "except:\n",
    "    print(\"pass\")"
   ]
  },
  {
   "cell_type": "code",
   "execution_count": null,
   "id": "d32cb232-7de4-4eae-a20c-22a55b23cb78",
   "metadata": {},
   "outputs": [],
   "source": [
    "def get_instance_id():\n",
    "    \"\"\"Get current instance ID from metadata\"\"\"\n",
    "    url = \"http://169.254.169.254/latest/meta-data/instance-id\"\n",
    "    response = requests.get(url)\n",
    "    return response.text"
   ]
  },
  {
   "cell_type": "code",
   "execution_count": null,
   "id": "b0ad4f6d-2267-4648-bdae-d10b273b7a83",
   "metadata": {},
   "outputs": [],
   "source": [
    "def stop_instance(instance_id, region_name='us-west-2'):\n",
    "    \"\"\"Stop the EC2 instance\"\"\"\n",
    "    ec2 = boto3.client('ec2', aws_access_key_id = aws_access_key_id, aws_secret_access_key = aws_secret_access_key, region_name=region_name)\n",
    "    ec2.stop_instances(InstanceIds=[instance_id])"
   ]
  },
  {
   "cell_type": "code",
   "execution_count": null,
   "id": "779dfa1d-7ede-4720-b005-30866c6611d0",
   "metadata": {},
   "outputs": [],
   "source": [
    "# Get the current instance ID\n",
    "instance_id = get_instance_id()\n",
    "print(instance_id)\n",
    "# Stop the instance\n",
    "#stop_instance(instance_id)"
   ]
  },
  {
   "cell_type": "code",
   "execution_count": null,
   "id": "7e58beb8-6414-47a2-8657-b2e6deb0a096",
   "metadata": {},
   "outputs": [],
   "source": []
  }
 ],
 "metadata": {
  "kernelspec": {
   "display_name": "Python 3 (ipykernel)",
   "language": "python",
   "name": "python3"
  },
  "language_info": {
   "codemirror_mode": {
    "name": "ipython",
    "version": 3
   },
   "file_extension": ".py",
   "mimetype": "text/x-python",
   "name": "python",
   "nbconvert_exporter": "python",
   "pygments_lexer": "ipython3",
   "version": "3.10.12"
  }
 },
 "nbformat": 4,
 "nbformat_minor": 5
}
