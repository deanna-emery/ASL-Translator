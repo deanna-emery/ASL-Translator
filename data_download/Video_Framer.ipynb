{
 "cells": [
  {
   "cell_type": "markdown",
   "id": "f3302ca6-cb54-4991-8bd0-9e86071d0f00",
   "metadata": {},
   "source": [
    "### Purpose of this notebook\n",
    "The purpose of this notebook is to convert 10 videos and its parquet into video frames to determine time taken for loading"
   ]
  },
  {
   "cell_type": "code",
   "execution_count": 1,
   "id": "74ea70dc-4528-4568-870d-07de046eff1a",
   "metadata": {},
   "outputs": [],
   "source": [
    "#Install missing packages\n",
    "#!pip install boto3\n",
    "#!pip install pyarrow\n",
    "#!pip install fastparquet\n",
    "#!pip install s3fs\n",
    "#!pip install mediapipe"
   ]
  },
  {
   "cell_type": "code",
   "execution_count": 2,
   "id": "8ae7a476-c650-46fa-b556-87fa80bf2a1a",
   "metadata": {},
   "outputs": [],
   "source": [
    "# Import required libraries\n",
    "import boto3 #Video files get read through this\n",
    "import cv2\n",
    "import os\n",
    "import pandas as pd\n",
    "import math\n",
    "import numpy as np\n",
    "import random\n",
    "import io\n",
    "import s3fs # Parquet files get read through this\n",
    "import zlib # For compression\n",
    "import time # To calculate download time\n",
    "import configparser\n",
    "import requests\n",
    "import psutil # Checks memory usage\n",
    "import tempfile\n",
    "#import mediapipe as mp\n"
   ]
  },
  {
   "cell_type": "code",
   "execution_count": 3,
   "id": "acebc799-53d0-4abc-8877-27ce920c34d1",
   "metadata": {},
   "outputs": [
    {
     "data": {
      "text/plain": [
       "['credentials']"
      ]
     },
     "execution_count": 3,
     "metadata": {},
     "output_type": "execute_result"
    }
   ],
   "source": [
    "# Let's read in the credentials file\n",
    "config = configparser.ConfigParser()\n",
    "config.read('credentials')"
   ]
  },
  {
   "cell_type": "code",
   "execution_count": 4,
   "id": "e1bc54a8-c2b2-4b31-934b-d0a97eaa68d8",
   "metadata": {},
   "outputs": [],
   "source": [
    "aws_access_key_id = config[\"default\"]['aws_access_key_id']\n",
    "aws_secret_access_key = config[\"default\"]['aws_secret_access_key']\n",
    "bucket_name = 'asl-capstone'\n",
    "prefix = 'youtube-asl/1000-samples/'\n",
    "save_path = '/content/temp_folder'\n",
    "s3_URI = 's3://asl-capstone/'"
   ]
  },
  {
   "cell_type": "code",
   "execution_count": 5,
   "id": "e41445ca-7160-4280-83cc-ce7c0560e5ed",
   "metadata": {},
   "outputs": [],
   "source": [
    "# Create an s3 object\n",
    "s3 = boto3.client('s3',aws_access_key_id = aws_access_key_id, aws_secret_access_key = aws_secret_access_key,\n",
    "                  region_name = 'us-west-2')"
   ]
  },
  {
   "cell_type": "code",
   "execution_count": 6,
   "id": "25a39063-bb37-4ac6-95b9-e7b0e67f8a64",
   "metadata": {},
   "outputs": [
    {
     "name": "stdout",
     "output_type": "stream",
     "text": [
      "1152\n"
     ]
    }
   ],
   "source": [
    "# Let's get a list of all the videos\n",
    "paginator = s3.get_paginator('list_objects_v2')\n",
    "video_files = []\n",
    "for page in paginator.paginate(Bucket = bucket_name, Prefix = 'youtube-asl/1000-samples/'):\n",
    "    video_files.extend(content['Key'] for content in page.get('Contents',[]) if content['Key'].endswith(('.mkv','.webm','.mp4')))\n",
    "print(len(video_files))"
   ]
  },
  {
   "cell_type": "code",
   "execution_count": 7,
   "id": "ed4abedf-6638-491a-bc15-bb198d9d5995",
   "metadata": {},
   "outputs": [
    {
     "name": "stdout",
     "output_type": "stream",
     "text": [
      "1155\n"
     ]
    }
   ],
   "source": [
    "# Let's get a list of all the parquet files in the S3 bucket\n",
    "paginator = s3.get_paginator('list_objects_v2')\n",
    "caption_files = []\n",
    "for page in paginator.paginate(Bucket = bucket_name, Prefix = prefix+'parsed/'):\n",
    "    caption_files.extend(content['Key'] for content in page.get('Contents',[]))\n",
    "print(len(caption_files))"
   ]
  },
  {
   "cell_type": "code",
   "execution_count": 8,
   "id": "f56d9362-61a0-4ca9-b811-b8670730d38c",
   "metadata": {},
   "outputs": [],
   "source": [
    "video_names = [os.path.splitext(os.path.basename(x))[0] for x in video_files]\n",
    "caption_names = [os.path.splitext(os.path.splitext(os.path.basename(x))[0])[0] for x in caption_files]"
   ]
  },
  {
   "cell_type": "code",
   "execution_count": 9,
   "id": "e70cbcd6-f4fe-4e84-9a43-01bd8460b32e",
   "metadata": {},
   "outputs": [
    {
     "name": "stdout",
     "output_type": "stream",
     "text": [
      "['--6bmFM9wT4', '-9aGqJpaN7c', '-FSlHH2ReLA', '-GtDaiSJkSQ']\n",
      "['--6bmFM9wT4', '-9aGqJpaN7c', '-FSlHH2ReLA', '-GtDaiSJkSQ']\n"
     ]
    }
   ],
   "source": [
    "print(video_names[0:4])\n",
    "print(caption_names[0:4])"
   ]
  },
  {
   "cell_type": "code",
   "execution_count": 10,
   "id": "1bd4d5ff-df0e-4a02-97af-5170833d2dbb",
   "metadata": {},
   "outputs": [
    {
     "name": "stdout",
     "output_type": "stream",
     "text": [
      "['combined_data', 'master_parquet', 'rncXf-_rDjg']\n"
     ]
    }
   ],
   "source": [
    "missing_names  = [x for x in caption_names if x not in video_names]\n",
    "print(missing_names)"
   ]
  },
  {
   "cell_type": "code",
   "execution_count": 11,
   "id": "254f6f78-d4c0-4f4b-bd64-38b704c6b8fe",
   "metadata": {},
   "outputs": [
    {
     "name": "stdout",
     "output_type": "stream",
     "text": [
      "1152\n"
     ]
    }
   ],
   "source": [
    "caption_files = [x for x in caption_files if os.path.splitext(os.path.splitext(os.path.basename(x))[0])[0] not in ['combined_data', 'master_parquet', 'rncXf-_rDjg']]\n",
    "print(len(caption_files))\n"
   ]
  },
  {
   "cell_type": "code",
   "execution_count": 12,
   "id": "59e66413-9235-44fd-9b46-b2659516a9ed",
   "metadata": {},
   "outputs": [
    {
     "data": {
      "text/html": [
       "<div>\n",
       "<style scoped>\n",
       "    .dataframe tbody tr th:only-of-type {\n",
       "        vertical-align: middle;\n",
       "    }\n",
       "\n",
       "    .dataframe tbody tr th {\n",
       "        vertical-align: top;\n",
       "    }\n",
       "\n",
       "    .dataframe thead th {\n",
       "        text-align: right;\n",
       "    }\n",
       "</style>\n",
       "<table border=\"1\" class=\"dataframe\">\n",
       "  <thead>\n",
       "    <tr style=\"text-align: right;\">\n",
       "      <th></th>\n",
       "      <th>File Name</th>\n",
       "      <th>Start Timestamp</th>\n",
       "      <th>End Timestamp</th>\n",
       "      <th>Caption</th>\n",
       "      <th>frame_rate</th>\n",
       "      <th>start_time_seconds</th>\n",
       "      <th>end_time_seconds</th>\n",
       "      <th>start_frame</th>\n",
       "      <th>end_frame</th>\n",
       "      <th>start_frame_float</th>\n",
       "      <th>end_frame_float</th>\n",
       "      <th>UID</th>\n",
       "    </tr>\n",
       "  </thead>\n",
       "  <tbody>\n",
       "    <tr>\n",
       "      <th>0</th>\n",
       "      <td>youtube-asl/1000-samples/--6bmFM9wT4.ase.vtt</td>\n",
       "      <td>00:00:06.320</td>\n",
       "      <td>00:00:07.440</td>\n",
       "      <td>Hello everyone.</td>\n",
       "      <td>29.97003</td>\n",
       "      <td>6.32</td>\n",
       "      <td>7.44</td>\n",
       "      <td>189</td>\n",
       "      <td>223</td>\n",
       "      <td>189.410589</td>\n",
       "      <td>222.977023</td>\n",
       "      <td>0_youtube-asl/1000-samples/--6bmFM9wT4.ase.vtt</td>\n",
       "    </tr>\n",
       "    <tr>\n",
       "      <th>1</th>\n",
       "      <td>youtube-asl/1000-samples/--6bmFM9wT4.ase.vtt</td>\n",
       "      <td>00:00:07.440</td>\n",
       "      <td>00:00:10.020</td>\n",
       "      <td>Welcome to Sign1News.</td>\n",
       "      <td>29.97003</td>\n",
       "      <td>7.44</td>\n",
       "      <td>10.02</td>\n",
       "      <td>223</td>\n",
       "      <td>300</td>\n",
       "      <td>222.977023</td>\n",
       "      <td>300.299700</td>\n",
       "      <td>1_youtube-asl/1000-samples/--6bmFM9wT4.ase.vtt</td>\n",
       "    </tr>\n",
       "    <tr>\n",
       "      <th>2</th>\n",
       "      <td>youtube-asl/1000-samples/--6bmFM9wT4.ase.vtt</td>\n",
       "      <td>00:00:10.020</td>\n",
       "      <td>00:00:11.220</td>\n",
       "      <td>I'm Candace Jones.</td>\n",
       "      <td>29.97003</td>\n",
       "      <td>10.02</td>\n",
       "      <td>11.22</td>\n",
       "      <td>300</td>\n",
       "      <td>336</td>\n",
       "      <td>300.299700</td>\n",
       "      <td>336.263736</td>\n",
       "      <td>2_youtube-asl/1000-samples/--6bmFM9wT4.ase.vtt</td>\n",
       "    </tr>\n",
       "    <tr>\n",
       "      <th>3</th>\n",
       "      <td>youtube-asl/1000-samples/--6bmFM9wT4.ase.vtt</td>\n",
       "      <td>00:00:11.220</td>\n",
       "      <td>00:00:14.500</td>\n",
       "      <td>Here are your top stories for today.</td>\n",
       "      <td>29.97003</td>\n",
       "      <td>11.22</td>\n",
       "      <td>14.50</td>\n",
       "      <td>336</td>\n",
       "      <td>435</td>\n",
       "      <td>336.263736</td>\n",
       "      <td>434.565435</td>\n",
       "      <td>3_youtube-asl/1000-samples/--6bmFM9wT4.ase.vtt</td>\n",
       "    </tr>\n",
       "    <tr>\n",
       "      <th>4</th>\n",
       "      <td>youtube-asl/1000-samples/--6bmFM9wT4.ase.vtt</td>\n",
       "      <td>00:00:16.840</td>\n",
       "      <td>00:00:25.420</td>\n",
       "      <td>We are about a week away from the start of\\nth...</td>\n",
       "      <td>29.97003</td>\n",
       "      <td>16.84</td>\n",
       "      <td>25.42</td>\n",
       "      <td>505</td>\n",
       "      <td>762</td>\n",
       "      <td>504.695305</td>\n",
       "      <td>761.838162</td>\n",
       "      <td>4_youtube-asl/1000-samples/--6bmFM9wT4.ase.vtt</td>\n",
       "    </tr>\n",
       "  </tbody>\n",
       "</table>\n",
       "</div>"
      ],
      "text/plain": [
       "                                      File Name Start Timestamp End Timestamp  \\\n",
       "0  youtube-asl/1000-samples/--6bmFM9wT4.ase.vtt    00:00:06.320  00:00:07.440   \n",
       "1  youtube-asl/1000-samples/--6bmFM9wT4.ase.vtt    00:00:07.440  00:00:10.020   \n",
       "2  youtube-asl/1000-samples/--6bmFM9wT4.ase.vtt    00:00:10.020  00:00:11.220   \n",
       "3  youtube-asl/1000-samples/--6bmFM9wT4.ase.vtt    00:00:11.220  00:00:14.500   \n",
       "4  youtube-asl/1000-samples/--6bmFM9wT4.ase.vtt    00:00:16.840  00:00:25.420   \n",
       "\n",
       "                                             Caption  frame_rate  \\\n",
       "0                                    Hello everyone.    29.97003   \n",
       "1                              Welcome to Sign1News.    29.97003   \n",
       "2                                 I'm Candace Jones.    29.97003   \n",
       "3               Here are your top stories for today.    29.97003   \n",
       "4  We are about a week away from the start of\\nth...    29.97003   \n",
       "\n",
       "   start_time_seconds  end_time_seconds  start_frame  end_frame  \\\n",
       "0                6.32              7.44          189        223   \n",
       "1                7.44             10.02          223        300   \n",
       "2               10.02             11.22          300        336   \n",
       "3               11.22             14.50          336        435   \n",
       "4               16.84             25.42          505        762   \n",
       "\n",
       "   start_frame_float  end_frame_float  \\\n",
       "0         189.410589       222.977023   \n",
       "1         222.977023       300.299700   \n",
       "2         300.299700       336.263736   \n",
       "3         336.263736       434.565435   \n",
       "4         504.695305       761.838162   \n",
       "\n",
       "                                              UID  \n",
       "0  0_youtube-asl/1000-samples/--6bmFM9wT4.ase.vtt  \n",
       "1  1_youtube-asl/1000-samples/--6bmFM9wT4.ase.vtt  \n",
       "2  2_youtube-asl/1000-samples/--6bmFM9wT4.ase.vtt  \n",
       "3  3_youtube-asl/1000-samples/--6bmFM9wT4.ase.vtt  \n",
       "4  4_youtube-asl/1000-samples/--6bmFM9wT4.ase.vtt  "
      ]
     },
     "execution_count": 12,
     "metadata": {},
     "output_type": "execute_result"
    }
   ],
   "source": [
    "# Let's read in one parquet file using S3FS\n",
    "fs = s3fs.S3FileSystem(key=aws_access_key_id, secret=aws_secret_access_key)\n",
    "with fs.open(f\"{bucket_name}/{caption_files[0]}\", 'rb') as f:\n",
    "    df = pd.read_parquet(f)\n",
    "df.head()"
   ]
  },
  {
   "cell_type": "code",
   "execution_count": 13,
   "id": "9523fd79-58ac-45f1-b1bc-3cf27288a428",
   "metadata": {},
   "outputs": [],
   "source": [
    "def crop_center_square(frame):\n",
    "    y, x = frame.shape[0:2]\n",
    "    if x > y:\n",
    "        start_x = (x-y)/2\n",
    "        end_x = start_x + y\n",
    "        start_x = int(start_x)\n",
    "        end_x = int(end_x)\n",
    "        return frame[:, int(start_x):int(end_x)]\n",
    "    else:\n",
    "        return frame"
   ]
  },
  {
   "cell_type": "code",
   "execution_count": 14,
   "id": "050f35dc-fd1c-4ca7-bf08-4e73a0c6f7fc",
   "metadata": {},
   "outputs": [],
   "source": [
    "def load_video(path, max_frames=0, resize=(256,256)):\n",
    "    local_video_path = \"temp_folder/\"+os.path.basename(path)\n",
    "    s3.download_file(bucket_name,path,local_video_path)\n",
    "    #print(local_video_path)\n",
    "    video_capture = cv2.VideoCapture(local_video_path)\n",
    "    frames = []\n",
    "    try:\n",
    "      while video_capture.isOpened():\n",
    "        ret, frame = video_capture.read()\n",
    "        if not ret:\n",
    "          #print(\"Did not read the video\")\n",
    "          break\n",
    "        frame = crop_center_square(frame)\n",
    "        frame = cv2.resize(frame, resize)\n",
    "        frame = frame[:, :, [2, 1, 0]]\n",
    "        frames.append(frame)\n",
    "\n",
    "        if len(frames) == max_frames:\n",
    "          break\n",
    "    finally:\n",
    "      video_capture.release()\n",
    "      os.remove(local_video_path)\n",
    "      #temp_file.close()\n",
    "    return np.array(frames) / 255.0"
   ]
  },
  {
   "cell_type": "code",
   "execution_count": 15,
   "id": "a47db211-db2b-49e2-88c5-4f657b9004ac",
   "metadata": {},
   "outputs": [],
   "source": [
    "def read_caption(caption_file):\n",
    "    try:\n",
    "        with fs.open(f\"{bucket_name}/{caption_file}\", 'rb') as f:\n",
    "            df = pd.read_parquet(f)\n",
    "        return df\n",
    "    except:\n",
    "        print(\"error\")        "
   ]
  },
  {
   "cell_type": "code",
   "execution_count": 16,
   "id": "1b993361-14f1-44ab-879b-d5db56933f77",
   "metadata": {},
   "outputs": [],
   "source": [
    "# def extract_number(text):\n",
    "#     try:\n",
    "#         parts = text.split('_cap_')\n",
    "#         if len(parts) > 1:\n",
    "#             return parts[1].split('.')[0]\n",
    "#         else:\n",
    "#             return None\n",
    "#     except:\n",
    "#         return None"
   ]
  },
  {
   "cell_type": "code",
   "execution_count": 17,
   "id": "2dd31598-73a3-450d-8ba5-ef9351e26ca7",
   "metadata": {},
   "outputs": [],
   "source": [
    "# def extract_video_number(text):\n",
    "#     try:\n",
    "#         parts = text.split('_')\n",
    "#        # print(parts)\n",
    "#         if len(parts)>1:\n",
    "#             return parts[1].split('.')[0]\n",
    "#         else:\n",
    "#             return None\n",
    "#     except:\n",
    "#         return None"
   ]
  },
  {
   "cell_type": "code",
   "execution_count": 18,
   "id": "76a919c8-ea38-4e30-9b84-4d02ab4f84b8",
   "metadata": {},
   "outputs": [],
   "source": [
    "# def file_name_generator(filename):\n",
    "#     try:\n",
    "#         filename = os.path.basename(filename).rsplit('.',1)[0]\n",
    "#         # Let's get a list of all the Numpy Caption Files\n",
    "#         paginator = s3.get_paginator('list_objects_v2')\n",
    "#         caption_files = []\n",
    "#         for page in paginator.paginate(Bucket = bucket_name, Prefix = 'youtube-asl/test_sample/numpy_files/RGB/'):\n",
    "#             caption_files.extend(content['Key'] for content in page.get('Contents',[]) if '_cap' in content['Key'])\n",
    "#         file_of_interest = [x for x in caption_files if filename in x]\n",
    "#         #print(len(file_of_interest))\n",
    "#         #print(file_of_interest)\n",
    "#         if len(file_of_interest) == 1 and \"_cap.npy\" in file_of_interest[0]:\n",
    "#             return (filename+\"_cap_1.npy\")\n",
    "#         else:\n",
    "#             file_of_interest = [os.path.basename(x) for x in file_of_interest]\n",
    "#             file_of_interest = [x.replace('.npy','') for x in file_of_interest]\n",
    "#             file_of_interest = [extract_number(x) for x in file_of_interest]\n",
    "#             file_of_interest = [int(x) for x in file_of_interest if x !=None]\n",
    "#             file_of_interest.sort(reverse=True)\n",
    "#             #print(file_of_interest)\n",
    "#             if len(file_of_interest) == 0:\n",
    "#                 return (filename+\"_cap.npy\")\n",
    "#             else:\n",
    "#                 suffix_val = int(file_of_interest[0])+1\n",
    "#                 return (filename+\"_cap_\"+str(suffix_val)+\".npy\")\n",
    "#     except:\n",
    "#         suffix_val = random.randint(1245093,12456893)\n",
    "#         return (filename+\"_cap_\"+str(suffix_val)+\".npy\")\n",
    "        \n",
    "        "
   ]
  },
  {
   "cell_type": "code",
   "execution_count": 19,
   "id": "ee237984-2d78-4e7f-8f09-ef298996d47f",
   "metadata": {},
   "outputs": [],
   "source": [
    "# def video_name_generator(filename):\n",
    "#     try:\n",
    "#         filename = os.path.basename(filename).rsplit('.',1)[0]\n",
    "#         # Let's get a list of all the Numpy Caption Files\n",
    "#         paginator = s3.get_paginator('list_objects_v2')\n",
    "#         caption_files = []\n",
    "#         for page in paginator.paginate(Bucket = bucket_name, Prefix = 'youtube-asl/test_sample/numpy_files/RGB/'):\n",
    "#             caption_files.extend(content['Key'] for content in page.get('Contents',[]) if '_cap' not in content['Key'])\n",
    "#         file_of_interest = [x for x in caption_files if filename in x]\n",
    "#         #print((file_of_interest))\n",
    "#         if len(file_of_interest) == 1:\n",
    "#             return (filename+\"_1.npy\")\n",
    "#         else:\n",
    "#             file_of_interest = [os.path.basename(x) for x in file_of_interest]\n",
    "#             file_of_interest = [x.replace('.npy','') for x in file_of_interest]\n",
    "#             file_of_interest = [extract_video_number(x) for x in file_of_interest]\n",
    "#             file_of_interest = [int(x) for x in file_of_interest if x !=None]\n",
    "#             file_of_interest.sort(reverse=True)\n",
    "#             if len(file_of_interest) == 0:\n",
    "#                 return (filename+\".npy\")\n",
    "#             else:\n",
    "#                 suffix_val = int(file_of_interest[0])+1\n",
    "#                 return (filename+\"_\"+str(suffix_val)+\".npy\")\n",
    "#     except:\n",
    "#         return None"
   ]
  },
  {
   "cell_type": "code",
   "execution_count": 20,
   "id": "65177870-de59-4d8e-b2b8-99ece3378b3b",
   "metadata": {},
   "outputs": [],
   "source": [
    "def save_frame_file(video_array, filename, caption, start_frame, end_frame, counter, s3_uri):\n",
    "    caption_array = np.array(caption, dtype = str)\n",
    "    numpy_array = video_array[int(start_frame):int(end_frame)]\n",
    "    print(filename)\n",
    "    numpy_array = numpy_array.astype('float32')\n",
    "    #vid_filename = video_name_generator(filename)\n",
    "    #if vid_filename == None:\n",
    "    #    new_filename = file_name_generator(filename)\n",
    "    #print(vid_filename)\n",
    "    with fs.open(f\"{s3_uri+filename}.npy\",\"wb\") as f:\n",
    "        np.save(f,numpy_array)#.astype('float32')\n",
    "    #new_filename = file_name_generator(filename)\n",
    "    #print(new_filename)\n",
    "    #with fs.open(f\"{s3_uri+filename}_cap.npy\",\"wb\") as f:\n",
    "    #    np.save(f,caption_array)"
   ]
  },
  {
   "cell_type": "code",
   "execution_count": 21,
   "id": "10b5d383-38b9-4d8a-aa21-b8d803ee4b0e",
   "metadata": {},
   "outputs": [],
   "source": [
    "# with fs.open(f\"s3://asl-capstone/youtube-asl/1000-samples/numpy_files/masterfile.parquet\",\"rb\") as f:\n",
    "#     parquet_df = pd.read_parquet(f)"
   ]
  },
  {
   "cell_type": "code",
   "execution_count": 22,
   "id": "baac9b63-72e6-4c46-ad77-6fda0b698b4d",
   "metadata": {},
   "outputs": [],
   "source": [
    "# display(parquet_df.head())"
   ]
  },
  {
   "cell_type": "code",
   "execution_count": 23,
   "id": "112b45c9-21b2-4784-b4c4-931137c4217c",
   "metadata": {},
   "outputs": [],
   "source": [
    "temp_video = video_files[28:100]\n",
    "temp_caption = caption_files[28:100]"
   ]
  },
  {
   "cell_type": "code",
   "execution_count": 24,
   "id": "587b3dbf-eca5-4f94-a105-fc86508d7bab",
   "metadata": {},
   "outputs": [],
   "source": [
    "parquet_df = pd.DataFrame()"
   ]
  },
  {
   "cell_type": "code",
   "execution_count": 25,
   "id": "e3745b3e-aa47-4893-9b36-8325c7114062",
   "metadata": {},
   "outputs": [],
   "source": [
    "num_vid_counter = 0"
   ]
  },
  {
   "cell_type": "code",
   "execution_count": null,
   "id": "9640f8e0-9efb-4333-88d8-9ad9030ee2ee",
   "metadata": {},
   "outputs": [
    {
     "name": "stdout",
     "output_type": "stream",
     "text": [
      "Reading 0L6S0b14ZmI.webm\n",
      "0L6S0b14ZmI_0\n",
      "Clearing lists\n",
      "0L6S0b14ZmI_1\n",
      "Clearing lists\n",
      "0L6S0b14ZmI_2\n",
      "Clearing lists\n",
      "0L6S0b14ZmI_3\n",
      "Clearing lists\n",
      "0L6S0b14ZmI_4\n",
      "Clearing lists\n",
      "0L6S0b14ZmI_5\n",
      "Clearing lists\n",
      "0L6S0b14ZmI_6\n",
      "Clearing lists\n",
      "0L6S0b14ZmI_7\n",
      "Clearing lists\n",
      "0L6S0b14ZmI_8\n",
      "Clearing lists\n",
      "0L6S0b14ZmI_9\n",
      "Clearing lists\n"
     ]
    }
   ],
   "source": [
    "for video, caption in zip(temp_video, temp_caption):\n",
    "    num_vid_counter+=1\n",
    "    with open('completed_vid_counter.txt','w') as num_vid:\n",
    "        num_vid.write(str(num_vid_counter))\n",
    "    try:\n",
    "        master_caption = []\n",
    "        master_path = []\n",
    "        filename = os.path.basename(video)\n",
    "        video_path = filename\n",
    "        video_array = load_video(video)\n",
    "        temp_df = read_caption(caption)\n",
    "        print(f\"Reading {filename}\")\n",
    "        filename = filename.split('.')[0]\n",
    "        s3_uri = \"s3://asl-capstone/youtube-asl/1000-samples/numpy_files/\"\n",
    "        counter = 0\n",
    "        for _, row in temp_df.iterrows():\n",
    "            new_filename = filename+\"_\"+str(counter)\n",
    "            master_caption.append(row['Caption'])\n",
    "            master_path.append((s3_uri+new_filename+\".npy\"))\n",
    "            save_frame_file(video_array, new_filename, row['Caption'],int(row['start_frame']), int(row['end_frame']), counter, s3_uri)\n",
    "            counter+=1\n",
    "            temp_df = pd.DataFrame({'caption':master_caption, 'path':master_path})\n",
    "            parquet_df = pd.concat([parquet_df,temp_df], ignore_index=True)\n",
    "            with fs.open(f\"s3://asl-capstone/youtube-asl/1000-samples/numpy_files/masterfile.parquet\",\"wb\") as f:\n",
    "                parquet_df.to_parquet(f)\n",
    "            print(\"Clearing lists\")\n",
    "            master_caption.clear()\n",
    "            master_path.clear()\n",
    "    except Exception as e:\n",
    "        print(e)\n",
    "        print(\"Errored on video. Moving to next file\")\n",
    "        with open('error_files.txt','a') as file:\n",
    "            file.write(video)"
   ]
  },
  {
   "cell_type": "code",
   "execution_count": null,
   "id": "d32cb232-7de4-4eae-a20c-22a55b23cb78",
   "metadata": {},
   "outputs": [],
   "source": [
    "def get_instance_id():\n",
    "    \"\"\"Get current instance ID from metadata\"\"\"\n",
    "    url = \"http://169.254.169.254/latest/meta-data/instance-id\"\n",
    "    response = requests.get(url)\n",
    "    return response.text"
   ]
  },
  {
   "cell_type": "code",
   "execution_count": null,
   "id": "b0ad4f6d-2267-4648-bdae-d10b273b7a83",
   "metadata": {},
   "outputs": [],
   "source": [
    "def stop_instance(instance_id, region_name='us-west-2'):\n",
    "    \"\"\"Stop the EC2 instance\"\"\"\n",
    "    ec2 = boto3.client('ec2', aws_access_key_id = aws_access_key_id, aws_secret_access_key = aws_secret_access_key, region_name=region_name)\n",
    "    ec2.stop_instances(InstanceIds=[instance_id])"
   ]
  },
  {
   "cell_type": "code",
   "execution_count": null,
   "id": "779dfa1d-7ede-4720-b005-30866c6611d0",
   "metadata": {},
   "outputs": [],
   "source": [
    "# Get the current instance ID\n",
    "instance_id = get_instance_id()\n",
    "print(instance_id)\n",
    "# Stop the instance\n",
    "stop_instance(instance_id)"
   ]
  },
  {
   "cell_type": "code",
   "execution_count": null,
   "id": "7e58beb8-6414-47a2-8657-b2e6deb0a096",
   "metadata": {},
   "outputs": [],
   "source": []
  }
 ],
 "metadata": {
  "kernelspec": {
   "display_name": "Python 3 (ipykernel)",
   "language": "python",
   "name": "python3"
  },
  "language_info": {
   "codemirror_mode": {
    "name": "ipython",
    "version": 3
   },
   "file_extension": ".py",
   "mimetype": "text/x-python",
   "name": "python",
   "nbconvert_exporter": "python",
   "pygments_lexer": "ipython3",
   "version": "3.10.12"
  }
 },
 "nbformat": 4,
 "nbformat_minor": 5
}
