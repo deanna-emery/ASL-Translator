{
 "cells": [
  {
   "cell_type": "markdown",
   "id": "f3302ca6-cb54-4991-8bd0-9e86071d0f00",
   "metadata": {},
   "source": [
    "### Purpose of this notebook\n",
    "The purpose of this notebook is to download WLASL dataset and upload to S3 bucket after processing as Numpy"
   ]
  },
  {
   "cell_type": "markdown",
   "id": "1b997ab6-08af-4c02-86a8-152f13e963fb",
   "metadata": {},
   "source": [
    "The videos will be labeled by the 'gloss' name from the Json.\n",
    "Some videos only have the required sign between Frame-A and Frame-B. These will be cropped accordingly"
   ]
  },
  {
   "cell_type": "code",
   "execution_count": 1,
   "id": "74ea70dc-4528-4568-870d-07de046eff1a",
   "metadata": {},
   "outputs": [],
   "source": [
    "#Install missing packages\n",
    "#!pip install boto3\n",
    "#!pip install pyarrow\n",
    "#!pip install fastparquet\n",
    "#!pip install s3fs\n",
    "#!pip install mediapipe\n",
    "#!pip install kaggle"
   ]
  },
  {
   "cell_type": "code",
   "execution_count": 2,
   "id": "8ae7a476-c650-46fa-b556-87fa80bf2a1a",
   "metadata": {},
   "outputs": [],
   "source": [
    "# Import required libraries\n",
    "import boto3 #Video files get read through this\n",
    "import cv2\n",
    "import os\n",
    "import pandas as pd\n",
    "import math\n",
    "import numpy as np\n",
    "import random\n",
    "import io\n",
    "import s3fs # Parquet files get read through this\n",
    "import zlib # For compression\n",
    "import time # To calculate download time\n",
    "import configparser\n",
    "import requests\n",
    "import psutil # Checks memory usage\n",
    "import tempfile\n",
    "import json\n",
    "import yt_dlp\n",
    "import subprocess\n",
    "from tqdm import tqdm\n",
    "#import mediapipe as mp\n"
   ]
  },
  {
   "cell_type": "code",
   "execution_count": 3,
   "id": "acebc799-53d0-4abc-8877-27ce920c34d1",
   "metadata": {},
   "outputs": [
    {
     "data": {
      "text/plain": [
       "['/home/ec2-user/.aws/credentials']"
      ]
     },
     "execution_count": 3,
     "metadata": {},
     "output_type": "execute_result"
    }
   ],
   "source": [
    "import configparser\n",
    "\n",
    "config = configparser.ConfigParser()\n",
    "config.read('/home/ec2-user/.aws/credentials')"
   ]
  },
  {
   "cell_type": "code",
   "execution_count": 4,
   "id": "e1bc54a8-c2b2-4b31-934b-d0a97eaa68d8",
   "metadata": {},
   "outputs": [],
   "source": [
    "aws_access_key_id = config[\"default\"]['aws_access_key_id']\n",
    "aws_secret_access_key = config[\"default\"]['aws_secret_access_key']\n",
    "bucket_name = 'asl-capstone'\n",
    "prefix = '/msasl/RGB/'\n",
    "save_path = '/content/temp_folder'\n",
    "s3_URI = 's3://asl-capstone/msasl/RGB/'"
   ]
  },
  {
   "cell_type": "code",
   "execution_count": 5,
   "id": "e41445ca-7160-4280-83cc-ce7c0560e5ed",
   "metadata": {},
   "outputs": [],
   "source": [
    "# Create an s3 object\n",
    "s3 = boto3.client('s3',aws_access_key_id = aws_access_key_id, aws_secret_access_key = aws_secret_access_key,\n",
    "                  region_name = 'us-west-2')"
   ]
  },
  {
   "cell_type": "code",
   "execution_count": 6,
   "id": "cb6202d1-bcd3-4d8f-b862-9aeaafca1e3b",
   "metadata": {},
   "outputs": [],
   "source": [
    "# Create an S3FS object\n",
    "fs = s3fs.S3FileSystem(key=aws_access_key_id, secret=aws_secret_access_key) # Define an S3FS object"
   ]
  },
  {
   "cell_type": "code",
   "execution_count": 7,
   "id": "ae3d295e-8830-4481-8eaa-d14877d9a696",
   "metadata": {},
   "outputs": [],
   "source": [
    "# # Let's read the WLASL json file to map the number to the word\n",
    "# filename = \"wlasl-dataset/WLASL_v0.3.json\"\n",
    "# wlasl_df = pd.read_json(filename)"
   ]
  },
  {
   "cell_type": "code",
   "execution_count": 8,
   "id": "d7c50cec-7698-4c26-9c07-a54816b95582",
   "metadata": {},
   "outputs": [],
   "source": [
    "# display(wlasl_df.head())\n",
    "# print(wlasl_df.shape)\n",
    "# #print(wlasl_df['instances'][0])"
   ]
  },
  {
   "cell_type": "code",
   "execution_count": 9,
   "id": "eeb26c44-9165-4a56-8e07-13ec1f45afae",
   "metadata": {},
   "outputs": [],
   "source": [
    "# # Not all videos from the JSON exist. Let's create a function to check which ones exist\n",
    "# def video_features(json_data):\n",
    "#     video_list = []\n",
    "#     frame_list = []\n",
    "#     gloss = json_data['gloss']\n",
    "#     json_list = json_data['instances']\n",
    "#     for id in json_list:\n",
    "#         vid = id['video_id']\n",
    "#         frame_start = id['frame_start']\n",
    "#         frame_end = id['frame_end']\n",
    "#         bbox = id['bbox']\n",
    "#         if os.path.exists(f\"wlasl-dataset/videos/{vid}.mp4\"):\n",
    "#             features = {'word':gloss,'id':vid,'start':frame_start, 'end':frame_end,'box':bbox}\n",
    "#             #yield features\n",
    "#             video_list.append(features)\n",
    "#     return video_list"
   ]
  },
  {
   "cell_type": "code",
   "execution_count": 10,
   "id": "b0c07b4f-4900-488c-9cf7-ca20788d4152",
   "metadata": {},
   "outputs": [],
   "source": [
    "# # Load the data and get the features\n",
    "# with open(\"wlasl-dataset/WLASL_v0.3.json\",'r') as file:\n",
    "#     json_data = file.read()\n",
    "# json_data = json.loads(json_data)"
   ]
  },
  {
   "cell_type": "code",
   "execution_count": 11,
   "id": "b186971c-5af4-4894-8e39-bca56e8b744a",
   "metadata": {},
   "outputs": [],
   "source": [
    "# # Let's extract all relevant features from the JSON\n",
    "# video_list = []\n",
    "# for data in json_data:\n",
    "#     video_list.append(video_features(data))"
   ]
  },
  {
   "cell_type": "code",
   "execution_count": 12,
   "id": "545add6a-9022-4919-94d0-2c7fec4dfacd",
   "metadata": {},
   "outputs": [],
   "source": [
    "# # Let's check how many unique words we have\n",
    "# word_list = []\n",
    "# for video in video_list:\n",
    "#     for vid in video:\n",
    "#         word_list.append(vid['word'])"
   ]
  },
  {
   "cell_type": "code",
   "execution_count": 13,
   "id": "f3f841db-d419-411f-9414-139c8ab5fc94",
   "metadata": {},
   "outputs": [],
   "source": [
    "# print(len(word_list))\n",
    "# word_list = list(set(word_list))\n",
    "# print(len(word_list))\n",
    "# print(word_list[:10])"
   ]
  },
  {
   "cell_type": "code",
   "execution_count": 14,
   "id": "4bf4d9bd-b60a-41d2-88ec-b9093c739738",
   "metadata": {},
   "outputs": [],
   "source": [
    "# # Let's now work on the MS-ASL Dataset\n",
    "# filenames = ['MSASL/MSASL_train.json','MSASL/MSASL_val.json','MSASL/MSASL_test.json']\n",
    "# msasl_words = []\n",
    "# for file in filenames:\n",
    "#     with open(\"MSASL/MSASL_train.json\",'r') as file:\n",
    "#         json_data = file.read()\n",
    "#     json_data = json.loads(json_data)\n",
    "#     for word in json_data:\n",
    "#         msasl_words.append(word)"
   ]
  },
  {
   "cell_type": "code",
   "execution_count": 15,
   "id": "369c003a-e6d1-4857-b962-3a25b25afd45",
   "metadata": {},
   "outputs": [],
   "source": [
    "# print(msasl_words[0])"
   ]
  },
  {
   "cell_type": "code",
   "execution_count": 16,
   "id": "5e05f10e-112a-432e-9595-a08f28b45237",
   "metadata": {},
   "outputs": [],
   "source": [
    "# def msasl_features(msasl_word):\n",
    "#     gloss = msasl_word['clean_text']\n",
    "#     url = msasl_word['url']\n",
    "#     frame_start = msasl_word['start_time']*msasl_word['fps']\n",
    "#     frame_end = msasl_word['end_time']*msasl_word['fps']\n",
    "#     bbox = msasl_word['box']\n",
    "#     features = {'word':gloss,'url':url,'start':frame_start, 'end':frame_end,'box':bbox}\n",
    "#     return features\n",
    "    "
   ]
  },
  {
   "cell_type": "code",
   "execution_count": 17,
   "id": "56579974-f714-4406-8084-608eaaa5ed04",
   "metadata": {},
   "outputs": [],
   "source": [
    "# msasl_data = [] # Store all relevant information about the MSASL dataset\n",
    "# for word in msasl_words:\n",
    "#     msasl_data.append(msasl_features(word))    "
   ]
  },
  {
   "cell_type": "code",
   "execution_count": 18,
   "id": "1ef7308f-4bbf-4380-aa42-1d87ef5683ac",
   "metadata": {},
   "outputs": [],
   "source": [
    "# print(msasl_data[:4])"
   ]
  },
  {
   "cell_type": "code",
   "execution_count": 19,
   "id": "faaf6ae2-8f6c-426e-a864-a36c6e708521",
   "metadata": {},
   "outputs": [],
   "source": [
    "# matching_data = [x for x in msasl_data if x['word'] in word_list]\n",
    "# print(matching_data[:4])"
   ]
  },
  {
   "cell_type": "code",
   "execution_count": 20,
   "id": "70b02d84-96bb-4445-ac1a-54e2129e1465",
   "metadata": {},
   "outputs": [],
   "source": [
    "# print(len(matching_data))"
   ]
  },
  {
   "cell_type": "code",
   "execution_count": 21,
   "id": "6f7843b4-a3ce-4867-ada8-96bc954f6a34",
   "metadata": {},
   "outputs": [],
   "source": [
    "# # Sort all the elements by the word so that they come sequentially\n",
    "# matching_data = sorted(matching_data, key = lambda x: x['word'])"
   ]
  },
  {
   "cell_type": "code",
   "execution_count": 22,
   "id": "5050019d-c918-46e0-8b4b-21d6dba2f6f2",
   "metadata": {},
   "outputs": [],
   "source": [
    "# print(matching_data[:10])"
   ]
  },
  {
   "cell_type": "code",
   "execution_count": 23,
   "id": "461b2de2-932e-49fc-bb03-67c926690d42",
   "metadata": {},
   "outputs": [],
   "source": [
    "with fs.open(f\"s3://asl-capstone/msasl/matching_words.parquet\",\"rb\") as f: # Read the data from S3\n",
    "    matching_data = pd.read_parquet(f)"
   ]
  },
  {
   "cell_type": "code",
   "execution_count": 24,
   "id": "6a6c9501-de7a-4fad-a567-8eba92c25a38",
   "metadata": {},
   "outputs": [],
   "source": [
    "matching_data = matching_data.to_dict('records') # Convert to a list of dictionaries"
   ]
  },
  {
   "cell_type": "code",
   "execution_count": 25,
   "id": "06ba8baa-c6b4-4e32-9959-603b1afc441a",
   "metadata": {},
   "outputs": [],
   "source": [
    "# We need only a max of 20 videos per word\n",
    "collected_words = []\n",
    "matching_word = \"\"\n",
    "counter = 0\n",
    "for data in matching_data:\n",
    "    #print(data['word'])\n",
    "    if data['word'] != matching_word:\n",
    "        matching_word = data['word']\n",
    "        counter = 0\n",
    "    if counter < 20:\n",
    "        collected_words.append(data)\n",
    "        counter+=1"
   ]
  },
  {
   "cell_type": "code",
   "execution_count": 26,
   "id": "57a3f9ff-77af-4cdb-b9ac-3d8166b4cf51",
   "metadata": {},
   "outputs": [
    {
     "name": "stdout",
     "output_type": "stream",
     "text": [
      "16473\n"
     ]
    }
   ],
   "source": [
    "print(len(collected_words))"
   ]
  },
  {
   "cell_type": "code",
   "execution_count": 27,
   "id": "758ba95f-4469-47ce-abde-9f8d291f9c8f",
   "metadata": {},
   "outputs": [],
   "source": [
    "# Let's visualise the data\n",
    "words_df = pd.DataFrame(collected_words)\n",
    "word_counts = words_df['word'].value_counts()"
   ]
  },
  {
   "cell_type": "code",
   "execution_count": 28,
   "id": "55fa6a35-4096-46e8-84fa-34e546e214bd",
   "metadata": {},
   "outputs": [],
   "source": [
    "with fs.open(f\"s3://asl-capstone/msasl/master_file_Deanna_1.parquet\",\"rb\") as f:\n",
    "    read_words = pd.read_parquet(f)"
   ]
  },
  {
   "cell_type": "code",
   "execution_count": 29,
   "id": "898a0618-48f5-421e-81fa-0c72ab1f0711",
   "metadata": {},
   "outputs": [
    {
     "name": "stdout",
     "output_type": "stream",
     "text": [
      "2414\n"
     ]
    },
    {
     "data": {
      "text/plain": [
       "caption\n",
       "quiet         22\n",
       "ring          21\n",
       "spain         20\n",
       "strawberry    20\n",
       "store         20\n",
       "              ..\n",
       "table          8\n",
       "psychology     6\n",
       "spell          3\n",
       "purchase       3\n",
       "popcorn        3\n",
       "Name: count, Length: 127, dtype: int64"
      ]
     },
     "execution_count": 29,
     "metadata": {},
     "output_type": "execute_result"
    }
   ],
   "source": [
    "print(len(read_words))\n",
    "read_words['caption'].value_counts()"
   ]
  },
  {
   "cell_type": "code",
   "execution_count": 30,
   "id": "8b050831-992f-495f-9769-ed82e7a76f1e",
   "metadata": {},
   "outputs": [],
   "source": [
    "collected_words = collected_words[440:] # Drop the first 440 words since those were already processed"
   ]
  },
  {
   "cell_type": "code",
   "execution_count": 31,
   "id": "fae05059-56fe-44a6-9477-f2329b015ff5",
   "metadata": {},
   "outputs": [
    {
     "data": {
      "text/plain": [
       "16033"
      ]
     },
     "execution_count": 31,
     "metadata": {},
     "output_type": "execute_result"
    }
   ],
   "source": [
    "len(collected_words)"
   ]
  },
  {
   "cell_type": "code",
   "execution_count": 32,
   "id": "1b8302ef-fbdf-4407-832c-a1697a9d5c13",
   "metadata": {},
   "outputs": [],
   "source": [
    "def check_video(url): #Checks if a YouTube video is available and returns True if available and False if not\n",
    "    try:\n",
    "        result = subprocess.run([\"yt-dlp\", \"--simulate\", \"--get-url\", url], check=True, stdout=subprocess.PIPE, stderr=subprocess.PIPE);\n",
    "        return True\n",
    "    except subprocess.CalledProcessError:\n",
    "        return False # Video is not available in YouTube"
   ]
  },
  {
   "cell_type": "code",
   "execution_count": 33,
   "id": "dd0c800e-4595-4809-8ede-b221f7ede17d",
   "metadata": {},
   "outputs": [],
   "source": [
    "def download_vid(url, filename):\n",
    "    try:\n",
    "        filename = \"temp_folder/\"+filename\n",
    "        if os.path.exists(filename):\n",
    "            os.remove(filename)\n",
    "            # print(\"Deleted file\")\n",
    "        if not os.path.exists(filename):\n",
    "            command = [\"yt-dlp\",\"-o\",filename,url]\n",
    "            subprocess.run(command);\n",
    "            return True\n",
    "    except:\n",
    "        return False\n",
    "        "
   ]
  },
  {
   "cell_type": "code",
   "execution_count": 34,
   "id": "214ceec2-bf12-495b-9470-b347cad35765",
   "metadata": {},
   "outputs": [],
   "source": [
    "def crop_center_square(frame):\n",
    "    y, x = frame.shape[0:2]\n",
    "    if x > y:\n",
    "        start_x = (x-y)/2\n",
    "        end_x = start_x + y\n",
    "        start_x = int(start_x)\n",
    "        end_x = int(end_x)\n",
    "        return frame[:, int(start_x):int(end_x)]\n",
    "    else:\n",
    "        return frame"
   ]
  },
  {
   "cell_type": "code",
   "execution_count": 35,
   "id": "c9f55b49-ff39-4bb3-80e3-7c975f370cd2",
   "metadata": {},
   "outputs": [],
   "source": [
    "def load_video(filename, max_frames=0, resize=(256,256)):\n",
    "    filename = \"temp_folder/\"+filename\n",
    "    video_capture = cv2.VideoCapture(filename)\n",
    "    frames = []\n",
    "    try:\n",
    "      while video_capture.isOpened():\n",
    "        ret, frame = video_capture.read()\n",
    "        if not ret:\n",
    "          break\n",
    "        frame = crop_center_square(frame)\n",
    "        frame = cv2.resize(frame, resize)\n",
    "        frame = frame[:, :, [2, 1, 0]]\n",
    "        frames.append(frame)\n",
    "\n",
    "        if len(frames) == max_frames:\n",
    "          break\n",
    "    finally:\n",
    "      video_capture.release()\n",
    "    return np.array(frames) / 255.0"
   ]
  },
  {
   "cell_type": "code",
   "execution_count": 36,
   "id": "89f0ed0a-9133-4256-b0f6-08c462293acc",
   "metadata": {},
   "outputs": [],
   "source": [
    "def save_frame_file(video_array, filename, start_frame, end_frame, word):\n",
    "    s3_uri = \"s3://asl-capstone/msasl/RGB/\"\n",
    "    filename = filename+\".npy\"\n",
    "    if end_frame!=-1:\n",
    "        video_array = video_array[int(start_frame):int(end_frame)].astype(np.float32)\n",
    "    else:\n",
    "        video_array = video_array.astype(np.float32)\n",
    "        \n",
    "    with fs.open(f\"{s3_uri+filename}\",\"wb\") as f:\n",
    "        np.save(f,video_array)\n",
    "    try:\n",
    "        with fs.open(f\"s3://asl-capstone/msasl/master_file_Deanna_1.parquet\",\"rb\") as f:\n",
    "            parquet_df = pd.read_parquet(f)\n",
    "    except:\n",
    "        parquet_df = pd.DataFrame()\n",
    "        print(\"Parquet does not exist yet\")\n",
    "    temp_df = pd.DataFrame({'caption':[word], 'path':[s3_uri+filename]})\n",
    "    parquet_df = pd.concat([parquet_df,temp_df], ignore_index=True)\n",
    "    with fs.open(f\"s3://asl-capstone/msasl/master_file_Deanna_1.parquet\",\"wb\") as f:\n",
    "        parquet_df.to_parquet(f)\n",
    "\n",
    "    "
   ]
  },
  {
   "cell_type": "code",
   "execution_count": 37,
   "id": "860b095d-74d9-4797-9210-11edea46ea90",
   "metadata": {},
   "outputs": [
    {
     "data": {
      "text/plain": [
       "452"
      ]
     },
     "execution_count": 37,
     "metadata": {},
     "output_type": "execute_result"
    }
   ],
   "source": [
    "# deanna_collected_words = collected_words[10688:]\n",
    "deanna_collected_words = collected_words[3993:5355]\n",
    "\n",
    "iteration_1 = deanna_collected_words[:452]\n",
    "iteration_2 = deanna_collected_words[452:908]\n",
    "iteration_3 = deanna_collected_words[908:]\n",
    "\n",
    "\n",
    "len(iteration_1)"
   ]
  },
  {
   "cell_type": "code",
   "execution_count": 40,
   "id": "520f7c7f-9304-4d24-95a1-a7ba0c0c7984",
   "metadata": {
    "scrolled": true
   },
   "outputs": [
    {
     "name": "stderr",
     "output_type": "stream",
     "text": [
      "Processing videos:   0%|                                                                                               | 0/52 [00:00<?, ?it/s]"
     ]
    },
    {
     "name": "stdout",
     "output_type": "stream",
     "text": [
      "[youtube] Extracting URL: https://www.youtube.com/watch?v=sErq0TJMKEo\n",
      "[youtube] sErq0TJMKEo: Downloading webpage\n",
      "[youtube] sErq0TJMKEo: Downloading ios player API JSON\n",
      "[youtube] sErq0TJMKEo: Downloading android player API JSON\n",
      "[youtube] sErq0TJMKEo: Downloading m3u8 information\n",
      "[info] sErq0TJMKEo: Downloading 1 format(s): 18\n",
      "[download] Destination: temp_folder/everyday.mp4\n",
      "[download] 100% of    9.31MiB in 00:00:00 at 27.52MiB/s    \n"
     ]
    },
    {
     "name": "stderr",
     "output_type": "stream",
     "text": [
      "Processing videos:   2%|█▋                                                                                     | 1/52 [00:15<13:33, 15.95s/it]"
     ]
    },
    {
     "name": "stdout",
     "output_type": "stream",
     "text": [
      "[youtube] Extracting URL: https://www.youtube.com/watch?v=73icFhednQU\n",
      "[youtube] 73icFhednQU: Downloading webpage\n",
      "[youtube] 73icFhednQU: Downloading ios player API JSON\n",
      "[youtube] 73icFhednQU: Downloading android player API JSON\n"
     ]
    },
    {
     "name": "stderr",
     "output_type": "stream",
     "text": [
      "ERROR: [youtube] 73icFhednQU: Private video. Sign in if you've been granted access to this video\n",
      "Processing videos:   4%|███▎                                                                                   | 2/52 [00:16<05:50,  7.02s/it]"
     ]
    },
    {
     "name": "stdout",
     "output_type": "stream",
     "text": [
      "[Errno 2] No such file or directory: 'temp_folder/everyday_2.mp4'\n",
      "[youtube] Extracting URL: https://www.youtube.com/watch?v=my4mxg6lXYQ\n",
      "[youtube] my4mxg6lXYQ: Downloading webpage\n",
      "[youtube] my4mxg6lXYQ: Downloading ios player API JSON\n",
      "[youtube] my4mxg6lXYQ: Downloading android player API JSON\n",
      "[youtube] my4mxg6lXYQ: Downloading m3u8 information\n",
      "[info] my4mxg6lXYQ: Downloading 1 format(s): 22\n",
      "[download] Destination: temp_folder/everyday_3.mp4\n",
      "[download] 100% of   73.49MiB in 00:00:03 at 21.64MiB/s    \n"
     ]
    },
    {
     "name": "stderr",
     "output_type": "stream",
     "text": [
      "Processing videos:   6%|█████                                                                                  | 3/52 [00:48<15:00, 18.37s/it]"
     ]
    },
    {
     "name": "stdout",
     "output_type": "stream",
     "text": [
      "[youtube] Extracting URL: https://www.youtube.com/watch?v=U0E24IK06nc\n",
      "[youtube] U0E24IK06nc: Downloading webpage\n",
      "[youtube] U0E24IK06nc: Downloading ios player API JSON\n",
      "[youtube] U0E24IK06nc: Downloading android player API JSON\n",
      "[youtube] U0E24IK06nc: Downloading m3u8 information\n",
      "[info] U0E24IK06nc: Downloading 1 format(s): 18\n",
      "[download] Destination: temp_folder/everyday_4.mp4\n",
      "[download] 100% of    5.00MiB in 00:00:00 at 15.53MiB/s    \n"
     ]
    },
    {
     "name": "stderr",
     "output_type": "stream",
     "text": [
      "Processing videos:   8%|██████▋                                                                                | 4/52 [00:56<11:23, 14.24s/it]"
     ]
    },
    {
     "name": "stdout",
     "output_type": "stream",
     "text": [
      "[youtube] Extracting URL: https://www.youtube.com/watch?v=2nXrJ_7NOgE\n",
      "[youtube] 2nXrJ_7NOgE: Downloading webpage\n",
      "[youtube] 2nXrJ_7NOgE: Downloading ios player API JSON\n",
      "[youtube] 2nXrJ_7NOgE: Downloading android player API JSON\n",
      "[youtube] 2nXrJ_7NOgE: Downloading m3u8 information\n",
      "[info] 2nXrJ_7NOgE: Downloading 1 format(s): 22\n",
      "[download] Destination: temp_folder/everyday_5.mp4\n",
      "[download] 100% of   50.58MiB in 00:00:03 at 15.48MiB/s    \n"
     ]
    },
    {
     "name": "stderr",
     "output_type": "stream",
     "text": [
      "Processing videos:  10%|████████▎                                                                              | 5/52 [01:25<15:16, 19.50s/it]"
     ]
    },
    {
     "name": "stdout",
     "output_type": "stream",
     "text": [
      "[youtube] Extracting URL: https://www.youtube.com/watch?v=Gs9zBeSIVIE\n",
      "[youtube] Gs9zBeSIVIE: Downloading webpage\n",
      "[youtube] Gs9zBeSIVIE: Downloading ios player API JSON\n",
      "[youtube] Gs9zBeSIVIE: Downloading android player API JSON\n",
      "[youtube] Gs9zBeSIVIE: Downloading m3u8 information\n",
      "[info] Gs9zBeSIVIE: Downloading 1 format(s): 18\n",
      "[download] Destination: temp_folder/everyday_6.mp4\n",
      "[download] 100% of   16.71MiB in 00:00:00 at 28.58MiB/s    \n"
     ]
    },
    {
     "name": "stderr",
     "output_type": "stream",
     "text": [
      "Processing videos:  12%|██████████                                                                             | 6/52 [01:39<13:26, 17.52s/it]"
     ]
    },
    {
     "name": "stdout",
     "output_type": "stream",
     "text": [
      "[youtube] Extracting URL: https://www.youtube.com/watch?v=LOdG5cVf_QQ\n",
      "[youtube] LOdG5cVf_QQ: Downloading webpage\n",
      "[youtube] LOdG5cVf_QQ: Downloading ios player API JSON\n",
      "[youtube] LOdG5cVf_QQ: Downloading android player API JSON\n",
      "[youtube] LOdG5cVf_QQ: Downloading m3u8 information\n",
      "[youtube] LOdG5cVf_QQ: Downloading MPD manifest\n",
      "[info] LOdG5cVf_QQ: Downloading 1 format(s): 22\n",
      "[download] Destination: temp_folder/everyday_7.mp4\n",
      "[download] 100% of    1.12MiB in 00:00:00 at 1.74MiB/s     \n"
     ]
    },
    {
     "name": "stderr",
     "output_type": "stream",
     "text": [
      "Processing videos:  13%|███████████▋                                                                           | 7/52 [01:43<10:01, 13.37s/it]"
     ]
    },
    {
     "name": "stdout",
     "output_type": "stream",
     "text": [
      "[youtube] Extracting URL: https://www.youtube.com/watch?v=oJrNJvlvIEI\n",
      "[youtube] oJrNJvlvIEI: Downloading webpage\n",
      "[youtube] oJrNJvlvIEI: Downloading ios player API JSON\n",
      "[youtube] oJrNJvlvIEI: Downloading android player API JSON\n",
      "[youtube] oJrNJvlvIEI: Downloading m3u8 information\n",
      "[youtube] oJrNJvlvIEI: Downloading MPD manifest\n",
      "[info] oJrNJvlvIEI: Downloading 1 format(s): 22\n",
      "[download] Destination: temp_folder/everyday_8.mp4\n",
      "[download] 100% of    3.16MiB in 00:00:06 at 537.93KiB/s   \n"
     ]
    },
    {
     "name": "stderr",
     "output_type": "stream",
     "text": [
      "Processing videos:  15%|█████████████▍                                                                         | 8/52 [01:52<08:46, 11.96s/it]"
     ]
    },
    {
     "name": "stdout",
     "output_type": "stream",
     "text": [
      "[youtube] Extracting URL: https://www.youtube.com/watch?v=oJrNJvlvIEI\n",
      "[youtube] oJrNJvlvIEI: Downloading webpage\n",
      "[youtube] oJrNJvlvIEI: Downloading ios player API JSON\n",
      "[youtube] oJrNJvlvIEI: Downloading android player API JSON\n",
      "[youtube] oJrNJvlvIEI: Downloading m3u8 information\n",
      "[youtube] oJrNJvlvIEI: Downloading MPD manifest\n",
      "[info] oJrNJvlvIEI: Downloading 1 format(s): 22\n",
      "[download] Destination: temp_folder/everyday_9.mp4\n",
      "[download] 100% of    3.16MiB in 00:00:00 at 26.52MiB/s    \n"
     ]
    },
    {
     "name": "stderr",
     "output_type": "stream",
     "text": [
      "Processing videos:  17%|███████████████                                                                        | 9/52 [01:55<06:34,  9.16s/it]"
     ]
    },
    {
     "name": "stdout",
     "output_type": "stream",
     "text": [
      "[youtube] Extracting URL: https://www.youtube.com/watch?v=oJrNJvlvIEI\n",
      "[youtube] oJrNJvlvIEI: Downloading webpage\n",
      "[youtube] oJrNJvlvIEI: Downloading ios player API JSON\n",
      "[youtube] oJrNJvlvIEI: Downloading android player API JSON\n",
      "[youtube] oJrNJvlvIEI: Downloading m3u8 information\n",
      "[youtube] oJrNJvlvIEI: Downloading MPD manifest\n",
      "[info] oJrNJvlvIEI: Downloading 1 format(s): 22\n",
      "[download] Destination: temp_folder/everyday_10.mp4\n",
      "[download] 100% of    3.16MiB in 00:00:00 at 6.10MiB/s     \n"
     ]
    },
    {
     "name": "stderr",
     "output_type": "stream",
     "text": [
      "Processing videos:  19%|████████████████▌                                                                     | 10/52 [02:00<05:23,  7.70s/it]"
     ]
    },
    {
     "name": "stdout",
     "output_type": "stream",
     "text": [
      "[youtube] Extracting URL: https://www.youtube.com/watch?v=mMOIbKjlWTQ\n",
      "[youtube] mMOIbKjlWTQ: Downloading webpage\n",
      "[youtube] mMOIbKjlWTQ: Downloading ios player API JSON\n",
      "[youtube] mMOIbKjlWTQ: Downloading android player API JSON\n",
      "[youtube] mMOIbKjlWTQ: Downloading m3u8 information\n",
      "[youtube] mMOIbKjlWTQ: Downloading MPD manifest\n",
      "[info] mMOIbKjlWTQ: Downloading 1 format(s): 18\n",
      "[download] Destination: temp_folder/everyday_11.mp4\n",
      "[download] 100% of  179.21KiB in 00:00:00 at 541.97KiB/s \n"
     ]
    },
    {
     "name": "stderr",
     "output_type": "stream",
     "text": [
      "Processing videos:  21%|██████████████████▏                                                                   | 11/52 [02:04<04:35,  6.71s/it]"
     ]
    },
    {
     "name": "stdout",
     "output_type": "stream",
     "text": [
      "[youtube] Extracting URL: https://www.youtube.com/watch?v=oDnz2t98VYk\n",
      "[youtube] oDnz2t98VYk: Downloading webpage\n",
      "[youtube] oDnz2t98VYk: Downloading ios player API JSON\n",
      "[youtube] oDnz2t98VYk: Downloading android player API JSON\n"
     ]
    },
    {
     "name": "stderr",
     "output_type": "stream",
     "text": [
      "ERROR: [youtube] oDnz2t98VYk: Private video. Sign in if you've been granted access to this video\n",
      "Processing videos:  23%|███████████████████▊                                                                  | 12/52 [02:05<03:16,  4.90s/it]"
     ]
    },
    {
     "name": "stdout",
     "output_type": "stream",
     "text": [
      "[Errno 2] No such file or directory: 'temp_folder/everyday_12.mp4'\n",
      "[youtube] Extracting URL: https://www.youtube.com/watch?v=2lzLDsoVWww\n",
      "[youtube] 2lzLDsoVWww: Downloading webpage\n",
      "[youtube] 2lzLDsoVWww: Downloading ios player API JSON\n"
     ]
    },
    {
     "name": "stderr",
     "output_type": "stream",
     "text": [
      "ERROR: [youtube] 2lzLDsoVWww: Video unavailable\n",
      "Processing videos:  25%|█████████████████████▌                                                                | 13/52 [02:06<02:22,  3.65s/it]"
     ]
    },
    {
     "name": "stdout",
     "output_type": "stream",
     "text": [
      "[youtube] 2lzLDsoVWww: Downloading android player API JSON\n",
      "[Errno 2] No such file or directory: 'temp_folder/everyday_13.mp4'\n",
      "[youtube] Extracting URL: https://www.youtube.com/watch?v=Cv5avR9nEhg\n",
      "[youtube] Cv5avR9nEhg: Downloading webpage\n",
      "[youtube] Cv5avR9nEhg: Downloading ios player API JSON\n",
      "[youtube] Cv5avR9nEhg: Downloading android player API JSON\n",
      "[youtube] Cv5avR9nEhg: Downloading m3u8 information\n",
      "[info] Cv5avR9nEhg: Downloading 1 format(s): 22\n",
      "[download] Destination: temp_folder/everyday_14.mp4\n",
      "[download] 100% of  103.49MiB in 00:00:02 at 40.26MiB/s    \n"
     ]
    },
    {
     "name": "stderr",
     "output_type": "stream",
     "text": [
      "Processing videos:  27%|███████████████████████▏                                                              | 14/52 [03:01<12:10, 19.23s/it]"
     ]
    },
    {
     "name": "stdout",
     "output_type": "stream",
     "text": [
      "[youtube] Extracting URL: https://www.youtube.com/watch?v=eRZW3DPxDGk\n",
      "[youtube] eRZW3DPxDGk: Downloading webpage\n",
      "[youtube] eRZW3DPxDGk: Downloading ios player API JSON\n",
      "[youtube] eRZW3DPxDGk: Downloading android player API JSON\n",
      "[youtube] eRZW3DPxDGk: Downloading m3u8 information\n",
      "[youtube] eRZW3DPxDGk: Downloading MPD manifest\n",
      "[info] eRZW3DPxDGk: Downloading 1 format(s): 22\n",
      "[download] Destination: temp_folder/everyday_15.mp4\n",
      "[download] 100% of  128.61MiB in 00:00:03 at 32.36MiB/s    \n"
     ]
    },
    {
     "name": "stderr",
     "output_type": "stream",
     "text": [
      "Processing videos:  29%|████████████████████████▊                                                             | 15/52 [03:32<14:05, 22.84s/it]"
     ]
    },
    {
     "name": "stdout",
     "output_type": "stream",
     "text": [
      "[youtube] Extracting URL: https://www.youtube.com/watch?v=f4WV4NHlmuA\n",
      "[youtube] f4WV4NHlmuA: Downloading webpage\n",
      "[youtube] f4WV4NHlmuA: Downloading ios player API JSON\n",
      "[youtube] f4WV4NHlmuA: Downloading android player API JSON\n",
      "[youtube] f4WV4NHlmuA: Downloading m3u8 information\n",
      "[info] f4WV4NHlmuA: Downloading 1 format(s): 22\n",
      "[download] Destination: temp_folder/everyday_16.mp4\n",
      "[download] 100% of  360.86KiB in 00:00:00 at 891.39KiB/s   \n"
     ]
    },
    {
     "name": "stderr",
     "output_type": "stream",
     "text": [
      "Processing videos:  31%|██████████████████████████▍                                                           | 16/52 [03:37<10:30, 17.52s/it]"
     ]
    },
    {
     "name": "stdout",
     "output_type": "stream",
     "text": [
      "[youtube] Extracting URL: https://www.youtube.com/watch?v=R_ES8RZua1g\n",
      "[youtube] R_ES8RZua1g: Downloading webpage\n",
      "[youtube] R_ES8RZua1g: Downloading ios player API JSON\n",
      "[youtube] R_ES8RZua1g: Downloading android player API JSON\n",
      "[youtube] R_ES8RZua1g: Downloading m3u8 information\n",
      "[info] R_ES8RZua1g: Downloading 1 format(s): 18\n",
      "[download] Destination: temp_folder/everyday_17.mp4\n",
      "[download] 100% of   22.84MiB in 00:00:00 at 34.05MiB/s    \n"
     ]
    },
    {
     "name": "stderr",
     "output_type": "stream",
     "text": [
      "Processing videos:  33%|████████████████████████████                                                          | 17/52 [03:57<10:37, 18.22s/it]"
     ]
    },
    {
     "name": "stdout",
     "output_type": "stream",
     "text": [
      "[youtube] Extracting URL: https://www.youtube.com/watch?v=xGnOT9Gp0F0\n",
      "[youtube] xGnOT9Gp0F0: Downloading webpage\n",
      "[youtube] xGnOT9Gp0F0: Downloading ios player API JSON\n",
      "[youtube] xGnOT9Gp0F0: Downloading android player API JSON\n",
      "[youtube] xGnOT9Gp0F0: Downloading m3u8 information\n",
      "[info] xGnOT9Gp0F0: Downloading 1 format(s): 22\n",
      "[download] Destination: temp_folder/everyday_18.mp4\n",
      "[download] 100% of   22.87MiB in 00:00:00 at 29.07MiB/s    \n"
     ]
    },
    {
     "name": "stderr",
     "output_type": "stream",
     "text": [
      "Processing videos:  35%|█████████████████████████████▊                                                        | 18/52 [04:06<08:46, 15.48s/it]"
     ]
    },
    {
     "name": "stdout",
     "output_type": "stream",
     "text": [
      "[youtube] Extracting URL: https://www.youtube.com/watch?v=sErq0TJMKEo\n",
      "[youtube] sErq0TJMKEo: Downloading webpage\n",
      "[youtube] sErq0TJMKEo: Downloading ios player API JSON\n",
      "[youtube] sErq0TJMKEo: Downloading android player API JSON\n",
      "[youtube] sErq0TJMKEo: Downloading m3u8 information\n",
      "[info] sErq0TJMKEo: Downloading 1 format(s): 18\n",
      "[download] Destination: temp_folder/everyday_19.mp4\n",
      "[download] 100% of    9.31MiB in 00:00:00 at 63.03MiB/s    \n"
     ]
    },
    {
     "name": "stderr",
     "output_type": "stream",
     "text": [
      "Processing videos:  37%|███████████████████████████████▍                                                      | 19/52 [04:22<08:31, 15.51s/it]"
     ]
    },
    {
     "name": "stdout",
     "output_type": "stream",
     "text": [
      "[youtube] Extracting URL: https://www.youtube.com/watch?v=73icFhednQU\n",
      "[youtube] 73icFhednQU: Downloading webpage\n",
      "[youtube] 73icFhednQU: Downloading ios player API JSON\n",
      "[youtube] 73icFhednQU: Downloading android player API JSON\n"
     ]
    },
    {
     "name": "stderr",
     "output_type": "stream",
     "text": [
      "ERROR: [youtube] 73icFhednQU: Private video. Sign in if you've been granted access to this video\n",
      "Processing videos:  38%|█████████████████████████████████                                                     | 20/52 [04:23<05:55, 11.10s/it]"
     ]
    },
    {
     "name": "stdout",
     "output_type": "stream",
     "text": [
      "[Errno 2] No such file or directory: 'temp_folder/everyday_20.mp4'\n",
      "[youtube] Extracting URL: https://www.youtube.com/watch?v=RWYus9H4YrQ\n",
      "[youtube] RWYus9H4YrQ: Downloading webpage\n",
      "[youtube] RWYus9H4YrQ: Downloading ios player API JSON\n",
      "[youtube] RWYus9H4YrQ: Downloading android player API JSON\n",
      "[youtube] RWYus9H4YrQ: Downloading m3u8 information\n",
      "[info] RWYus9H4YrQ: Downloading 1 format(s): 18\n",
      "[download] Destination: temp_folder/example.mp4\n",
      "[download] 100% of   69.77MiB in 00:00:04 at 15.16MiB/s    \n"
     ]
    },
    {
     "name": "stderr",
     "output_type": "stream",
     "text": [
      "Processing videos:  40%|██████████████████████████████████▋                                                   | 21/52 [05:08<10:58, 21.24s/it]"
     ]
    },
    {
     "name": "stdout",
     "output_type": "stream",
     "text": [
      "[youtube] Extracting URL: https://www.youtube.com/watch?v=RWYus9H4YrQ\n",
      "[youtube] RWYus9H4YrQ: Downloading webpage\n",
      "[youtube] RWYus9H4YrQ: Downloading ios player API JSON\n",
      "[youtube] RWYus9H4YrQ: Downloading android player API JSON\n",
      "[youtube] RWYus9H4YrQ: Downloading m3u8 information\n",
      "[info] RWYus9H4YrQ: Downloading 1 format(s): 18\n",
      "[download] Destination: temp_folder/example_2.mp4\n",
      "[download] 100% of   69.77MiB in 00:00:03 at 21.43MiB/s    \n"
     ]
    },
    {
     "name": "stderr",
     "output_type": "stream",
     "text": [
      "Processing videos:  42%|████████████████████████████████████▍                                                 | 22/52 [05:52<14:01, 28.05s/it]"
     ]
    },
    {
     "name": "stdout",
     "output_type": "stream",
     "text": [
      "[youtube] Extracting URL: https://www.youtube.com/watch?v=DZEs6UDnPHA\n",
      "[youtube] DZEs6UDnPHA: Downloading webpage\n",
      "[youtube] DZEs6UDnPHA: Downloading ios player API JSON\n",
      "[youtube] DZEs6UDnPHA: Downloading android player API JSON\n",
      "[youtube] DZEs6UDnPHA: Downloading m3u8 information\n",
      "[info] DZEs6UDnPHA: Downloading 1 format(s): 18\n",
      "[download] Destination: temp_folder/example_3.mp4\n",
      "[download] 100% of   35.42MiB in 00:00:01 at 21.60MiB/s    \n"
     ]
    },
    {
     "name": "stderr",
     "output_type": "stream",
     "text": [
      "Processing videos:  44%|██████████████████████████████████████                                                | 23/52 [06:15<12:57, 26.80s/it]"
     ]
    },
    {
     "name": "stdout",
     "output_type": "stream",
     "text": [
      "[youtube] Extracting URL: https://www.youtube.com/watch?v=qFpB4TYO2Ec\n",
      "[youtube] qFpB4TYO2Ec: Downloading webpage\n",
      "[youtube] qFpB4TYO2Ec: Downloading ios player API JSON\n",
      "[youtube] qFpB4TYO2Ec: Downloading android player API JSON\n",
      "[youtube] qFpB4TYO2Ec: Downloading m3u8 information\n",
      "[youtube] qFpB4TYO2Ec: Downloading MPD manifest\n",
      "[info] qFpB4TYO2Ec: Downloading 1 format(s): 22\n",
      "[download] Destination: temp_folder/example_4.mp4\n",
      "[download] 100% of  857.03KiB in 00:00:00 at 1.05MiB/s     \n"
     ]
    },
    {
     "name": "stderr",
     "output_type": "stream",
     "text": [
      "Processing videos:  46%|███████████████████████████████████████▋                                              | 24/52 [06:21<09:36, 20.59s/it]"
     ]
    },
    {
     "name": "stdout",
     "output_type": "stream",
     "text": [
      "[youtube] Extracting URL: https://www.youtube.com/watch?v=RWYus9H4YrQ\n",
      "[youtube] RWYus9H4YrQ: Downloading webpage\n",
      "[youtube] RWYus9H4YrQ: Downloading ios player API JSON\n",
      "[youtube] RWYus9H4YrQ: Downloading android player API JSON\n",
      "[youtube] RWYus9H4YrQ: Downloading m3u8 information\n",
      "[info] RWYus9H4YrQ: Downloading 1 format(s): 18\n",
      "[download] Destination: temp_folder/example_5.mp4\n",
      "[download] 100% of   69.77MiB in 00:00:01 at 38.06MiB/s    \n"
     ]
    },
    {
     "name": "stderr",
     "output_type": "stream",
     "text": [
      "Processing videos:  48%|█████████████████████████████████████████▎                                            | 25/52 [07:03<12:08, 26.98s/it]"
     ]
    },
    {
     "name": "stdout",
     "output_type": "stream",
     "text": [
      "[youtube] Extracting URL: https://www.youtube.com/watch?v=RWYus9H4YrQ\n",
      "[youtube] RWYus9H4YrQ: Downloading webpage\n",
      "[youtube] RWYus9H4YrQ: Downloading ios player API JSON\n",
      "[youtube] RWYus9H4YrQ: Downloading android player API JSON\n",
      "[youtube] RWYus9H4YrQ: Downloading m3u8 information\n",
      "[info] RWYus9H4YrQ: Downloading 1 format(s): 18\n",
      "[download] Destination: temp_folder/example_6.mp4\n",
      "[download] 100% of   69.77MiB in 00:00:01 at 40.60MiB/s    \n"
     ]
    },
    {
     "name": "stderr",
     "output_type": "stream",
     "text": [
      "Processing videos:  50%|███████████████████████████████████████████                                           | 26/52 [07:46<13:41, 31.58s/it]"
     ]
    },
    {
     "name": "stdout",
     "output_type": "stream",
     "text": [
      "[youtube] Extracting URL: https://www.youtube.com/watch?v=DZEs6UDnPHA\n",
      "[youtube] DZEs6UDnPHA: Downloading webpage\n",
      "[youtube] DZEs6UDnPHA: Downloading ios player API JSON\n",
      "[youtube] DZEs6UDnPHA: Downloading android player API JSON\n",
      "[youtube] DZEs6UDnPHA: Downloading m3u8 information\n",
      "[info] DZEs6UDnPHA: Downloading 1 format(s): 18\n",
      "[download] Destination: temp_folder/example_7.mp4\n",
      "[download] 100% of   35.42MiB in 00:00:00 at 51.24MiB/s    \n"
     ]
    },
    {
     "name": "stderr",
     "output_type": "stream",
     "text": [
      "Processing videos:  52%|████████████████████████████████████████████▋                                         | 27/52 [08:09<12:08, 29.12s/it]"
     ]
    },
    {
     "name": "stdout",
     "output_type": "stream",
     "text": [
      "[youtube] Extracting URL: https://www.youtube.com/watch?v=qFpB4TYO2Ec\n",
      "[youtube] qFpB4TYO2Ec: Downloading webpage\n",
      "[youtube] qFpB4TYO2Ec: Downloading ios player API JSON\n",
      "[youtube] qFpB4TYO2Ec: Downloading android player API JSON\n",
      "[youtube] qFpB4TYO2Ec: Downloading m3u8 information\n",
      "[youtube] qFpB4TYO2Ec: Downloading MPD manifest\n",
      "[info] qFpB4TYO2Ec: Downloading 1 format(s): 22\n",
      "[download] Destination: temp_folder/example_8.mp4\n",
      "[download] 100% of  857.03KiB in 00:00:00 at 6.50MiB/s     \n"
     ]
    },
    {
     "name": "stderr",
     "output_type": "stream",
     "text": [
      "Processing videos:  54%|██████████████████████████████████████████████▎                                       | 28/52 [08:14<08:44, 21.85s/it]"
     ]
    },
    {
     "name": "stdout",
     "output_type": "stream",
     "text": [
      "[youtube] Extracting URL: https://www.youtube.com/watch?v=RWYus9H4YrQ\n",
      "[youtube] RWYus9H4YrQ: Downloading webpage\n",
      "[youtube] RWYus9H4YrQ: Downloading ios player API JSON\n",
      "[youtube] RWYus9H4YrQ: Downloading android player API JSON\n",
      "[youtube] RWYus9H4YrQ: Downloading m3u8 information\n",
      "[info] RWYus9H4YrQ: Downloading 1 format(s): 18\n",
      "[download] Destination: temp_folder/example_9.mp4\n",
      "[download] 100% of   69.77MiB in 00:00:03 at 17.70MiB/s    \n"
     ]
    },
    {
     "name": "stderr",
     "output_type": "stream",
     "text": [
      "Processing videos:  56%|███████████████████████████████████████████████▉                                      | 29/52 [08:59<10:59, 28.66s/it]"
     ]
    },
    {
     "name": "stdout",
     "output_type": "stream",
     "text": [
      "[youtube] Extracting URL: https://www.youtube.com/watch?v=RWYus9H4YrQ\n",
      "[youtube] RWYus9H4YrQ: Downloading webpage\n",
      "[youtube] RWYus9H4YrQ: Downloading ios player API JSON\n",
      "[youtube] RWYus9H4YrQ: Downloading android player API JSON\n",
      "[youtube] RWYus9H4YrQ: Downloading m3u8 information\n",
      "[info] RWYus9H4YrQ: Downloading 1 format(s): 18\n",
      "[download] Destination: temp_folder/example_10.mp4\n",
      "[download] 100% of   69.77MiB in 00:00:02 at 30.77MiB/s    \n"
     ]
    },
    {
     "name": "stderr",
     "output_type": "stream",
     "text": [
      "Processing videos:  58%|█████████████████████████████████████████████████▌                                    | 30/52 [09:47<12:43, 34.71s/it]"
     ]
    },
    {
     "name": "stdout",
     "output_type": "stream",
     "text": [
      "[youtube] Extracting URL: https://www.youtube.com/watch?v=DZEs6UDnPHA\n",
      "[youtube] DZEs6UDnPHA: Downloading webpage\n",
      "[youtube] DZEs6UDnPHA: Downloading ios player API JSON\n",
      "[youtube] DZEs6UDnPHA: Downloading android player API JSON\n",
      "[youtube] DZEs6UDnPHA: Downloading m3u8 information\n",
      "[info] DZEs6UDnPHA: Downloading 1 format(s): 18\n",
      "[download] Destination: temp_folder/example_11.mp4\n",
      "[download] 100% of   35.42MiB in 00:00:01 at 22.72MiB/s    \n"
     ]
    },
    {
     "name": "stderr",
     "output_type": "stream",
     "text": [
      "Processing videos:  60%|███████████████████████████████████████████████████▎                                  | 31/52 [10:11<11:00, 31.44s/it]"
     ]
    },
    {
     "name": "stdout",
     "output_type": "stream",
     "text": [
      "[youtube] Extracting URL: https://www.youtube.com/watch?v=qFpB4TYO2Ec\n",
      "[youtube] qFpB4TYO2Ec: Downloading webpage\n",
      "[youtube] qFpB4TYO2Ec: Downloading ios player API JSON\n",
      "[youtube] qFpB4TYO2Ec: Downloading android player API JSON\n",
      "[youtube] qFpB4TYO2Ec: Downloading m3u8 information\n",
      "[youtube] qFpB4TYO2Ec: Downloading MPD manifest\n",
      "[info] qFpB4TYO2Ec: Downloading 1 format(s): 22\n",
      "[download] Destination: temp_folder/example_12.mp4\n",
      "[download] 100% of  857.03KiB in 00:00:00 at 928.23KiB/s   \n"
     ]
    },
    {
     "name": "stderr",
     "output_type": "stream",
     "text": [
      "Processing videos:  62%|████████████████████████████████████████████████████▉                                 | 32/52 [10:17<07:56, 23.81s/it]"
     ]
    },
    {
     "name": "stdout",
     "output_type": "stream",
     "text": [
      "[youtube] Extracting URL: https://www.youtube.com/watch?v=c2W6TVd_xh4\n",
      "[youtube] c2W6TVd_xh4: Downloading webpage\n",
      "[youtube] c2W6TVd_xh4: Downloading ios player API JSON\n",
      "[youtube] c2W6TVd_xh4: Downloading android player API JSON\n",
      "[youtube] c2W6TVd_xh4: Downloading m3u8 information\n",
      "[info] c2W6TVd_xh4: Downloading 1 format(s): 22\n",
      "[download] Destination: temp_folder/excited.mp4\n",
      "[download] 100% of    8.90MiB in 00:00:00 at 22.12MiB/s    \n"
     ]
    },
    {
     "name": "stderr",
     "output_type": "stream",
     "text": [
      "Processing videos:  63%|██████████████████████████████████████████████████████▌                               | 33/52 [10:28<06:16, 19.83s/it]"
     ]
    },
    {
     "name": "stdout",
     "output_type": "stream",
     "text": [
      "[youtube] Extracting URL: https://www.youtube.com/watch?v=7YYB3BEoksc\n",
      "[youtube] 7YYB3BEoksc: Downloading webpage\n",
      "[youtube] 7YYB3BEoksc: Downloading ios player API JSON\n",
      "[youtube] 7YYB3BEoksc: Downloading android player API JSON\n"
     ]
    },
    {
     "name": "stderr",
     "output_type": "stream",
     "text": [
      "ERROR: [youtube] 7YYB3BEoksc: Private video. Sign in if you've been granted access to this video\n",
      "Processing videos:  65%|████████████████████████████████████████████████████████▏                             | 34/52 [10:28<04:14, 14.11s/it]"
     ]
    },
    {
     "name": "stdout",
     "output_type": "stream",
     "text": [
      "[Errno 2] No such file or directory: 'temp_folder/excited_2.mp4'\n",
      "[youtube] Extracting URL: https://www.youtube.com/watch?v=7YYB3BEoksc\n",
      "[youtube] 7YYB3BEoksc: Downloading webpage\n",
      "[youtube] 7YYB3BEoksc: Downloading ios player API JSON\n"
     ]
    },
    {
     "name": "stderr",
     "output_type": "stream",
     "text": [
      "ERROR: [youtube] 7YYB3BEoksc: Private video. Sign in if you've been granted access to this video\n",
      "Processing videos:  67%|█████████████████████████████████████████████████████████▉                            | 35/52 [10:29<02:51, 10.11s/it]"
     ]
    },
    {
     "name": "stdout",
     "output_type": "stream",
     "text": [
      "[youtube] 7YYB3BEoksc: Downloading android player API JSON\n",
      "[Errno 2] No such file or directory: 'temp_folder/excited_3.mp4'\n",
      "[youtube] Extracting URL: https://www.youtube.com/watch?v=2BCfrE5hjjY\n",
      "[youtube] 2BCfrE5hjjY: Downloading webpage\n",
      "[youtube] 2BCfrE5hjjY: Downloading ios player API JSON\n",
      "[youtube] 2BCfrE5hjjY: Downloading android player API JSON\n",
      "[youtube] 2BCfrE5hjjY: Downloading m3u8 information\n",
      "[info] 2BCfrE5hjjY: Downloading 1 format(s): 22\n",
      "[download] Destination: temp_folder/excited_4.mp4\n",
      "[download] 100% of  390.64KiB in 00:00:00 at 1.89MiB/s     \n"
     ]
    },
    {
     "name": "stderr",
     "output_type": "stream",
     "text": [
      "Processing videos:  69%|███████████████████████████████████████████████████████████▌                          | 36/52 [10:34<02:18,  8.65s/it]"
     ]
    },
    {
     "name": "stdout",
     "output_type": "stream",
     "text": [
      "[youtube] Extracting URL: https://www.youtube.com/watch?v=fKjsdtMU3fc\n",
      "[youtube] fKjsdtMU3fc: Downloading webpage\n",
      "[youtube] fKjsdtMU3fc: Downloading ios player API JSON\n",
      "[youtube] fKjsdtMU3fc: Downloading android player API JSON\n",
      "[youtube] fKjsdtMU3fc: Downloading m3u8 information\n",
      "[info] fKjsdtMU3fc: Downloading 1 format(s): 22\n",
      "[download] Destination: temp_folder/excited_5.mp4\n",
      "[download] 100% of   47.11MiB in 00:00:02 at 16.69MiB/s    \n"
     ]
    },
    {
     "name": "stderr",
     "output_type": "stream",
     "text": [
      "Processing videos:  71%|█████████████████████████████████████████████████████████████▏                        | 37/52 [10:56<03:09, 12.63s/it]"
     ]
    },
    {
     "name": "stdout",
     "output_type": "stream",
     "text": [
      "[youtube] Extracting URL: https://www.youtube.com/watch?v=fKjsdtMU3fc\n",
      "[youtube] fKjsdtMU3fc: Downloading webpage\n",
      "[youtube] fKjsdtMU3fc: Downloading ios player API JSON\n",
      "[youtube] fKjsdtMU3fc: Downloading android player API JSON\n",
      "[youtube] fKjsdtMU3fc: Downloading m3u8 information\n",
      "[info] fKjsdtMU3fc: Downloading 1 format(s): 22\n",
      "[download] Destination: temp_folder/excited_6.mp4\n",
      "[download] 100% of   47.11MiB in 00:00:06 at 7.26MiB/s     \n"
     ]
    },
    {
     "name": "stderr",
     "output_type": "stream",
     "text": [
      "Processing videos:  73%|██████████████████████████████████████████████████████████████▊                       | 38/52 [11:23<03:57, 16.95s/it]"
     ]
    },
    {
     "name": "stdout",
     "output_type": "stream",
     "text": [
      "[youtube] Extracting URL: https://www.youtube.com/watch?v=D7UYn37qTkU\n",
      "[youtube] D7UYn37qTkU: Downloading webpage\n",
      "[youtube] D7UYn37qTkU: Downloading ios player API JSON\n",
      "[youtube] D7UYn37qTkU: Downloading android player API JSON\n"
     ]
    },
    {
     "name": "stderr",
     "output_type": "stream",
     "text": [
      "ERROR: [youtube] D7UYn37qTkU: Video unavailable\n",
      "Processing videos:  75%|████████████████████████████████████████████████████████████████▌                     | 39/52 [11:24<02:37, 12.11s/it]"
     ]
    },
    {
     "name": "stdout",
     "output_type": "stream",
     "text": [
      "[Errno 2] No such file or directory: 'temp_folder/excited_7.mp4'\n",
      "[youtube] Extracting URL: https://www.youtube.com/watch?v=mONu31r-eaM\n",
      "[youtube] mONu31r-eaM: Downloading webpage\n",
      "[youtube] mONu31r-eaM: Downloading ios player API JSON\n",
      "[youtube] mONu31r-eaM: Downloading android player API JSON\n",
      "[youtube] mONu31r-eaM: Downloading m3u8 information\n",
      "[info] mONu31r-eaM: Downloading 1 format(s): 18\n",
      "[download] Destination: temp_folder/excited_8.mp4\n",
      "[download] 100% of    1.51MiB in 00:00:00 at 5.58MiB/s     \n"
     ]
    },
    {
     "name": "stderr",
     "output_type": "stream",
     "text": [
      "Processing videos:  77%|██████████████████████████████████████████████████████████████████▏                   | 40/52 [11:31<02:04, 10.41s/it]"
     ]
    },
    {
     "name": "stdout",
     "output_type": "stream",
     "text": [
      "[youtube] Extracting URL: https://www.youtube.com/watch?v=fnhiGz4qE_I\n",
      "[youtube] fnhiGz4qE_I: Downloading webpage\n",
      "[youtube] fnhiGz4qE_I: Downloading ios player API JSON\n",
      "[youtube] fnhiGz4qE_I: Downloading android player API JSON\n",
      "[youtube] fnhiGz4qE_I: Downloading m3u8 information\n",
      "[info] fnhiGz4qE_I: Downloading 1 format(s): 22\n",
      "[download] Destination: temp_folder/excited_9.mp4\n",
      "[download] 100% of   21.13MiB in 00:00:00 at 23.49MiB/s    \n"
     ]
    },
    {
     "name": "stderr",
     "output_type": "stream",
     "text": [
      "Processing videos:  79%|███████████████████████████████████████████████████████████████████▊                  | 41/52 [11:38<01:45,  9.58s/it]"
     ]
    },
    {
     "name": "stdout",
     "output_type": "stream",
     "text": [
      "[youtube] Extracting URL: https://www.youtube.com/watch?v=fnhiGz4qE_I\n",
      "[youtube] fnhiGz4qE_I: Downloading webpage\n",
      "[youtube] fnhiGz4qE_I: Downloading ios player API JSON\n",
      "[youtube] fnhiGz4qE_I: Downloading android player API JSON\n",
      "[youtube] fnhiGz4qE_I: Downloading m3u8 information\n",
      "[info] fnhiGz4qE_I: Downloading 1 format(s): 22\n",
      "[download] Destination: temp_folder/excited_10.mp4\n",
      "[download] 100% of   21.13MiB in 00:00:01 at 18.49MiB/s    \n"
     ]
    },
    {
     "name": "stderr",
     "output_type": "stream",
     "text": [
      "Processing videos:  81%|█████████████████████████████████████████████████████████████████████▍                | 42/52 [11:46<01:30,  9.04s/it]"
     ]
    },
    {
     "name": "stdout",
     "output_type": "stream",
     "text": [
      "[youtube] Extracting URL: https://www.youtube.com/watch?v=iMUjcZCLaGo\n",
      "[youtube] iMUjcZCLaGo: Downloading webpage\n",
      "[youtube] iMUjcZCLaGo: Downloading ios player API JSON\n"
     ]
    },
    {
     "name": "stderr",
     "output_type": "stream",
     "text": [
      "ERROR: [youtube] iMUjcZCLaGo: Private video. Sign in if you've been granted access to this video\n",
      "Processing videos:  83%|███████████████████████████████████████████████████████████████████████               | 43/52 [11:47<00:58,  6.55s/it]"
     ]
    },
    {
     "name": "stdout",
     "output_type": "stream",
     "text": [
      "[youtube] iMUjcZCLaGo: Downloading android player API JSON\n",
      "[Errno 2] No such file or directory: 'temp_folder/excited_11.mp4'\n",
      "[youtube] Extracting URL: https://www.youtube.com/watch?v=Dax964vUumQ\n",
      "[youtube] Dax964vUumQ: Downloading webpage\n",
      "[youtube] Dax964vUumQ: Downloading ios player API JSON\n",
      "[youtube] Dax964vUumQ: Downloading android player API JSON\n"
     ]
    },
    {
     "name": "stderr",
     "output_type": "stream",
     "text": [
      "ERROR: [youtube] Dax964vUumQ: Private video. Sign in if you've been granted access to this video\n",
      "Processing videos:  85%|████████████████████████████████████████████████████████████████████████▊             | 44/52 [11:48<00:38,  4.82s/it]"
     ]
    },
    {
     "name": "stdout",
     "output_type": "stream",
     "text": [
      "[Errno 2] No such file or directory: 'temp_folder/excited_12.mp4'\n",
      "[youtube] Extracting URL: https://www.youtube.com/watch?v=Dax964vUumQ\n",
      "[youtube] Dax964vUumQ: Downloading webpage\n",
      "[youtube] Dax964vUumQ: Downloading ios player API JSON\n",
      "[youtube] Dax964vUumQ: Downloading android player API JSON\n"
     ]
    },
    {
     "name": "stderr",
     "output_type": "stream",
     "text": [
      "ERROR: [youtube] Dax964vUumQ: Private video. Sign in if you've been granted access to this video\n",
      "Processing videos:  87%|██████████████████████████████████████████████████████████████████████████▍           | 45/52 [11:48<00:25,  3.60s/it]"
     ]
    },
    {
     "name": "stdout",
     "output_type": "stream",
     "text": [
      "[Errno 2] No such file or directory: 'temp_folder/excited_13.mp4'\n",
      "[youtube] Extracting URL: https://www.youtube.com/watch?v=CSj7IScvZnE\n",
      "[youtube] CSj7IScvZnE: Downloading webpage\n",
      "[youtube] CSj7IScvZnE: Downloading ios player API JSON\n",
      "[youtube] CSj7IScvZnE: Downloading android player API JSON\n",
      "[youtube] CSj7IScvZnE: Downloading m3u8 information\n",
      "[info] CSj7IScvZnE: Downloading 1 format(s): 18\n",
      "[download] Destination: temp_folder/excited_14.mp4\n",
      "[download] 100% of    6.13MiB in 00:00:00 at 23.03MiB/s    \n"
     ]
    },
    {
     "name": "stderr",
     "output_type": "stream",
     "text": [
      "Processing videos:  88%|████████████████████████████████████████████████████████████████████████████          | 46/52 [12:00<00:36,  6.07s/it]"
     ]
    },
    {
     "name": "stdout",
     "output_type": "stream",
     "text": [
      "[youtube] Extracting URL: https://www.youtube.com/watch?v=cF6XScPZDsE\n",
      "[youtube] cF6XScPZDsE: Downloading webpage\n",
      "[youtube] cF6XScPZDsE: Downloading ios player API JSON\n",
      "[youtube] cF6XScPZDsE: Downloading android player API JSON\n",
      "[youtube] cF6XScPZDsE: Downloading m3u8 information\n",
      "[info] cF6XScPZDsE: Downloading 1 format(s): 18\n",
      "[download] Destination: temp_folder/excited_15.mp4\n",
      "[download] 100% of   32.14MiB in 00:00:01 at 30.31MiB/s    \n"
     ]
    },
    {
     "name": "stderr",
     "output_type": "stream",
     "text": [
      "Processing videos:  90%|█████████████████████████████████████████████████████████████████████████████▋        | 47/52 [12:22<00:53, 10.77s/it]"
     ]
    },
    {
     "name": "stdout",
     "output_type": "stream",
     "text": [
      "[youtube] Extracting URL: https://www.youtube.com/watch?v=ZG4u7LDCN8A\n",
      "[youtube] ZG4u7LDCN8A: Downloading webpage\n",
      "[youtube] ZG4u7LDCN8A: Downloading ios player API JSON\n",
      "[youtube] ZG4u7LDCN8A: Downloading android player API JSON\n",
      "[youtube] ZG4u7LDCN8A: Downloading m3u8 information\n",
      "[info] ZG4u7LDCN8A: Downloading 1 format(s): 22\n",
      "[download] Destination: temp_folder/excited_16.mp4\n",
      "[download] 100% of   18.89MiB in 00:00:01 at 16.37MiB/s    \n"
     ]
    },
    {
     "name": "stderr",
     "output_type": "stream",
     "text": [
      "Processing videos:  92%|███████████████████████████████████████████████████████████████████████████████▍      | 48/52 [12:36<00:47, 11.83s/it]"
     ]
    },
    {
     "name": "stdout",
     "output_type": "stream",
     "text": [
      "[youtube] Extracting URL: https://www.youtube.com/watch?v=uPKOwziViaw\n",
      "[youtube] uPKOwziViaw: Downloading webpage\n",
      "[youtube] uPKOwziViaw: Downloading ios player API JSON\n",
      "[youtube] uPKOwziViaw: Downloading android player API JSON\n",
      "[youtube] uPKOwziViaw: Downloading m3u8 information\n",
      "[info] uPKOwziViaw: Downloading 1 format(s): 22\n",
      "[download] Destination: temp_folder/excited_17.mp4\n",
      "[download] 100% of   63.76MiB in 00:00:02 at 24.34MiB/s    \n"
     ]
    },
    {
     "name": "stderr",
     "output_type": "stream",
     "text": [
      "Processing videos:  94%|█████████████████████████████████████████████████████████████████████████████████     | 49/52 [13:10<00:55, 18.45s/it]"
     ]
    },
    {
     "name": "stdout",
     "output_type": "stream",
     "text": [
      "[youtube] Extracting URL: https://www.youtube.com/watch?v=uPKOwziViaw\n",
      "[youtube] uPKOwziViaw: Downloading webpage\n",
      "[youtube] uPKOwziViaw: Downloading ios player API JSON\n",
      "[youtube] uPKOwziViaw: Downloading android player API JSON\n",
      "[youtube] uPKOwziViaw: Downloading m3u8 information\n",
      "[info] uPKOwziViaw: Downloading 1 format(s): 22\n",
      "[download] Destination: temp_folder/excited_18.mp4\n",
      "[download] 100% of   63.76MiB in 00:00:01 at 42.17MiB/s    \n"
     ]
    },
    {
     "name": "stderr",
     "output_type": "stream",
     "text": [
      "Processing videos:  96%|██████████████████████████████████████████████████████████████████████████████████▋   | 50/52 [13:41<00:44, 22.15s/it]"
     ]
    },
    {
     "name": "stdout",
     "output_type": "stream",
     "text": [
      "[youtube] Extracting URL: https://www.youtube.com/watch?v=Eq6SnaimpzQ\n",
      "[youtube] Eq6SnaimpzQ: Downloading webpage\n",
      "[youtube] Eq6SnaimpzQ: Downloading ios player API JSON\n",
      "[youtube] Eq6SnaimpzQ: Downloading android player API JSON\n",
      "[youtube] Eq6SnaimpzQ: Downloading m3u8 information\n",
      "[info] Eq6SnaimpzQ: Downloading 1 format(s): 22\n",
      "[download] Destination: temp_folder/excited_19.mp4\n",
      "[download] 100% of   54.64MiB in 00:00:02 at 18.88MiB/s    \n"
     ]
    },
    {
     "name": "stderr",
     "output_type": "stream",
     "text": [
      "Processing videos:  98%|████████████████████████████████████████████████████████████████████████████████████▎ | 51/52 [14:02<00:21, 21.83s/it]"
     ]
    },
    {
     "name": "stdout",
     "output_type": "stream",
     "text": [
      "[youtube] Extracting URL: https://www.youtube.com/watch?v=96HY0Pcl_e4\n",
      "[youtube] 96HY0Pcl_e4: Downloading webpage\n",
      "[youtube] 96HY0Pcl_e4: Downloading ios player API JSON\n",
      "[youtube] 96HY0Pcl_e4: Downloading android player API JSON\n",
      "[youtube] 96HY0Pcl_e4: Downloading m3u8 information\n",
      "[youtube] 96HY0Pcl_e4: Downloading MPD manifest\n",
      "[info] 96HY0Pcl_e4: Downloading 1 format(s): 22\n",
      "[download] Destination: temp_folder/excited_20.mp4\n",
      "[download] 100% of   54.80MiB in 00:00:01 at 29.07MiB/s    \n"
     ]
    },
    {
     "name": "stderr",
     "output_type": "stream",
     "text": [
      "Processing videos: 100%|██████████████████████████████████████████████████████████████████████████████████████| 52/52 [14:20<00:00, 16.55s/it]"
     ]
    },
    {
     "name": "stdout",
     "output_type": "stream",
     "text": [
      "CPU times: user 17min 47s, sys: 1min 56s, total: 19min 43s\n",
      "Wall time: 14min 20s\n"
     ]
    },
    {
     "name": "stderr",
     "output_type": "stream",
     "text": [
      "\n"
     ]
    }
   ],
   "source": [
    "%%time\n",
    "filename_counter = {}\n",
    "for video in tqdm(iteration_1[400:], desc=\"Processing videos\"):\n",
    "    try:\n",
    "        word = video['word']\n",
    "        url = video['url']\n",
    "        start_frame = video['start']\n",
    "        end_frame = video['end']\n",
    "        if word in filename_counter:\n",
    "            filename_counter[word]+=1\n",
    "            filename = f\"{word}_{filename_counter[word]}\"\n",
    "        else:\n",
    "            filename_counter[word] = 1\n",
    "            filename = f\"{word}\"\n",
    "        #print(filename, url)\n",
    "        downloaded_filename = filename+\".mp4\"\n",
    "        download_vid(url, downloaded_filename);\n",
    "        video_array = load_video(downloaded_filename);\n",
    "        save_frame_file(video_array, filename, start_frame, end_frame, word);\n",
    "        local_filename = \"temp_folder/\"+downloaded_filename\n",
    "        os.remove(local_filename)\n",
    "    except Exception as e:\n",
    "        # print(f\"Error with video download. Skipping it\")\n",
    "        print(e)"
   ]
  },
  {
   "cell_type": "code",
   "execution_count": null,
   "id": "d32cb232-7de4-4eae-a20c-22a55b23cb78",
   "metadata": {},
   "outputs": [],
   "source": [
    "def get_instance_id():\n",
    "    \"\"\"Get current instance ID from metadata\"\"\"\n",
    "    url = \"http://169.254.169.254/latest/meta-data/instance-id\"\n",
    "    response = requests.get(url)\n",
    "    return response.text"
   ]
  },
  {
   "cell_type": "code",
   "execution_count": null,
   "id": "b0ad4f6d-2267-4648-bdae-d10b273b7a83",
   "metadata": {},
   "outputs": [],
   "source": [
    "def stop_instance(instance_id, region_name='us-west-2'):\n",
    "    \"\"\"Stop the EC2 instance\"\"\"\n",
    "    ec2 = boto3.client('ec2', aws_access_key_id = aws_access_key_id, aws_secret_access_key = aws_secret_access_key, region_name=region_name)\n",
    "    ec2.stop_instances(InstanceIds=[instance_id])"
   ]
  },
  {
   "cell_type": "code",
   "execution_count": null,
   "id": "779dfa1d-7ede-4720-b005-30866c6611d0",
   "metadata": {},
   "outputs": [],
   "source": [
    "# Get the current instance ID\n",
    "instance_id = get_instance_id()\n",
    "print(instance_id)\n",
    "# Stop the instance\n",
    "stop_instance(instance_id)"
   ]
  },
  {
   "cell_type": "code",
   "execution_count": null,
   "id": "7e58beb8-6414-47a2-8657-b2e6deb0a096",
   "metadata": {},
   "outputs": [],
   "source": []
  }
 ],
 "metadata": {
  "kernelspec": {
   "display_name": "Python 3 (ipykernel)",
   "language": "python",
   "name": "python3"
  },
  "language_info": {
   "codemirror_mode": {
    "name": "ipython",
    "version": 3
   },
   "file_extension": ".py",
   "mimetype": "text/x-python",
   "name": "python",
   "nbconvert_exporter": "python",
   "pygments_lexer": "ipython3",
   "version": "3.10.12"
  }
 },
 "nbformat": 4,
 "nbformat_minor": 5
}
