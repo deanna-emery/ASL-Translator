{
 "cells": [
  {
   "cell_type": "markdown",
   "id": "f3302ca6-cb54-4991-8bd0-9e86071d0f00",
   "metadata": {},
   "source": [
    "### Purpose of this notebook\n",
    "The purpose of this notebook is to download WLASL dataset and upload to S3 bucket after processing as Numpy"
   ]
  },
  {
   "cell_type": "markdown",
   "id": "1b997ab6-08af-4c02-86a8-152f13e963fb",
   "metadata": {},
   "source": [
    "The videos will be labeled by the 'gloss' name from the Json.\n",
    "Some videos only have the required sign between Frame-A and Frame-B. These will be cropped accordingly"
   ]
  },
  {
   "cell_type": "code",
   "execution_count": 1,
   "id": "74ea70dc-4528-4568-870d-07de046eff1a",
   "metadata": {},
   "outputs": [],
   "source": [
    "#Install missing packages\n",
    "#!pip install boto3\n",
    "#!pip install pyarrow\n",
    "#!pip install fastparquet\n",
    "#!pip install s3fs\n",
    "#!pip install mediapipe\n",
    "#!pip install kaggle"
   ]
  },
  {
   "cell_type": "code",
   "execution_count": 30,
   "id": "8ae7a476-c650-46fa-b556-87fa80bf2a1a",
   "metadata": {},
   "outputs": [],
   "source": [
    "# Import required libraries\n",
    "import boto3 #Video files get read through this\n",
    "import cv2\n",
    "import os\n",
    "import pandas as pd\n",
    "import math\n",
    "import numpy as np\n",
    "import random\n",
    "import io\n",
    "import s3fs # Parquet files get read through this\n",
    "import zlib # For compression\n",
    "import time # To calculate download time\n",
    "import configparser\n",
    "import requests\n",
    "import psutil # Checks memory usage\n",
    "import tempfile\n",
    "import json\n",
    "import yt_dlp\n",
    "import subprocess\n",
    "from tqdm import tqdm\n",
    "#import mediapipe as mp\n"
   ]
  },
  {
   "cell_type": "code",
   "execution_count": 3,
   "id": "acebc799-53d0-4abc-8877-27ce920c34d1",
   "metadata": {},
   "outputs": [
    {
     "data": {
      "text/plain": [
       "['/home/ec2-user/.aws/credentials']"
      ]
     },
     "execution_count": 3,
     "metadata": {},
     "output_type": "execute_result"
    }
   ],
   "source": [
    "import configparser\n",
    "\n",
    "config = configparser.ConfigParser()\n",
    "config.read('/home/ec2-user/.aws/credentials')"
   ]
  },
  {
   "cell_type": "code",
   "execution_count": 4,
   "id": "e1bc54a8-c2b2-4b31-934b-d0a97eaa68d8",
   "metadata": {},
   "outputs": [],
   "source": [
    "aws_access_key_id = config[\"default\"]['aws_access_key_id']\n",
    "aws_secret_access_key = config[\"default\"]['aws_secret_access_key']\n",
    "bucket_name = 'asl-capstone'\n",
    "prefix = '/msasl/RGB/'\n",
    "save_path = '/content/temp_folder'\n",
    "s3_URI = 's3://asl-capstone/msasl/RGB/'"
   ]
  },
  {
   "cell_type": "code",
   "execution_count": 5,
   "id": "e41445ca-7160-4280-83cc-ce7c0560e5ed",
   "metadata": {},
   "outputs": [],
   "source": [
    "# Create an s3 object\n",
    "s3 = boto3.client('s3',aws_access_key_id = aws_access_key_id, aws_secret_access_key = aws_secret_access_key,\n",
    "                  region_name = 'us-west-2')"
   ]
  },
  {
   "cell_type": "code",
   "execution_count": 6,
   "id": "cb6202d1-bcd3-4d8f-b862-9aeaafca1e3b",
   "metadata": {},
   "outputs": [],
   "source": [
    "# Create an S3FS object\n",
    "fs = s3fs.S3FileSystem(key=aws_access_key_id, secret=aws_secret_access_key) # Define an S3FS object"
   ]
  },
  {
   "cell_type": "code",
   "execution_count": 7,
   "id": "ae3d295e-8830-4481-8eaa-d14877d9a696",
   "metadata": {},
   "outputs": [],
   "source": [
    "# Let's read the WLASL json file to map the number to the word\n",
    "filename = \"wlasl-dataset/WLASL_v0.3.json\"\n",
    "wlasl_df = pd.read_json(filename)"
   ]
  },
  {
   "cell_type": "code",
   "execution_count": 8,
   "id": "d7c50cec-7698-4c26-9c07-a54816b95582",
   "metadata": {},
   "outputs": [
    {
     "data": {
      "text/html": [
       "<div>\n",
       "<style scoped>\n",
       "    .dataframe tbody tr th:only-of-type {\n",
       "        vertical-align: middle;\n",
       "    }\n",
       "\n",
       "    .dataframe tbody tr th {\n",
       "        vertical-align: top;\n",
       "    }\n",
       "\n",
       "    .dataframe thead th {\n",
       "        text-align: right;\n",
       "    }\n",
       "</style>\n",
       "<table border=\"1\" class=\"dataframe\">\n",
       "  <thead>\n",
       "    <tr style=\"text-align: right;\">\n",
       "      <th></th>\n",
       "      <th>gloss</th>\n",
       "      <th>instances</th>\n",
       "    </tr>\n",
       "  </thead>\n",
       "  <tbody>\n",
       "    <tr>\n",
       "      <th>0</th>\n",
       "      <td>book</td>\n",
       "      <td>[{'bbox': [385, 37, 885, 720], 'fps': 25, 'fra...</td>\n",
       "    </tr>\n",
       "    <tr>\n",
       "      <th>1</th>\n",
       "      <td>drink</td>\n",
       "      <td>[{'bbox': [551, 68, 1350, 1080], 'fps': 25, 'f...</td>\n",
       "    </tr>\n",
       "    <tr>\n",
       "      <th>2</th>\n",
       "      <td>computer</td>\n",
       "      <td>[{'bbox': [0, 0, 360, 240], 'fps': 25, 'frame_...</td>\n",
       "    </tr>\n",
       "    <tr>\n",
       "      <th>3</th>\n",
       "      <td>before</td>\n",
       "      <td>[{'bbox': [0, 0, 360, 240], 'fps': 25, 'frame_...</td>\n",
       "    </tr>\n",
       "    <tr>\n",
       "      <th>4</th>\n",
       "      <td>chair</td>\n",
       "      <td>[{'bbox': [0, 0, 360, 240], 'fps': 25, 'frame_...</td>\n",
       "    </tr>\n",
       "  </tbody>\n",
       "</table>\n",
       "</div>"
      ],
      "text/plain": [
       "      gloss                                          instances\n",
       "0      book  [{'bbox': [385, 37, 885, 720], 'fps': 25, 'fra...\n",
       "1     drink  [{'bbox': [551, 68, 1350, 1080], 'fps': 25, 'f...\n",
       "2  computer  [{'bbox': [0, 0, 360, 240], 'fps': 25, 'frame_...\n",
       "3    before  [{'bbox': [0, 0, 360, 240], 'fps': 25, 'frame_...\n",
       "4     chair  [{'bbox': [0, 0, 360, 240], 'fps': 25, 'frame_..."
      ]
     },
     "metadata": {},
     "output_type": "display_data"
    },
    {
     "name": "stdout",
     "output_type": "stream",
     "text": [
      "(2000, 2)\n"
     ]
    }
   ],
   "source": [
    "display(wlasl_df.head())\n",
    "print(wlasl_df.shape)\n",
    "#print(wlasl_df['instances'][0])"
   ]
  },
  {
   "cell_type": "code",
   "execution_count": 9,
   "id": "eeb26c44-9165-4a56-8e07-13ec1f45afae",
   "metadata": {},
   "outputs": [],
   "source": [
    "# Not all videos from the JSON exist. Let's create a function to check which ones exist\n",
    "def video_features(json_data):\n",
    "    video_list = []\n",
    "    frame_list = []\n",
    "    gloss = json_data['gloss']\n",
    "    json_list = json_data['instances']\n",
    "    for id in json_list:\n",
    "        vid = id['video_id']\n",
    "        frame_start = id['frame_start']\n",
    "        frame_end = id['frame_end']\n",
    "        bbox = id['bbox']\n",
    "        if os.path.exists(f\"wlasl-dataset/videos/{vid}.mp4\"):\n",
    "            features = {'word':gloss,'id':vid,'start':frame_start, 'end':frame_end,'box':bbox}\n",
    "            #yield features\n",
    "            video_list.append(features)\n",
    "    return video_list"
   ]
  },
  {
   "cell_type": "code",
   "execution_count": 10,
   "id": "b0c07b4f-4900-488c-9cf7-ca20788d4152",
   "metadata": {},
   "outputs": [],
   "source": [
    "# Load the data and get the features\n",
    "with open(\"wlasl-dataset/WLASL_v0.3.json\",'r') as file:\n",
    "    json_data = file.read()\n",
    "json_data = json.loads(json_data)"
   ]
  },
  {
   "cell_type": "code",
   "execution_count": 11,
   "id": "b186971c-5af4-4894-8e39-bca56e8b744a",
   "metadata": {},
   "outputs": [],
   "source": [
    "# Let's extract all relevant features from the JSON\n",
    "video_list = []\n",
    "for data in json_data:\n",
    "    video_list.append(video_features(data))"
   ]
  },
  {
   "cell_type": "code",
   "execution_count": 12,
   "id": "545add6a-9022-4919-94d0-2c7fec4dfacd",
   "metadata": {},
   "outputs": [],
   "source": [
    "# Let's check how many unique words we have\n",
    "word_list = []\n",
    "for video in video_list:\n",
    "    for vid in video:\n",
    "        word_list.append(vid['word'])"
   ]
  },
  {
   "cell_type": "code",
   "execution_count": 13,
   "id": "f3f841db-d419-411f-9414-139c8ab5fc94",
   "metadata": {},
   "outputs": [
    {
     "name": "stdout",
     "output_type": "stream",
     "text": [
      "11980\n",
      "2000\n",
      "['shower', 'left', 'hippopotamus', 'manage', 'event', 'normal', 'lend', 'flirt', 'u', 'snack']\n"
     ]
    }
   ],
   "source": [
    "print(len(word_list))\n",
    "word_list = list(set(word_list))\n",
    "print(len(word_list))\n",
    "print(word_list[:10])"
   ]
  },
  {
   "cell_type": "code",
   "execution_count": 14,
   "id": "4bf4d9bd-b60a-41d2-88ec-b9093c739738",
   "metadata": {},
   "outputs": [],
   "source": [
    "# Let's now work on the MS-ASL Dataset\n",
    "filenames = ['MSASL/MSASL_train.json','MSASL/MSASL_val.json','MSASL/MSASL_test.json']\n",
    "msasl_words = []\n",
    "for file in filenames:\n",
    "    with open(\"MSASL/MSASL_train.json\",'r') as file:\n",
    "        json_data = file.read()\n",
    "    json_data = json.loads(json_data)\n",
    "    for word in json_data:\n",
    "        msasl_words.append(word)"
   ]
  },
  {
   "cell_type": "code",
   "execution_count": 15,
   "id": "369c003a-e6d1-4857-b962-3a25b25afd45",
   "metadata": {},
   "outputs": [
    {
     "name": "stdout",
     "output_type": "stream",
     "text": [
      "{'org_text': 'match [light-a-MATCH]', 'clean_text': 'match', 'start_time': 0.0, 'signer_id': 0, 'signer': 0, 'start': 0, 'end': 83, 'file': 'match light-a-MATCH', 'label': 830, 'height': 360.0, 'fps': 30.0, 'end_time': 2.767, 'url': 'https://www.youtube.com/watch?v=C37R_Ix8-qs', 'text': 'match', 'box': [0.05754461884498596, 0.21637457609176636, 1.0, 0.7300844192504883], 'width': 640.0}\n"
     ]
    }
   ],
   "source": [
    "print(msasl_words[0])"
   ]
  },
  {
   "cell_type": "code",
   "execution_count": 16,
   "id": "5e05f10e-112a-432e-9595-a08f28b45237",
   "metadata": {},
   "outputs": [],
   "source": [
    "def msasl_features(msasl_word):\n",
    "    gloss = msasl_word['clean_text']\n",
    "    url = msasl_word['url']\n",
    "    frame_start = msasl_word['start_time']*msasl_word['fps']\n",
    "    frame_end = msasl_word['end_time']*msasl_word['fps']\n",
    "    bbox = msasl_word['box']\n",
    "    features = {'word':gloss,'url':url,'start':frame_start, 'end':frame_end,'box':bbox}\n",
    "    return features\n",
    "    "
   ]
  },
  {
   "cell_type": "code",
   "execution_count": 17,
   "id": "56579974-f714-4406-8084-608eaaa5ed04",
   "metadata": {},
   "outputs": [],
   "source": [
    "msasl_data = [] # Store all relevant information about the MSASL dataset\n",
    "for word in msasl_words:\n",
    "    msasl_data.append(msasl_features(word))    "
   ]
  },
  {
   "cell_type": "code",
   "execution_count": 18,
   "id": "1ef7308f-4bbf-4380-aa42-1d87ef5683ac",
   "metadata": {},
   "outputs": [
    {
     "name": "stdout",
     "output_type": "stream",
     "text": [
      "[{'word': 'match', 'url': 'https://www.youtube.com/watch?v=C37R_Ix8-qs', 'start': 0.0, 'end': 83.00999999999999, 'box': [0.05754461884498596, 0.21637457609176636, 1.0, 0.7300844192504883]}, {'word': 'fail', 'url': 'https://www.youtube.com/watch?v=PIsUJl8BN_I', 'start': 0.0, 'end': 74.0, 'box': [0.0657794177532196, 0.16717177629470825, 0.9392627477645874, 0.9187960028648376]}, {'word': 'laugh', 'url': 'www.youtube.com/watch?v=9FdHlMOnVjg', 'start': 0.0, 'end': 30.988979999999998, 'box': [0.13188594579696655, 0.32334136962890625, 1.0, 0.831863522529602]}, {'word': 'book', 'url': 'https://www.youtube.com/watch?v=J7tP98oDxqE', 'start': 0.0, 'end': 66.0, 'box': [0.05569887161254883, 0.25173279643058777, 0.9968159794807434, 0.9009996652603149]}]\n"
     ]
    }
   ],
   "source": [
    "print(msasl_data[:4])"
   ]
  },
  {
   "cell_type": "code",
   "execution_count": 19,
   "id": "faaf6ae2-8f6c-426e-a864-a36c6e708521",
   "metadata": {},
   "outputs": [
    {
     "name": "stdout",
     "output_type": "stream",
     "text": [
      "[{'word': 'match', 'url': 'https://www.youtube.com/watch?v=C37R_Ix8-qs', 'start': 0.0, 'end': 83.00999999999999, 'box': [0.05754461884498596, 0.21637457609176636, 1.0, 0.7300844192504883]}, {'word': 'fail', 'url': 'https://www.youtube.com/watch?v=PIsUJl8BN_I', 'start': 0.0, 'end': 74.0, 'box': [0.0657794177532196, 0.16717177629470825, 0.9392627477645874, 0.9187960028648376]}, {'word': 'laugh', 'url': 'www.youtube.com/watch?v=9FdHlMOnVjg', 'start': 0.0, 'end': 30.988979999999998, 'box': [0.13188594579696655, 0.32334136962890625, 1.0, 0.831863522529602]}, {'word': 'book', 'url': 'https://www.youtube.com/watch?v=J7tP98oDxqE', 'start': 0.0, 'end': 66.0, 'box': [0.05569887161254883, 0.25173279643058777, 0.9968159794807434, 0.9009996652603149]}]\n"
     ]
    }
   ],
   "source": [
    "matching_data = [x for x in msasl_data if x['word'] in word_list]\n",
    "print(matching_data[:4])"
   ]
  },
  {
   "cell_type": "code",
   "execution_count": 20,
   "id": "70b02d84-96bb-4445-ac1a-54e2129e1465",
   "metadata": {},
   "outputs": [
    {
     "name": "stdout",
     "output_type": "stream",
     "text": [
      "42135\n"
     ]
    }
   ],
   "source": [
    "print(len(matching_data))"
   ]
  },
  {
   "cell_type": "code",
   "execution_count": 21,
   "id": "6f7843b4-a3ce-4867-ada8-96bc954f6a34",
   "metadata": {},
   "outputs": [],
   "source": [
    "# Sort all the elements by the word so that they come sequentially\n",
    "matching_data = sorted(matching_data, key = lambda x: x['word'])"
   ]
  },
  {
   "cell_type": "code",
   "execution_count": 22,
   "id": "5050019d-c918-46e0-8b4b-21d6dba2f6f2",
   "metadata": {},
   "outputs": [
    {
     "name": "stdout",
     "output_type": "stream",
     "text": [
      "[{'word': 'about', 'url': 'https://www.youtube.com/watch?v=mCjHYreiZ24', 'start': 5045.98896, 'end': 5194.9998, 'box': [0.13303735852241516, 0.2521272599697113, 0.89015132188797, 0.7639555335044861]}, {'word': 'about', 'url': 'https://www.youtube.com/watch?v=Dax964vUumQ', 'start': 23602.96341, 'end': 23777.98821, 'box': [0.057298243045806885, 0.0033825039863586426, 1.0, 0.8730295896530151]}, {'word': 'about', 'url': 'https://www.youtube.com/watch?v=Gs9zBeSIVIE', 'start': 9801.9882, 'end': 9900.97911, 'box': [0.05145266652107239, 0.36207592487335205, 1.0, 0.6267668604850769]}, {'word': 'about', 'url': 'www.youtube.com/watch?v=Tfj63Ai9tfw', 'start': 0.0, 'end': 36.994968, 'box': [0.017124980688095093, 0.3652523458003998, 1.0, 0.912168025970459]}, {'word': 'about', 'url': 'https://www.youtube.com/watch?v=xaHll2DRUkg', 'start': 12.010554, 'end': 57.991257, 'box': [0.11106356978416443, 0.3129425644874573, 1.0, 0.70534348487854]}, {'word': 'about', 'url': 'https://www.youtube.com/watch?v=xaHll2DRUkg', 'start': 99.012378, 'end': 163.99485299999998, 'box': [0.1115744411945343, 0.3147875666618347, 1.0, 0.706101655960083]}, {'word': 'about', 'url': 'https://www.youtube.com/watch?v=mCjHYreiZ24', 'start': 5045.98896, 'end': 5194.9998, 'box': [0.13303735852241516, 0.2521272599697113, 0.89015132188797, 0.7639555335044861]}, {'word': 'about', 'url': 'https://www.youtube.com/watch?v=Dax964vUumQ', 'start': 23602.96341, 'end': 23777.98821, 'box': [0.057298243045806885, 0.0033825039863586426, 1.0, 0.8730295896530151]}, {'word': 'about', 'url': 'https://www.youtube.com/watch?v=Gs9zBeSIVIE', 'start': 9801.9882, 'end': 9900.97911, 'box': [0.05145266652107239, 0.36207592487335205, 1.0, 0.6267668604850769]}, {'word': 'about', 'url': 'www.youtube.com/watch?v=Tfj63Ai9tfw', 'start': 0.0, 'end': 36.994968, 'box': [0.017124980688095093, 0.3652523458003998, 1.0, 0.912168025970459]}]\n"
     ]
    }
   ],
   "source": [
    "print(matching_data[:10])"
   ]
  },
  {
   "cell_type": "code",
   "execution_count": 23,
   "id": "1b8302ef-fbdf-4407-832c-a1697a9d5c13",
   "metadata": {},
   "outputs": [],
   "source": [
    "def check_video(url): #Checks if a YouTube video is available and returns True if available and False if not\n",
    "    try:\n",
    "        result = subprocess.run([\"yt-dlp\", \"--simulate\", \"--get-url\", url], check=True, stdout=subprocess.PIPE, stderr=subprocess.PIPE)\n",
    "        return True\n",
    "    except subprocess.CalledProcessError:\n",
    "        return False # Video is not available in YouTube"
   ]
  },
  {
   "cell_type": "code",
   "execution_count": 24,
   "id": "dd0c800e-4595-4809-8ede-b221f7ede17d",
   "metadata": {},
   "outputs": [],
   "source": [
    "def download_vid(url, filename):\n",
    "    try:\n",
    "        filename = \"temp_folder/\"+filename\n",
    "        if os.path.exists(filename):\n",
    "            os.remove(filename)\n",
    "            print(\"Deleted file\")\n",
    "        if not os.path.exists(filename):\n",
    "            command = [\"yt-dlp\",\"-o\",filename,url]\n",
    "            subprocess.run(command)\n",
    "            return True\n",
    "    except:\n",
    "        return False\n",
    "        "
   ]
  },
  {
   "cell_type": "code",
   "execution_count": 25,
   "id": "214ceec2-bf12-495b-9470-b347cad35765",
   "metadata": {},
   "outputs": [],
   "source": [
    "def crop_center_square(frame):\n",
    "    y, x = frame.shape[0:2]\n",
    "    if x > y:\n",
    "        start_x = (x-y)/2\n",
    "        end_x = start_x + y\n",
    "        start_x = int(start_x)\n",
    "        end_x = int(end_x)\n",
    "        return frame[:, int(start_x):int(end_x)]\n",
    "    else:\n",
    "        return frame"
   ]
  },
  {
   "cell_type": "code",
   "execution_count": 26,
   "id": "c9f55b49-ff39-4bb3-80e3-7c975f370cd2",
   "metadata": {},
   "outputs": [],
   "source": [
    "def load_video(filename, max_frames=0, resize=(256,256)):\n",
    "    filename = \"temp_folder/\"+filename\n",
    "    video_capture = cv2.VideoCapture(filename)\n",
    "    frames = []\n",
    "    try:\n",
    "      while video_capture.isOpened():\n",
    "        ret, frame = video_capture.read()\n",
    "        if not ret:\n",
    "          break\n",
    "        frame = crop_center_square(frame)\n",
    "        frame = cv2.resize(frame, resize)\n",
    "        frame = frame[:, :, [2, 1, 0]]\n",
    "        frames.append(frame)\n",
    "\n",
    "        if len(frames) == max_frames:\n",
    "          break\n",
    "    finally:\n",
    "      video_capture.release()\n",
    "    return np.array(frames) / 255.0"
   ]
  },
  {
   "cell_type": "code",
   "execution_count": 27,
   "id": "fab62e8c-243b-411c-8f98-6010783e854b",
   "metadata": {},
   "outputs": [],
   "source": [
    "parquet_df = pd.DataFrame()\n",
    "# with fs.open(f\"s3://asl-capstone/msasl/videos/master_file.parquet\",\"rb\") as f:\n",
    "     # parquet_df = pd.read_parquet(f)"
   ]
  },
  {
   "cell_type": "code",
   "execution_count": 28,
   "id": "89f0ed0a-9133-4256-b0f6-08c462293acc",
   "metadata": {},
   "outputs": [],
   "source": [
    "def save_frame_file(video_array, filename, start_frame, end_frame, word):\n",
    "    s3_uri = \"s3://asl-capstone/msasl/RGB/\"\n",
    "    filename = filename+\".npy\"\n",
    "    if end_frame!=-1:\n",
    "        video_array = video_array[int(start_frame):int(end_frame)].astype(np.float32)\n",
    "    else:\n",
    "        video_array = video_array.astype(np.float32)\n",
    "        \n",
    "    with fs.open(f\"{s3_uri+filename}\",\"wb\") as f:\n",
    "        np.save(f,video_array)\n",
    "    try:\n",
    "        with fs.open(f\"s3://asl-capstone/msasl/master_file_Deepak.parquet\",\"rb\") as f:\n",
    "            parquet_df = pd.read_parquet(f)\n",
    "    except:\n",
    "        parquet_df = pd.DataFrame()\n",
    "        print(\"Parquet does not exist yet\")\n",
    "    temp_df = pd.DataFrame({'caption':[word], 'path':[s3_uri+filename]})\n",
    "    parquet_df = pd.concat([parquet_df,temp_df], ignore_index=True)\n",
    "    with fs.open(f\"s3://asl-capstone/msasl/master_file_Deepak.parquet\",\"wb\") as f:\n",
    "        parquet_df.to_parquet(f)\n",
    "\n",
    "    "
   ]
  },
  {
   "cell_type": "code",
   "execution_count": 29,
   "id": "520f7c7f-9304-4d24-95a1-a7ba0c0c7984",
   "metadata": {},
   "outputs": [
    {
     "name": "stdout",
     "output_type": "stream",
     "text": [
      "[youtube] Extracting URL: https://www.youtube.com/watch?v=mCjHYreiZ24\n",
      "[youtube] mCjHYreiZ24: Downloading webpage\n",
      "[youtube] mCjHYreiZ24: Downloading ios player API JSON\n",
      "[youtube] mCjHYreiZ24: Downloading android player API JSON\n",
      "[youtube] mCjHYreiZ24: Downloading m3u8 information\n",
      "[info] mCjHYreiZ24: Downloading 1 format(s): 18\n",
      "[download] Destination: temp_folder/about.mp4\n",
      "[download] 100% of   27.23MiB in 00:00:00 at 37.40MiB/s    \n",
      "Parquet does not exist yet\n",
      "[youtube] Extracting URL: https://www.youtube.com/watch?v=Dax964vUumQ\n",
      "[youtube] Dax964vUumQ: Downloading webpage\n",
      "[youtube] Dax964vUumQ: Downloading ios player API JSON\n",
      "[youtube] Dax964vUumQ: Downloading android player API JSON\n"
     ]
    },
    {
     "name": "stderr",
     "output_type": "stream",
     "text": [
      "ERROR: [youtube] Dax964vUumQ: Private video. Sign in if you've been granted access to this video\n"
     ]
    },
    {
     "name": "stdout",
     "output_type": "stream",
     "text": [
      "[Errno 2] No such file or directory: 'temp_folder/about_2.mp4'\n",
      "[youtube] Extracting URL: https://www.youtube.com/watch?v=Gs9zBeSIVIE\n",
      "[youtube] Gs9zBeSIVIE: Downloading webpage\n",
      "[youtube] Gs9zBeSIVIE: Downloading ios player API JSON\n",
      "[youtube] Gs9zBeSIVIE: Downloading android player API JSON\n",
      "[youtube] Gs9zBeSIVIE: Downloading m3u8 information\n",
      "[info] Gs9zBeSIVIE: Downloading 1 format(s): 18\n",
      "[download] Destination: temp_folder/about_3.mp4\n",
      "[download] 100% of   16.71MiB in 00:00:00 at 19.05MiB/s    \n",
      "[generic] Extracting URL: www.youtube.com/watch?v=Tfj63Ai9tfw\n",
      "[youtube] Extracting URL: http://www.youtube.com/watch?v=Tfj63Ai9tfw\n",
      "[youtube] Tfj63Ai9tfw: Downloading webpage\n",
      "[youtube] Tfj63Ai9tfw: Downloading ios player API JSON\n"
     ]
    },
    {
     "name": "stderr",
     "output_type": "stream",
     "text": [
      "WARNING: [generic] The url doesn't specify the protocol, trying with http\n"
     ]
    },
    {
     "name": "stdout",
     "output_type": "stream",
     "text": [
      "[youtube] Tfj63Ai9tfw: Downloading android player API JSON\n",
      "[Errno 2] No such file or directory: 'temp_folder/about_4.mp4'\n",
      "CPU times: user 36.7 s, sys: 5.59 s, total: 42.2 s\n",
      "Wall time: 40.5 s\n"
     ]
    },
    {
     "name": "stderr",
     "output_type": "stream",
     "text": [
      "ERROR: [youtube] Tfj63Ai9tfw: Private video. Sign in if you've been granted access to this video\n"
     ]
    }
   ],
   "source": [
    "%%time\n",
    "filename_counter = {}\n",
    "for video in tqdm(matching_data[:4], desc=\"Processing videos\"):\n",
    "    try:\n",
    "        word = video['word']\n",
    "        url = video['url']\n",
    "        start_frame = video['start']\n",
    "        end_frame = video['end']\n",
    "        if word in filename_counter:\n",
    "            filename_counter[word]+=1\n",
    "            filename = f\"{word}_{filename_counter[word]}\"\n",
    "        else:\n",
    "            filename_counter[word] = 1\n",
    "            filename = f\"{word}\"\n",
    "        #print(filename, url)\n",
    "        downloaded_filename = filename+\".mp4\"\n",
    "        download_vid(url, downloaded_filename)\n",
    "        video_array = load_video(downloaded_filename)\n",
    "        save_frame_file(video_array, filename, start_frame, end_frame, word)\n",
    "        local_filename = \"temp_folder/\"+downloaded_filename\n",
    "        os.remove(local_filename)\n",
    "    except Exception as e:\n",
    "        # print(f\"Error with video download. Skipping it\")\n",
    "        print(e)"
   ]
  },
  {
   "cell_type": "code",
   "execution_count": 22,
   "id": "d32cb232-7de4-4eae-a20c-22a55b23cb78",
   "metadata": {},
   "outputs": [],
   "source": [
    "def get_instance_id():\n",
    "    \"\"\"Get current instance ID from metadata\"\"\"\n",
    "    url = \"http://169.254.169.254/latest/meta-data/instance-id\"\n",
    "    response = requests.get(url)\n",
    "    return response.text"
   ]
  },
  {
   "cell_type": "code",
   "execution_count": 23,
   "id": "b0ad4f6d-2267-4648-bdae-d10b273b7a83",
   "metadata": {},
   "outputs": [],
   "source": [
    "def stop_instance(instance_id, region_name='us-west-2'):\n",
    "    \"\"\"Stop the EC2 instance\"\"\"\n",
    "    ec2 = boto3.client('ec2', aws_access_key_id = aws_access_key_id, aws_secret_access_key = aws_secret_access_key, region_name=region_name)\n",
    "    ec2.stop_instances(InstanceIds=[instance_id])"
   ]
  },
  {
   "cell_type": "code",
   "execution_count": 24,
   "id": "779dfa1d-7ede-4720-b005-30866c6611d0",
   "metadata": {},
   "outputs": [
    {
     "name": "stdout",
     "output_type": "stream",
     "text": [
      "i-0e01b9bb0332fcb0b\n"
     ]
    }
   ],
   "source": [
    "# Get the current instance ID\n",
    "instance_id = get_instance_id()\n",
    "print(instance_id)\n",
    "# Stop the instance\n",
    "stop_instance(instance_id)"
   ]
  },
  {
   "cell_type": "code",
   "execution_count": null,
   "id": "7e58beb8-6414-47a2-8657-b2e6deb0a096",
   "metadata": {},
   "outputs": [],
   "source": []
  }
 ],
 "metadata": {
  "kernelspec": {
   "display_name": "Python 3 (ipykernel)",
   "language": "python",
   "name": "python3"
  },
  "language_info": {
   "codemirror_mode": {
    "name": "ipython",
    "version": 3
   },
   "file_extension": ".py",
   "mimetype": "text/x-python",
   "name": "python",
   "nbconvert_exporter": "python",
   "pygments_lexer": "ipython3",
   "version": "3.10.12"
  }
 },
 "nbformat": 4,
 "nbformat_minor": 5
}
