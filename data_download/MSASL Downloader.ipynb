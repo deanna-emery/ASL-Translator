{
 "cells": [
  {
   "cell_type": "markdown",
   "id": "f3302ca6-cb54-4991-8bd0-9e86071d0f00",
   "metadata": {},
   "source": [
    "### Purpose of this notebook\n",
    "The purpose of this notebook is to download WLASL dataset and upload to S3 bucket after processing as Numpy"
   ]
  },
  {
   "cell_type": "markdown",
   "id": "1b997ab6-08af-4c02-86a8-152f13e963fb",
   "metadata": {},
   "source": [
    "The videos will be labeled by the 'gloss' name from the Json.\n",
    "Some videos only have the required sign between Frame-A and Frame-B. These will be cropped accordingly"
   ]
  },
  {
   "cell_type": "code",
   "execution_count": 1,
   "id": "74ea70dc-4528-4568-870d-07de046eff1a",
   "metadata": {},
   "outputs": [],
   "source": [
    "#Install missing packages\n",
    "#!pip install boto3\n",
    "#!pip install pyarrow\n",
    "#!pip install fastparquet\n",
    "#!pip install s3fs\n",
    "#!pip install mediapipe\n",
    "#!pip install kaggle"
   ]
  },
  {
   "cell_type": "code",
   "execution_count": 2,
   "id": "8ae7a476-c650-46fa-b556-87fa80bf2a1a",
   "metadata": {},
   "outputs": [],
   "source": [
    "# Import required libraries\n",
    "import boto3 #Video files get read through this\n",
    "import cv2\n",
    "import os\n",
    "import pandas as pd\n",
    "import math\n",
    "import numpy as np\n",
    "import random\n",
    "import io\n",
    "import s3fs # Parquet files get read through this\n",
    "import zlib # For compression\n",
    "import time # To calculate download time\n",
    "import configparser\n",
    "import requests\n",
    "import psutil # Checks memory usage\n",
    "import tempfile\n",
    "import json\n",
    "import yt_dlp\n",
    "import subprocess\n",
    "from tqdm import tqdm\n",
    "#import mediapipe as mp\n"
   ]
  },
  {
   "cell_type": "code",
   "execution_count": 3,
   "id": "acebc799-53d0-4abc-8877-27ce920c34d1",
   "metadata": {},
   "outputs": [
    {
     "data": {
      "text/plain": [
       "['/home/ec2-user/.aws/credentials']"
      ]
     },
     "execution_count": 3,
     "metadata": {},
     "output_type": "execute_result"
    }
   ],
   "source": [
    "import configparser\n",
    "\n",
    "config = configparser.ConfigParser()\n",
    "config.read('/home/ec2-user/.aws/credentials')"
   ]
  },
  {
   "cell_type": "code",
   "execution_count": 4,
   "id": "e1bc54a8-c2b2-4b31-934b-d0a97eaa68d8",
   "metadata": {},
   "outputs": [],
   "source": [
    "aws_access_key_id = config[\"default\"]['aws_access_key_id']\n",
    "aws_secret_access_key = config[\"default\"]['aws_secret_access_key']\n",
    "bucket_name = 'asl-capstone'\n",
    "prefix = '/msasl/RGB/'\n",
    "save_path = '/content/temp_folder'\n",
    "s3_URI = 's3://asl-capstone/msasl/RGB/'"
   ]
  },
  {
   "cell_type": "code",
   "execution_count": 5,
   "id": "e41445ca-7160-4280-83cc-ce7c0560e5ed",
   "metadata": {},
   "outputs": [],
   "source": [
    "# Create an s3 object\n",
    "s3 = boto3.client('s3',aws_access_key_id = aws_access_key_id, aws_secret_access_key = aws_secret_access_key,\n",
    "                  region_name = 'us-west-2')"
   ]
  },
  {
   "cell_type": "code",
   "execution_count": 6,
   "id": "cb6202d1-bcd3-4d8f-b862-9aeaafca1e3b",
   "metadata": {},
   "outputs": [],
   "source": [
    "# Create an S3FS object\n",
    "fs = s3fs.S3FileSystem(key=aws_access_key_id, secret=aws_secret_access_key) # Define an S3FS object"
   ]
  },
  {
   "cell_type": "code",
   "execution_count": 7,
   "id": "ae3d295e-8830-4481-8eaa-d14877d9a696",
   "metadata": {},
   "outputs": [],
   "source": [
    "# Let's read the WLASL json file to map the number to the word\n",
    "filename = \"wlasl-dataset/WLASL_v0.3.json\"\n",
    "wlasl_df = pd.read_json(filename)"
   ]
  },
  {
   "cell_type": "code",
   "execution_count": 8,
   "id": "d7c50cec-7698-4c26-9c07-a54816b95582",
   "metadata": {},
   "outputs": [
    {
     "data": {
      "text/html": [
       "<div>\n",
       "<style scoped>\n",
       "    .dataframe tbody tr th:only-of-type {\n",
       "        vertical-align: middle;\n",
       "    }\n",
       "\n",
       "    .dataframe tbody tr th {\n",
       "        vertical-align: top;\n",
       "    }\n",
       "\n",
       "    .dataframe thead th {\n",
       "        text-align: right;\n",
       "    }\n",
       "</style>\n",
       "<table border=\"1\" class=\"dataframe\">\n",
       "  <thead>\n",
       "    <tr style=\"text-align: right;\">\n",
       "      <th></th>\n",
       "      <th>gloss</th>\n",
       "      <th>instances</th>\n",
       "    </tr>\n",
       "  </thead>\n",
       "  <tbody>\n",
       "    <tr>\n",
       "      <th>0</th>\n",
       "      <td>book</td>\n",
       "      <td>[{'bbox': [385, 37, 885, 720], 'fps': 25, 'fra...</td>\n",
       "    </tr>\n",
       "    <tr>\n",
       "      <th>1</th>\n",
       "      <td>drink</td>\n",
       "      <td>[{'bbox': [551, 68, 1350, 1080], 'fps': 25, 'f...</td>\n",
       "    </tr>\n",
       "    <tr>\n",
       "      <th>2</th>\n",
       "      <td>computer</td>\n",
       "      <td>[{'bbox': [0, 0, 360, 240], 'fps': 25, 'frame_...</td>\n",
       "    </tr>\n",
       "    <tr>\n",
       "      <th>3</th>\n",
       "      <td>before</td>\n",
       "      <td>[{'bbox': [0, 0, 360, 240], 'fps': 25, 'frame_...</td>\n",
       "    </tr>\n",
       "    <tr>\n",
       "      <th>4</th>\n",
       "      <td>chair</td>\n",
       "      <td>[{'bbox': [0, 0, 360, 240], 'fps': 25, 'frame_...</td>\n",
       "    </tr>\n",
       "  </tbody>\n",
       "</table>\n",
       "</div>"
      ],
      "text/plain": [
       "      gloss                                          instances\n",
       "0      book  [{'bbox': [385, 37, 885, 720], 'fps': 25, 'fra...\n",
       "1     drink  [{'bbox': [551, 68, 1350, 1080], 'fps': 25, 'f...\n",
       "2  computer  [{'bbox': [0, 0, 360, 240], 'fps': 25, 'frame_...\n",
       "3    before  [{'bbox': [0, 0, 360, 240], 'fps': 25, 'frame_...\n",
       "4     chair  [{'bbox': [0, 0, 360, 240], 'fps': 25, 'frame_..."
      ]
     },
     "metadata": {},
     "output_type": "display_data"
    },
    {
     "name": "stdout",
     "output_type": "stream",
     "text": [
      "(2000, 2)\n"
     ]
    }
   ],
   "source": [
    "display(wlasl_df.head())\n",
    "print(wlasl_df.shape)\n",
    "#print(wlasl_df['instances'][0])"
   ]
  },
  {
   "cell_type": "code",
   "execution_count": 9,
   "id": "eeb26c44-9165-4a56-8e07-13ec1f45afae",
   "metadata": {},
   "outputs": [],
   "source": [
    "# Not all videos from the JSON exist. Let's create a function to check which ones exist\n",
    "def video_features(json_data):\n",
    "    video_list = []\n",
    "    frame_list = []\n",
    "    gloss = json_data['gloss']\n",
    "    json_list = json_data['instances']\n",
    "    for id in json_list:\n",
    "        vid = id['video_id']\n",
    "        frame_start = id['frame_start']\n",
    "        frame_end = id['frame_end']\n",
    "        bbox = id['bbox']\n",
    "        if os.path.exists(f\"wlasl-dataset/videos/{vid}.mp4\"):\n",
    "            features = {'word':gloss,'id':vid,'start':frame_start, 'end':frame_end,'box':bbox}\n",
    "            #yield features\n",
    "            video_list.append(features)\n",
    "    return video_list"
   ]
  },
  {
   "cell_type": "code",
   "execution_count": 10,
   "id": "b0c07b4f-4900-488c-9cf7-ca20788d4152",
   "metadata": {},
   "outputs": [],
   "source": [
    "# Load the data and get the features\n",
    "with open(\"wlasl-dataset/WLASL_v0.3.json\",'r') as file:\n",
    "    json_data = file.read()\n",
    "json_data = json.loads(json_data)"
   ]
  },
  {
   "cell_type": "code",
   "execution_count": 11,
   "id": "b186971c-5af4-4894-8e39-bca56e8b744a",
   "metadata": {},
   "outputs": [],
   "source": [
    "# Let's extract all relevant features from the JSON\n",
    "video_list = []\n",
    "for data in json_data:\n",
    "    video_list.append(video_features(data))"
   ]
  },
  {
   "cell_type": "code",
   "execution_count": 12,
   "id": "545add6a-9022-4919-94d0-2c7fec4dfacd",
   "metadata": {},
   "outputs": [],
   "source": [
    "# Let's check how many unique words we have\n",
    "word_list = []\n",
    "for video in video_list:\n",
    "    for vid in video:\n",
    "        word_list.append(vid['word'])"
   ]
  },
  {
   "cell_type": "code",
   "execution_count": 13,
   "id": "f3f841db-d419-411f-9414-139c8ab5fc94",
   "metadata": {},
   "outputs": [
    {
     "name": "stdout",
     "output_type": "stream",
     "text": [
      "11980\n",
      "2000\n",
      "['thousand', 'calculus', 'habit', 'verb', 'adult', 'around', 'collect', 'disgusted', 'fourth', 'available']\n"
     ]
    }
   ],
   "source": [
    "print(len(word_list))\n",
    "word_list = list(set(word_list))\n",
    "print(len(word_list))\n",
    "print(word_list[:10])"
   ]
  },
  {
   "cell_type": "code",
   "execution_count": 14,
   "id": "4bf4d9bd-b60a-41d2-88ec-b9093c739738",
   "metadata": {},
   "outputs": [],
   "source": [
    "# Let's now work on the MS-ASL Dataset\n",
    "filenames = ['MSASL/MSASL_train.json','MSASL/MSASL_val.json','MSASL/MSASL_test.json']\n",
    "msasl_words = []\n",
    "for file in filenames:\n",
    "    with open(\"MSASL/MSASL_train.json\",'r') as file:\n",
    "        json_data = file.read()\n",
    "    json_data = json.loads(json_data)\n",
    "    for word in json_data:\n",
    "        msasl_words.append(word)"
   ]
  },
  {
   "cell_type": "code",
   "execution_count": 15,
   "id": "369c003a-e6d1-4857-b962-3a25b25afd45",
   "metadata": {},
   "outputs": [
    {
     "name": "stdout",
     "output_type": "stream",
     "text": [
      "{'org_text': 'match [light-a-MATCH]', 'clean_text': 'match', 'start_time': 0.0, 'signer_id': 0, 'signer': 0, 'start': 0, 'end': 83, 'file': 'match light-a-MATCH', 'label': 830, 'height': 360.0, 'fps': 30.0, 'end_time': 2.767, 'url': 'https://www.youtube.com/watch?v=C37R_Ix8-qs', 'text': 'match', 'box': [0.05754461884498596, 0.21637457609176636, 1.0, 0.7300844192504883], 'width': 640.0}\n"
     ]
    }
   ],
   "source": [
    "print(msasl_words[0])"
   ]
  },
  {
   "cell_type": "code",
   "execution_count": 16,
   "id": "5e05f10e-112a-432e-9595-a08f28b45237",
   "metadata": {},
   "outputs": [],
   "source": [
    "def msasl_features(msasl_word):\n",
    "    gloss = msasl_word['clean_text']\n",
    "    url = msasl_word['url']\n",
    "    frame_start = msasl_word['start_time']*msasl_word['fps']\n",
    "    frame_end = msasl_word['end_time']*msasl_word['fps']\n",
    "    bbox = msasl_word['box']\n",
    "    features = {'word':gloss,'url':url,'start':frame_start, 'end':frame_end,'box':bbox}\n",
    "    return features\n",
    "    "
   ]
  },
  {
   "cell_type": "code",
   "execution_count": 17,
   "id": "56579974-f714-4406-8084-608eaaa5ed04",
   "metadata": {},
   "outputs": [],
   "source": [
    "msasl_data = [] # Store all relevant information about the MSASL dataset\n",
    "for word in msasl_words:\n",
    "    msasl_data.append(msasl_features(word))    "
   ]
  },
  {
   "cell_type": "code",
   "execution_count": 18,
   "id": "1ef7308f-4bbf-4380-aa42-1d87ef5683ac",
   "metadata": {},
   "outputs": [
    {
     "name": "stdout",
     "output_type": "stream",
     "text": [
      "[{'word': 'match', 'url': 'https://www.youtube.com/watch?v=C37R_Ix8-qs', 'start': 0.0, 'end': 83.00999999999999, 'box': [0.05754461884498596, 0.21637457609176636, 1.0, 0.7300844192504883]}, {'word': 'fail', 'url': 'https://www.youtube.com/watch?v=PIsUJl8BN_I', 'start': 0.0, 'end': 74.0, 'box': [0.0657794177532196, 0.16717177629470825, 0.9392627477645874, 0.9187960028648376]}, {'word': 'laugh', 'url': 'www.youtube.com/watch?v=9FdHlMOnVjg', 'start': 0.0, 'end': 30.988979999999998, 'box': [0.13188594579696655, 0.32334136962890625, 1.0, 0.831863522529602]}, {'word': 'book', 'url': 'https://www.youtube.com/watch?v=J7tP98oDxqE', 'start': 0.0, 'end': 66.0, 'box': [0.05569887161254883, 0.25173279643058777, 0.9968159794807434, 0.9009996652603149]}]\n"
     ]
    }
   ],
   "source": [
    "print(msasl_data[:4])"
   ]
  },
  {
   "cell_type": "code",
   "execution_count": 19,
   "id": "faaf6ae2-8f6c-426e-a864-a36c6e708521",
   "metadata": {},
   "outputs": [
    {
     "name": "stdout",
     "output_type": "stream",
     "text": [
      "[{'word': 'match', 'url': 'https://www.youtube.com/watch?v=C37R_Ix8-qs', 'start': 0.0, 'end': 83.00999999999999, 'box': [0.05754461884498596, 0.21637457609176636, 1.0, 0.7300844192504883]}, {'word': 'fail', 'url': 'https://www.youtube.com/watch?v=PIsUJl8BN_I', 'start': 0.0, 'end': 74.0, 'box': [0.0657794177532196, 0.16717177629470825, 0.9392627477645874, 0.9187960028648376]}, {'word': 'laugh', 'url': 'www.youtube.com/watch?v=9FdHlMOnVjg', 'start': 0.0, 'end': 30.988979999999998, 'box': [0.13188594579696655, 0.32334136962890625, 1.0, 0.831863522529602]}, {'word': 'book', 'url': 'https://www.youtube.com/watch?v=J7tP98oDxqE', 'start': 0.0, 'end': 66.0, 'box': [0.05569887161254883, 0.25173279643058777, 0.9968159794807434, 0.9009996652603149]}]\n"
     ]
    }
   ],
   "source": [
    "matching_data = [x for x in msasl_data if x['word'] in word_list]\n",
    "print(matching_data[:4])"
   ]
  },
  {
   "cell_type": "code",
   "execution_count": 20,
   "id": "70b02d84-96bb-4445-ac1a-54e2129e1465",
   "metadata": {},
   "outputs": [
    {
     "name": "stdout",
     "output_type": "stream",
     "text": [
      "42135\n"
     ]
    }
   ],
   "source": [
    "print(len(matching_data))"
   ]
  },
  {
   "cell_type": "code",
   "execution_count": 21,
   "id": "6f7843b4-a3ce-4867-ada8-96bc954f6a34",
   "metadata": {},
   "outputs": [],
   "source": [
    "# Sort all the elements by the word so that they come sequentially\n",
    "matching_data = sorted(matching_data, key = lambda x: x['word'])"
   ]
  },
  {
   "cell_type": "code",
   "execution_count": 22,
   "id": "5050019d-c918-46e0-8b4b-21d6dba2f6f2",
   "metadata": {},
   "outputs": [
    {
     "name": "stdout",
     "output_type": "stream",
     "text": [
      "[{'word': 'about', 'url': 'https://www.youtube.com/watch?v=mCjHYreiZ24', 'start': 5045.98896, 'end': 5194.9998, 'box': [0.13303735852241516, 0.2521272599697113, 0.89015132188797, 0.7639555335044861]}, {'word': 'about', 'url': 'https://www.youtube.com/watch?v=Dax964vUumQ', 'start': 23602.96341, 'end': 23777.98821, 'box': [0.057298243045806885, 0.0033825039863586426, 1.0, 0.8730295896530151]}, {'word': 'about', 'url': 'https://www.youtube.com/watch?v=Gs9zBeSIVIE', 'start': 9801.9882, 'end': 9900.97911, 'box': [0.05145266652107239, 0.36207592487335205, 1.0, 0.6267668604850769]}, {'word': 'about', 'url': 'www.youtube.com/watch?v=Tfj63Ai9tfw', 'start': 0.0, 'end': 36.994968, 'box': [0.017124980688095093, 0.3652523458003998, 1.0, 0.912168025970459]}, {'word': 'about', 'url': 'https://www.youtube.com/watch?v=xaHll2DRUkg', 'start': 12.010554, 'end': 57.991257, 'box': [0.11106356978416443, 0.3129425644874573, 1.0, 0.70534348487854]}, {'word': 'about', 'url': 'https://www.youtube.com/watch?v=xaHll2DRUkg', 'start': 99.012378, 'end': 163.99485299999998, 'box': [0.1115744411945343, 0.3147875666618347, 1.0, 0.706101655960083]}, {'word': 'about', 'url': 'https://www.youtube.com/watch?v=mCjHYreiZ24', 'start': 5045.98896, 'end': 5194.9998, 'box': [0.13303735852241516, 0.2521272599697113, 0.89015132188797, 0.7639555335044861]}, {'word': 'about', 'url': 'https://www.youtube.com/watch?v=Dax964vUumQ', 'start': 23602.96341, 'end': 23777.98821, 'box': [0.057298243045806885, 0.0033825039863586426, 1.0, 0.8730295896530151]}, {'word': 'about', 'url': 'https://www.youtube.com/watch?v=Gs9zBeSIVIE', 'start': 9801.9882, 'end': 9900.97911, 'box': [0.05145266652107239, 0.36207592487335205, 1.0, 0.6267668604850769]}, {'word': 'about', 'url': 'www.youtube.com/watch?v=Tfj63Ai9tfw', 'start': 0.0, 'end': 36.994968, 'box': [0.017124980688095093, 0.3652523458003998, 1.0, 0.912168025970459]}]\n"
     ]
    }
   ],
   "source": [
    "print(matching_data[:10])"
   ]
  },
  {
   "cell_type": "code",
   "execution_count": 23,
   "id": "06ba8baa-c6b4-4e32-9959-603b1afc441a",
   "metadata": {},
   "outputs": [],
   "source": [
    "# We need only a max of 20 videos per word\n",
    "collected_words = []\n",
    "matching_word = \"\"\n",
    "counter = 0\n",
    "for data in matching_data:\n",
    "    #print(data['word'])\n",
    "    if data['word'] != matching_word:\n",
    "        matching_word = data['word']\n",
    "        counter = 0\n",
    "    if counter < 20:\n",
    "        collected_words.append(data)\n",
    "        counter+=1"
   ]
  },
  {
   "cell_type": "code",
   "execution_count": 24,
   "id": "57a3f9ff-77af-4cdb-b9ac-3d8166b4cf51",
   "metadata": {},
   "outputs": [
    {
     "name": "stdout",
     "output_type": "stream",
     "text": [
      "16473\n"
     ]
    }
   ],
   "source": [
    "print(len(collected_words))"
   ]
  },
  {
   "cell_type": "code",
   "execution_count": 25,
   "id": "758ba95f-4469-47ce-abde-9f8d291f9c8f",
   "metadata": {},
   "outputs": [],
   "source": [
    "# Let's visualise the data\n",
    "words_df = pd.DataFrame(collected_words)\n",
    "word_counts = words_df['word'].value_counts()"
   ]
  },
  {
   "cell_type": "code",
   "execution_count": 26,
   "id": "55fa6a35-4096-46e8-84fa-34e546e214bd",
   "metadata": {},
   "outputs": [],
   "source": [
    "with fs.open(f\"s3://asl-capstone/msasl/master_file_Deepak.parquet\",\"rb\") as f:\n",
    "    read_words = pd.read_parquet(f)"
   ]
  },
  {
   "cell_type": "code",
   "execution_count": 27,
   "id": "898a0618-48f5-421e-81fa-0c72ab1f0711",
   "metadata": {},
   "outputs": [
    {
     "data": {
      "text/plain": [
       "caption\n",
       "afraid        77\n",
       "afternoon     72\n",
       "africa        63\n",
       "again         52\n",
       "actor         47\n",
       "accident      42\n",
       "adopt         33\n",
       "accountant    24\n",
       "about         22\n",
       "after         21\n",
       "adult         18\n",
       "accept         9\n",
       "Name: count, dtype: int64"
      ]
     },
     "execution_count": 27,
     "metadata": {},
     "output_type": "execute_result"
    }
   ],
   "source": [
    "read_words['caption'].value_counts()"
   ]
  },
  {
   "cell_type": "code",
   "execution_count": 28,
   "id": "8b050831-992f-495f-9769-ed82e7a76f1e",
   "metadata": {},
   "outputs": [],
   "source": [
    "collected_words = collected_words[440:] # Drop the first 440 words since those were already processed"
   ]
  },
  {
   "cell_type": "code",
   "execution_count": 29,
   "id": "1b8302ef-fbdf-4407-832c-a1697a9d5c13",
   "metadata": {},
   "outputs": [],
   "source": [
    "def check_video(url): #Checks if a YouTube video is available and returns True if available and False if not\n",
    "    try:\n",
    "        result = subprocess.run([\"yt-dlp\", \"--simulate\", \"--get-url\", url], check=True, stdout=subprocess.PIPE, stderr=subprocess.PIPE)\n",
    "        return True\n",
    "    except subprocess.CalledProcessError:\n",
    "        return False # Video is not available in YouTube"
   ]
  },
  {
   "cell_type": "code",
   "execution_count": 30,
   "id": "dd0c800e-4595-4809-8ede-b221f7ede17d",
   "metadata": {},
   "outputs": [],
   "source": [
    "def download_vid(url, filename):\n",
    "    try:\n",
    "        filename = \"temp_folder/\"+filename\n",
    "        if os.path.exists(filename):\n",
    "            os.remove(filename)\n",
    "            print(\"Deleted file\")\n",
    "        if not os.path.exists(filename):\n",
    "            command = [\"yt-dlp\",\"-o\",filename,url]\n",
    "            subprocess.run(command)\n",
    "            return True\n",
    "    except:\n",
    "        return False\n",
    "        "
   ]
  },
  {
   "cell_type": "code",
   "execution_count": 31,
   "id": "214ceec2-bf12-495b-9470-b347cad35765",
   "metadata": {},
   "outputs": [],
   "source": [
    "def crop_center_square(frame):\n",
    "    y, x = frame.shape[0:2]\n",
    "    if x > y:\n",
    "        start_x = (x-y)/2\n",
    "        end_x = start_x + y\n",
    "        start_x = int(start_x)\n",
    "        end_x = int(end_x)\n",
    "        return frame[:, int(start_x):int(end_x)]\n",
    "    else:\n",
    "        return frame"
   ]
  },
  {
   "cell_type": "code",
   "execution_count": 32,
   "id": "c9f55b49-ff39-4bb3-80e3-7c975f370cd2",
   "metadata": {},
   "outputs": [],
   "source": [
    "def load_video(filename, max_frames=0, resize=(256,256)):\n",
    "    filename = \"temp_folder/\"+filename\n",
    "    video_capture = cv2.VideoCapture(filename)\n",
    "    frames = []\n",
    "    try:\n",
    "      while video_capture.isOpened():\n",
    "        ret, frame = video_capture.read()\n",
    "        if not ret:\n",
    "          break\n",
    "        frame = crop_center_square(frame)\n",
    "        frame = cv2.resize(frame, resize)\n",
    "        frame = frame[:, :, [2, 1, 0]]\n",
    "        frames.append(frame)\n",
    "\n",
    "        if len(frames) == max_frames:\n",
    "          break\n",
    "    finally:\n",
    "      video_capture.release()\n",
    "    return np.array(frames) / 255.0"
   ]
  },
  {
   "cell_type": "code",
   "execution_count": 33,
   "id": "89f0ed0a-9133-4256-b0f6-08c462293acc",
   "metadata": {},
   "outputs": [],
   "source": [
    "def save_frame_file(video_array, filename, start_frame, end_frame, word):\n",
    "    s3_uri = \"s3://asl-capstone/msasl/RGB/\"\n",
    "    filename = filename+\".npy\"\n",
    "    if end_frame!=-1:\n",
    "        video_array = video_array[int(start_frame):int(end_frame)].astype(np.float32)\n",
    "    else:\n",
    "        video_array = video_array.astype(np.float32)\n",
    "        \n",
    "    with fs.open(f\"{s3_uri+filename}\",\"wb\") as f:\n",
    "        np.save(f,video_array)\n",
    "    try:\n",
    "        with fs.open(f\"s3://asl-capstone/msasl/master_file_Deepak.parquet\",\"rb\") as f:\n",
    "            parquet_df = pd.read_parquet(f)\n",
    "    except:\n",
    "        parquet_df = pd.DataFrame()\n",
    "        print(\"Parquet does not exist yet\")\n",
    "    temp_df = pd.DataFrame({'caption':[word], 'path':[s3_uri+filename]})\n",
    "    parquet_df = pd.concat([parquet_df,temp_df], ignore_index=True)\n",
    "    with fs.open(f\"s3://asl-capstone/msasl/master_file_Deepak.parquet\",\"wb\") as f:\n",
    "        parquet_df.to_parquet(f)\n",
    "\n",
    "    "
   ]
  },
  {
   "cell_type": "code",
   "execution_count": null,
   "id": "520f7c7f-9304-4d24-95a1-a7ba0c0c7984",
   "metadata": {},
   "outputs": [
    {
     "name": "stderr",
     "output_type": "stream",
     "text": [
      "Processing videos:   0%|                                                                                                                                                             | 0/299 [00:00<?, ?it/s]"
     ]
    },
    {
     "name": "stdout",
     "output_type": "stream",
     "text": [
      "[youtube] Extracting URL: https://www.youtube.com/watch?v=2nXrJ_7NOgE\n",
      "[youtube] 2nXrJ_7NOgE: Downloading webpage\n",
      "[youtube] 2nXrJ_7NOgE: Downloading ios player API JSON\n",
      "[youtube] 2nXrJ_7NOgE: Downloading android player API JSON\n",
      "[youtube] 2nXrJ_7NOgE: Downloading m3u8 information\n",
      "[info] 2nXrJ_7NOgE: Downloading 1 format(s): 22\n",
      "[download] Destination: temp_folder/afraid.mp4\n",
      "[download] 100% of   50.58MiB in 00:00:02 at 17.64MiB/s    \n"
     ]
    },
    {
     "name": "stderr",
     "output_type": "stream",
     "text": [
      "Processing videos:   0%|▍                                                                                                                                                  | 1/299 [00:28<2:22:14, 28.64s/it]"
     ]
    },
    {
     "name": "stdout",
     "output_type": "stream",
     "text": [
      "[youtube] Extracting URL: https://www.youtube.com/watch?v=vcrTUbE1NoY\n",
      "[youtube] vcrTUbE1NoY: Downloading webpage\n",
      "[youtube] vcrTUbE1NoY: Downloading ios player API JSON\n",
      "[youtube] vcrTUbE1NoY: Downloading android player API JSON\n",
      "[youtube] vcrTUbE1NoY: Downloading m3u8 information\n",
      "[info] vcrTUbE1NoY: Downloading 1 format(s): 22\n",
      "[download] Destination: temp_folder/afraid_2.mp4\n",
      "[download] 100% of    6.75MiB in 00:00:00 at 16.05MiB/s    \n"
     ]
    },
    {
     "name": "stderr",
     "output_type": "stream",
     "text": [
      "Processing videos:   1%|▉                                                                                                                                                  | 2/299 [00:37<1:24:36, 17.09s/it]"
     ]
    },
    {
     "name": "stdout",
     "output_type": "stream",
     "text": [
      "[youtube] Extracting URL: https://www.youtube.com/watch?v=Cv5avR9nEhg\n",
      "[youtube] Cv5avR9nEhg: Downloading webpage\n",
      "[youtube] Cv5avR9nEhg: Downloading ios player API JSON\n",
      "[youtube] Cv5avR9nEhg: Downloading android player API JSON\n",
      "[youtube] Cv5avR9nEhg: Downloading m3u8 information\n",
      "[info] Cv5avR9nEhg: Downloading 1 format(s): 22\n",
      "[download] Destination: temp_folder/afraid_3.mp4\n",
      "[download] 100% of  103.49MiB in 00:00:08 at 11.91MiB/s    \n"
     ]
    },
    {
     "name": "stderr",
     "output_type": "stream",
     "text": [
      "Processing videos:   1%|█▍                                                                                                                                                 | 3/299 [01:35<2:55:04, 35.49s/it]"
     ]
    },
    {
     "name": "stdout",
     "output_type": "stream",
     "text": [
      "[youtube] Extracting URL: https://www.youtube.com/watch?v=qjESIderNxM\n",
      "[youtube] qjESIderNxM: Downloading webpage\n",
      "[youtube] qjESIderNxM: Downloading ios player API JSON\n",
      "[youtube] qjESIderNxM: Downloading android player API JSON\n"
     ]
    },
    {
     "name": "stderr",
     "output_type": "stream",
     "text": [
      "ERROR: [youtube] qjESIderNxM: Video unavailable\n",
      "Processing videos:   1%|█▉                                                                                                                                                 | 4/299 [01:35<1:47:18, 21.83s/it]"
     ]
    },
    {
     "name": "stdout",
     "output_type": "stream",
     "text": [
      "[Errno 2] No such file or directory: 'temp_folder/afraid_4.mp4'\n",
      "[youtube] Extracting URL: https://www.youtube.com/watch?v=eRZW3DPxDGk\n",
      "[youtube] eRZW3DPxDGk: Downloading webpage\n",
      "[youtube] eRZW3DPxDGk: Downloading ios player API JSON\n",
      "[youtube] eRZW3DPxDGk: Downloading android player API JSON\n",
      "[youtube] eRZW3DPxDGk: Downloading m3u8 information\n",
      "[youtube] eRZW3DPxDGk: Downloading MPD manifest\n",
      "[info] eRZW3DPxDGk: Downloading 1 format(s): 22\n",
      "[download] Destination: temp_folder/afraid_5.mp4\n",
      "[download] 100% of  128.61MiB in 00:00:22 at 5.73MiB/s     \n"
     ]
    },
    {
     "name": "stderr",
     "output_type": "stream",
     "text": [
      "Processing videos:   2%|██▍                                                                                                                                                | 5/299 [02:27<2:39:56, 32.64s/it]"
     ]
    },
    {
     "name": "stdout",
     "output_type": "stream",
     "text": [
      "[generic] Extracting URL: www.youtube.com/watch?v=yLVb8477Wn4\n",
      "[youtube] Extracting URL: http://www.youtube.com/watch?v=yLVb8477Wn4\n",
      "[youtube] yLVb8477Wn4: Downloading webpage\n"
     ]
    },
    {
     "name": "stderr",
     "output_type": "stream",
     "text": [
      "WARNING: [generic] The url doesn't specify the protocol, trying with http\n"
     ]
    },
    {
     "name": "stdout",
     "output_type": "stream",
     "text": [
      "[youtube] yLVb8477Wn4: Downloading ios player API JSON\n",
      "[youtube] yLVb8477Wn4: Downloading android player API JSON\n"
     ]
    },
    {
     "name": "stderr",
     "output_type": "stream",
     "text": [
      "ERROR: [youtube] yLVb8477Wn4: Video unavailable\n",
      "Processing videos:   2%|██▉                                                                                                                                                | 6/299 [02:28<1:47:08, 21.94s/it]"
     ]
    },
    {
     "name": "stdout",
     "output_type": "stream",
     "text": [
      "[Errno 2] No such file or directory: 'temp_folder/afraid_6.mp4'\n",
      "[youtube] Extracting URL: https://www.youtube.com/watch?v=Eq6SnaimpzQ\n",
      "[youtube] Eq6SnaimpzQ: Downloading webpage\n",
      "[youtube] Eq6SnaimpzQ: Downloading ios player API JSON\n",
      "[youtube] Eq6SnaimpzQ: Downloading android player API JSON\n",
      "[youtube] Eq6SnaimpzQ: Downloading m3u8 information\n",
      "[info] Eq6SnaimpzQ: Downloading 1 format(s): 22\n",
      "[download] Destination: temp_folder/afraid_7.mp4\n",
      "[download] 100% of   54.64MiB in 00:00:19 at 2.76MiB/s     \n"
     ]
    },
    {
     "name": "stderr",
     "output_type": "stream",
     "text": [
      "Processing videos:   2%|███▍                                                                                                                                               | 7/299 [03:06<2:11:46, 27.08s/it]"
     ]
    },
    {
     "name": "stdout",
     "output_type": "stream",
     "text": [
      "[youtube] Extracting URL: https://www.youtube.com/watch?v=96HY0Pcl_e4\n",
      "[youtube] 96HY0Pcl_e4: Downloading webpage\n",
      "[youtube] 96HY0Pcl_e4: Downloading ios player API JSON\n",
      "[youtube] 96HY0Pcl_e4: Downloading android player API JSON\n",
      "[youtube] 96HY0Pcl_e4: Downloading m3u8 information\n",
      "[youtube] 96HY0Pcl_e4: Downloading MPD manifest\n",
      "[info] 96HY0Pcl_e4: Downloading 1 format(s): 22\n",
      "[download] Destination: temp_folder/afraid_8.mp4\n",
      "[download] 100% of   54.80MiB in 00:00:17 at 3.08MiB/s     \n"
     ]
    },
    {
     "name": "stderr",
     "output_type": "stream",
     "text": [
      "Processing videos:   3%|███▉                                                                                                                                               | 8/299 [03:39<2:20:06, 28.89s/it]"
     ]
    },
    {
     "name": "stdout",
     "output_type": "stream",
     "text": [
      "[youtube] Extracting URL: https://www.youtube.com/watch?v=0e8jwNFLfhw\n",
      "[youtube] 0e8jwNFLfhw: Downloading webpage\n",
      "[youtube] 0e8jwNFLfhw: Downloading ios player API JSON\n"
     ]
    },
    {
     "name": "stderr",
     "output_type": "stream",
     "text": [
      "ERROR: [youtube] 0e8jwNFLfhw: Video unavailable\n",
      "Processing videos:   3%|████▍                                                                                                                                              | 9/299 [03:40<1:37:00, 20.07s/it]"
     ]
    },
    {
     "name": "stdout",
     "output_type": "stream",
     "text": [
      "[youtube] 0e8jwNFLfhw: Downloading android player API JSON\n",
      "[Errno 2] No such file or directory: 'temp_folder/afraid_9.mp4'\n",
      "[generic] Extracting URL: www.youtube.com/watch?v=J2WQZ8E4SUA\n",
      "[youtube] Extracting URL: http://www.youtube.com/watch?v=J2WQZ8E4SUA\n",
      "[youtube] J2WQZ8E4SUA: Downloading webpage\n",
      "[youtube] J2WQZ8E4SUA: Downloading ios player API JSON\n"
     ]
    },
    {
     "name": "stderr",
     "output_type": "stream",
     "text": [
      "WARNING: [generic] The url doesn't specify the protocol, trying with http\n",
      "ERROR: [youtube] J2WQZ8E4SUA: Video unavailable\n",
      "Processing videos:   3%|████▉                                                                                                                                             | 10/299 [03:41<1:08:22, 14.20s/it]"
     ]
    },
    {
     "name": "stdout",
     "output_type": "stream",
     "text": [
      "[youtube] J2WQZ8E4SUA: Downloading android player API JSON\n",
      "[Errno 2] No such file or directory: 'temp_folder/afraid_10.mp4'\n",
      "[generic] Extracting URL: www.youtube.com/watch?v=eSNECwtBQrg\n",
      "[youtube] Extracting URL: http://www.youtube.com/watch?v=eSNECwtBQrg\n",
      "[youtube] eSNECwtBQrg: Downloading webpage\n",
      "[youtube] eSNECwtBQrg: Downloading ios player API JSON\n"
     ]
    },
    {
     "name": "stderr",
     "output_type": "stream",
     "text": [
      "WARNING: [generic] The url doesn't specify the protocol, trying with http\n",
      "ERROR: [youtube] eSNECwtBQrg: Video unavailable\n",
      "Processing videos:   4%|█████▍                                                                                                                                              | 11/299 [03:42<48:51, 10.18s/it]"
     ]
    },
    {
     "name": "stdout",
     "output_type": "stream",
     "text": [
      "[youtube] eSNECwtBQrg: Downloading android player API JSON\n",
      "[Errno 2] No such file or directory: 'temp_folder/afraid_11.mp4'\n",
      "[youtube] Extracting URL: https://www.youtube.com/watch?v=syulgJH4PsU\n",
      "[youtube] syulgJH4PsU: Downloading webpage\n",
      "[youtube] syulgJH4PsU: Downloading ios player API JSON\n",
      "[youtube] syulgJH4PsU: Downloading android player API JSON\n",
      "[youtube] syulgJH4PsU: Downloading m3u8 information\n",
      "[info] syulgJH4PsU: Downloading 1 format(s): 22\n",
      "[download] Destination: temp_folder/afraid_12.mp4\n",
      "[download] 100% of   11.05MiB in 00:00:01 at 10.31MiB/s    \n"
     ]
    },
    {
     "name": "stderr",
     "output_type": "stream",
     "text": [
      "Processing videos:   4%|█████▉                                                                                                                                              | 12/299 [03:52<49:08, 10.27s/it]"
     ]
    },
    {
     "name": "stdout",
     "output_type": "stream",
     "text": [
      "[youtube] Extracting URL: https://www.youtube.com/watch?v=nvaS2J5mcEk\n",
      "[youtube] nvaS2J5mcEk: Downloading webpage\n",
      "[youtube] nvaS2J5mcEk: Downloading ios player API JSON\n",
      "[youtube] nvaS2J5mcEk: Downloading android player API JSON\n",
      "[youtube] nvaS2J5mcEk: Downloading m3u8 information\n",
      "[info] nvaS2J5mcEk: Downloading 1 format(s): 18\n",
      "[download] Destination: temp_folder/afraid_13.mp4\n",
      "[download] 100% of   16.00MiB in 00:00:01 at 11.66MiB/s    \n"
     ]
    },
    {
     "name": "stderr",
     "output_type": "stream",
     "text": [
      "Processing videos:   4%|██████▍                                                                                                                                             | 13/299 [04:07<55:50, 11.71s/it]"
     ]
    },
    {
     "name": "stdout",
     "output_type": "stream",
     "text": [
      "[youtube] Extracting URL: https://www.youtube.com/watch?v=HiRHs2d8WiM\n",
      "[youtube] HiRHs2d8WiM: Downloading webpage\n",
      "[youtube] HiRHs2d8WiM: Downloading ios player API JSON\n",
      "[youtube] HiRHs2d8WiM: Downloading android player API JSON\n",
      "[youtube] HiRHs2d8WiM: Downloading m3u8 information\n",
      "[info] HiRHs2d8WiM: Downloading 1 format(s): 18\n",
      "[download] Destination: temp_folder/afraid_14.mp4\n",
      "[download] 100% of    1.21MiB in 00:00:00 at 2.28MiB/s     \n"
     ]
    },
    {
     "name": "stderr",
     "output_type": "stream",
     "text": [
      "Processing videos:   5%|██████▉                                                                                                                                             | 14/299 [04:13<47:57, 10.10s/it]"
     ]
    },
    {
     "name": "stdout",
     "output_type": "stream",
     "text": [
      "[youtube] Extracting URL: https://www.youtube.com/watch?v=HiRHs2d8WiM\n",
      "[youtube] HiRHs2d8WiM: Downloading webpage\n",
      "[youtube] HiRHs2d8WiM: Downloading ios player API JSON\n",
      "[youtube] HiRHs2d8WiM: Downloading android player API JSON\n",
      "[youtube] HiRHs2d8WiM: Downloading m3u8 information\n",
      "[info] HiRHs2d8WiM: Downloading 1 format(s): 18\n",
      "[download] Destination: temp_folder/afraid_15.mp4\n",
      "[download] 100% of    1.21MiB in 00:00:00 at 2.33MiB/s     \n"
     ]
    },
    {
     "name": "stderr",
     "output_type": "stream",
     "text": [
      "Processing videos:   5%|███████▍                                                                                                                                            | 15/299 [04:18<39:52,  8.42s/it]"
     ]
    },
    {
     "name": "stdout",
     "output_type": "stream",
     "text": [
      "[youtube] Extracting URL: https://www.youtube.com/watch?v=HiRHs2d8WiM\n",
      "[youtube] HiRHs2d8WiM: Downloading webpage\n",
      "[youtube] HiRHs2d8WiM: Downloading ios player API JSON\n",
      "[youtube] HiRHs2d8WiM: Downloading android player API JSON\n",
      "[youtube] HiRHs2d8WiM: Downloading m3u8 information\n",
      "[info] HiRHs2d8WiM: Downloading 1 format(s): 18\n",
      "[download] Destination: temp_folder/afraid_16.mp4\n",
      "[download] 100% of    1.21MiB in 00:00:00 at 3.68MiB/s     \n"
     ]
    },
    {
     "name": "stderr",
     "output_type": "stream",
     "text": [
      "Processing videos:   5%|███████▉                                                                                                                                            | 16/299 [04:23<34:08,  7.24s/it]"
     ]
    },
    {
     "name": "stdout",
     "output_type": "stream",
     "text": [
      "[youtube] Extracting URL: https://www.youtube.com/watch?v=a6O9GUBpc3c\n",
      "[youtube] a6O9GUBpc3c: Downloading webpage\n",
      "[youtube] a6O9GUBpc3c: Downloading ios player API JSON\n"
     ]
    },
    {
     "name": "stderr",
     "output_type": "stream",
     "text": [
      "ERROR: [youtube] a6O9GUBpc3c: Video unavailable\n",
      "Processing videos:   6%|████████▍                                                                                                                                           | 17/299 [04:23<24:48,  5.28s/it]"
     ]
    },
    {
     "name": "stdout",
     "output_type": "stream",
     "text": [
      "[youtube] a6O9GUBpc3c: Downloading android player API JSON\n",
      "[Errno 2] No such file or directory: 'temp_folder/afraid_17.mp4'\n",
      "[youtube] Extracting URL: https://www.youtube.com/watch?v=c2W6TVd_xh4\n",
      "[youtube] c2W6TVd_xh4: Downloading webpage\n",
      "[youtube] c2W6TVd_xh4: Downloading ios player API JSON\n",
      "[youtube] c2W6TVd_xh4: Downloading android player API JSON\n",
      "[youtube] c2W6TVd_xh4: Downloading m3u8 information\n",
      "[info] c2W6TVd_xh4: Downloading 1 format(s): 22\n",
      "[download] Destination: temp_folder/afraid_18.mp4\n",
      "[download] 100% of    8.90MiB in 00:00:01 at 4.91MiB/s     \n"
     ]
    },
    {
     "name": "stderr",
     "output_type": "stream",
     "text": [
      "Processing videos:   6%|████████▉                                                                                                                                           | 18/299 [04:36<34:59,  7.47s/it]"
     ]
    },
    {
     "name": "stdout",
     "output_type": "stream",
     "text": [
      "[youtube] Extracting URL: https://www.youtube.com/watch?v=7YYB3BEoksc\n",
      "[youtube] 7YYB3BEoksc: Downloading webpage\n",
      "[youtube] 7YYB3BEoksc: Downloading ios player API JSON\n"
     ]
    },
    {
     "name": "stderr",
     "output_type": "stream",
     "text": [
      "ERROR: [youtube] 7YYB3BEoksc: Private video. Sign in if you've been granted access to this video\n",
      "Processing videos:   6%|█████████▍                                                                                                                                          | 19/299 [04:37<25:32,  5.47s/it]"
     ]
    },
    {
     "name": "stdout",
     "output_type": "stream",
     "text": [
      "[youtube] 7YYB3BEoksc: Downloading android player API JSON\n",
      "[Errno 2] No such file or directory: 'temp_folder/afraid_19.mp4'\n",
      "[youtube] Extracting URL: https://www.youtube.com/watch?v=inAFZxRsUeo\n",
      "[youtube] inAFZxRsUeo: Downloading webpage\n",
      "[youtube] inAFZxRsUeo: Downloading ios player API JSON\n",
      "[youtube] inAFZxRsUeo: Downloading android player API JSON\n",
      "[youtube] inAFZxRsUeo: Downloading m3u8 information\n",
      "[info] inAFZxRsUeo: Downloading 1 format(s): 18\n",
      "[download] Destination: temp_folder/afraid_20.mp4\n",
      "[download] 100% of    5.15MiB in 00:00:00 at 10.62MiB/s  \n"
     ]
    },
    {
     "name": "stderr",
     "output_type": "stream",
     "text": [
      "Processing videos:   7%|█████████▉                                                                                                                                          | 20/299 [04:45<29:57,  6.44s/it]"
     ]
    },
    {
     "name": "stdout",
     "output_type": "stream",
     "text": [
      "[youtube] Extracting URL: https://www.youtube.com/watch?v=z8e_-viWx9E\n",
      "[youtube] z8e_-viWx9E: Downloading webpage\n",
      "[youtube] z8e_-viWx9E: Downloading ios player API JSON\n",
      "[youtube] z8e_-viWx9E: Downloading android player API JSON\n",
      "[youtube] z8e_-viWx9E: Downloading m3u8 information\n",
      "[info] z8e_-viWx9E: Downloading 1 format(s): 22\n",
      "[download] Destination: temp_folder/afraid_21.mp4\n",
      "[download] 100% of   63.65MiB in 00:00:04 at 14.34MiB/s    \n"
     ]
    },
    {
     "name": "stderr",
     "output_type": "stream",
     "text": [
      "Processing videos:   7%|██████████▍                                                                                                                                         | 21/299 [05:09<54:15, 11.71s/it]"
     ]
    },
    {
     "name": "stdout",
     "output_type": "stream",
     "text": [
      "[youtube] Extracting URL: https://www.youtube.com/watch?v=fnhiGz4qE_I\n",
      "[youtube] fnhiGz4qE_I: Downloading webpage\n",
      "[youtube] fnhiGz4qE_I: Downloading ios player API JSON\n",
      "[youtube] fnhiGz4qE_I: Downloading android player API JSON\n",
      "[youtube] fnhiGz4qE_I: Downloading m3u8 information\n",
      "[info] fnhiGz4qE_I: Downloading 1 format(s): 22\n",
      "[download] Destination: temp_folder/afraid_22.mp4\n",
      "[download] 100% of   21.13MiB in 00:00:01 at 13.93MiB/s    \n"
     ]
    },
    {
     "name": "stderr",
     "output_type": "stream",
     "text": [
      "Processing videos:   7%|██████████▉                                                                                                                                         | 22/299 [05:18<49:17, 10.68s/it]"
     ]
    },
    {
     "name": "stdout",
     "output_type": "stream",
     "text": [
      "[youtube] Extracting URL: https://www.youtube.com/watch?v=fnhiGz4qE_I\n",
      "[youtube] fnhiGz4qE_I: Downloading webpage\n",
      "[youtube] fnhiGz4qE_I: Downloading ios player API JSON\n",
      "[youtube] fnhiGz4qE_I: Downloading android player API JSON\n",
      "[youtube] fnhiGz4qE_I: Downloading m3u8 information\n",
      "[info] fnhiGz4qE_I: Downloading 1 format(s): 22\n",
      "[download] Destination: temp_folder/afraid_23.mp4\n",
      "[download] 100% of   21.13MiB in 00:00:01 at 13.94MiB/s    \n"
     ]
    },
    {
     "name": "stderr",
     "output_type": "stream",
     "text": [
      "Processing videos:   8%|███████████▍                                                                                                                                        | 23/299 [05:26<45:43,  9.94s/it]"
     ]
    },
    {
     "name": "stdout",
     "output_type": "stream",
     "text": [
      "[youtube] Extracting URL: https://www.youtube.com/watch?v=8hBFgtJOZaE\n",
      "[youtube] 8hBFgtJOZaE: Downloading webpage\n",
      "[youtube] 8hBFgtJOZaE: Downloading ios player API JSON\n",
      "[youtube] 8hBFgtJOZaE: Downloading android player API JSON\n",
      "[youtube] 8hBFgtJOZaE: Downloading m3u8 information\n",
      "[info] 8hBFgtJOZaE: Downloading 1 format(s): 18\n",
      "[download] Destination: temp_folder/afraid_24.mp4\n",
      "[download] 100% of   28.05MiB in 00:00:01 at 17.76MiB/s    \n"
     ]
    },
    {
     "name": "stderr",
     "output_type": "stream",
     "text": [
      "Processing videos:   8%|███████████▋                                                                                                                                      | 24/299 [05:58<1:15:53, 16.56s/it]"
     ]
    },
    {
     "name": "stdout",
     "output_type": "stream",
     "text": [
      "[youtube] Extracting URL: https://www.youtube.com/watch?v=8hBFgtJOZaE\n",
      "[youtube] 8hBFgtJOZaE: Downloading webpage\n",
      "[youtube] 8hBFgtJOZaE: Downloading ios player API JSON\n",
      "[youtube] 8hBFgtJOZaE: Downloading android player API JSON\n",
      "[youtube] 8hBFgtJOZaE: Downloading m3u8 information\n",
      "[info] 8hBFgtJOZaE: Downloading 1 format(s): 18\n",
      "[download] Destination: temp_folder/afraid_25.mp4\n",
      "[download] 100% of   28.05MiB in 00:00:01 at 19.90MiB/s    \n"
     ]
    },
    {
     "name": "stderr",
     "output_type": "stream",
     "text": [
      "Processing videos:   8%|████████████▏                                                                                                                                     | 25/299 [06:30<1:36:51, 21.21s/it]"
     ]
    },
    {
     "name": "stdout",
     "output_type": "stream",
     "text": [
      "[youtube] Extracting URL: https://www.youtube.com/watch?v=5S3qaGLdPmE\n",
      "[youtube] 5S3qaGLdPmE: Downloading webpage\n",
      "[youtube] 5S3qaGLdPmE: Downloading ios player API JSON\n",
      "[youtube] 5S3qaGLdPmE: Downloading android player API JSON\n",
      "[youtube] 5S3qaGLdPmE: Downloading m3u8 information\n",
      "[info] 5S3qaGLdPmE: Downloading 1 format(s): 18\n",
      "[download] Destination: temp_folder/afraid_26.mp4\n",
      "[download] 100% of   34.76MiB in 00:00:12 at 2.84MiB/s     \n"
     ]
    },
    {
     "name": "stderr",
     "output_type": "stream",
     "text": [
      "Processing videos:   9%|████████████▋                                                                                                                                     | 26/299 [07:08<2:00:12, 26.42s/it]"
     ]
    },
    {
     "name": "stdout",
     "output_type": "stream",
     "text": [
      "[youtube] Extracting URL: https://www.youtube.com/watch?v=2nXrJ_7NOgE\n",
      "[youtube] 2nXrJ_7NOgE: Downloading webpage\n",
      "[youtube] 2nXrJ_7NOgE: Downloading ios player API JSON\n",
      "[youtube] 2nXrJ_7NOgE: Downloading android player API JSON\n",
      "[youtube] 2nXrJ_7NOgE: Downloading m3u8 information\n",
      "[info] 2nXrJ_7NOgE: Downloading 1 format(s): 22\n",
      "[download] Destination: temp_folder/afraid_27.mp4\n",
      "[download] 100% of   50.58MiB in 00:00:03 at 13.83MiB/s    \n"
     ]
    },
    {
     "name": "stderr",
     "output_type": "stream",
     "text": [
      "Processing videos:   9%|█████████████▏                                                                                                                                    | 27/299 [07:37<2:02:05, 26.93s/it]"
     ]
    },
    {
     "name": "stdout",
     "output_type": "stream",
     "text": [
      "[youtube] Extracting URL: https://www.youtube.com/watch?v=vcrTUbE1NoY\n",
      "[youtube] vcrTUbE1NoY: Downloading webpage\n",
      "[youtube] vcrTUbE1NoY: Downloading ios player API JSON\n",
      "[youtube] vcrTUbE1NoY: Downloading android player API JSON\n",
      "[youtube] vcrTUbE1NoY: Downloading m3u8 information\n",
      "[info] vcrTUbE1NoY: Downloading 1 format(s): 22\n",
      "[download] Destination: temp_folder/afraid_28.mp4\n",
      "[download] 100% of    6.75MiB in 00:00:00 at 9.94MiB/s     \n"
     ]
    },
    {
     "name": "stderr",
     "output_type": "stream",
     "text": [
      "Processing videos:   9%|█████████████▋                                                                                                                                    | 28/299 [07:45<1:37:07, 21.50s/it]"
     ]
    },
    {
     "name": "stdout",
     "output_type": "stream",
     "text": [
      "[youtube] Extracting URL: https://www.youtube.com/watch?v=Cv5avR9nEhg\n",
      "[youtube] Cv5avR9nEhg: Downloading webpage\n",
      "[youtube] Cv5avR9nEhg: Downloading ios player API JSON\n",
      "[youtube] Cv5avR9nEhg: Downloading android player API JSON\n",
      "[youtube] Cv5avR9nEhg: Downloading m3u8 information\n",
      "[info] Cv5avR9nEhg: Downloading 1 format(s): 22\n",
      "[download] Destination: temp_folder/afraid_29.mp4\n",
      "[download] 100% of  103.49MiB in 00:00:06 at 14.84MiB/s    \n"
     ]
    },
    {
     "name": "stderr",
     "output_type": "stream",
     "text": [
      "Processing videos:  10%|██████████████▏                                                                                                                                   | 29/299 [08:41<2:22:30, 31.67s/it]"
     ]
    },
    {
     "name": "stdout",
     "output_type": "stream",
     "text": [
      "[youtube] Extracting URL: https://www.youtube.com/watch?v=qjESIderNxM\n",
      "[youtube] qjESIderNxM: Downloading webpage\n",
      "[youtube] qjESIderNxM: Downloading ios player API JSON\n",
      "[youtube] qjESIderNxM: Downloading android player API JSON\n"
     ]
    },
    {
     "name": "stderr",
     "output_type": "stream",
     "text": [
      "ERROR: [youtube] qjESIderNxM: Video unavailable\n",
      "Processing videos:  10%|██████████████▋                                                                                                                                   | 30/299 [08:42<1:40:21, 22.39s/it]"
     ]
    },
    {
     "name": "stdout",
     "output_type": "stream",
     "text": [
      "[Errno 2] No such file or directory: 'temp_folder/afraid_30.mp4'\n",
      "[youtube] Extracting URL: https://www.youtube.com/watch?v=eRZW3DPxDGk\n",
      "[youtube] eRZW3DPxDGk: Downloading webpage\n",
      "[youtube] eRZW3DPxDGk: Downloading ios player API JSON\n",
      "[youtube] eRZW3DPxDGk: Downloading android player API JSON\n",
      "[youtube] eRZW3DPxDGk: Downloading m3u8 information\n",
      "[youtube] eRZW3DPxDGk: Downloading MPD manifest\n",
      "[info] eRZW3DPxDGk: Downloading 1 format(s): 22\n",
      "[download] Destination: temp_folder/afraid_31.mp4\n",
      "[download] 100% of  128.61MiB in 00:00:09 at 13.90MiB/s    \n"
     ]
    },
    {
     "name": "stderr",
     "output_type": "stream",
     "text": [
      "Processing videos:  10%|███████████████▏                                                                                                                                  | 31/299 [09:20<2:00:52, 27.06s/it]"
     ]
    },
    {
     "name": "stdout",
     "output_type": "stream",
     "text": [
      "[generic] Extracting URL: www.youtube.com/watch?v=yLVb8477Wn4\n",
      "[youtube] Extracting URL: http://www.youtube.com/watch?v=yLVb8477Wn4\n",
      "[youtube] yLVb8477Wn4: Downloading webpage\n",
      "[youtube] yLVb8477Wn4: Downloading ios player API JSON\n"
     ]
    },
    {
     "name": "stderr",
     "output_type": "stream",
     "text": [
      "WARNING: [generic] The url doesn't specify the protocol, trying with http\n",
      "ERROR: [youtube] yLVb8477Wn4: Video unavailable\n",
      "Processing videos:  11%|███████████████▋                                                                                                                                  | 32/299 [09:21<1:25:45, 19.27s/it]"
     ]
    },
    {
     "name": "stdout",
     "output_type": "stream",
     "text": [
      "[youtube] yLVb8477Wn4: Downloading android player API JSON\n",
      "[Errno 2] No such file or directory: 'temp_folder/afraid_32.mp4'\n",
      "[youtube] Extracting URL: https://www.youtube.com/watch?v=Eq6SnaimpzQ\n",
      "[youtube] Eq6SnaimpzQ: Downloading webpage\n",
      "[youtube] Eq6SnaimpzQ: Downloading ios player API JSON\n",
      "[youtube] Eq6SnaimpzQ: Downloading android player API JSON\n",
      "[youtube] Eq6SnaimpzQ: Downloading m3u8 information\n",
      "[info] Eq6SnaimpzQ: Downloading 1 format(s): 22\n",
      "[download] Destination: temp_folder/afraid_33.mp4\n",
      "[download] 100% of   54.64MiB in 00:00:03 at 14.09MiB/s    \n"
     ]
    },
    {
     "name": "stderr",
     "output_type": "stream",
     "text": [
      "Processing videos:  11%|████████████████                                                                                                                                  | 33/299 [09:41<1:27:28, 19.73s/it]"
     ]
    },
    {
     "name": "stdout",
     "output_type": "stream",
     "text": [
      "[youtube] Extracting URL: https://www.youtube.com/watch?v=96HY0Pcl_e4\n",
      "[youtube] 96HY0Pcl_e4: Downloading webpage\n",
      "[youtube] 96HY0Pcl_e4: Downloading ios player API JSON\n",
      "[youtube] 96HY0Pcl_e4: Downloading android player API JSON\n",
      "[youtube] 96HY0Pcl_e4: Downloading m3u8 information\n",
      "[youtube] 96HY0Pcl_e4: Downloading MPD manifest\n",
      "[info] 96HY0Pcl_e4: Downloading 1 format(s): 22\n",
      "[download] Destination: temp_folder/afraid_34.mp4\n",
      "[download] 100% of   54.80MiB in 00:00:04 at 12.72MiB/s    \n"
     ]
    },
    {
     "name": "stderr",
     "output_type": "stream",
     "text": [
      "Processing videos:  11%|████████████████▌                                                                                                                                 | 34/299 [10:00<1:26:16, 19.53s/it]"
     ]
    },
    {
     "name": "stdout",
     "output_type": "stream",
     "text": [
      "[youtube] Extracting URL: https://www.youtube.com/watch?v=0e8jwNFLfhw\n",
      "[youtube] 0e8jwNFLfhw: Downloading webpage\n",
      "[youtube] 0e8jwNFLfhw: Downloading ios player API JSON\n",
      "[youtube] 0e8jwNFLfhw: Downloading android player API JSON\n"
     ]
    },
    {
     "name": "stderr",
     "output_type": "stream",
     "text": [
      "ERROR: [youtube] 0e8jwNFLfhw: Video unavailable\n",
      "Processing videos:  12%|█████████████████                                                                                                                                 | 35/299 [10:01<1:01:04, 13.88s/it]"
     ]
    },
    {
     "name": "stdout",
     "output_type": "stream",
     "text": [
      "[Errno 2] No such file or directory: 'temp_folder/afraid_35.mp4'\n",
      "[generic] Extracting URL: www.youtube.com/watch?v=J2WQZ8E4SUA\n",
      "[youtube] Extracting URL: http://www.youtube.com/watch?v=J2WQZ8E4SUA\n",
      "[youtube] J2WQZ8E4SUA: Downloading webpage\n"
     ]
    },
    {
     "name": "stderr",
     "output_type": "stream",
     "text": [
      "WARNING: [generic] The url doesn't specify the protocol, trying with http\n"
     ]
    },
    {
     "name": "stdout",
     "output_type": "stream",
     "text": [
      "[youtube] J2WQZ8E4SUA: Downloading ios player API JSON\n",
      "[youtube] J2WQZ8E4SUA: Downloading android player API JSON\n"
     ]
    },
    {
     "name": "stderr",
     "output_type": "stream",
     "text": [
      "ERROR: [youtube] J2WQZ8E4SUA: Video unavailable\n",
      "Processing videos:  12%|█████████████████▊                                                                                                                                  | 36/299 [10:03<44:27, 10.14s/it]"
     ]
    },
    {
     "name": "stdout",
     "output_type": "stream",
     "text": [
      "[Errno 2] No such file or directory: 'temp_folder/afraid_36.mp4'\n",
      "[generic] Extracting URL: www.youtube.com/watch?v=eSNECwtBQrg\n",
      "[youtube] Extracting URL: http://www.youtube.com/watch?v=eSNECwtBQrg\n",
      "[youtube] eSNECwtBQrg: Downloading webpage\n",
      "[youtube] eSNECwtBQrg: Downloading ios player API JSON\n"
     ]
    },
    {
     "name": "stderr",
     "output_type": "stream",
     "text": [
      "WARNING: [generic] The url doesn't specify the protocol, trying with http\n"
     ]
    },
    {
     "name": "stdout",
     "output_type": "stream",
     "text": [
      "[youtube] eSNECwtBQrg: Downloading android player API JSON\n"
     ]
    },
    {
     "name": "stderr",
     "output_type": "stream",
     "text": [
      "ERROR: [youtube] eSNECwtBQrg: Video unavailable\n",
      "Processing videos:  12%|██████████████████▎                                                                                                                                 | 37/299 [10:04<32:24,  7.42s/it]"
     ]
    },
    {
     "name": "stdout",
     "output_type": "stream",
     "text": [
      "[Errno 2] No such file or directory: 'temp_folder/afraid_37.mp4'\n",
      "[youtube] Extracting URL: https://www.youtube.com/watch?v=syulgJH4PsU\n",
      "[youtube] syulgJH4PsU: Downloading webpage\n",
      "[youtube] syulgJH4PsU: Downloading ios player API JSON\n",
      "[youtube] syulgJH4PsU: Downloading android player API JSON\n",
      "[youtube] syulgJH4PsU: Downloading m3u8 information\n",
      "[info] syulgJH4PsU: Downloading 1 format(s): 22\n",
      "[download] Destination: temp_folder/afraid_38.mp4\n",
      "[download] 100% of   11.05MiB in 00:00:00 at 11.44MiB/s    \n"
     ]
    },
    {
     "name": "stderr",
     "output_type": "stream",
     "text": [
      "Processing videos:  13%|██████████████████▊                                                                                                                                 | 38/299 [10:14<36:15,  8.33s/it]"
     ]
    },
    {
     "name": "stdout",
     "output_type": "stream",
     "text": [
      "[youtube] Extracting URL: https://www.youtube.com/watch?v=nvaS2J5mcEk\n",
      "[youtube] nvaS2J5mcEk: Downloading webpage\n",
      "[youtube] nvaS2J5mcEk: Downloading ios player API JSON\n",
      "[youtube] nvaS2J5mcEk: Downloading android player API JSON\n",
      "[youtube] nvaS2J5mcEk: Downloading m3u8 information\n",
      "[info] nvaS2J5mcEk: Downloading 1 format(s): 18\n",
      "[download] Destination: temp_folder/afraid_39.mp4\n",
      "[download] 100% of   16.00MiB in 00:00:01 at 11.80MiB/s    \n"
     ]
    },
    {
     "name": "stderr",
     "output_type": "stream",
     "text": [
      "Processing videos:  13%|███████████████████▎                                                                                                                                | 39/299 [10:29<44:55, 10.37s/it]"
     ]
    },
    {
     "name": "stdout",
     "output_type": "stream",
     "text": [
      "[youtube] Extracting URL: https://www.youtube.com/watch?v=HiRHs2d8WiM\n",
      "[youtube] HiRHs2d8WiM: Downloading webpage\n",
      "[youtube] HiRHs2d8WiM: Downloading ios player API JSON\n",
      "[youtube] HiRHs2d8WiM: Downloading android player API JSON\n",
      "[youtube] HiRHs2d8WiM: Downloading m3u8 information\n",
      "[info] HiRHs2d8WiM: Downloading 1 format(s): 18\n",
      "[download] Destination: temp_folder/afraid_40.mp4\n",
      "[download] 100% of    1.21MiB in 00:00:00 at 2.82MiB/s     \n"
     ]
    },
    {
     "name": "stderr",
     "output_type": "stream",
     "text": [
      "Processing videos:  13%|███████████████████▊                                                                                                                                | 40/299 [10:36<40:25,  9.37s/it]"
     ]
    },
    {
     "name": "stdout",
     "output_type": "stream",
     "text": [
      "[youtube] Extracting URL: https://www.youtube.com/watch?v=HiRHs2d8WiM\n",
      "[youtube] HiRHs2d8WiM: Downloading webpage\n",
      "[youtube] HiRHs2d8WiM: Downloading ios player API JSON\n",
      "[youtube] HiRHs2d8WiM: Downloading android player API JSON\n",
      "[youtube] HiRHs2d8WiM: Downloading m3u8 information\n",
      "[info] HiRHs2d8WiM: Downloading 1 format(s): 18\n",
      "[download] Destination: temp_folder/afraid_41.mp4\n",
      "[download] 100% of    1.21MiB in 00:00:00 at 2.33MiB/s     \n"
     ]
    },
    {
     "name": "stderr",
     "output_type": "stream",
     "text": [
      "Processing videos:  14%|████████████████████▎                                                                                                                               | 41/299 [10:41<34:55,  8.12s/it]"
     ]
    },
    {
     "name": "stdout",
     "output_type": "stream",
     "text": [
      "[youtube] Extracting URL: https://www.youtube.com/watch?v=HiRHs2d8WiM\n",
      "[youtube] HiRHs2d8WiM: Downloading webpage\n",
      "[youtube] HiRHs2d8WiM: Downloading ios player API JSON\n",
      "[youtube] HiRHs2d8WiM: Downloading android player API JSON\n",
      "[youtube] HiRHs2d8WiM: Downloading m3u8 information\n",
      "[info] HiRHs2d8WiM: Downloading 1 format(s): 18\n",
      "[download] Destination: temp_folder/afraid_42.mp4\n",
      "[download] 100% of    1.21MiB in 00:00:00 at 4.40MiB/s     \n"
     ]
    },
    {
     "name": "stderr",
     "output_type": "stream",
     "text": [
      "Processing videos:  14%|████████████████████▊                                                                                                                               | 42/299 [10:46<30:14,  7.06s/it]"
     ]
    },
    {
     "name": "stdout",
     "output_type": "stream",
     "text": [
      "[youtube] Extracting URL: https://www.youtube.com/watch?v=a6O9GUBpc3c\n",
      "[youtube] a6O9GUBpc3c: Downloading webpage\n",
      "[youtube] a6O9GUBpc3c: Downloading ios player API JSON\n"
     ]
    },
    {
     "name": "stderr",
     "output_type": "stream",
     "text": [
      "ERROR: [youtube] a6O9GUBpc3c: Video unavailable\n",
      "Processing videos:  14%|█████████████████████▎                                                                                                                              | 43/299 [10:47<22:06,  5.18s/it]"
     ]
    },
    {
     "name": "stdout",
     "output_type": "stream",
     "text": [
      "[youtube] a6O9GUBpc3c: Downloading android player API JSON\n",
      "[Errno 2] No such file or directory: 'temp_folder/afraid_43.mp4'\n",
      "[youtube] Extracting URL: https://www.youtube.com/watch?v=c2W6TVd_xh4\n",
      "[youtube] c2W6TVd_xh4: Downloading webpage\n",
      "[youtube] c2W6TVd_xh4: Downloading ios player API JSON\n",
      "[youtube] c2W6TVd_xh4: Downloading android player API JSON\n",
      "[youtube] c2W6TVd_xh4: Downloading m3u8 information\n",
      "[info] c2W6TVd_xh4: Downloading 1 format(s): 22\n",
      "[download] Destination: temp_folder/afraid_44.mp4\n",
      "[download] 100% of    8.90MiB in 00:00:00 at 10.73MiB/s    \n"
     ]
    },
    {
     "name": "stderr",
     "output_type": "stream",
     "text": [
      "Processing videos:  15%|█████████████████████▊                                                                                                                              | 44/299 [10:58<29:25,  6.92s/it]"
     ]
    },
    {
     "name": "stdout",
     "output_type": "stream",
     "text": [
      "[youtube] Extracting URL: https://www.youtube.com/watch?v=7YYB3BEoksc\n",
      "[youtube] 7YYB3BEoksc: Downloading webpage\n",
      "[youtube] 7YYB3BEoksc: Downloading ios player API JSON\n",
      "[youtube] 7YYB3BEoksc: Downloading android player API JSON\n"
     ]
    },
    {
     "name": "stderr",
     "output_type": "stream",
     "text": [
      "ERROR: [youtube] 7YYB3BEoksc: Private video. Sign in if you've been granted access to this video\n",
      "Processing videos:  15%|██████████████████████▎                                                                                                                             | 45/299 [10:59<21:32,  5.09s/it]"
     ]
    },
    {
     "name": "stdout",
     "output_type": "stream",
     "text": [
      "[Errno 2] No such file or directory: 'temp_folder/afraid_45.mp4'\n",
      "[youtube] Extracting URL: https://www.youtube.com/watch?v=inAFZxRsUeo\n",
      "[youtube] inAFZxRsUeo: Downloading webpage\n",
      "[youtube] inAFZxRsUeo: Downloading ios player API JSON\n",
      "[youtube] inAFZxRsUeo: Downloading android player API JSON\n",
      "[youtube] inAFZxRsUeo: Downloading m3u8 information\n",
      "[info] inAFZxRsUeo: Downloading 1 format(s): 18\n",
      "[download] Destination: temp_folder/afraid_46.mp4\n",
      "[download] 100% of    5.15MiB in 00:00:00 at 9.53MiB/s   \n"
     ]
    },
    {
     "name": "stderr",
     "output_type": "stream",
     "text": [
      "Processing videos:  15%|██████████████████████▊                                                                                                                             | 46/299 [11:07<26:12,  6.22s/it]"
     ]
    },
    {
     "name": "stdout",
     "output_type": "stream",
     "text": [
      "[youtube] Extracting URL: https://www.youtube.com/watch?v=z8e_-viWx9E\n",
      "[youtube] z8e_-viWx9E: Downloading webpage\n",
      "[youtube] z8e_-viWx9E: Downloading ios player API JSON\n",
      "[youtube] z8e_-viWx9E: Downloading android player API JSON\n",
      "[youtube] z8e_-viWx9E: Downloading m3u8 information\n",
      "[info] z8e_-viWx9E: Downloading 1 format(s): 22\n",
      "[download] Destination: temp_folder/afraid_47.mp4\n",
      "[download] 100% of   63.65MiB in 00:00:03 at 17.53MiB/s    \n"
     ]
    },
    {
     "name": "stderr",
     "output_type": "stream",
     "text": [
      "Processing videos:  16%|███████████████████████▎                                                                                                                            | 47/299 [11:30<46:29, 11.07s/it]"
     ]
    },
    {
     "name": "stdout",
     "output_type": "stream",
     "text": [
      "[youtube] Extracting URL: https://www.youtube.com/watch?v=fnhiGz4qE_I\n",
      "[youtube] fnhiGz4qE_I: Downloading webpage\n",
      "[youtube] fnhiGz4qE_I: Downloading ios player API JSON\n",
      "[youtube] fnhiGz4qE_I: Downloading android player API JSON\n",
      "[youtube] fnhiGz4qE_I: Downloading m3u8 information\n",
      "[info] fnhiGz4qE_I: Downloading 1 format(s): 22\n",
      "[download] Destination: temp_folder/afraid_48.mp4\n",
      "[download] 100% of   21.13MiB in 00:00:01 at 15.05MiB/s    \n"
     ]
    },
    {
     "name": "stderr",
     "output_type": "stream",
     "text": [
      "Processing videos:  16%|███████████████████████▊                                                                                                                            | 48/299 [11:38<42:40, 10.20s/it]"
     ]
    },
    {
     "name": "stdout",
     "output_type": "stream",
     "text": [
      "[youtube] Extracting URL: https://www.youtube.com/watch?v=fnhiGz4qE_I\n",
      "[youtube] fnhiGz4qE_I: Downloading webpage\n",
      "[youtube] fnhiGz4qE_I: Downloading ios player API JSON\n",
      "[youtube] fnhiGz4qE_I: Downloading android player API JSON\n",
      "[youtube] fnhiGz4qE_I: Downloading m3u8 information\n",
      "[info] fnhiGz4qE_I: Downloading 1 format(s): 22\n",
      "[download] Destination: temp_folder/afraid_49.mp4\n",
      "[download] 100% of   21.13MiB in 00:00:01 at 20.34MiB/s    \n"
     ]
    },
    {
     "name": "stderr",
     "output_type": "stream",
     "text": [
      "Processing videos:  16%|████████████████████████▎                                                                                                                           | 49/299 [11:46<39:05,  9.38s/it]"
     ]
    },
    {
     "name": "stdout",
     "output_type": "stream",
     "text": [
      "[youtube] Extracting URL: https://www.youtube.com/watch?v=8hBFgtJOZaE\n",
      "[youtube] 8hBFgtJOZaE: Downloading webpage\n",
      "[youtube] 8hBFgtJOZaE: Downloading ios player API JSON\n",
      "[youtube] 8hBFgtJOZaE: Downloading android player API JSON\n",
      "[youtube] 8hBFgtJOZaE: Downloading m3u8 information\n",
      "[info] 8hBFgtJOZaE: Downloading 1 format(s): 18\n",
      "[download] Destination: temp_folder/afraid_50.mp4\n",
      "[download] 100% of   28.05MiB in 00:00:01 at 19.71MiB/s    \n"
     ]
    },
    {
     "name": "stderr",
     "output_type": "stream",
     "text": [
      "Processing videos:  17%|████████████████████████▍                                                                                                                         | 50/299 [12:17<1:06:51, 16.11s/it]"
     ]
    },
    {
     "name": "stdout",
     "output_type": "stream",
     "text": [
      "[youtube] Extracting URL: https://www.youtube.com/watch?v=8hBFgtJOZaE\n",
      "[youtube] 8hBFgtJOZaE: Downloading webpage\n",
      "[youtube] 8hBFgtJOZaE: Downloading ios player API JSON\n",
      "[youtube] 8hBFgtJOZaE: Downloading android player API JSON\n",
      "[youtube] 8hBFgtJOZaE: Downloading m3u8 information\n",
      "[info] 8hBFgtJOZaE: Downloading 1 format(s): 18\n",
      "[download] Destination: temp_folder/afraid_51.mp4\n",
      "[download] 100% of   28.05MiB in 00:00:01 at 17.04MiB/s    \n"
     ]
    },
    {
     "name": "stderr",
     "output_type": "stream",
     "text": [
      "Processing videos:  17%|████████████████████████▉                                                                                                                         | 51/299 [12:50<1:26:29, 20.92s/it]"
     ]
    },
    {
     "name": "stdout",
     "output_type": "stream",
     "text": [
      "[youtube] Extracting URL: https://www.youtube.com/watch?v=5S3qaGLdPmE\n",
      "[youtube] 5S3qaGLdPmE: Downloading webpage\n",
      "[youtube] 5S3qaGLdPmE: Downloading ios player API JSON\n",
      "[youtube] 5S3qaGLdPmE: Downloading android player API JSON\n",
      "[youtube] 5S3qaGLdPmE: Downloading m3u8 information\n",
      "[info] 5S3qaGLdPmE: Downloading 1 format(s): 18\n",
      "[download] Destination: temp_folder/afraid_52.mp4\n",
      "[download] 100% of   34.76MiB in 00:00:03 at 10.63MiB/s    \n"
     ]
    },
    {
     "name": "stderr",
     "output_type": "stream",
     "text": [
      "Processing videos:  17%|█████████████████████████▍                                                                                                                        | 52/299 [13:19<1:37:10, 23.61s/it]"
     ]
    },
    {
     "name": "stdout",
     "output_type": "stream",
     "text": [
      "[youtube] Extracting URL: https://www.youtube.com/watch?v=2nXrJ_7NOgE\n",
      "[youtube] 2nXrJ_7NOgE: Downloading webpage\n",
      "[youtube] 2nXrJ_7NOgE: Downloading ios player API JSON\n",
      "[youtube] 2nXrJ_7NOgE: Downloading android player API JSON\n",
      "[youtube] 2nXrJ_7NOgE: Downloading m3u8 information\n",
      "[info] 2nXrJ_7NOgE: Downloading 1 format(s): 22\n",
      "[download] Destination: temp_folder/afraid_53.mp4\n",
      "[download] 100% of   50.58MiB in 00:00:03 at 15.82MiB/s    \n"
     ]
    },
    {
     "name": "stderr",
     "output_type": "stream",
     "text": [
      "Processing videos:  18%|█████████████████████████▉                                                                                                                        | 53/299 [13:47<1:42:20, 24.96s/it]"
     ]
    },
    {
     "name": "stdout",
     "output_type": "stream",
     "text": [
      "[youtube] Extracting URL: https://www.youtube.com/watch?v=vcrTUbE1NoY\n",
      "[youtube] vcrTUbE1NoY: Downloading webpage\n",
      "[youtube] vcrTUbE1NoY: Downloading ios player API JSON\n",
      "[youtube] vcrTUbE1NoY: Downloading android player API JSON\n",
      "[youtube] vcrTUbE1NoY: Downloading m3u8 information\n",
      "[info] vcrTUbE1NoY: Downloading 1 format(s): 22\n",
      "[download] Destination: temp_folder/afraid_54.mp4\n",
      "[download] 100% of    6.75MiB in 00:00:00 at 19.50MiB/s    \n"
     ]
    },
    {
     "name": "stderr",
     "output_type": "stream",
     "text": [
      "Processing videos:  18%|██████████████████████████▎                                                                                                                       | 54/299 [13:56<1:22:09, 20.12s/it]"
     ]
    },
    {
     "name": "stdout",
     "output_type": "stream",
     "text": [
      "[youtube] Extracting URL: https://www.youtube.com/watch?v=Cv5avR9nEhg\n",
      "[youtube] Cv5avR9nEhg: Downloading webpage\n",
      "[youtube] Cv5avR9nEhg: Downloading ios player API JSON\n",
      "[youtube] Cv5avR9nEhg: Downloading android player API JSON\n",
      "[youtube] Cv5avR9nEhg: Downloading m3u8 information\n",
      "[info] Cv5avR9nEhg: Downloading 1 format(s): 22\n",
      "[download] Destination: temp_folder/afraid_55.mp4\n",
      "[download] 100% of  103.49MiB in 00:00:05 at 19.25MiB/s    \n"
     ]
    },
    {
     "name": "stderr",
     "output_type": "stream",
     "text": [
      "Processing videos:  18%|██████████████████████████▊                                                                                                                       | 55/299 [14:50<2:02:32, 30.13s/it]"
     ]
    },
    {
     "name": "stdout",
     "output_type": "stream",
     "text": [
      "[youtube] Extracting URL: https://www.youtube.com/watch?v=qjESIderNxM\n",
      "[youtube] qjESIderNxM: Downloading webpage\n",
      "[youtube] qjESIderNxM: Downloading ios player API JSON\n",
      "[youtube] qjESIderNxM: Downloading android player API JSON\n"
     ]
    },
    {
     "name": "stderr",
     "output_type": "stream",
     "text": [
      "ERROR: [youtube] qjESIderNxM: Video unavailable\n",
      "Processing videos:  19%|███████████████████████████▎                                                                                                                      | 56/299 [14:51<1:26:20, 21.32s/it]"
     ]
    },
    {
     "name": "stdout",
     "output_type": "stream",
     "text": [
      "[Errno 2] No such file or directory: 'temp_folder/afraid_56.mp4'\n",
      "[youtube] Extracting URL: https://www.youtube.com/watch?v=eRZW3DPxDGk\n",
      "[youtube] eRZW3DPxDGk: Downloading webpage\n",
      "[youtube] eRZW3DPxDGk: Downloading ios player API JSON\n",
      "[youtube] eRZW3DPxDGk: Downloading android player API JSON\n",
      "[youtube] eRZW3DPxDGk: Downloading m3u8 information\n",
      "[youtube] eRZW3DPxDGk: Downloading MPD manifest\n",
      "[info] eRZW3DPxDGk: Downloading 1 format(s): 22\n",
      "[download] Destination: temp_folder/afraid_57.mp4\n",
      "[download] 100% of  128.61MiB in 00:00:06 at 20.25MiB/s    \n"
     ]
    },
    {
     "name": "stderr",
     "output_type": "stream",
     "text": [
      "Processing videos:  19%|███████████████████████████▊                                                                                                                      | 57/299 [15:25<1:42:01, 25.30s/it]"
     ]
    },
    {
     "name": "stdout",
     "output_type": "stream",
     "text": [
      "[generic] Extracting URL: www.youtube.com/watch?v=yLVb8477Wn4\n",
      "[youtube] Extracting URL: http://www.youtube.com/watch?v=yLVb8477Wn4\n",
      "[youtube] yLVb8477Wn4: Downloading webpage\n",
      "[youtube] yLVb8477Wn4: Downloading ios player API JSON\n"
     ]
    },
    {
     "name": "stderr",
     "output_type": "stream",
     "text": [
      "WARNING: [generic] The url doesn't specify the protocol, trying with http\n",
      "ERROR: [youtube] yLVb8477Wn4: Video unavailable\n",
      "Processing videos:  19%|████████████████████████████▎                                                                                                                     | 58/299 [15:26<1:12:29, 18.05s/it]"
     ]
    },
    {
     "name": "stdout",
     "output_type": "stream",
     "text": [
      "[youtube] yLVb8477Wn4: Downloading android player API JSON\n",
      "[Errno 2] No such file or directory: 'temp_folder/afraid_58.mp4'\n",
      "[youtube] Extracting URL: https://www.youtube.com/watch?v=Eq6SnaimpzQ\n",
      "[youtube] Eq6SnaimpzQ: Downloading webpage\n",
      "[youtube] Eq6SnaimpzQ: Downloading ios player API JSON\n",
      "[youtube] Eq6SnaimpzQ: Downloading android player API JSON\n",
      "[youtube] Eq6SnaimpzQ: Downloading m3u8 information\n",
      "[info] Eq6SnaimpzQ: Downloading 1 format(s): 22\n",
      "[download] Destination: temp_folder/afraid_59.mp4\n",
      "[download] 100% of   54.64MiB in 00:00:03 at 15.02MiB/s    \n"
     ]
    },
    {
     "name": "stderr",
     "output_type": "stream",
     "text": [
      "Processing videos:  20%|████████████████████████████▊                                                                                                                     | 59/299 [15:47<1:15:06, 18.78s/it]"
     ]
    },
    {
     "name": "stdout",
     "output_type": "stream",
     "text": [
      "[youtube] Extracting URL: https://www.youtube.com/watch?v=96HY0Pcl_e4\n",
      "[youtube] 96HY0Pcl_e4: Downloading webpage\n",
      "[youtube] 96HY0Pcl_e4: Downloading ios player API JSON\n",
      "[youtube] 96HY0Pcl_e4: Downloading android player API JSON\n",
      "[youtube] 96HY0Pcl_e4: Downloading m3u8 information\n",
      "[youtube] 96HY0Pcl_e4: Downloading MPD manifest\n",
      "[info] 96HY0Pcl_e4: Downloading 1 format(s): 22\n",
      "[download] Destination: temp_folder/afraid_60.mp4\n",
      "[download] 100% of   54.80MiB in 00:00:03 at 17.55MiB/s    \n"
     ]
    },
    {
     "name": "stderr",
     "output_type": "stream",
     "text": [
      "Processing videos:  20%|█████████████████████████████▎                                                                                                                    | 60/299 [16:05<1:13:58, 18.57s/it]"
     ]
    },
    {
     "name": "stdout",
     "output_type": "stream",
     "text": [
      "[youtube] Extracting URL: https://www.youtube.com/watch?v=0e8jwNFLfhw\n",
      "[youtube] 0e8jwNFLfhw: Downloading webpage\n",
      "[youtube] 0e8jwNFLfhw: Downloading ios player API JSON\n",
      "[youtube] 0e8jwNFLfhw: Downloading android player API JSON\n"
     ]
    },
    {
     "name": "stderr",
     "output_type": "stream",
     "text": [
      "ERROR: [youtube] 0e8jwNFLfhw: Video unavailable\n",
      "Processing videos:  20%|██████████████████████████████▏                                                                                                                     | 61/299 [16:06<52:27, 13.23s/it]"
     ]
    },
    {
     "name": "stdout",
     "output_type": "stream",
     "text": [
      "[Errno 2] No such file or directory: 'temp_folder/afraid_61.mp4'\n",
      "[generic] Extracting URL: www.youtube.com/watch?v=J2WQZ8E4SUA\n",
      "[youtube] Extracting URL: http://www.youtube.com/watch?v=J2WQZ8E4SUA\n",
      "[youtube] J2WQZ8E4SUA: Downloading webpage\n"
     ]
    },
    {
     "name": "stderr",
     "output_type": "stream",
     "text": [
      "WARNING: [generic] The url doesn't specify the protocol, trying with http\n"
     ]
    },
    {
     "name": "stdout",
     "output_type": "stream",
     "text": [
      "[youtube] J2WQZ8E4SUA: Downloading ios player API JSON\n",
      "[youtube] J2WQZ8E4SUA: Downloading android player API JSON\n"
     ]
    },
    {
     "name": "stderr",
     "output_type": "stream",
     "text": [
      "ERROR: [youtube] J2WQZ8E4SUA: Video unavailable\n",
      "Processing videos:  21%|██████████████████████████████▋                                                                                                                     | 62/299 [16:07<37:51,  9.59s/it]"
     ]
    },
    {
     "name": "stdout",
     "output_type": "stream",
     "text": [
      "[Errno 2] No such file or directory: 'temp_folder/afraid_62.mp4'\n",
      "[generic] Extracting URL: www.youtube.com/watch?v=eSNECwtBQrg\n",
      "[youtube] Extracting URL: http://www.youtube.com/watch?v=eSNECwtBQrg\n",
      "[youtube] eSNECwtBQrg: Downloading webpage\n",
      "[youtube] eSNECwtBQrg: Downloading ios player API JSON\n"
     ]
    },
    {
     "name": "stderr",
     "output_type": "stream",
     "text": [
      "WARNING: [generic] The url doesn't specify the protocol, trying with http\n",
      "ERROR: [youtube] eSNECwtBQrg: Video unavailable\n",
      "Processing videos:  21%|███████████████████████████████▏                                                                                                                    | 63/299 [16:08<27:38,  7.03s/it]"
     ]
    },
    {
     "name": "stdout",
     "output_type": "stream",
     "text": [
      "[youtube] eSNECwtBQrg: Downloading android player API JSON\n",
      "[Errno 2] No such file or directory: 'temp_folder/afraid_63.mp4'\n",
      "[youtube] Extracting URL: https://www.youtube.com/watch?v=syulgJH4PsU\n",
      "[youtube] syulgJH4PsU: Downloading webpage\n",
      "[youtube] syulgJH4PsU: Downloading ios player API JSON\n",
      "[youtube] syulgJH4PsU: Downloading android player API JSON\n",
      "[youtube] syulgJH4PsU: Downloading m3u8 information\n",
      "[info] syulgJH4PsU: Downloading 1 format(s): 22\n",
      "[download] Destination: temp_folder/afraid_64.mp4\n",
      "[download] 100% of   11.05MiB in 00:00:00 at 14.09MiB/s    \n"
     ]
    },
    {
     "name": "stderr",
     "output_type": "stream",
     "text": [
      "Processing videos:  21%|███████████████████████████████▋                                                                                                                    | 64/299 [16:18<31:01,  7.92s/it]"
     ]
    },
    {
     "name": "stdout",
     "output_type": "stream",
     "text": [
      "[youtube] Extracting URL: https://www.youtube.com/watch?v=nvaS2J5mcEk\n",
      "[youtube] nvaS2J5mcEk: Downloading webpage\n",
      "[youtube] nvaS2J5mcEk: Downloading ios player API JSON\n",
      "[youtube] nvaS2J5mcEk: Downloading android player API JSON\n",
      "[youtube] nvaS2J5mcEk: Downloading m3u8 information\n",
      "[info] nvaS2J5mcEk: Downloading 1 format(s): 18\n",
      "[download] Destination: temp_folder/afraid_65.mp4\n",
      "[download] 100% of   16.00MiB in 00:00:01 at 15.96MiB/s    \n"
     ]
    },
    {
     "name": "stderr",
     "output_type": "stream",
     "text": [
      "Processing videos:  22%|████████████████████████████████▏                                                                                                                   | 65/299 [16:33<39:14, 10.06s/it]"
     ]
    },
    {
     "name": "stdout",
     "output_type": "stream",
     "text": [
      "[youtube] Extracting URL: https://www.youtube.com/watch?v=HiRHs2d8WiM\n",
      "[youtube] HiRHs2d8WiM: Downloading webpage\n",
      "[youtube] HiRHs2d8WiM: Downloading ios player API JSON\n",
      "[youtube] HiRHs2d8WiM: Downloading android player API JSON\n",
      "[youtube] HiRHs2d8WiM: Downloading m3u8 information\n",
      "[info] HiRHs2d8WiM: Downloading 1 format(s): 18\n",
      "[download] Destination: temp_folder/afraid_66.mp4\n",
      "[download] 100% of    1.21MiB in 00:00:00 at 3.03MiB/s     \n"
     ]
    },
    {
     "name": "stderr",
     "output_type": "stream",
     "text": [
      "Processing videos:  22%|████████████████████████████████▋                                                                                                                   | 66/299 [16:39<34:55,  8.99s/it]"
     ]
    },
    {
     "name": "stdout",
     "output_type": "stream",
     "text": [
      "[youtube] Extracting URL: https://www.youtube.com/watch?v=HiRHs2d8WiM\n",
      "[youtube] HiRHs2d8WiM: Downloading webpage\n",
      "[youtube] HiRHs2d8WiM: Downloading ios player API JSON\n",
      "[youtube] HiRHs2d8WiM: Downloading android player API JSON\n",
      "[youtube] HiRHs2d8WiM: Downloading m3u8 information\n",
      "[info] HiRHs2d8WiM: Downloading 1 format(s): 18\n",
      "[download] Destination: temp_folder/afraid_67.mp4\n",
      "[download] 100% of    1.21MiB in 00:00:00 at 2.40MiB/s     \n"
     ]
    },
    {
     "name": "stderr",
     "output_type": "stream",
     "text": [
      "Processing videos:  22%|█████████████████████████████████▏                                                                                                                  | 67/299 [16:44<29:27,  7.62s/it]"
     ]
    },
    {
     "name": "stdout",
     "output_type": "stream",
     "text": [
      "[youtube] Extracting URL: https://www.youtube.com/watch?v=HiRHs2d8WiM\n",
      "[youtube] HiRHs2d8WiM: Downloading webpage\n",
      "[youtube] HiRHs2d8WiM: Downloading ios player API JSON\n",
      "[youtube] HiRHs2d8WiM: Downloading android player API JSON\n",
      "[youtube] HiRHs2d8WiM: Downloading m3u8 information\n",
      "[info] HiRHs2d8WiM: Downloading 1 format(s): 18\n",
      "[download] Destination: temp_folder/afraid_68.mp4\n",
      "[download] 100% of    1.21MiB in 00:00:00 at 4.56MiB/s     \n"
     ]
    },
    {
     "name": "stderr",
     "output_type": "stream",
     "text": [
      "Processing videos:  23%|█████████████████████████████████▋                                                                                                                  | 68/299 [16:48<25:48,  6.71s/it]"
     ]
    },
    {
     "name": "stdout",
     "output_type": "stream",
     "text": [
      "[youtube] Extracting URL: https://www.youtube.com/watch?v=a6O9GUBpc3c\n",
      "[youtube] a6O9GUBpc3c: Downloading webpage\n",
      "[youtube] a6O9GUBpc3c: Downloading ios player API JSON\n"
     ]
    },
    {
     "name": "stderr",
     "output_type": "stream",
     "text": [
      "ERROR: [youtube] a6O9GUBpc3c: Video unavailable\n",
      "Processing videos:  23%|██████████████████████████████████▏                                                                                                                 | 69/299 [16:49<18:46,  4.90s/it]"
     ]
    },
    {
     "name": "stdout",
     "output_type": "stream",
     "text": [
      "[youtube] a6O9GUBpc3c: Downloading android player API JSON\n",
      "[Errno 2] No such file or directory: 'temp_folder/afraid_69.mp4'\n",
      "[youtube] Extracting URL: https://www.youtube.com/watch?v=exVXuSjS8Rc\n",
      "[youtube] exVXuSjS8Rc: Downloading webpage\n",
      "[youtube] exVXuSjS8Rc: Downloading ios player API JSON\n",
      "[youtube] exVXuSjS8Rc: Downloading android player API JSON\n",
      "[youtube] exVXuSjS8Rc: Downloading m3u8 information\n",
      "[youtube] exVXuSjS8Rc: Downloading MPD manifest\n",
      "[info] exVXuSjS8Rc: Downloading 1 format(s): 22\n",
      "[download] Destination: temp_folder/africa.mp4\n",
      "[download] 100% of  292.75KiB in 00:00:00 at 316.46KiB/s   \n"
     ]
    },
    {
     "name": "stderr",
     "output_type": "stream",
     "text": [
      "Processing videos:  23%|██████████████████████████████████▋                                                                                                                 | 70/299 [16:53<17:29,  4.58s/it]"
     ]
    },
    {
     "name": "stdout",
     "output_type": "stream",
     "text": [
      "[youtube] Extracting URL: https://www.youtube.com/watch?v=TzHGW54AN5M\n",
      "[youtube] TzHGW54AN5M: Downloading webpage\n",
      "[youtube] TzHGW54AN5M: Downloading ios player API JSON\n",
      "[youtube] TzHGW54AN5M: Downloading android player API JSON\n",
      "[youtube] TzHGW54AN5M: Downloading m3u8 information\n",
      "[info] TzHGW54AN5M: Downloading 1 format(s): 22\n",
      "[download] Destination: temp_folder/africa_2.mp4\n",
      "[download] 100% of   17.50MiB in 00:00:01 at 16.20MiB/s    \n"
     ]
    },
    {
     "name": "stderr",
     "output_type": "stream",
     "text": [
      "Processing videos:  24%|███████████████████████████████████▏                                                                                                                | 71/299 [17:09<30:37,  8.06s/it]"
     ]
    },
    {
     "name": "stdout",
     "output_type": "stream",
     "text": [
      "[generic] Extracting URL: www.youtube.com/watch?v=rftlYeAql-k\n",
      "[youtube] Extracting URL: http://www.youtube.com/watch?v=rftlYeAql-k\n",
      "[youtube] rftlYeAql-k: Downloading webpage\n"
     ]
    },
    {
     "name": "stderr",
     "output_type": "stream",
     "text": [
      "WARNING: [generic] The url doesn't specify the protocol, trying with http\n"
     ]
    },
    {
     "name": "stdout",
     "output_type": "stream",
     "text": [
      "[youtube] rftlYeAql-k: Downloading ios player API JSON\n",
      "[youtube] rftlYeAql-k: Downloading android player API JSON\n",
      "[youtube] rftlYeAql-k: Downloading m3u8 information\n",
      "[info] rftlYeAql-k: Downloading 1 format(s): 18\n",
      "[download] Destination: temp_folder/africa_3.mp4\n",
      "[download] 100% of  128.56KiB in 00:00:00 at 488.57KiB/s \n"
     ]
    },
    {
     "name": "stderr",
     "output_type": "stream",
     "text": [
      "Processing videos:  24%|███████████████████████████████████▋                                                                                                                | 72/299 [17:13<25:28,  6.73s/it]"
     ]
    },
    {
     "name": "stdout",
     "output_type": "stream",
     "text": [
      "[youtube] Extracting URL: https://www.youtube.com/watch?v=w7cVFohqwpQ\n",
      "[youtube] w7cVFohqwpQ: Downloading webpage\n",
      "[youtube] w7cVFohqwpQ: Downloading ios player API JSON\n",
      "[youtube] w7cVFohqwpQ: Downloading android player API JSON\n",
      "[youtube] w7cVFohqwpQ: Downloading m3u8 information\n",
      "[info] w7cVFohqwpQ: Downloading 1 format(s): 18\n",
      "[download] Destination: temp_folder/africa_4.mp4\n",
      "[download] 100% of    9.54MiB in 00:00:01 at 8.77MiB/s     \n"
     ]
    },
    {
     "name": "stderr",
     "output_type": "stream",
     "text": [
      "Processing videos:  24%|████████████████████████████████████▏                                                                                                               | 73/299 [17:24<30:05,  7.99s/it]"
     ]
    },
    {
     "name": "stdout",
     "output_type": "stream",
     "text": [
      "[youtube] Extracting URL: https://www.youtube.com/watch?v=nBY5LbBVhUc\n",
      "[youtube] nBY5LbBVhUc: Downloading webpage\n",
      "[youtube] nBY5LbBVhUc: Downloading ios player API JSON\n",
      "[youtube] nBY5LbBVhUc: Downloading android player API JSON\n",
      "[youtube] nBY5LbBVhUc: Downloading m3u8 information\n",
      "[info] nBY5LbBVhUc: Downloading 1 format(s): 22\n",
      "[download] Destination: temp_folder/africa_5.mp4\n",
      "[download] 100% of    2.52MiB in 00:00:00 at 2.64MiB/s     \n"
     ]
    },
    {
     "name": "stderr",
     "output_type": "stream",
     "text": [
      "Processing videos:  25%|████████████████████████████████████▋                                                                                                               | 74/299 [17:28<26:00,  6.93s/it]"
     ]
    },
    {
     "name": "stdout",
     "output_type": "stream",
     "text": [
      "[youtube] Extracting URL: https://www.youtube.com/watch?v=8hBFgtJOZaE\n",
      "[youtube] 8hBFgtJOZaE: Downloading webpage\n",
      "[youtube] 8hBFgtJOZaE: Downloading ios player API JSON\n",
      "[youtube] 8hBFgtJOZaE: Downloading android player API JSON\n",
      "[youtube] 8hBFgtJOZaE: Downloading m3u8 information\n",
      "[info] 8hBFgtJOZaE: Downloading 1 format(s): 18\n",
      "[download] Destination: temp_folder/africa_6.mp4\n",
      "[download] 100% of   28.05MiB in 00:00:01 at 19.43MiB/s    \n"
     ]
    },
    {
     "name": "stderr",
     "output_type": "stream",
     "text": [
      "Processing videos:  25%|█████████████████████████████████████                                                                                                               | 75/299 [18:01<54:47, 14.68s/it]"
     ]
    },
    {
     "name": "stdout",
     "output_type": "stream",
     "text": [
      "[youtube] Extracting URL: https://www.youtube.com/watch?v=8hBFgtJOZaE\n",
      "[youtube] 8hBFgtJOZaE: Downloading webpage\n",
      "[youtube] 8hBFgtJOZaE: Downloading ios player API JSON\n",
      "[youtube] 8hBFgtJOZaE: Downloading android player API JSON\n",
      "[youtube] 8hBFgtJOZaE: Downloading m3u8 information\n",
      "[info] 8hBFgtJOZaE: Downloading 1 format(s): 18\n",
      "[download] Destination: temp_folder/africa_7.mp4\n",
      "[download] 100% of   28.05MiB in 00:00:02 at 13.65MiB/s    \n"
     ]
    },
    {
     "name": "stderr",
     "output_type": "stream",
     "text": [
      "Processing videos:  25%|█████████████████████████████████████                                                                                                             | 76/299 [18:34<1:15:16, 20.26s/it]"
     ]
    },
    {
     "name": "stdout",
     "output_type": "stream",
     "text": [
      "[youtube] Extracting URL: https://www.youtube.com/watch?v=cBoEmtQv6vQ\n",
      "[youtube] cBoEmtQv6vQ: Downloading webpage\n",
      "[youtube] cBoEmtQv6vQ: Downloading ios player API JSON\n",
      "[youtube] cBoEmtQv6vQ: Downloading android player API JSON\n",
      "[youtube] cBoEmtQv6vQ: Downloading m3u8 information\n",
      "[info] cBoEmtQv6vQ: Downloading 1 format(s): 22\n",
      "[download] Destination: temp_folder/africa_8.mp4\n",
      "[download] 100% of   29.86MiB in 00:00:03 at 8.52MiB/s     \n"
     ]
    },
    {
     "name": "stderr",
     "output_type": "stream",
     "text": [
      "Processing videos:  26%|█████████████████████████████████████▌                                                                                                            | 77/299 [18:48<1:08:30, 18.51s/it]"
     ]
    },
    {
     "name": "stdout",
     "output_type": "stream",
     "text": [
      "[youtube] Extracting URL: https://www.youtube.com/watch?v=cBoEmtQv6vQ\n",
      "[youtube] cBoEmtQv6vQ: Downloading webpage\n",
      "[youtube] cBoEmtQv6vQ: Downloading ios player API JSON\n",
      "[youtube] cBoEmtQv6vQ: Downloading android player API JSON\n",
      "[youtube] cBoEmtQv6vQ: Downloading m3u8 information\n",
      "[info] cBoEmtQv6vQ: Downloading 1 format(s): 22\n",
      "[download] Destination: temp_folder/africa_9.mp4\n",
      "[download] 100% of   29.86MiB in 00:00:01 at 20.45MiB/s    \n"
     ]
    },
    {
     "name": "stderr",
     "output_type": "stream",
     "text": [
      "Processing videos:  26%|██████████████████████████████████████                                                                                                            | 78/299 [19:01<1:01:57, 16.82s/it]"
     ]
    },
    {
     "name": "stdout",
     "output_type": "stream",
     "text": [
      "[youtube] Extracting URL: https://www.youtube.com/watch?v=dc4NfNQHBbo\n",
      "[youtube] dc4NfNQHBbo: Downloading webpage\n",
      "[youtube] dc4NfNQHBbo: Downloading ios player API JSON\n",
      "[youtube] dc4NfNQHBbo: Downloading android player API JSON\n",
      "[youtube] dc4NfNQHBbo: Downloading m3u8 information\n",
      "[youtube] dc4NfNQHBbo: Downloading MPD manifest\n",
      "[info] dc4NfNQHBbo: Downloading 1 format(s): 22\n",
      "[download] Destination: temp_folder/africa_10.mp4\n",
      "[download] 100% of  292.75KiB in 00:00:01 at 209.68KiB/s   \n"
     ]
    },
    {
     "name": "stderr",
     "output_type": "stream",
     "text": [
      "Processing videos:  26%|███████████████████████████████████████                                                                                                             | 79/299 [19:06<48:10, 13.14s/it]"
     ]
    },
    {
     "name": "stdout",
     "output_type": "stream",
     "text": [
      "[youtube] Extracting URL: https://www.youtube.com/watch?v=vQQnqkpLu3g\n",
      "[youtube] vQQnqkpLu3g: Downloading webpage\n",
      "[youtube] vQQnqkpLu3g: Downloading ios player API JSON\n",
      "[youtube] vQQnqkpLu3g: Downloading android player API JSON\n",
      "[youtube] vQQnqkpLu3g: Downloading m3u8 information\n",
      "[info] vQQnqkpLu3g: Downloading 1 format(s): 22\n",
      "[download] Destination: temp_folder/africa_11.mp4\n",
      "[download] 100% of    5.09MiB in 00:00:00 at 6.93MiB/s     \n"
     ]
    },
    {
     "name": "stderr",
     "output_type": "stream",
     "text": [
      "Processing videos:  27%|███████████████████████████████████████▌                                                                                                            | 80/299 [19:14<42:25, 11.62s/it]"
     ]
    },
    {
     "name": "stdout",
     "output_type": "stream",
     "text": [
      "[youtube] Extracting URL: https://www.youtube.com/watch?v=vQQnqkpLu3g\n",
      "[youtube] vQQnqkpLu3g: Downloading webpage\n",
      "[youtube] vQQnqkpLu3g: Downloading ios player API JSON\n",
      "[youtube] vQQnqkpLu3g: Downloading android player API JSON\n",
      "[youtube] vQQnqkpLu3g: Downloading m3u8 information\n",
      "[info] vQQnqkpLu3g: Downloading 1 format(s): 22\n",
      "[download] Destination: temp_folder/africa_12.mp4\n",
      "[download] 100% of    5.09MiB in 00:00:00 at 15.00MiB/s    \n"
     ]
    },
    {
     "name": "stderr",
     "output_type": "stream",
     "text": [
      "Processing videos:  27%|████████████████████████████████████████                                                                                                            | 81/299 [19:21<37:29, 10.32s/it]"
     ]
    },
    {
     "name": "stdout",
     "output_type": "stream",
     "text": [
      "[youtube] Extracting URL: https://www.youtube.com/watch?v=vQQnqkpLu3g\n",
      "[youtube] vQQnqkpLu3g: Downloading webpage\n",
      "[youtube] vQQnqkpLu3g: Downloading ios player API JSON\n",
      "[youtube] vQQnqkpLu3g: Downloading android player API JSON\n",
      "[youtube] vQQnqkpLu3g: Downloading m3u8 information\n",
      "[info] vQQnqkpLu3g: Downloading 1 format(s): 22\n",
      "[download] Destination: temp_folder/africa_13.mp4\n",
      "[download] 100% of    5.09MiB in 00:00:00 at 10.05MiB/s    \n"
     ]
    },
    {
     "name": "stderr",
     "output_type": "stream",
     "text": [
      "Processing videos:  27%|████████████████████████████████████████▌                                                                                                           | 82/299 [19:28<33:41,  9.32s/it]"
     ]
    },
    {
     "name": "stdout",
     "output_type": "stream",
     "text": [
      "[youtube] Extracting URL: https://www.youtube.com/watch?v=vQQnqkpLu3g\n",
      "[youtube] vQQnqkpLu3g: Downloading webpage\n",
      "[youtube] vQQnqkpLu3g: Downloading ios player API JSON\n",
      "[youtube] vQQnqkpLu3g: Downloading android player API JSON\n",
      "[youtube] vQQnqkpLu3g: Downloading m3u8 information\n",
      "[info] vQQnqkpLu3g: Downloading 1 format(s): 22\n",
      "[download] Destination: temp_folder/africa_14.mp4\n",
      "[download] 100% of    5.09MiB in 00:00:00 at 14.02MiB/s    \n"
     ]
    },
    {
     "name": "stderr",
     "output_type": "stream",
     "text": [
      "Processing videos:  28%|█████████████████████████████████████████                                                                                                           | 83/299 [19:35<30:27,  8.46s/it]"
     ]
    },
    {
     "name": "stdout",
     "output_type": "stream",
     "text": [
      "[youtube] Extracting URL: https://www.youtube.com/watch?v=vQQnqkpLu3g\n",
      "[youtube] vQQnqkpLu3g: Downloading webpage\n",
      "[youtube] vQQnqkpLu3g: Downloading ios player API JSON\n",
      "[youtube] vQQnqkpLu3g: Downloading android player API JSON\n",
      "[youtube] vQQnqkpLu3g: Downloading m3u8 information\n",
      "[info] vQQnqkpLu3g: Downloading 1 format(s): 22\n",
      "[download] Destination: temp_folder/africa_15.mp4\n",
      "[download] 100% of    5.09MiB in 00:00:00 at 14.03MiB/s    \n"
     ]
    },
    {
     "name": "stderr",
     "output_type": "stream",
     "text": [
      "Processing videos:  28%|█████████████████████████████████████████▌                                                                                                          | 84/299 [19:41<27:46,  7.75s/it]"
     ]
    },
    {
     "name": "stdout",
     "output_type": "stream",
     "text": [
      "[youtube] Extracting URL: https://www.youtube.com/watch?v=vQQnqkpLu3g\n",
      "[youtube] vQQnqkpLu3g: Downloading webpage\n",
      "[youtube] vQQnqkpLu3g: Downloading ios player API JSON\n",
      "[youtube] vQQnqkpLu3g: Downloading android player API JSON\n",
      "[youtube] vQQnqkpLu3g: Downloading m3u8 information\n",
      "[info] vQQnqkpLu3g: Downloading 1 format(s): 22\n",
      "[download] Destination: temp_folder/africa_16.mp4\n",
      "[download] 100% of    5.09MiB in 00:00:00 at 15.63MiB/s    \n"
     ]
    },
    {
     "name": "stderr",
     "output_type": "stream",
     "text": [
      "Processing videos:  28%|██████████████████████████████████████████                                                                                                          | 85/299 [19:47<26:23,  7.40s/it]"
     ]
    },
    {
     "name": "stdout",
     "output_type": "stream",
     "text": [
      "[youtube] Extracting URL: https://www.youtube.com/watch?v=vQQnqkpLu3g\n",
      "[youtube] vQQnqkpLu3g: Downloading webpage\n",
      "[youtube] vQQnqkpLu3g: Downloading ios player API JSON\n",
      "[youtube] vQQnqkpLu3g: Downloading android player API JSON\n",
      "[youtube] vQQnqkpLu3g: Downloading m3u8 information\n",
      "[info] vQQnqkpLu3g: Downloading 1 format(s): 22\n",
      "[download] Destination: temp_folder/africa_17.mp4\n",
      "[download] 100% of    5.09MiB in 00:00:00 at 11.28MiB/s    \n"
     ]
    },
    {
     "name": "stderr",
     "output_type": "stream",
     "text": [
      "Processing videos:  29%|██████████████████████████████████████████▌                                                                                                         | 86/299 [19:54<25:49,  7.28s/it]"
     ]
    },
    {
     "name": "stdout",
     "output_type": "stream",
     "text": [
      "[youtube] Extracting URL: https://www.youtube.com/watch?v=Tg0ltpSAQrk\n",
      "[youtube] Tg0ltpSAQrk: Downloading webpage\n",
      "[youtube] Tg0ltpSAQrk: Downloading ios player API JSON\n",
      "[youtube] Tg0ltpSAQrk: Downloading android player API JSON\n",
      "[youtube] Tg0ltpSAQrk: Downloading m3u8 information\n",
      "[info] Tg0ltpSAQrk: Downloading 1 format(s): 22\n",
      "[download] Destination: temp_folder/africa_18.mp4\n",
      "[download] 100% of   47.42MiB in 00:00:03 at 14.40MiB/s    \n"
     ]
    },
    {
     "name": "stderr",
     "output_type": "stream",
     "text": [
      "Processing videos:  29%|███████████████████████████████████████████                                                                                                         | 87/299 [20:22<47:44, 13.51s/it]"
     ]
    },
    {
     "name": "stdout",
     "output_type": "stream",
     "text": [
      "[youtube] Extracting URL: https://www.youtube.com/watch?v=81lx99K1m3s\n",
      "[youtube] 81lx99K1m3s: Downloading webpage\n",
      "[youtube] 81lx99K1m3s: Downloading ios player API JSON\n",
      "[youtube] 81lx99K1m3s: Downloading android player API JSON\n",
      "[youtube] 81lx99K1m3s: Downloading m3u8 information\n",
      "[youtube] 81lx99K1m3s: Downloading MPD manifest\n",
      "[info] 81lx99K1m3s: Downloading 1 format(s): 18\n",
      "[download] Destination: temp_folder/africa_19.mp4\n",
      "[download] 100% of  239.39KiB in 00:00:00 at 438.96KiB/s   \n"
     ]
    },
    {
     "name": "stderr",
     "output_type": "stream",
     "text": [
      "Processing videos:  29%|███████████████████████████████████████████▌                                                                                                        | 88/299 [20:27<37:58, 10.80s/it]"
     ]
    },
    {
     "name": "stdout",
     "output_type": "stream",
     "text": [
      "[youtube] Extracting URL: https://www.youtube.com/watch?v=tJCGF8CQojI\n",
      "[youtube] tJCGF8CQojI: Downloading webpage\n",
      "[youtube] tJCGF8CQojI: Downloading ios player API JSON\n",
      "[youtube] tJCGF8CQojI: Downloading android player API JSON\n",
      "[youtube] tJCGF8CQojI: Downloading m3u8 information\n",
      "[youtube] tJCGF8CQojI: Downloading MPD manifest\n",
      "[info] tJCGF8CQojI: Downloading 1 format(s): 22\n",
      "[download] Destination: temp_folder/africa_20.mp4\n",
      "[download] 100% of    1.05MiB in 00:00:01 at 638.08KiB/s   \n"
     ]
    },
    {
     "name": "stderr",
     "output_type": "stream",
     "text": [
      "Processing videos:  30%|████████████████████████████████████████████                                                                                                        | 89/299 [20:33<32:25,  9.27s/it]"
     ]
    },
    {
     "name": "stdout",
     "output_type": "stream",
     "text": [
      "[youtube] Extracting URL: https://www.youtube.com/watch?v=S__GZ7Vki30\n",
      "[youtube] S__GZ7Vki30: Downloading webpage\n",
      "[youtube] S__GZ7Vki30: Downloading ios player API JSON\n",
      "[youtube] S__GZ7Vki30: Downloading android player API JSON\n",
      "[youtube] S__GZ7Vki30: Downloading m3u8 information\n",
      "[info] S__GZ7Vki30: Downloading 1 format(s): 22\n",
      "[download] Destination: temp_folder/africa_21.mp4\n",
      "[download] 100% of  225.75KiB in 00:00:00 at 299.05KiB/s   \n"
     ]
    },
    {
     "name": "stderr",
     "output_type": "stream",
     "text": [
      "Processing videos:  30%|████████████████████████████████████████████▌                                                                                                       | 90/299 [20:36<26:16,  7.55s/it]"
     ]
    },
    {
     "name": "stdout",
     "output_type": "stream",
     "text": [
      "[youtube] Extracting URL: https://www.youtube.com/watch?v=exVXuSjS8Rc\n",
      "[youtube] exVXuSjS8Rc: Downloading webpage\n",
      "[youtube] exVXuSjS8Rc: Downloading ios player API JSON\n",
      "[youtube] exVXuSjS8Rc: Downloading android player API JSON\n",
      "[youtube] exVXuSjS8Rc: Downloading m3u8 information\n",
      "[youtube] exVXuSjS8Rc: Downloading MPD manifest\n",
      "[info] exVXuSjS8Rc: Downloading 1 format(s): 22\n",
      "[download] Destination: temp_folder/africa_22.mp4\n",
      "[download] 100% of  292.75KiB in 00:00:00 at 631.28KiB/s   \n"
     ]
    },
    {
     "name": "stderr",
     "output_type": "stream",
     "text": [
      "Processing videos:  30%|█████████████████████████████████████████████                                                                                                       | 91/299 [20:39<21:47,  6.29s/it]"
     ]
    },
    {
     "name": "stdout",
     "output_type": "stream",
     "text": [
      "[youtube] Extracting URL: https://www.youtube.com/watch?v=TzHGW54AN5M\n",
      "[youtube] TzHGW54AN5M: Downloading webpage\n",
      "[youtube] TzHGW54AN5M: Downloading ios player API JSON\n",
      "[youtube] TzHGW54AN5M: Downloading android player API JSON\n",
      "[youtube] TzHGW54AN5M: Downloading m3u8 information\n",
      "[info] TzHGW54AN5M: Downloading 1 format(s): 22\n",
      "[download] Destination: temp_folder/africa_23.mp4\n",
      "[download] 100% of   17.50MiB in 00:00:01 at 14.55MiB/s    \n"
     ]
    },
    {
     "name": "stderr",
     "output_type": "stream",
     "text": [
      "Processing videos:  31%|█████████████████████████████████████████████▌                                                                                                      | 92/299 [20:57<32:59,  9.56s/it]"
     ]
    },
    {
     "name": "stdout",
     "output_type": "stream",
     "text": [
      "[generic] Extracting URL: www.youtube.com/watch?v=rftlYeAql-k\n",
      "[youtube] Extracting URL: http://www.youtube.com/watch?v=rftlYeAql-k\n",
      "[youtube] rftlYeAql-k: Downloading webpage\n"
     ]
    },
    {
     "name": "stderr",
     "output_type": "stream",
     "text": [
      "WARNING: [generic] The url doesn't specify the protocol, trying with http\n"
     ]
    },
    {
     "name": "stdout",
     "output_type": "stream",
     "text": [
      "[youtube] rftlYeAql-k: Downloading ios player API JSON\n",
      "[youtube] rftlYeAql-k: Downloading android player API JSON\n",
      "[youtube] rftlYeAql-k: Downloading m3u8 information\n",
      "[info] rftlYeAql-k: Downloading 1 format(s): 18\n",
      "[download] Destination: temp_folder/africa_24.mp4\n",
      "[download] 100% of  128.56KiB in 00:00:00 at 749.21KiB/s \n"
     ]
    },
    {
     "name": "stderr",
     "output_type": "stream",
     "text": [
      "Processing videos:  31%|██████████████████████████████████████████████                                                                                                      | 93/299 [21:00<26:41,  7.77s/it]"
     ]
    },
    {
     "name": "stdout",
     "output_type": "stream",
     "text": [
      "[youtube] Extracting URL: https://www.youtube.com/watch?v=w7cVFohqwpQ\n",
      "[youtube] w7cVFohqwpQ: Downloading webpage\n",
      "[youtube] w7cVFohqwpQ: Downloading ios player API JSON\n",
      "[youtube] w7cVFohqwpQ: Downloading android player API JSON\n",
      "[youtube] w7cVFohqwpQ: Downloading m3u8 information\n",
      "[info] w7cVFohqwpQ: Downloading 1 format(s): 18\n",
      "[download] Destination: temp_folder/africa_25.mp4\n",
      "[download] 100% of    9.54MiB in 00:00:00 at 13.10MiB/s    \n"
     ]
    },
    {
     "name": "stderr",
     "output_type": "stream",
     "text": [
      "Processing videos:  31%|██████████████████████████████████████████████▌                                                                                                     | 94/299 [21:11<29:37,  8.67s/it]"
     ]
    },
    {
     "name": "stdout",
     "output_type": "stream",
     "text": [
      "[youtube] Extracting URL: https://www.youtube.com/watch?v=nBY5LbBVhUc\n",
      "[youtube] nBY5LbBVhUc: Downloading webpage\n",
      "[youtube] nBY5LbBVhUc: Downloading ios player API JSON\n",
      "[youtube] nBY5LbBVhUc: Downloading android player API JSON\n",
      "[youtube] nBY5LbBVhUc: Downloading m3u8 information\n",
      "[info] nBY5LbBVhUc: Downloading 1 format(s): 22\n",
      "[download] Destination: temp_folder/africa_26.mp4\n",
      "[download] 100% of    2.52MiB in 00:00:00 at 3.66MiB/s     \n"
     ]
    },
    {
     "name": "stderr",
     "output_type": "stream",
     "text": [
      "Processing videos:  32%|███████████████████████████████████████████████                                                                                                     | 95/299 [21:15<24:42,  7.27s/it]"
     ]
    },
    {
     "name": "stdout",
     "output_type": "stream",
     "text": [
      "[youtube] Extracting URL: https://www.youtube.com/watch?v=8hBFgtJOZaE\n",
      "[youtube] 8hBFgtJOZaE: Downloading webpage\n",
      "[youtube] 8hBFgtJOZaE: Downloading ios player API JSON\n",
      "[youtube] 8hBFgtJOZaE: Downloading android player API JSON\n",
      "[youtube] 8hBFgtJOZaE: Downloading m3u8 information\n",
      "[info] 8hBFgtJOZaE: Downloading 1 format(s): 18\n",
      "[download] Destination: temp_folder/africa_27.mp4\n",
      "[download] 100% of   28.05MiB in 00:00:01 at 15.19MiB/s    \n"
     ]
    },
    {
     "name": "stderr",
     "output_type": "stream",
     "text": [
      "Processing videos:  32%|███████████████████████████████████████████████▌                                                                                                    | 96/299 [21:48<50:41, 14.98s/it]"
     ]
    },
    {
     "name": "stdout",
     "output_type": "stream",
     "text": [
      "[youtube] Extracting URL: https://www.youtube.com/watch?v=8hBFgtJOZaE\n",
      "[youtube] 8hBFgtJOZaE: Downloading webpage\n",
      "[youtube] 8hBFgtJOZaE: Downloading ios player API JSON\n",
      "[youtube] 8hBFgtJOZaE: Downloading android player API JSON\n",
      "[youtube] 8hBFgtJOZaE: Downloading m3u8 information\n",
      "[info] 8hBFgtJOZaE: Downloading 1 format(s): 18\n",
      "[download] Destination: temp_folder/africa_28.mp4\n",
      "[download] 100% of   28.05MiB in 00:00:01 at 21.15MiB/s    \n"
     ]
    },
    {
     "name": "stderr",
     "output_type": "stream",
     "text": [
      "Processing videos:  32%|███████████████████████████████████████████████▎                                                                                                  | 97/299 [22:20<1:07:56, 20.18s/it]"
     ]
    },
    {
     "name": "stdout",
     "output_type": "stream",
     "text": [
      "[youtube] Extracting URL: https://www.youtube.com/watch?v=cBoEmtQv6vQ\n",
      "[youtube] cBoEmtQv6vQ: Downloading webpage\n",
      "[youtube] cBoEmtQv6vQ: Downloading ios player API JSON\n",
      "[youtube] cBoEmtQv6vQ: Downloading android player API JSON\n",
      "[youtube] cBoEmtQv6vQ: Downloading m3u8 information\n",
      "[info] cBoEmtQv6vQ: Downloading 1 format(s): 22\n",
      "[download] Destination: temp_folder/africa_29.mp4\n",
      "[download] 100% of   29.86MiB in 00:00:02 at 13.58MiB/s    \n"
     ]
    },
    {
     "name": "stderr",
     "output_type": "stream",
     "text": [
      "Processing videos:  33%|███████████████████████████████████████████████▊                                                                                                  | 98/299 [22:33<1:00:26, 18.04s/it]"
     ]
    },
    {
     "name": "stdout",
     "output_type": "stream",
     "text": [
      "[youtube] Extracting URL: https://www.youtube.com/watch?v=cBoEmtQv6vQ\n",
      "[youtube] cBoEmtQv6vQ: Downloading webpage\n",
      "[youtube] cBoEmtQv6vQ: Downloading ios player API JSON\n",
      "[youtube] cBoEmtQv6vQ: Downloading android player API JSON\n",
      "[youtube] cBoEmtQv6vQ: Downloading m3u8 information\n",
      "[info] cBoEmtQv6vQ: Downloading 1 format(s): 22\n",
      "[download] Destination: temp_folder/africa_30.mp4\n",
      "[download] 100% of   29.86MiB in 00:00:01 at 20.68MiB/s    \n"
     ]
    },
    {
     "name": "stderr",
     "output_type": "stream",
     "text": [
      "Processing videos:  33%|█████████████████████████████████████████████████                                                                                                   | 99/299 [22:46<54:49, 16.45s/it]"
     ]
    },
    {
     "name": "stdout",
     "output_type": "stream",
     "text": [
      "[youtube] Extracting URL: https://www.youtube.com/watch?v=dc4NfNQHBbo\n",
      "[youtube] dc4NfNQHBbo: Downloading webpage\n",
      "[youtube] dc4NfNQHBbo: Downloading ios player API JSON\n",
      "[youtube] dc4NfNQHBbo: Downloading android player API JSON\n",
      "[youtube] dc4NfNQHBbo: Downloading m3u8 information\n",
      "[youtube] dc4NfNQHBbo: Downloading MPD manifest\n",
      "[info] dc4NfNQHBbo: Downloading 1 format(s): 22\n",
      "[download] Destination: temp_folder/africa_31.mp4\n",
      "[download] 100% of  292.75KiB in 00:00:00 at 591.56KiB/s   \n"
     ]
    },
    {
     "name": "stderr",
     "output_type": "stream",
     "text": [
      "Processing videos:  33%|█████████████████████████████████████████████████▏                                                                                                 | 100/299 [22:50<41:43, 12.58s/it]"
     ]
    },
    {
     "name": "stdout",
     "output_type": "stream",
     "text": [
      "[youtube] Extracting URL: https://www.youtube.com/watch?v=vQQnqkpLu3g\n",
      "[youtube] vQQnqkpLu3g: Downloading webpage\n",
      "[youtube] vQQnqkpLu3g: Downloading ios player API JSON\n",
      "[youtube] vQQnqkpLu3g: Downloading android player API JSON\n",
      "[youtube] vQQnqkpLu3g: Downloading m3u8 information\n",
      "[info] vQQnqkpLu3g: Downloading 1 format(s): 22\n",
      "[download] Destination: temp_folder/africa_32.mp4\n",
      "[download] 100% of    5.09MiB in 00:00:00 at 11.20MiB/s    \n"
     ]
    },
    {
     "name": "stderr",
     "output_type": "stream",
     "text": [
      "Processing videos:  34%|█████████████████████████████████████████████████▋                                                                                                 | 101/299 [22:58<36:55, 11.19s/it]"
     ]
    },
    {
     "name": "stdout",
     "output_type": "stream",
     "text": [
      "[youtube] Extracting URL: https://www.youtube.com/watch?v=vQQnqkpLu3g\n",
      "[youtube] vQQnqkpLu3g: Downloading webpage\n",
      "[youtube] vQQnqkpLu3g: Downloading ios player API JSON\n",
      "[youtube] vQQnqkpLu3g: Downloading android player API JSON\n",
      "[youtube] vQQnqkpLu3g: Downloading m3u8 information\n",
      "[info] vQQnqkpLu3g: Downloading 1 format(s): 22\n",
      "[download] Destination: temp_folder/africa_33.mp4\n",
      "[download] 100% of    5.09MiB in 00:00:00 at 13.51MiB/s    \n"
     ]
    },
    {
     "name": "stderr",
     "output_type": "stream",
     "text": [
      "Processing videos:  34%|██████████████████████████████████████████████████▏                                                                                                | 102/299 [23:05<33:24, 10.18s/it]"
     ]
    },
    {
     "name": "stdout",
     "output_type": "stream",
     "text": [
      "[youtube] Extracting URL: https://www.youtube.com/watch?v=vQQnqkpLu3g\n",
      "[youtube] vQQnqkpLu3g: Downloading webpage\n",
      "[youtube] vQQnqkpLu3g: Downloading ios player API JSON\n",
      "[youtube] vQQnqkpLu3g: Downloading android player API JSON\n",
      "[youtube] vQQnqkpLu3g: Downloading m3u8 information\n",
      "[info] vQQnqkpLu3g: Downloading 1 format(s): 22\n",
      "[download] Destination: temp_folder/africa_34.mp4\n",
      "[download] 100% of    5.09MiB in 00:00:00 at 15.43MiB/s    \n"
     ]
    },
    {
     "name": "stderr",
     "output_type": "stream",
     "text": [
      "Processing videos:  34%|██████████████████████████████████████████████████▋                                                                                                | 103/299 [23:12<30:07,  9.22s/it]"
     ]
    },
    {
     "name": "stdout",
     "output_type": "stream",
     "text": [
      "[youtube] Extracting URL: https://www.youtube.com/watch?v=vQQnqkpLu3g\n",
      "[youtube] vQQnqkpLu3g: Downloading webpage\n",
      "[youtube] vQQnqkpLu3g: Downloading ios player API JSON\n",
      "[youtube] vQQnqkpLu3g: Downloading android player API JSON\n",
      "[youtube] vQQnqkpLu3g: Downloading m3u8 information\n",
      "[info] vQQnqkpLu3g: Downloading 1 format(s): 22\n",
      "[download] Destination: temp_folder/africa_35.mp4\n",
      "[download] 100% of    5.09MiB in 00:00:00 at 12.18MiB/s    \n"
     ]
    },
    {
     "name": "stderr",
     "output_type": "stream",
     "text": [
      "Processing videos:  35%|███████████████████████████████████████████████████▏                                                                                               | 104/299 [23:19<27:43,  8.53s/it]"
     ]
    },
    {
     "name": "stdout",
     "output_type": "stream",
     "text": [
      "[youtube] Extracting URL: https://www.youtube.com/watch?v=vQQnqkpLu3g\n",
      "[youtube] vQQnqkpLu3g: Downloading webpage\n",
      "[youtube] vQQnqkpLu3g: Downloading ios player API JSON\n",
      "[youtube] vQQnqkpLu3g: Downloading android player API JSON\n",
      "[youtube] vQQnqkpLu3g: Downloading m3u8 information\n",
      "[info] vQQnqkpLu3g: Downloading 1 format(s): 22\n",
      "[download] Destination: temp_folder/africa_36.mp4\n",
      "[download] 100% of    5.09MiB in 00:00:00 at 14.54MiB/s    \n"
     ]
    },
    {
     "name": "stderr",
     "output_type": "stream",
     "text": [
      "Processing videos:  35%|███████████████████████████████████████████████████▌                                                                                               | 105/299 [23:26<25:31,  7.90s/it]"
     ]
    },
    {
     "name": "stdout",
     "output_type": "stream",
     "text": [
      "[youtube] Extracting URL: https://www.youtube.com/watch?v=vQQnqkpLu3g\n",
      "[youtube] vQQnqkpLu3g: Downloading webpage\n",
      "[youtube] vQQnqkpLu3g: Downloading ios player API JSON\n",
      "[youtube] vQQnqkpLu3g: Downloading android player API JSON\n",
      "[youtube] vQQnqkpLu3g: Downloading m3u8 information\n",
      "[info] vQQnqkpLu3g: Downloading 1 format(s): 22\n",
      "[download] Destination: temp_folder/africa_37.mp4\n",
      "[download] 100% of    5.09MiB in 00:00:00 at 14.12MiB/s    \n"
     ]
    },
    {
     "name": "stderr",
     "output_type": "stream",
     "text": [
      "Processing videos:  35%|████████████████████████████████████████████████████                                                                                               | 106/299 [23:33<24:19,  7.56s/it]"
     ]
    },
    {
     "name": "stdout",
     "output_type": "stream",
     "text": [
      "[youtube] Extracting URL: https://www.youtube.com/watch?v=vQQnqkpLu3g\n",
      "[youtube] vQQnqkpLu3g: Downloading webpage\n",
      "[youtube] vQQnqkpLu3g: Downloading ios player API JSON\n",
      "[youtube] vQQnqkpLu3g: Downloading android player API JSON\n",
      "[youtube] vQQnqkpLu3g: Downloading m3u8 information\n",
      "[info] vQQnqkpLu3g: Downloading 1 format(s): 22\n",
      "[download] Destination: temp_folder/africa_38.mp4\n",
      "[download] 100% of    5.09MiB in 00:00:00 at 12.85MiB/s    \n"
     ]
    },
    {
     "name": "stderr",
     "output_type": "stream",
     "text": [
      "Processing videos:  36%|████████████████████████████████████████████████████▌                                                                                              | 107/299 [23:39<23:30,  7.34s/it]"
     ]
    },
    {
     "name": "stdout",
     "output_type": "stream",
     "text": [
      "[youtube] Extracting URL: https://www.youtube.com/watch?v=Tg0ltpSAQrk\n",
      "[youtube] Tg0ltpSAQrk: Downloading webpage\n",
      "[youtube] Tg0ltpSAQrk: Downloading ios player API JSON\n",
      "[youtube] Tg0ltpSAQrk: Downloading android player API JSON\n",
      "[youtube] Tg0ltpSAQrk: Downloading m3u8 information\n",
      "[info] Tg0ltpSAQrk: Downloading 1 format(s): 22\n",
      "[download] Destination: temp_folder/africa_39.mp4\n",
      "[download] 100% of   47.42MiB in 00:00:02 at 20.00MiB/s    \n"
     ]
    },
    {
     "name": "stderr",
     "output_type": "stream",
     "text": [
      "Processing videos:  36%|█████████████████████████████████████████████████████                                                                                              | 108/299 [24:06<42:12, 13.26s/it]"
     ]
    },
    {
     "name": "stdout",
     "output_type": "stream",
     "text": [
      "[youtube] Extracting URL: https://www.youtube.com/watch?v=81lx99K1m3s\n",
      "[youtube] 81lx99K1m3s: Downloading webpage\n",
      "[youtube] 81lx99K1m3s: Downloading ios player API JSON\n",
      "[youtube] 81lx99K1m3s: Downloading android player API JSON\n",
      "[youtube] 81lx99K1m3s: Downloading m3u8 information\n",
      "[youtube] 81lx99K1m3s: Downloading MPD manifest\n",
      "[info] 81lx99K1m3s: Downloading 1 format(s): 18\n",
      "[download] Destination: temp_folder/africa_40.mp4\n",
      "[download] 100% of  239.39KiB in 00:00:00 at 807.15KiB/s   \n"
     ]
    },
    {
     "name": "stderr",
     "output_type": "stream",
     "text": [
      "Processing videos:  36%|█████████████████████████████████████████████████████▌                                                                                             | 109/299 [24:11<33:55, 10.71s/it]"
     ]
    },
    {
     "name": "stdout",
     "output_type": "stream",
     "text": [
      "[youtube] Extracting URL: https://www.youtube.com/watch?v=tJCGF8CQojI\n",
      "[youtube] tJCGF8CQojI: Downloading webpage\n",
      "[youtube] tJCGF8CQojI: Downloading ios player API JSON\n",
      "[youtube] tJCGF8CQojI: Downloading android player API JSON\n",
      "[youtube] tJCGF8CQojI: Downloading m3u8 information\n",
      "[youtube] tJCGF8CQojI: Downloading MPD manifest\n",
      "[info] tJCGF8CQojI: Downloading 1 format(s): 22\n",
      "[download] Destination: temp_folder/africa_41.mp4\n",
      "[download] 100% of    1.05MiB in 00:00:00 at 1.06MiB/s     \n"
     ]
    },
    {
     "name": "stderr",
     "output_type": "stream",
     "text": [
      "Processing videos:  37%|██████████████████████████████████████████████████████                                                                                             | 110/299 [24:16<28:23,  9.01s/it]"
     ]
    },
    {
     "name": "stdout",
     "output_type": "stream",
     "text": [
      "[youtube] Extracting URL: https://www.youtube.com/watch?v=S__GZ7Vki30\n",
      "[youtube] S__GZ7Vki30: Downloading webpage\n",
      "[youtube] S__GZ7Vki30: Downloading ios player API JSON\n",
      "[youtube] S__GZ7Vki30: Downloading android player API JSON\n",
      "[youtube] S__GZ7Vki30: Downloading m3u8 information\n",
      "[info] S__GZ7Vki30: Downloading 1 format(s): 22\n",
      "[download] Destination: temp_folder/africa_42.mp4\n",
      "[download] 100% of  225.75KiB in 00:00:00 at 583.28KiB/s   \n"
     ]
    },
    {
     "name": "stderr",
     "output_type": "stream",
     "text": [
      "Processing videos:  37%|██████████████████████████████████████████████████████▌                                                                                            | 111/299 [24:20<22:58,  7.33s/it]"
     ]
    },
    {
     "name": "stdout",
     "output_type": "stream",
     "text": [
      "[youtube] Extracting URL: https://www.youtube.com/watch?v=exVXuSjS8Rc\n",
      "[youtube] exVXuSjS8Rc: Downloading webpage\n",
      "[youtube] exVXuSjS8Rc: Downloading ios player API JSON\n",
      "[youtube] exVXuSjS8Rc: Downloading android player API JSON\n",
      "[youtube] exVXuSjS8Rc: Downloading m3u8 information\n",
      "[youtube] exVXuSjS8Rc: Downloading MPD manifest\n",
      "[info] exVXuSjS8Rc: Downloading 1 format(s): 22\n",
      "[download] Destination: temp_folder/africa_43.mp4\n",
      "[download] 100% of  292.75KiB in 00:00:00 at 335.93KiB/s   \n"
     ]
    },
    {
     "name": "stderr",
     "output_type": "stream",
     "text": [
      "Processing videos:  37%|███████████████████████████████████████████████████████                                                                                            | 112/299 [24:24<19:36,  6.29s/it]"
     ]
    },
    {
     "name": "stdout",
     "output_type": "stream",
     "text": [
      "[youtube] Extracting URL: https://www.youtube.com/watch?v=TzHGW54AN5M\n",
      "[youtube] TzHGW54AN5M: Downloading webpage\n",
      "[youtube] TzHGW54AN5M: Downloading ios player API JSON\n",
      "[youtube] TzHGW54AN5M: Downloading android player API JSON\n",
      "[youtube] TzHGW54AN5M: Downloading m3u8 information\n",
      "[info] TzHGW54AN5M: Downloading 1 format(s): 22\n",
      "[download] Destination: temp_folder/africa_44.mp4\n",
      "[download] 100% of   17.50MiB in 00:00:01 at 12.94MiB/s    \n"
     ]
    },
    {
     "name": "stderr",
     "output_type": "stream",
     "text": [
      "Processing videos:  38%|███████████████████████████████████████████████████████▌                                                                                           | 113/299 [24:40<29:11,  9.42s/it]"
     ]
    },
    {
     "name": "stdout",
     "output_type": "stream",
     "text": [
      "[generic] Extracting URL: www.youtube.com/watch?v=rftlYeAql-k\n",
      "[youtube] Extracting URL: http://www.youtube.com/watch?v=rftlYeAql-k\n",
      "[youtube] rftlYeAql-k: Downloading webpage\n"
     ]
    },
    {
     "name": "stderr",
     "output_type": "stream",
     "text": [
      "WARNING: [generic] The url doesn't specify the protocol, trying with http\n"
     ]
    },
    {
     "name": "stdout",
     "output_type": "stream",
     "text": [
      "[youtube] rftlYeAql-k: Downloading ios player API JSON\n",
      "[youtube] rftlYeAql-k: Downloading android player API JSON\n",
      "[youtube] rftlYeAql-k: Downloading m3u8 information\n",
      "[info] rftlYeAql-k: Downloading 1 format(s): 18\n",
      "[download] Destination: temp_folder/africa_45.mp4\n",
      "[download] 100% of  128.56KiB in 00:00:00 at 325.39KiB/s \n"
     ]
    },
    {
     "name": "stderr",
     "output_type": "stream",
     "text": [
      "Processing videos:  38%|████████████████████████████████████████████████████████                                                                                           | 114/299 [24:44<23:54,  7.75s/it]"
     ]
    },
    {
     "name": "stdout",
     "output_type": "stream",
     "text": [
      "[youtube] Extracting URL: https://www.youtube.com/watch?v=w7cVFohqwpQ\n",
      "[youtube] w7cVFohqwpQ: Downloading webpage\n",
      "[youtube] w7cVFohqwpQ: Downloading ios player API JSON\n",
      "[youtube] w7cVFohqwpQ: Downloading android player API JSON\n",
      "[youtube] w7cVFohqwpQ: Downloading m3u8 information\n",
      "[info] w7cVFohqwpQ: Downloading 1 format(s): 18\n",
      "[download] Destination: temp_folder/africa_46.mp4\n",
      "[download] 100% of    9.54MiB in 00:00:00 at 12.81MiB/s    \n"
     ]
    },
    {
     "name": "stderr",
     "output_type": "stream",
     "text": [
      "Processing videos:  38%|████████████████████████████████████████████████████████▌                                                                                          | 115/299 [24:54<25:57,  8.47s/it]"
     ]
    },
    {
     "name": "stdout",
     "output_type": "stream",
     "text": [
      "[youtube] Extracting URL: https://www.youtube.com/watch?v=nBY5LbBVhUc\n",
      "[youtube] nBY5LbBVhUc: Downloading webpage\n",
      "[youtube] nBY5LbBVhUc: Downloading ios player API JSON\n",
      "[youtube] nBY5LbBVhUc: Downloading android player API JSON\n",
      "[youtube] nBY5LbBVhUc: Downloading m3u8 information\n",
      "[info] nBY5LbBVhUc: Downloading 1 format(s): 22\n",
      "[download] Destination: temp_folder/africa_47.mp4\n",
      "[download] 100% of    2.52MiB in 00:00:00 at 7.21MiB/s     \n"
     ]
    },
    {
     "name": "stderr",
     "output_type": "stream",
     "text": [
      "Processing videos:  39%|█████████████████████████████████████████████████████████                                                                                          | 116/299 [24:58<21:18,  6.99s/it]"
     ]
    },
    {
     "name": "stdout",
     "output_type": "stream",
     "text": [
      "[youtube] Extracting URL: https://www.youtube.com/watch?v=8hBFgtJOZaE\n",
      "[youtube] 8hBFgtJOZaE: Downloading webpage\n",
      "[youtube] 8hBFgtJOZaE: Downloading ios player API JSON\n",
      "[youtube] 8hBFgtJOZaE: Downloading android player API JSON\n",
      "[youtube] 8hBFgtJOZaE: Downloading m3u8 information\n",
      "[info] 8hBFgtJOZaE: Downloading 1 format(s): 18\n",
      "[download] Destination: temp_folder/africa_48.mp4\n",
      "[download] 100% of   28.05MiB in 00:00:01 at 16.69MiB/s    \n"
     ]
    },
    {
     "name": "stderr",
     "output_type": "stream",
     "text": [
      "Processing videos:  39%|█████████████████████████████████████████████████████████▌                                                                                         | 117/299 [25:30<44:35, 14.70s/it]"
     ]
    },
    {
     "name": "stdout",
     "output_type": "stream",
     "text": [
      "[youtube] Extracting URL: https://www.youtube.com/watch?v=8hBFgtJOZaE\n",
      "[youtube] 8hBFgtJOZaE: Downloading webpage\n",
      "[youtube] 8hBFgtJOZaE: Downloading ios player API JSON\n",
      "[youtube] 8hBFgtJOZaE: Downloading android player API JSON\n",
      "[youtube] 8hBFgtJOZaE: Downloading m3u8 information\n",
      "[info] 8hBFgtJOZaE: Downloading 1 format(s): 18\n",
      "[download] Destination: temp_folder/africa_49.mp4\n",
      "[download] 100% of   28.05MiB in 00:00:01 at 18.35MiB/s    \n"
     ]
    },
    {
     "name": "stderr",
     "output_type": "stream",
     "text": [
      "Processing videos:  39%|█████████████████████████████████████████████████████████▏                                                                                       | 118/299 [26:03<1:00:34, 20.08s/it]"
     ]
    },
    {
     "name": "stdout",
     "output_type": "stream",
     "text": [
      "[youtube] Extracting URL: https://www.youtube.com/watch?v=cBoEmtQv6vQ\n",
      "[youtube] cBoEmtQv6vQ: Downloading webpage\n",
      "[youtube] cBoEmtQv6vQ: Downloading ios player API JSON\n",
      "[youtube] cBoEmtQv6vQ: Downloading android player API JSON\n",
      "[youtube] cBoEmtQv6vQ: Downloading m3u8 information\n",
      "[info] cBoEmtQv6vQ: Downloading 1 format(s): 22\n",
      "[download] Destination: temp_folder/africa_50.mp4\n",
      "[download] 100% of   29.86MiB in 00:00:01 at 16.31MiB/s    \n"
     ]
    },
    {
     "name": "stderr",
     "output_type": "stream",
     "text": [
      "Processing videos:  40%|██████████████████████████████████████████████████████████▌                                                                                        | 119/299 [26:16<53:24, 17.80s/it]"
     ]
    },
    {
     "name": "stdout",
     "output_type": "stream",
     "text": [
      "[youtube] Extracting URL: https://www.youtube.com/watch?v=cBoEmtQv6vQ\n",
      "[youtube] cBoEmtQv6vQ: Downloading webpage\n",
      "[youtube] cBoEmtQv6vQ: Downloading ios player API JSON\n",
      "[youtube] cBoEmtQv6vQ: Downloading android player API JSON\n",
      "[youtube] cBoEmtQv6vQ: Downloading m3u8 information\n",
      "[info] cBoEmtQv6vQ: Downloading 1 format(s): 22\n",
      "[download] Destination: temp_folder/africa_51.mp4\n",
      "[download] 100% of   29.86MiB in 00:00:01 at 20.93MiB/s    \n"
     ]
    },
    {
     "name": "stderr",
     "output_type": "stream",
     "text": [
      "Processing videos:  40%|██████████████████████████████████████████████████████████▉                                                                                        | 120/299 [26:28<48:16, 16.18s/it]"
     ]
    },
    {
     "name": "stdout",
     "output_type": "stream",
     "text": [
      "[youtube] Extracting URL: https://www.youtube.com/watch?v=dc4NfNQHBbo\n",
      "[youtube] dc4NfNQHBbo: Downloading webpage\n",
      "[youtube] dc4NfNQHBbo: Downloading ios player API JSON\n",
      "[youtube] dc4NfNQHBbo: Downloading android player API JSON\n",
      "[youtube] dc4NfNQHBbo: Downloading m3u8 information\n",
      "[youtube] dc4NfNQHBbo: Downloading MPD manifest\n",
      "[info] dc4NfNQHBbo: Downloading 1 format(s): 22\n",
      "[download] Destination: temp_folder/africa_52.mp4\n",
      "[download] 100% of  292.75KiB in 00:00:00 at 531.64KiB/s   \n"
     ]
    },
    {
     "name": "stderr",
     "output_type": "stream",
     "text": [
      "Processing videos:  40%|███████████████████████████████████████████████████████████▍                                                                                       | 121/299 [26:32<37:02, 12.49s/it]"
     ]
    },
    {
     "name": "stdout",
     "output_type": "stream",
     "text": [
      "[youtube] Extracting URL: https://www.youtube.com/watch?v=vQQnqkpLu3g\n",
      "[youtube] vQQnqkpLu3g: Downloading webpage\n",
      "[youtube] vQQnqkpLu3g: Downloading ios player API JSON\n",
      "[youtube] vQQnqkpLu3g: Downloading android player API JSON\n",
      "[youtube] vQQnqkpLu3g: Downloading m3u8 information\n",
      "[info] vQQnqkpLu3g: Downloading 1 format(s): 22\n",
      "[download] Destination: temp_folder/africa_53.mp4\n",
      "[download] 100% of    5.09MiB in 00:00:00 at 13.69MiB/s    \n"
     ]
    },
    {
     "name": "stderr",
     "output_type": "stream",
     "text": [
      "Processing videos:  41%|███████████████████████████████████████████████████████████▉                                                                                       | 122/299 [26:40<32:39, 11.07s/it]"
     ]
    },
    {
     "name": "stdout",
     "output_type": "stream",
     "text": [
      "[youtube] Extracting URL: https://www.youtube.com/watch?v=vQQnqkpLu3g\n",
      "[youtube] vQQnqkpLu3g: Downloading webpage\n",
      "[youtube] vQQnqkpLu3g: Downloading ios player API JSON\n",
      "[youtube] vQQnqkpLu3g: Downloading android player API JSON\n",
      "[youtube] vQQnqkpLu3g: Downloading m3u8 information\n",
      "[info] vQQnqkpLu3g: Downloading 1 format(s): 22\n",
      "[download] Destination: temp_folder/africa_54.mp4\n",
      "[download] 100% of    5.09MiB in 00:00:00 at 13.42MiB/s    \n"
     ]
    },
    {
     "name": "stderr",
     "output_type": "stream",
     "text": [
      "Processing videos:  41%|████████████████████████████████████████████████████████████▍                                                                                      | 123/299 [26:47<29:25, 10.03s/it]"
     ]
    },
    {
     "name": "stdout",
     "output_type": "stream",
     "text": [
      "[youtube] Extracting URL: https://www.youtube.com/watch?v=vQQnqkpLu3g\n",
      "[youtube] vQQnqkpLu3g: Downloading webpage\n",
      "[youtube] vQQnqkpLu3g: Downloading ios player API JSON\n",
      "[youtube] vQQnqkpLu3g: Downloading android player API JSON\n",
      "[youtube] vQQnqkpLu3g: Downloading m3u8 information\n",
      "[info] vQQnqkpLu3g: Downloading 1 format(s): 22\n",
      "[download] Destination: temp_folder/africa_55.mp4\n",
      "[download] 100% of    5.09MiB in 00:00:00 at 14.35MiB/s    \n"
     ]
    },
    {
     "name": "stderr",
     "output_type": "stream",
     "text": [
      "Processing videos:  41%|████████████████████████████████████████████████████████████▉                                                                                      | 124/299 [26:54<26:37,  9.13s/it]"
     ]
    },
    {
     "name": "stdout",
     "output_type": "stream",
     "text": [
      "[youtube] Extracting URL: https://www.youtube.com/watch?v=vQQnqkpLu3g\n",
      "[youtube] vQQnqkpLu3g: Downloading webpage\n",
      "[youtube] vQQnqkpLu3g: Downloading ios player API JSON\n",
      "[youtube] vQQnqkpLu3g: Downloading android player API JSON\n",
      "[youtube] vQQnqkpLu3g: Downloading m3u8 information\n",
      "[info] vQQnqkpLu3g: Downloading 1 format(s): 22\n",
      "[download] Destination: temp_folder/africa_56.mp4\n",
      "[download] 100% of    5.09MiB in 00:00:00 at 14.24MiB/s    \n"
     ]
    },
    {
     "name": "stderr",
     "output_type": "stream",
     "text": [
      "Processing videos:  42%|█████████████████████████████████████████████████████████████▍                                                                                     | 125/299 [27:01<24:21,  8.40s/it]"
     ]
    },
    {
     "name": "stdout",
     "output_type": "stream",
     "text": [
      "[youtube] Extracting URL: https://www.youtube.com/watch?v=vQQnqkpLu3g\n",
      "[youtube] vQQnqkpLu3g: Downloading webpage\n",
      "[youtube] vQQnqkpLu3g: Downloading ios player API JSON\n",
      "[youtube] vQQnqkpLu3g: Downloading android player API JSON\n",
      "[youtube] vQQnqkpLu3g: Downloading m3u8 information\n",
      "[info] vQQnqkpLu3g: Downloading 1 format(s): 22\n",
      "[download] Destination: temp_folder/africa_57.mp4\n",
      "[download] 100% of    5.09MiB in 00:00:00 at 15.32MiB/s    \n"
     ]
    },
    {
     "name": "stderr",
     "output_type": "stream",
     "text": [
      "Processing videos:  42%|█████████████████████████████████████████████████████████████▉                                                                                     | 126/299 [27:07<22:32,  7.82s/it]"
     ]
    },
    {
     "name": "stdout",
     "output_type": "stream",
     "text": [
      "[youtube] Extracting URL: https://www.youtube.com/watch?v=vQQnqkpLu3g\n",
      "[youtube] vQQnqkpLu3g: Downloading webpage\n",
      "[youtube] vQQnqkpLu3g: Downloading ios player API JSON\n",
      "[youtube] vQQnqkpLu3g: Downloading android player API JSON\n",
      "[youtube] vQQnqkpLu3g: Downloading m3u8 information\n",
      "[info] vQQnqkpLu3g: Downloading 1 format(s): 22\n",
      "[download] Destination: temp_folder/africa_58.mp4\n",
      "[download] 100% of    5.09MiB in 00:00:00 at 11.82MiB/s    \n"
     ]
    },
    {
     "name": "stderr",
     "output_type": "stream",
     "text": [
      "Processing videos:  42%|██████████████████████████████████████████████████████████████▍                                                                                    | 127/299 [27:14<21:10,  7.39s/it]"
     ]
    },
    {
     "name": "stdout",
     "output_type": "stream",
     "text": [
      "[youtube] Extracting URL: https://www.youtube.com/watch?v=vQQnqkpLu3g\n",
      "[youtube] vQQnqkpLu3g: Downloading webpage\n",
      "[youtube] vQQnqkpLu3g: Downloading ios player API JSON\n",
      "[youtube] vQQnqkpLu3g: Downloading android player API JSON\n",
      "[youtube] vQQnqkpLu3g: Downloading m3u8 information\n",
      "[info] vQQnqkpLu3g: Downloading 1 format(s): 22\n",
      "[download] Destination: temp_folder/africa_59.mp4\n",
      "[download] 100% of    5.09MiB in 00:00:00 at 15.29MiB/s    \n"
     ]
    },
    {
     "name": "stderr",
     "output_type": "stream",
     "text": [
      "Processing videos:  43%|██████████████████████████████████████████████████████████████▉                                                                                    | 128/299 [27:21<20:48,  7.30s/it]"
     ]
    },
    {
     "name": "stdout",
     "output_type": "stream",
     "text": [
      "[youtube] Extracting URL: https://www.youtube.com/watch?v=Tg0ltpSAQrk\n",
      "[youtube] Tg0ltpSAQrk: Downloading webpage\n",
      "[youtube] Tg0ltpSAQrk: Downloading ios player API JSON\n",
      "[youtube] Tg0ltpSAQrk: Downloading android player API JSON\n",
      "[youtube] Tg0ltpSAQrk: Downloading m3u8 information\n",
      "[info] Tg0ltpSAQrk: Downloading 1 format(s): 22\n",
      "[download] Destination: temp_folder/africa_60.mp4\n",
      "[download] 100% of   47.42MiB in 00:00:05 at 8.28MiB/s     \n"
     ]
    },
    {
     "name": "stderr",
     "output_type": "stream",
     "text": [
      "Processing videos:  43%|███████████████████████████████████████████████████████████████▍                                                                                   | 129/299 [27:51<39:44, 14.03s/it]"
     ]
    },
    {
     "name": "stdout",
     "output_type": "stream",
     "text": [
      "[youtube] Extracting URL: https://www.youtube.com/watch?v=81lx99K1m3s\n",
      "[youtube] 81lx99K1m3s: Downloading webpage\n",
      "[youtube] 81lx99K1m3s: Downloading ios player API JSON\n",
      "[youtube] 81lx99K1m3s: Downloading android player API JSON\n",
      "[youtube] 81lx99K1m3s: Downloading m3u8 information\n",
      "[youtube] 81lx99K1m3s: Downloading MPD manifest\n",
      "[info] 81lx99K1m3s: Downloading 1 format(s): 18\n",
      "[download] Destination: temp_folder/africa_61.mp4\n",
      "[download] 100% of  239.39KiB in 00:00:00 at 668.75KiB/s   \n"
     ]
    },
    {
     "name": "stderr",
     "output_type": "stream",
     "text": [
      "Processing videos:  43%|███████████████████████████████████████████████████████████████▉                                                                                   | 130/299 [27:55<31:42, 11.26s/it]"
     ]
    },
    {
     "name": "stdout",
     "output_type": "stream",
     "text": [
      "[youtube] Extracting URL: https://www.youtube.com/watch?v=tJCGF8CQojI\n",
      "[youtube] tJCGF8CQojI: Downloading webpage\n",
      "[youtube] tJCGF8CQojI: Downloading ios player API JSON\n",
      "[youtube] tJCGF8CQojI: Downloading android player API JSON\n",
      "[youtube] tJCGF8CQojI: Downloading m3u8 information\n",
      "[youtube] tJCGF8CQojI: Downloading MPD manifest\n",
      "[info] tJCGF8CQojI: Downloading 1 format(s): 22\n",
      "[download] Destination: temp_folder/africa_62.mp4\n",
      "[download] 100% of    1.05MiB in 00:00:00 at 3.82MiB/s     \n"
     ]
    },
    {
     "name": "stderr",
     "output_type": "stream",
     "text": [
      "Processing videos:  44%|████████████████████████████████████████████████████████████████▍                                                                                  | 131/299 [28:00<25:59,  9.28s/it]"
     ]
    },
    {
     "name": "stdout",
     "output_type": "stream",
     "text": [
      "[youtube] Extracting URL: https://www.youtube.com/watch?v=S__GZ7Vki30\n",
      "[youtube] S__GZ7Vki30: Downloading webpage\n",
      "[youtube] S__GZ7Vki30: Downloading ios player API JSON\n",
      "[youtube] S__GZ7Vki30: Downloading android player API JSON\n",
      "[youtube] S__GZ7Vki30: Downloading m3u8 information\n",
      "[info] S__GZ7Vki30: Downloading 1 format(s): 22\n",
      "[download] Destination: temp_folder/africa_63.mp4\n",
      "[download] 100% of  225.75KiB in 00:00:00 at 695.12KiB/s   \n"
     ]
    },
    {
     "name": "stderr",
     "output_type": "stream",
     "text": [
      "Processing videos:  44%|████████████████████████████████████████████████████████████████▉                                                                                  | 132/299 [28:03<20:42,  7.44s/it]"
     ]
    },
    {
     "name": "stdout",
     "output_type": "stream",
     "text": [
      "[youtube] Extracting URL: https://www.youtube.com/watch?v=oWJM0FfPSHI\n",
      "[youtube] oWJM0FfPSHI: Downloading webpage\n",
      "[youtube] oWJM0FfPSHI: Downloading ios player API JSON\n",
      "[youtube] oWJM0FfPSHI: Downloading android player API JSON\n",
      "[youtube] oWJM0FfPSHI: Downloading m3u8 information\n",
      "[youtube] oWJM0FfPSHI: Downloading MPD manifest\n",
      "[info] oWJM0FfPSHI: Downloading 1 format(s): 22\n",
      "[download] Got error: HTTP Error 503: Service Unavailable. Retrying (1/10)...\n",
      "[download] Destination: temp_folder/after.mp4\n",
      "[download] 100% of    1.36MiB in 00:00:01 at 848.15KiB/s   \n"
     ]
    },
    {
     "name": "stderr",
     "output_type": "stream",
     "text": [
      "Processing videos:  44%|█████████████████████████████████████████████████████████████████▍                                                                                 | 133/299 [28:08<18:12,  6.58s/it]"
     ]
    },
    {
     "name": "stdout",
     "output_type": "stream",
     "text": [
      "[youtube] Extracting URL: https://www.youtube.com/watch?v=mCjHYreiZ24\n",
      "[youtube] mCjHYreiZ24: Downloading webpage\n",
      "[youtube] mCjHYreiZ24: Downloading ios player API JSON\n",
      "[youtube] mCjHYreiZ24: Downloading android player API JSON\n",
      "[youtube] mCjHYreiZ24: Downloading m3u8 information\n",
      "[info] mCjHYreiZ24: Downloading 1 format(s): 18\n",
      "[download] Destination: temp_folder/after_2.mp4\n",
      "[download] 100% of   27.23MiB in 00:00:09 at 3.01MiB/s     \n"
     ]
    },
    {
     "name": "stderr",
     "output_type": "stream",
     "text": [
      "Processing videos:  45%|█████████████████████████████████████████████████████████████████▉                                                                                 | 134/299 [28:40<38:53, 14.14s/it]"
     ]
    },
    {
     "name": "stdout",
     "output_type": "stream",
     "text": [
      "[youtube] Extracting URL: https://www.youtube.com/watch?v=xaHll2DRUkg\n",
      "[youtube] xaHll2DRUkg: Downloading webpage\n",
      "[youtube] xaHll2DRUkg: Downloading ios player API JSON\n",
      "[youtube] xaHll2DRUkg: Downloading android player API JSON\n"
     ]
    },
    {
     "name": "stderr",
     "output_type": "stream",
     "text": [
      "ERROR: [youtube] xaHll2DRUkg: Video unavailable. This video is no longer available because the YouTube account associated with this video has been terminated.\n",
      "Processing videos:  45%|██████████████████████████████████████████████████████████████████▎                                                                                | 135/299 [28:40<27:37, 10.11s/it]"
     ]
    },
    {
     "name": "stdout",
     "output_type": "stream",
     "text": [
      "[Errno 2] No such file or directory: 'temp_folder/after_3.mp4'\n",
      "[youtube] Extracting URL: https://www.youtube.com/watch?v=xaHll2DRUkg\n",
      "[youtube] xaHll2DRUkg: Downloading webpage\n",
      "[youtube] xaHll2DRUkg: Downloading ios player API JSON\n"
     ]
    },
    {
     "name": "stderr",
     "output_type": "stream",
     "text": [
      "ERROR: [youtube] xaHll2DRUkg: Video unavailable. This video is no longer available because the YouTube account associated with this video has been terminated.\n",
      "Processing videos:  45%|██████████████████████████████████████████████████████████████████▊                                                                                | 136/299 [28:41<19:47,  7.29s/it]"
     ]
    },
    {
     "name": "stdout",
     "output_type": "stream",
     "text": [
      "[youtube] xaHll2DRUkg: Downloading android player API JSON\n",
      "[Errno 2] No such file or directory: 'temp_folder/after_4.mp4'\n",
      "[youtube] Extracting URL: https://www.youtube.com/watch?v=xaHll2DRUkg\n",
      "[youtube] xaHll2DRUkg: Downloading webpage\n",
      "[youtube] xaHll2DRUkg: Downloading ios player API JSON\n",
      "[youtube] xaHll2DRUkg: Downloading android player API JSON\n"
     ]
    },
    {
     "name": "stderr",
     "output_type": "stream",
     "text": [
      "ERROR: [youtube] xaHll2DRUkg: Video unavailable. This video is no longer available because the YouTube account associated with this video has been terminated.\n",
      "Processing videos:  46%|███████████████████████████████████████████████████████████████████▎                                                                               | 137/299 [28:42<14:18,  5.30s/it]"
     ]
    },
    {
     "name": "stdout",
     "output_type": "stream",
     "text": [
      "[Errno 2] No such file or directory: 'temp_folder/after_5.mp4'\n",
      "[youtube] Extracting URL: https://www.youtube.com/watch?v=amWUHjchp8s\n",
      "[youtube] amWUHjchp8s: Downloading webpage\n",
      "[youtube] amWUHjchp8s: Downloading ios player API JSON\n",
      "[youtube] amWUHjchp8s: Downloading android player API JSON\n",
      "[youtube] amWUHjchp8s: Downloading m3u8 information\n",
      "[info] amWUHjchp8s: Downloading 1 format(s): 18\n",
      "[download] Destination: temp_folder/after_6.mp4\n",
      "[download] 100% of    7.31MiB in 00:00:01 at 5.95MiB/s   \n"
     ]
    },
    {
     "name": "stderr",
     "output_type": "stream",
     "text": [
      "Processing videos:  46%|███████████████████████████████████████████████████████████████████▊                                                                               | 138/299 [28:52<18:12,  6.79s/it]"
     ]
    },
    {
     "name": "stdout",
     "output_type": "stream",
     "text": [
      "[youtube] Extracting URL: https://www.youtube.com/watch?v=_qRft6V2XC0\n",
      "[youtube] _qRft6V2XC0: Downloading webpage\n",
      "[youtube] _qRft6V2XC0: Downloading ios player API JSON\n",
      "[youtube] _qRft6V2XC0: Downloading android player API JSON\n",
      "[youtube] _qRft6V2XC0: Downloading m3u8 information\n",
      "[youtube] _qRft6V2XC0: Downloading MPD manifest\n",
      "[info] _qRft6V2XC0: Downloading 1 format(s): 22\n",
      "[download] Destination: temp_folder/after_7.mp4\n",
      "[download] 100% of   21.85MiB in 00:00:01 at 15.20MiB/s    \n"
     ]
    },
    {
     "name": "stderr",
     "output_type": "stream",
     "text": [
      "Processing videos:  46%|████████████████████████████████████████████████████████████████████▎                                                                              | 139/299 [29:01<19:59,  7.49s/it]"
     ]
    },
    {
     "name": "stdout",
     "output_type": "stream",
     "text": [
      "[youtube] Extracting URL: https://www.youtube.com/watch?v=oWJM0FfPSHI\n",
      "[youtube] oWJM0FfPSHI: Downloading webpage\n",
      "[youtube] oWJM0FfPSHI: Downloading ios player API JSON\n",
      "[youtube] oWJM0FfPSHI: Downloading android player API JSON\n",
      "[youtube] oWJM0FfPSHI: Downloading m3u8 information\n",
      "[youtube] oWJM0FfPSHI: Downloading MPD manifest\n",
      "[info] oWJM0FfPSHI: Downloading 1 format(s): 22\n",
      "[download] Destination: temp_folder/after_8.mp4\n",
      "[download] 100% of    1.36MiB in 00:00:00 at 2.00MiB/s     \n"
     ]
    },
    {
     "name": "stderr",
     "output_type": "stream",
     "text": [
      "Processing videos:  47%|████████████████████████████████████████████████████████████████████▊                                                                              | 140/299 [29:04<16:32,  6.24s/it]"
     ]
    },
    {
     "name": "stdout",
     "output_type": "stream",
     "text": [
      "[youtube] Extracting URL: https://www.youtube.com/watch?v=mCjHYreiZ24\n",
      "[youtube] mCjHYreiZ24: Downloading webpage\n",
      "[youtube] mCjHYreiZ24: Downloading ios player API JSON\n",
      "[youtube] mCjHYreiZ24: Downloading android player API JSON\n",
      "[youtube] mCjHYreiZ24: Downloading m3u8 information\n",
      "[info] mCjHYreiZ24: Downloading 1 format(s): 18\n",
      "[download] Destination: temp_folder/after_9.mp4\n",
      "[download] 100% of   27.23MiB in 00:00:01 at 14.21MiB/s    \n"
     ]
    },
    {
     "name": "stderr",
     "output_type": "stream",
     "text": [
      "Processing videos:  47%|█████████████████████████████████████████████████████████████████████▎                                                                             | 141/299 [29:29<31:12, 11.85s/it]"
     ]
    },
    {
     "name": "stdout",
     "output_type": "stream",
     "text": [
      "[youtube] Extracting URL: https://www.youtube.com/watch?v=xaHll2DRUkg\n",
      "[youtube] xaHll2DRUkg: Downloading webpage\n",
      "[youtube] xaHll2DRUkg: Downloading ios player API JSON\n",
      "[youtube] xaHll2DRUkg: Downloading android player API JSON\n"
     ]
    },
    {
     "name": "stderr",
     "output_type": "stream",
     "text": [
      "ERROR: [youtube] xaHll2DRUkg: Video unavailable. This video is no longer available because the YouTube account associated with this video has been terminated.\n",
      "Processing videos:  47%|█████████████████████████████████████████████████████████████████████▊                                                                             | 142/299 [29:30<22:17,  8.52s/it]"
     ]
    },
    {
     "name": "stdout",
     "output_type": "stream",
     "text": [
      "[Errno 2] No such file or directory: 'temp_folder/after_10.mp4'\n",
      "[youtube] Extracting URL: https://www.youtube.com/watch?v=xaHll2DRUkg\n",
      "[youtube] xaHll2DRUkg: Downloading webpage\n",
      "[youtube] xaHll2DRUkg: Downloading ios player API JSON\n",
      "[youtube] xaHll2DRUkg: Downloading android player API JSON\n"
     ]
    },
    {
     "name": "stderr",
     "output_type": "stream",
     "text": [
      "ERROR: [youtube] xaHll2DRUkg: Video unavailable. This video is no longer available because the YouTube account associated with this video has been terminated.\n",
      "Processing videos:  48%|██████████████████████████████████████████████████████████████████████▎                                                                            | 143/299 [29:31<16:05,  6.19s/it]"
     ]
    },
    {
     "name": "stdout",
     "output_type": "stream",
     "text": [
      "[Errno 2] No such file or directory: 'temp_folder/after_11.mp4'\n",
      "[youtube] Extracting URL: https://www.youtube.com/watch?v=xaHll2DRUkg\n",
      "[youtube] xaHll2DRUkg: Downloading webpage\n",
      "[youtube] xaHll2DRUkg: Downloading ios player API JSON\n",
      "[youtube] xaHll2DRUkg: Downloading android player API JSON\n"
     ]
    },
    {
     "name": "stderr",
     "output_type": "stream",
     "text": [
      "ERROR: [youtube] xaHll2DRUkg: Video unavailable. This video is no longer available because the YouTube account associated with this video has been terminated.\n",
      "Processing videos:  48%|██████████████████████████████████████████████████████████████████████▊                                                                            | 144/299 [29:32<11:43,  4.54s/it]"
     ]
    },
    {
     "name": "stdout",
     "output_type": "stream",
     "text": [
      "[Errno 2] No such file or directory: 'temp_folder/after_12.mp4'\n",
      "[youtube] Extracting URL: https://www.youtube.com/watch?v=amWUHjchp8s\n",
      "[youtube] amWUHjchp8s: Downloading webpage\n",
      "[youtube] amWUHjchp8s: Downloading ios player API JSON\n",
      "[youtube] amWUHjchp8s: Downloading android player API JSON\n",
      "[youtube] amWUHjchp8s: Downloading m3u8 information\n",
      "[info] amWUHjchp8s: Downloading 1 format(s): 18\n",
      "[download] Destination: temp_folder/after_13.mp4\n",
      "[download] 100% of    7.31MiB in 00:00:00 at 9.76MiB/s   \n"
     ]
    },
    {
     "name": "stderr",
     "output_type": "stream",
     "text": [
      "Processing videos:  48%|███████████████████████████████████████████████████████████████████████▎                                                                           | 145/299 [29:41<15:35,  6.07s/it]"
     ]
    },
    {
     "name": "stdout",
     "output_type": "stream",
     "text": [
      "[youtube] Extracting URL: https://www.youtube.com/watch?v=_qRft6V2XC0\n",
      "[youtube] _qRft6V2XC0: Downloading webpage\n",
      "[youtube] _qRft6V2XC0: Downloading ios player API JSON\n",
      "[youtube] _qRft6V2XC0: Downloading android player API JSON\n",
      "[youtube] _qRft6V2XC0: Downloading m3u8 information\n",
      "[youtube] _qRft6V2XC0: Downloading MPD manifest\n",
      "[info] _qRft6V2XC0: Downloading 1 format(s): 22\n",
      "[download] Destination: temp_folder/after_14.mp4\n",
      "[download] 100% of   21.85MiB in 00:00:01 at 20.74MiB/s    \n"
     ]
    },
    {
     "name": "stderr",
     "output_type": "stream",
     "text": [
      "Processing videos:  49%|███████████████████████████████████████████████████████████████████████▊                                                                           | 146/299 [29:50<17:20,  6.80s/it]"
     ]
    },
    {
     "name": "stdout",
     "output_type": "stream",
     "text": [
      "[youtube] Extracting URL: https://www.youtube.com/watch?v=oWJM0FfPSHI\n",
      "[youtube] oWJM0FfPSHI: Downloading webpage\n",
      "[youtube] oWJM0FfPSHI: Downloading ios player API JSON\n",
      "[youtube] oWJM0FfPSHI: Downloading android player API JSON\n",
      "[youtube] oWJM0FfPSHI: Downloading m3u8 information\n",
      "[youtube] oWJM0FfPSHI: Downloading MPD manifest\n",
      "[info] oWJM0FfPSHI: Downloading 1 format(s): 22\n",
      "[download] Destination: temp_folder/after_15.mp4\n",
      "[download] 100% of    1.36MiB in 00:00:00 at 5.05MiB/s     \n"
     ]
    },
    {
     "name": "stderr",
     "output_type": "stream",
     "text": [
      "Processing videos:  49%|████████████████████████████████████████████████████████████████████████▎                                                                          | 147/299 [29:53<14:47,  5.84s/it]"
     ]
    },
    {
     "name": "stdout",
     "output_type": "stream",
     "text": [
      "[youtube] Extracting URL: https://www.youtube.com/watch?v=mCjHYreiZ24\n",
      "[youtube] mCjHYreiZ24: Downloading webpage\n",
      "[youtube] mCjHYreiZ24: Downloading ios player API JSON\n",
      "[youtube] mCjHYreiZ24: Downloading android player API JSON\n",
      "[youtube] mCjHYreiZ24: Downloading m3u8 information\n",
      "[info] mCjHYreiZ24: Downloading 1 format(s): 18\n",
      "[download] Destination: temp_folder/after_16.mp4\n",
      "[download] 100% of   27.23MiB in 00:00:01 at 18.39MiB/s    \n"
     ]
    },
    {
     "name": "stderr",
     "output_type": "stream",
     "text": [
      "Processing videos:  49%|████████████████████████████████████████████████████████████████████████▊                                                                          | 148/299 [30:18<28:42, 11.41s/it]"
     ]
    },
    {
     "name": "stdout",
     "output_type": "stream",
     "text": [
      "[youtube] Extracting URL: https://www.youtube.com/watch?v=xaHll2DRUkg\n",
      "[youtube] xaHll2DRUkg: Downloading webpage\n",
      "[youtube] xaHll2DRUkg: Downloading ios player API JSON\n",
      "[youtube] xaHll2DRUkg: Downloading android player API JSON\n"
     ]
    },
    {
     "name": "stderr",
     "output_type": "stream",
     "text": [
      "ERROR: [youtube] xaHll2DRUkg: Video unavailable. This video is no longer available because the YouTube account associated with this video has been terminated.\n",
      "Processing videos:  50%|█████████████████████████████████████████████████████████████████████████▎                                                                         | 149/299 [30:18<20:29,  8.20s/it]"
     ]
    },
    {
     "name": "stdout",
     "output_type": "stream",
     "text": [
      "[Errno 2] No such file or directory: 'temp_folder/after_17.mp4'\n",
      "[youtube] Extracting URL: https://www.youtube.com/watch?v=xaHll2DRUkg\n",
      "[youtube] xaHll2DRUkg: Downloading webpage\n",
      "[youtube] xaHll2DRUkg: Downloading ios player API JSON\n",
      "[youtube] xaHll2DRUkg: Downloading android player API JSON\n"
     ]
    },
    {
     "name": "stderr",
     "output_type": "stream",
     "text": [
      "ERROR: [youtube] xaHll2DRUkg: Video unavailable. This video is no longer available because the YouTube account associated with this video has been terminated.\n",
      "Processing videos:  50%|█████████████████████████████████████████████████████████████████████████▋                                                                         | 150/299 [30:19<14:44,  5.94s/it]"
     ]
    },
    {
     "name": "stdout",
     "output_type": "stream",
     "text": [
      "[Errno 2] No such file or directory: 'temp_folder/after_18.mp4'\n",
      "[youtube] Extracting URL: https://www.youtube.com/watch?v=xaHll2DRUkg\n",
      "[youtube] xaHll2DRUkg: Downloading webpage\n",
      "[youtube] xaHll2DRUkg: Downloading ios player API JSON\n",
      "[youtube] xaHll2DRUkg: Downloading android player API JSON\n"
     ]
    },
    {
     "name": "stderr",
     "output_type": "stream",
     "text": [
      "ERROR: [youtube] xaHll2DRUkg: Video unavailable. This video is no longer available because the YouTube account associated with this video has been terminated.\n",
      "Processing videos:  51%|██████████████████████████████████████████████████████████████████████████▏                                                                        | 151/299 [30:20<10:44,  4.35s/it]"
     ]
    },
    {
     "name": "stdout",
     "output_type": "stream",
     "text": [
      "[Errno 2] No such file or directory: 'temp_folder/after_19.mp4'\n",
      "[youtube] Extracting URL: https://www.youtube.com/watch?v=amWUHjchp8s\n",
      "[youtube] amWUHjchp8s: Downloading webpage\n",
      "[youtube] amWUHjchp8s: Downloading ios player API JSON\n",
      "[youtube] amWUHjchp8s: Downloading android player API JSON\n",
      "[youtube] amWUHjchp8s: Downloading m3u8 information\n",
      "[info] amWUHjchp8s: Downloading 1 format(s): 18\n",
      "[download] Destination: temp_folder/after_20.mp4\n",
      "[download] 100% of    7.31MiB in 00:00:00 at 12.89MiB/s  \n"
     ]
    },
    {
     "name": "stderr",
     "output_type": "stream",
     "text": [
      "Processing videos:  51%|██████████████████████████████████████████████████████████████████████████▋                                                                        | 152/299 [30:30<14:44,  6.02s/it]"
     ]
    },
    {
     "name": "stdout",
     "output_type": "stream",
     "text": [
      "[youtube] Extracting URL: https://www.youtube.com/watch?v=_qRft6V2XC0\n",
      "[youtube] _qRft6V2XC0: Downloading webpage\n",
      "[youtube] _qRft6V2XC0: Downloading ios player API JSON\n",
      "[youtube] _qRft6V2XC0: Downloading android player API JSON\n",
      "[youtube] _qRft6V2XC0: Downloading m3u8 information\n",
      "[youtube] _qRft6V2XC0: Downloading MPD manifest\n",
      "[info] _qRft6V2XC0: Downloading 1 format(s): 22\n",
      "[download] Destination: temp_folder/after_21.mp4\n",
      "[download] 100% of   21.85MiB in 00:00:01 at 20.15MiB/s    \n"
     ]
    },
    {
     "name": "stderr",
     "output_type": "stream",
     "text": [
      "Processing videos:  51%|███████████████████████████████████████████████████████████████████████████▏                                                                       | 153/299 [30:38<16:25,  6.75s/it]"
     ]
    },
    {
     "name": "stdout",
     "output_type": "stream",
     "text": [
      "[youtube] Extracting URL: https://www.youtube.com/watch?v=jQb9NL9_S6U\n",
      "[youtube] jQb9NL9_S6U: Downloading webpage\n",
      "[youtube] jQb9NL9_S6U: Downloading ios player API JSON\n",
      "[youtube] jQb9NL9_S6U: Downloading android player API JSON\n",
      "[youtube] jQb9NL9_S6U: Downloading m3u8 information\n",
      "[youtube] jQb9NL9_S6U: Downloading MPD manifest\n",
      "[info] jQb9NL9_S6U: Downloading 1 format(s): 18\n",
      "[download] Destination: temp_folder/afternoon.mp4\n",
      "[download] 100% of   39.52MiB in 00:00:07 at 5.38MiB/s     \n"
     ]
    },
    {
     "name": "stderr",
     "output_type": "stream",
     "text": [
      "Processing videos:  52%|███████████████████████████████████████████████████████████████████████████▋                                                                       | 154/299 [31:06<31:31, 13.04s/it]"
     ]
    },
    {
     "name": "stdout",
     "output_type": "stream",
     "text": [
      "[youtube] Extracting URL: https://www.youtube.com/watch?v=jQb9NL9_S6U\n",
      "[youtube] jQb9NL9_S6U: Downloading webpage\n",
      "[youtube] jQb9NL9_S6U: Downloading ios player API JSON\n",
      "[youtube] jQb9NL9_S6U: Downloading android player API JSON\n",
      "[youtube] jQb9NL9_S6U: Downloading m3u8 information\n",
      "[youtube] jQb9NL9_S6U: Downloading MPD manifest\n",
      "[info] jQb9NL9_S6U: Downloading 1 format(s): 18\n",
      "[download] Destination: temp_folder/afternoon_2.mp4\n",
      "[download] 100% of   39.52MiB in 00:00:02 at 13.90MiB/s    \n"
     ]
    },
    {
     "name": "stderr",
     "output_type": "stream",
     "text": [
      "Processing videos:  52%|████████████████████████████████████████████████████████████████████████████▏                                                                      | 155/299 [31:30<39:27, 16.44s/it]"
     ]
    },
    {
     "name": "stdout",
     "output_type": "stream",
     "text": [
      "[youtube] Extracting URL: https://www.youtube.com/watch?v=jQb9NL9_S6U\n",
      "[youtube] jQb9NL9_S6U: Downloading webpage\n",
      "[youtube] jQb9NL9_S6U: Downloading ios player API JSON\n",
      "[youtube] jQb9NL9_S6U: Downloading android player API JSON\n",
      "[youtube] jQb9NL9_S6U: Downloading m3u8 information\n",
      "[youtube] jQb9NL9_S6U: Downloading MPD manifest\n",
      "[info] jQb9NL9_S6U: Downloading 1 format(s): 18\n",
      "[download] Destination: temp_folder/afternoon_3.mp4\n",
      "[download] 100% of   39.52MiB in 00:00:02 at 19.71MiB/s    \n"
     ]
    },
    {
     "name": "stderr",
     "output_type": "stream",
     "text": [
      "Processing videos:  52%|████████████████████████████████████████████████████████████████████████████▋                                                                      | 156/299 [31:52<43:20, 18.18s/it]"
     ]
    },
    {
     "name": "stdout",
     "output_type": "stream",
     "text": [
      "[youtube] Extracting URL: https://www.youtube.com/watch?v=mC0lNJ6iz-s\n",
      "[youtube] mC0lNJ6iz-s: Downloading webpage\n",
      "[youtube] mC0lNJ6iz-s: Downloading ios player API JSON\n",
      "[youtube] mC0lNJ6iz-s: Downloading android player API JSON\n",
      "[youtube] mC0lNJ6iz-s: Downloading m3u8 information\n",
      "[info] mC0lNJ6iz-s: Downloading 1 format(s): 18\n",
      "[download] Destination: temp_folder/afternoon_4.mp4\n",
      "[download] 100% of   42.76MiB in 00:00:03 at 13.43MiB/s    \n"
     ]
    },
    {
     "name": "stderr",
     "output_type": "stream",
     "text": [
      "Processing videos:  53%|█████████████████████████████████████████████████████████████████████████████▏                                                                     | 157/299 [32:31<57:52, 24.46s/it]"
     ]
    },
    {
     "name": "stdout",
     "output_type": "stream",
     "text": [
      "[youtube] Extracting URL: https://www.youtube.com/watch?v=fKjsdtMU3fc\n",
      "[youtube] fKjsdtMU3fc: Downloading webpage\n",
      "[youtube] fKjsdtMU3fc: Downloading ios player API JSON\n",
      "[youtube] fKjsdtMU3fc: Downloading android player API JSON\n",
      "[youtube] fKjsdtMU3fc: Downloading m3u8 information\n",
      "[info] fKjsdtMU3fc: Downloading 1 format(s): 22\n",
      "[download] Destination: temp_folder/afternoon_5.mp4\n",
      "[download] 100% of   47.11MiB in 00:00:03 at 12.63MiB/s    \n"
     ]
    },
    {
     "name": "stderr",
     "output_type": "stream",
     "text": [
      "Processing videos:  53%|█████████████████████████████████████████████████████████████████████████████▋                                                                     | 158/299 [32:54<56:12, 23.92s/it]"
     ]
    },
    {
     "name": "stdout",
     "output_type": "stream",
     "text": [
      "[youtube] Extracting URL: https://www.youtube.com/watch?v=fKjsdtMU3fc\n",
      "[youtube] fKjsdtMU3fc: Downloading webpage\n",
      "[youtube] fKjsdtMU3fc: Downloading ios player API JSON\n",
      "[youtube] fKjsdtMU3fc: Downloading android player API JSON\n",
      "[youtube] fKjsdtMU3fc: Downloading m3u8 information\n",
      "[info] fKjsdtMU3fc: Downloading 1 format(s): 22\n",
      "[download] Destination: temp_folder/afternoon_6.mp4\n",
      "[download] 100% of   47.11MiB in 00:00:01 at 24.24MiB/s    \n"
     ]
    },
    {
     "name": "stderr",
     "output_type": "stream",
     "text": [
      "Processing videos:  53%|██████████████████████████████████████████████████████████████████████████████▏                                                                    | 159/299 [33:13<52:28, 22.49s/it]"
     ]
    },
    {
     "name": "stdout",
     "output_type": "stream",
     "text": [
      "[youtube] Extracting URL: https://www.youtube.com/watch?v=ZQygBFY2vyQ\n",
      "[youtube] ZQygBFY2vyQ: Downloading webpage\n",
      "[youtube] ZQygBFY2vyQ: Downloading ios player API JSON\n",
      "[youtube] ZQygBFY2vyQ: Downloading android player API JSON\n",
      "[youtube] ZQygBFY2vyQ: Downloading m3u8 information\n",
      "[youtube] ZQygBFY2vyQ: Downloading MPD manifest\n",
      "[info] ZQygBFY2vyQ: Downloading 1 format(s): 22\n",
      "[download] Destination: temp_folder/afternoon_7.mp4\n",
      "[download] 100% of    1.16MiB in 00:00:01 at 1.03MiB/s     \n"
     ]
    },
    {
     "name": "stderr",
     "output_type": "stream",
     "text": [
      "Processing videos:  54%|██████████████████████████████████████████████████████████████████████████████▋                                                                    | 160/299 [33:19<40:08, 17.33s/it]"
     ]
    },
    {
     "name": "stdout",
     "output_type": "stream",
     "text": [
      "[youtube] Extracting URL: https://www.youtube.com/watch?v=SHqX5AMATIQ\n",
      "[youtube] SHqX5AMATIQ: Downloading webpage\n",
      "[youtube] SHqX5AMATIQ: Downloading ios player API JSON\n",
      "[youtube] SHqX5AMATIQ: Downloading android player API JSON\n",
      "[youtube] SHqX5AMATIQ: Downloading m3u8 information\n",
      "[youtube] SHqX5AMATIQ: Downloading MPD manifest\n",
      "[info] SHqX5AMATIQ: Downloading 1 format(s): 22\n",
      "[download] Destination: temp_folder/afternoon_8.mp4\n",
      "[download] 100% of 1009.05KiB in 00:00:00 at 2.18MiB/s     \n"
     ]
    },
    {
     "name": "stderr",
     "output_type": "stream",
     "text": [
      "Processing videos:  54%|███████████████████████████████████████████████████████████████████████████████▏                                                                   | 161/299 [33:23<30:37, 13.31s/it]"
     ]
    },
    {
     "name": "stdout",
     "output_type": "stream",
     "text": [
      "[youtube] Extracting URL: https://www.youtube.com/watch?v=mCjHYreiZ24\n",
      "[youtube] mCjHYreiZ24: Downloading webpage\n",
      "[youtube] mCjHYreiZ24: Downloading ios player API JSON\n",
      "[youtube] mCjHYreiZ24: Downloading android player API JSON\n",
      "[youtube] mCjHYreiZ24: Downloading m3u8 information\n",
      "[info] mCjHYreiZ24: Downloading 1 format(s): 18\n",
      "[download] Destination: temp_folder/afternoon_9.mp4\n",
      "[download] 100% of   27.23MiB in 00:00:01 at 17.69MiB/s    \n"
     ]
    },
    {
     "name": "stderr",
     "output_type": "stream",
     "text": [
      "Processing videos:  54%|███████████████████████████████████████████████████████████████████████████████▋                                                                   | 162/299 [33:47<37:49, 16.57s/it]"
     ]
    },
    {
     "name": "stdout",
     "output_type": "stream",
     "text": [
      "[youtube] Extracting URL: https://www.youtube.com/watch?v=bIzaYAkX5o8\n",
      "[youtube] bIzaYAkX5o8: Downloading webpage\n",
      "[youtube] bIzaYAkX5o8: Downloading ios player API JSON\n",
      "[youtube] bIzaYAkX5o8: Downloading android player API JSON\n",
      "[youtube] bIzaYAkX5o8: Downloading m3u8 information\n",
      "[info] bIzaYAkX5o8: Downloading 1 format(s): 22\n",
      "[download] Destination: temp_folder/afternoon_10.mp4\n",
      "[download] 100% of  388.93KiB in 00:00:00 at 604.81KiB/s   \n"
     ]
    },
    {
     "name": "stderr",
     "output_type": "stream",
     "text": [
      "Processing videos:  55%|████████████████████████████████████████████████████████████████████████████████▏                                                                  | 163/299 [33:52<29:40, 13.09s/it]"
     ]
    },
    {
     "name": "stdout",
     "output_type": "stream",
     "text": [
      "[youtube] Extracting URL: https://www.youtube.com/watch?v=Xt6F1wT394I\n",
      "[youtube] Xt6F1wT394I: Downloading webpage\n",
      "[youtube] Xt6F1wT394I: Downloading ios player API JSON\n",
      "[youtube] Xt6F1wT394I: Downloading android player API JSON\n",
      "[youtube] Xt6F1wT394I: Downloading m3u8 information\n",
      "[info] Xt6F1wT394I: Downloading 1 format(s): 22\n",
      "[download] Destination: temp_folder/afternoon_11.mp4\n",
      "[download] 100% of   15.04MiB in 00:00:03 at 4.09MiB/s     \n"
     ]
    },
    {
     "name": "stderr",
     "output_type": "stream",
     "text": [
      "Processing videos:  55%|████████████████████████████████████████████████████████████████████████████████▋                                                                  | 164/299 [34:05<29:46, 13.24s/it]"
     ]
    },
    {
     "name": "stdout",
     "output_type": "stream",
     "text": [
      "[youtube] Extracting URL: https://www.youtube.com/watch?v=iMUjcZCLaGo\n",
      "[youtube] iMUjcZCLaGo: Downloading webpage\n",
      "[youtube] iMUjcZCLaGo: Downloading ios player API JSON\n"
     ]
    },
    {
     "name": "stderr",
     "output_type": "stream",
     "text": [
      "ERROR: [youtube] iMUjcZCLaGo: Private video. Sign in if you've been granted access to this video\n",
      "Processing videos:  55%|█████████████████████████████████████████████████████████████████████████████████                                                                  | 165/299 [34:06<21:10,  9.48s/it]"
     ]
    },
    {
     "name": "stdout",
     "output_type": "stream",
     "text": [
      "[youtube] iMUjcZCLaGo: Downloading android player API JSON\n",
      "[Errno 2] No such file or directory: 'temp_folder/afternoon_12.mp4'\n",
      "[youtube] Extracting URL: https://www.youtube.com/watch?v=rnr_aY0X0dQ\n",
      "[youtube] rnr_aY0X0dQ: Downloading webpage\n",
      "[youtube] rnr_aY0X0dQ: Downloading ios player API JSON\n",
      "[youtube] rnr_aY0X0dQ: Downloading android player API JSON\n",
      "[youtube] rnr_aY0X0dQ: Downloading m3u8 information\n",
      "[info] rnr_aY0X0dQ: Downloading 1 format(s): 22\n",
      "[download] Destination: temp_folder/afternoon_13.mp4\n",
      "[download] 100% of   95.91MiB in 00:00:04 at 20.56MiB/s    \n"
     ]
    },
    {
     "name": "stderr",
     "output_type": "stream",
     "text": [
      "Processing videos:  56%|█████████████████████████████████████████████████████████████████████████████████▌                                                                 | 166/299 [34:39<36:39, 16.54s/it]"
     ]
    },
    {
     "name": "stdout",
     "output_type": "stream",
     "text": [
      "[youtube] Extracting URL: https://www.youtube.com/watch?v=p8OYydc3WQM\n",
      "[youtube] p8OYydc3WQM: Downloading webpage\n",
      "[youtube] p8OYydc3WQM: Downloading ios player API JSON\n",
      "[youtube] p8OYydc3WQM: Downloading android player API JSON\n",
      "[youtube] p8OYydc3WQM: Downloading m3u8 information\n",
      "[info] p8OYydc3WQM: Downloading 1 format(s): 18\n",
      "[download] Destination: temp_folder/afternoon_14.mp4\n",
      "[download] 100% of   22.35MiB in 00:00:01 at 18.23MiB/s  \n"
     ]
    },
    {
     "name": "stderr",
     "output_type": "stream",
     "text": [
      "Processing videos:  56%|██████████████████████████████████████████████████████████████████████████████████                                                                 | 167/299 [34:56<36:54, 16.77s/it]"
     ]
    },
    {
     "name": "stdout",
     "output_type": "stream",
     "text": [
      "[youtube] Extracting URL: https://www.youtube.com/watch?v=SC9lyDxbwUE\n",
      "[youtube] SC9lyDxbwUE: Downloading webpage\n",
      "[youtube] SC9lyDxbwUE: Downloading ios player API JSON\n",
      "[youtube] SC9lyDxbwUE: Downloading android player API JSON\n",
      "[youtube] SC9lyDxbwUE: Downloading m3u8 information\n",
      "[info] SC9lyDxbwUE: Downloading 1 format(s): 18\n",
      "[download] Destination: temp_folder/afternoon_15.mp4\n",
      "[download] 100% of   10.84MiB in 00:00:03 at 3.30MiB/s     \n"
     ]
    },
    {
     "name": "stderr",
     "output_type": "stream",
     "text": [
      "Processing videos:  56%|██████████████████████████████████████████████████████████████████████████████████▌                                                                | 168/299 [35:10<34:38, 15.86s/it]"
     ]
    },
    {
     "name": "stdout",
     "output_type": "stream",
     "text": [
      "[youtube] Extracting URL: https://www.youtube.com/watch?v=CSj7IScvZnE\n",
      "[youtube] CSj7IScvZnE: Downloading webpage\n",
      "[youtube] CSj7IScvZnE: Downloading ios player API JSON\n",
      "[youtube] CSj7IScvZnE: Downloading android player API JSON\n",
      "[youtube] CSj7IScvZnE: Downloading m3u8 information\n",
      "[info] CSj7IScvZnE: Downloading 1 format(s): 18\n",
      "[download] Destination: temp_folder/afternoon_16.mp4\n",
      "[download] 100% of    6.13MiB in 00:00:00 at 7.98MiB/s     \n"
     ]
    },
    {
     "name": "stderr",
     "output_type": "stream",
     "text": [
      "Processing videos:  57%|███████████████████████████████████████████████████████████████████████████████████                                                                | 169/299 [35:22<31:36, 14.59s/it]"
     ]
    },
    {
     "name": "stdout",
     "output_type": "stream",
     "text": [
      "[youtube] Extracting URL: https://www.youtube.com/watch?v=V7WEPn3RJsc\n",
      "[youtube] V7WEPn3RJsc: Downloading webpage\n",
      "[youtube] V7WEPn3RJsc: Downloading ios player API JSON\n"
     ]
    },
    {
     "name": "stderr",
     "output_type": "stream",
     "text": [
      "ERROR: [youtube] V7WEPn3RJsc: Video unavailable\n",
      "Processing videos:  57%|███████████████████████████████████████████████████████████████████████████████████▌                                                               | 170/299 [35:22<22:27, 10.45s/it]"
     ]
    },
    {
     "name": "stdout",
     "output_type": "stream",
     "text": [
      "[youtube] V7WEPn3RJsc: Downloading android player API JSON\n",
      "[Errno 2] No such file or directory: 'temp_folder/afternoon_17.mp4'\n",
      "[youtube] Extracting URL: https://www.youtube.com/watch?v=_yqDuSdl28Q\n",
      "[youtube] _yqDuSdl28Q: Downloading webpage\n",
      "[youtube] _yqDuSdl28Q: Downloading ios player API JSON\n"
     ]
    },
    {
     "name": "stderr",
     "output_type": "stream",
     "text": [
      "ERROR: [youtube] _yqDuSdl28Q: Video unavailable\n",
      "Processing videos:  57%|████████████████████████████████████████████████████████████████████████████████████                                                               | 171/299 [35:23<16:01,  7.51s/it]"
     ]
    },
    {
     "name": "stdout",
     "output_type": "stream",
     "text": [
      "[youtube] _yqDuSdl28Q: Downloading android player API JSON\n",
      "[Errno 2] No such file or directory: 'temp_folder/afternoon_18.mp4'\n",
      "[youtube] Extracting URL: https://www.youtube.com/watch?v=uPKOwziViaw\n",
      "[youtube] uPKOwziViaw: Downloading webpage\n",
      "[youtube] uPKOwziViaw: Downloading ios player API JSON\n",
      "[youtube] uPKOwziViaw: Downloading android player API JSON\n",
      "[youtube] uPKOwziViaw: Downloading m3u8 information\n",
      "[info] uPKOwziViaw: Downloading 1 format(s): 22\n",
      "[download] Destination: temp_folder/afternoon_19.mp4\n",
      "[download] 100% of   63.76MiB in 00:00:03 at 18.62MiB/s    \n"
     ]
    },
    {
     "name": "stderr",
     "output_type": "stream",
     "text": [
      "Processing videos:  58%|████████████████████████████████████████████████████████████████████████████████████▌                                                              | 172/299 [35:57<32:26, 15.33s/it]"
     ]
    },
    {
     "name": "stdout",
     "output_type": "stream",
     "text": [
      "[youtube] Extracting URL: https://www.youtube.com/watch?v=Eq6SnaimpzQ\n",
      "[youtube] Eq6SnaimpzQ: Downloading webpage\n",
      "[youtube] Eq6SnaimpzQ: Downloading ios player API JSON\n",
      "[youtube] Eq6SnaimpzQ: Downloading android player API JSON\n",
      "[youtube] Eq6SnaimpzQ: Downloading m3u8 information\n",
      "[info] Eq6SnaimpzQ: Downloading 1 format(s): 22\n",
      "[download] Destination: temp_folder/afternoon_20.mp4\n",
      "[download] 100% of   54.64MiB in 00:00:03 at 18.09MiB/s    \n"
     ]
    },
    {
     "name": "stderr",
     "output_type": "stream",
     "text": [
      "Processing videos:  58%|█████████████████████████████████████████████████████████████████████████████████████                                                              | 173/299 [36:17<35:24, 16.86s/it]"
     ]
    },
    {
     "name": "stdout",
     "output_type": "stream",
     "text": [
      "[youtube] Extracting URL: https://www.youtube.com/watch?v=amWUHjchp8s\n",
      "[youtube] amWUHjchp8s: Downloading webpage\n",
      "[youtube] amWUHjchp8s: Downloading ios player API JSON\n",
      "[youtube] amWUHjchp8s: Downloading android player API JSON\n",
      "[youtube] amWUHjchp8s: Downloading m3u8 information\n",
      "[info] amWUHjchp8s: Downloading 1 format(s): 18\n",
      "[download] Destination: temp_folder/afternoon_21.mp4\n",
      "[download] 100% of    7.31MiB in 00:00:00 at 17.68MiB/s  \n"
     ]
    },
    {
     "name": "stderr",
     "output_type": "stream",
     "text": [
      "Processing videos:  58%|█████████████████████████████████████████████████████████████████████████████████████▌                                                             | 174/299 [36:27<30:46, 14.77s/it]"
     ]
    },
    {
     "name": "stdout",
     "output_type": "stream",
     "text": [
      "[youtube] Extracting URL: https://www.youtube.com/watch?v=z4TGBHXWqdk\n",
      "[youtube] z4TGBHXWqdk: Downloading webpage\n",
      "[youtube] z4TGBHXWqdk: Downloading ios player API JSON\n",
      "[youtube] z4TGBHXWqdk: Downloading android player API JSON\n",
      "[youtube] z4TGBHXWqdk: Downloading m3u8 information\n",
      "[youtube] z4TGBHXWqdk: Downloading MPD manifest\n",
      "[info] z4TGBHXWqdk: Downloading 1 format(s): 22\n",
      "[download] Destination: temp_folder/afternoon_22.mp4\n",
      "[download] 100% of  485.31KiB in 00:00:00 at 1014.56KiB/s  \n"
     ]
    },
    {
     "name": "stderr",
     "output_type": "stream",
     "text": [
      "Processing videos:  59%|██████████████████████████████████████████████████████████████████████████████████████                                                             | 175/299 [36:31<23:56, 11.58s/it]"
     ]
    },
    {
     "name": "stdout",
     "output_type": "stream",
     "text": [
      "[youtube] Extracting URL: https://www.youtube.com/watch?v=q_p38s5JsXo\n",
      "[youtube] q_p38s5JsXo: Downloading webpage\n",
      "[youtube] q_p38s5JsXo: Downloading ios player API JSON\n",
      "[youtube] q_p38s5JsXo: Downloading android player API JSON\n",
      "[youtube] q_p38s5JsXo: Downloading m3u8 information\n",
      "[info] q_p38s5JsXo: Downloading 1 format(s): 22\n",
      "[download] Destination: temp_folder/afternoon_23.mp4\n",
      "[download] 100% of   30.22MiB in 00:00:02 at 13.52MiB/s    \n"
     ]
    },
    {
     "name": "stderr",
     "output_type": "stream",
     "text": [
      "Processing videos:  59%|██████████████████████████████████████████████████████████████████████████████████████▌                                                            | 176/299 [36:45<25:13, 12.31s/it]"
     ]
    },
    {
     "name": "stdout",
     "output_type": "stream",
     "text": [
      "[youtube] Extracting URL: https://www.youtube.com/watch?v=nvaS2J5mcEk\n",
      "[youtube] nvaS2J5mcEk: Downloading webpage\n",
      "[youtube] nvaS2J5mcEk: Downloading ios player API JSON\n",
      "[youtube] nvaS2J5mcEk: Downloading android player API JSON\n",
      "[youtube] nvaS2J5mcEk: Downloading m3u8 information\n",
      "[info] nvaS2J5mcEk: Downloading 1 format(s): 18\n",
      "[download] Destination: temp_folder/afternoon_24.mp4\n",
      "[download] 100% of   16.00MiB in 00:00:00 at 17.63MiB/s    \n"
     ]
    },
    {
     "name": "stderr",
     "output_type": "stream",
     "text": [
      "Processing videos:  59%|███████████████████████████████████████████████████████████████████████████████████████                                                            | 177/299 [36:59<26:05, 12.83s/it]"
     ]
    },
    {
     "name": "stdout",
     "output_type": "stream",
     "text": [
      "[youtube] Extracting URL: https://www.youtube.com/watch?v=jQb9NL9_S6U\n",
      "[youtube] jQb9NL9_S6U: Downloading webpage\n",
      "[youtube] jQb9NL9_S6U: Downloading ios player API JSON\n",
      "[youtube] jQb9NL9_S6U: Downloading android player API JSON\n",
      "[youtube] jQb9NL9_S6U: Downloading m3u8 information\n",
      "[youtube] jQb9NL9_S6U: Downloading MPD manifest\n",
      "[info] jQb9NL9_S6U: Downloading 1 format(s): 18\n",
      "[download] Destination: temp_folder/afternoon_25.mp4\n",
      "[download] 100% of   39.52MiB in 00:00:02 at 15.55MiB/s    \n"
     ]
    },
    {
     "name": "stderr",
     "output_type": "stream",
     "text": [
      "Processing videos:  60%|███████████████████████████████████████████████████████████████████████████████████████▌                                                           | 178/299 [37:22<32:00, 15.88s/it]"
     ]
    },
    {
     "name": "stdout",
     "output_type": "stream",
     "text": [
      "[youtube] Extracting URL: https://www.youtube.com/watch?v=jQb9NL9_S6U\n",
      "[youtube] jQb9NL9_S6U: Downloading webpage\n",
      "[youtube] jQb9NL9_S6U: Downloading ios player API JSON\n",
      "[youtube] jQb9NL9_S6U: Downloading android player API JSON\n",
      "[youtube] jQb9NL9_S6U: Downloading m3u8 information\n",
      "[youtube] jQb9NL9_S6U: Downloading MPD manifest\n",
      "[info] jQb9NL9_S6U: Downloading 1 format(s): 18\n",
      "[download] Destination: temp_folder/afternoon_26.mp4\n",
      "[download] 100% of   39.52MiB in 00:00:01 at 21.57MiB/s    \n"
     ]
    },
    {
     "name": "stderr",
     "output_type": "stream",
     "text": [
      "Processing videos:  60%|████████████████████████████████████████████████████████████████████████████████████████                                                           | 179/299 [37:46<36:17, 18.15s/it]"
     ]
    },
    {
     "name": "stdout",
     "output_type": "stream",
     "text": [
      "[youtube] Extracting URL: https://www.youtube.com/watch?v=jQb9NL9_S6U\n",
      "[youtube] jQb9NL9_S6U: Downloading webpage\n",
      "[youtube] jQb9NL9_S6U: Downloading ios player API JSON\n",
      "[youtube] jQb9NL9_S6U: Downloading android player API JSON\n",
      "[youtube] jQb9NL9_S6U: Downloading m3u8 information\n",
      "[youtube] jQb9NL9_S6U: Downloading MPD manifest\n",
      "[info] jQb9NL9_S6U: Downloading 1 format(s): 18\n",
      "[download] Destination: temp_folder/afternoon_27.mp4\n",
      "[download] 100% of   39.52MiB in 00:00:01 at 20.61MiB/s    \n"
     ]
    },
    {
     "name": "stderr",
     "output_type": "stream",
     "text": [
      "Processing videos:  60%|████████████████████████████████████████████████████████████████████████████████████████▍                                                          | 180/299 [38:08<38:22, 19.35s/it]"
     ]
    },
    {
     "name": "stdout",
     "output_type": "stream",
     "text": [
      "[youtube] Extracting URL: https://www.youtube.com/watch?v=mC0lNJ6iz-s\n",
      "[youtube] mC0lNJ6iz-s: Downloading webpage\n",
      "[youtube] mC0lNJ6iz-s: Downloading ios player API JSON\n",
      "[youtube] mC0lNJ6iz-s: Downloading android player API JSON\n",
      "[youtube] mC0lNJ6iz-s: Downloading m3u8 information\n",
      "[info] mC0lNJ6iz-s: Downloading 1 format(s): 18\n",
      "[download] Destination: temp_folder/afternoon_28.mp4\n",
      "[download] 100% of   42.76MiB in 00:00:03 at 12.03MiB/s    \n"
     ]
    },
    {
     "name": "stderr",
     "output_type": "stream",
     "text": [
      "Processing videos:  61%|████████████████████████████████████████████████████████████████████████████████████████▉                                                          | 181/299 [38:48<50:27, 25.66s/it]"
     ]
    },
    {
     "name": "stdout",
     "output_type": "stream",
     "text": [
      "[youtube] Extracting URL: https://www.youtube.com/watch?v=fKjsdtMU3fc\n",
      "[youtube] fKjsdtMU3fc: Downloading webpage\n",
      "[youtube] fKjsdtMU3fc: Downloading ios player API JSON\n",
      "[youtube] fKjsdtMU3fc: Downloading android player API JSON\n",
      "[youtube] fKjsdtMU3fc: Downloading m3u8 information\n",
      "[info] fKjsdtMU3fc: Downloading 1 format(s): 22\n",
      "[download] Destination: temp_folder/afternoon_29.mp4\n",
      "[download] 100% of   47.11MiB in 00:00:02 at 15.85MiB/s    \n"
     ]
    },
    {
     "name": "stderr",
     "output_type": "stream",
     "text": [
      "Processing videos:  61%|█████████████████████████████████████████████████████████████████████████████████████████▍                                                         | 182/299 [39:09<47:26, 24.33s/it]"
     ]
    },
    {
     "name": "stdout",
     "output_type": "stream",
     "text": [
      "[youtube] Extracting URL: https://www.youtube.com/watch?v=fKjsdtMU3fc\n",
      "[youtube] fKjsdtMU3fc: Downloading webpage\n",
      "[youtube] fKjsdtMU3fc: Downloading ios player API JSON\n",
      "[youtube] fKjsdtMU3fc: Downloading android player API JSON\n",
      "[youtube] fKjsdtMU3fc: Downloading m3u8 information\n",
      "[info] fKjsdtMU3fc: Downloading 1 format(s): 22\n",
      "[download] Destination: temp_folder/afternoon_30.mp4\n",
      "[download] 100% of   47.11MiB in 00:00:02 at 17.28MiB/s    \n"
     ]
    },
    {
     "name": "stderr",
     "output_type": "stream",
     "text": [
      "Processing videos:  61%|█████████████████████████████████████████████████████████████████████████████████████████▉                                                         | 183/299 [39:30<44:37, 23.08s/it]"
     ]
    },
    {
     "name": "stdout",
     "output_type": "stream",
     "text": [
      "[youtube] Extracting URL: https://www.youtube.com/watch?v=ZQygBFY2vyQ\n",
      "[youtube] ZQygBFY2vyQ: Downloading webpage\n",
      "[youtube] ZQygBFY2vyQ: Downloading ios player API JSON\n",
      "[youtube] ZQygBFY2vyQ: Downloading android player API JSON\n",
      "[youtube] ZQygBFY2vyQ: Downloading m3u8 information\n",
      "[youtube] ZQygBFY2vyQ: Downloading MPD manifest\n",
      "[info] ZQygBFY2vyQ: Downloading 1 format(s): 22\n",
      "[download] Destination: temp_folder/afternoon_31.mp4\n",
      "[download] 100% of    1.16MiB in 00:00:00 at 3.54MiB/s     \n"
     ]
    },
    {
     "name": "stderr",
     "output_type": "stream",
     "text": [
      "Processing videos:  62%|██████████████████████████████████████████████████████████████████████████████████████████▍                                                        | 184/299 [39:34<33:35, 17.52s/it]"
     ]
    },
    {
     "name": "stdout",
     "output_type": "stream",
     "text": [
      "[youtube] Extracting URL: https://www.youtube.com/watch?v=SHqX5AMATIQ\n",
      "[youtube] SHqX5AMATIQ: Downloading webpage\n",
      "[youtube] SHqX5AMATIQ: Downloading ios player API JSON\n",
      "[youtube] SHqX5AMATIQ: Downloading android player API JSON\n",
      "[youtube] SHqX5AMATIQ: Downloading m3u8 information\n",
      "[youtube] SHqX5AMATIQ: Downloading MPD manifest\n",
      "[info] SHqX5AMATIQ: Downloading 1 format(s): 22\n",
      "[download] Destination: temp_folder/afternoon_32.mp4\n",
      "[download] 100% of 1009.05KiB in 00:00:00 at 2.12MiB/s     \n"
     ]
    },
    {
     "name": "stderr",
     "output_type": "stream",
     "text": [
      "Processing videos:  62%|██████████████████████████████████████████████████████████████████████████████████████████▉                                                        | 185/299 [39:39<25:57, 13.66s/it]"
     ]
    },
    {
     "name": "stdout",
     "output_type": "stream",
     "text": [
      "[youtube] Extracting URL: https://www.youtube.com/watch?v=mCjHYreiZ24\n",
      "[youtube] mCjHYreiZ24: Downloading webpage\n",
      "[youtube] mCjHYreiZ24: Downloading ios player API JSON\n",
      "[youtube] mCjHYreiZ24: Downloading android player API JSON\n",
      "[youtube] mCjHYreiZ24: Downloading m3u8 information\n",
      "[info] mCjHYreiZ24: Downloading 1 format(s): 18\n",
      "[download] Destination: temp_folder/afternoon_33.mp4\n",
      "[download] 100% of   27.23MiB in 00:00:02 at 13.31MiB/s    \n"
     ]
    },
    {
     "name": "stderr",
     "output_type": "stream",
     "text": [
      "Processing videos:  62%|███████████████████████████████████████████████████████████████████████████████████████████▍                                                       | 186/299 [40:04<32:33, 17.28s/it]"
     ]
    },
    {
     "name": "stdout",
     "output_type": "stream",
     "text": [
      "[youtube] Extracting URL: https://www.youtube.com/watch?v=bIzaYAkX5o8\n",
      "[youtube] bIzaYAkX5o8: Downloading webpage\n",
      "[youtube] bIzaYAkX5o8: Downloading ios player API JSON\n",
      "[youtube] bIzaYAkX5o8: Downloading android player API JSON\n",
      "[youtube] bIzaYAkX5o8: Downloading m3u8 information\n",
      "[info] bIzaYAkX5o8: Downloading 1 format(s): 22\n",
      "[download] Destination: temp_folder/afternoon_34.mp4\n",
      "[download] 100% of  388.93KiB in 00:00:02 at 164.37KiB/s   \n"
     ]
    },
    {
     "name": "stderr",
     "output_type": "stream",
     "text": [
      "Processing videos:  63%|███████████████████████████████████████████████████████████████████████████████████████████▉                                                       | 187/299 [40:12<26:44, 14.32s/it]"
     ]
    },
    {
     "name": "stdout",
     "output_type": "stream",
     "text": [
      "[youtube] Extracting URL: https://www.youtube.com/watch?v=Xt6F1wT394I\n",
      "[youtube] Xt6F1wT394I: Downloading webpage\n",
      "[youtube] Xt6F1wT394I: Downloading ios player API JSON\n",
      "[youtube] Xt6F1wT394I: Downloading android player API JSON\n",
      "[youtube] Xt6F1wT394I: Downloading m3u8 information\n",
      "[info] Xt6F1wT394I: Downloading 1 format(s): 22\n",
      "[download] Destination: temp_folder/afternoon_35.mp4\n",
      "[download] 100% of   15.04MiB in 00:00:01 at 10.83MiB/s    \n"
     ]
    },
    {
     "name": "stderr",
     "output_type": "stream",
     "text": [
      "Processing videos:  63%|████████████████████████████████████████████████████████████████████████████████████████████▍                                                      | 188/299 [40:23<24:34, 13.28s/it]"
     ]
    },
    {
     "name": "stdout",
     "output_type": "stream",
     "text": [
      "[youtube] Extracting URL: https://www.youtube.com/watch?v=iMUjcZCLaGo\n",
      "[youtube] iMUjcZCLaGo: Downloading webpage\n",
      "[youtube] iMUjcZCLaGo: Downloading ios player API JSON\n"
     ]
    },
    {
     "name": "stderr",
     "output_type": "stream",
     "text": [
      "ERROR: [youtube] iMUjcZCLaGo: Private video. Sign in if you've been granted access to this video\n",
      "Processing videos:  63%|████████████████████████████████████████████████████████████████████████████████████████████▉                                                      | 189/299 [40:23<17:25,  9.51s/it]"
     ]
    },
    {
     "name": "stdout",
     "output_type": "stream",
     "text": [
      "[youtube] iMUjcZCLaGo: Downloading android player API JSON\n",
      "[Errno 2] No such file or directory: 'temp_folder/afternoon_36.mp4'\n",
      "[youtube] Extracting URL: https://www.youtube.com/watch?v=rnr_aY0X0dQ\n",
      "[youtube] rnr_aY0X0dQ: Downloading webpage\n",
      "[youtube] rnr_aY0X0dQ: Downloading ios player API JSON\n",
      "[youtube] rnr_aY0X0dQ: Downloading android player API JSON\n",
      "[youtube] rnr_aY0X0dQ: Downloading m3u8 information\n",
      "[info] rnr_aY0X0dQ: Downloading 1 format(s): 22\n",
      "[download] Destination: temp_folder/afternoon_37.mp4\n",
      "[download] 100% of   95.91MiB in 00:00:05 at 16.04MiB/s    \n"
     ]
    },
    {
     "name": "stderr",
     "output_type": "stream",
     "text": [
      "Processing videos:  64%|█████████████████████████████████████████████████████████████████████████████████████████████▍                                                     | 190/299 [40:58<30:43, 16.91s/it]"
     ]
    },
    {
     "name": "stdout",
     "output_type": "stream",
     "text": [
      "[youtube] Extracting URL: https://www.youtube.com/watch?v=p8OYydc3WQM\n",
      "[youtube] p8OYydc3WQM: Downloading webpage\n",
      "[youtube] p8OYydc3WQM: Downloading ios player API JSON\n",
      "[youtube] p8OYydc3WQM: Downloading android player API JSON\n",
      "[youtube] p8OYydc3WQM: Downloading m3u8 information\n",
      "[info] p8OYydc3WQM: Downloading 1 format(s): 18\n",
      "[download] Destination: temp_folder/afternoon_38.mp4\n",
      "[download] 100% of   22.35MiB in 00:00:01 at 11.91MiB/s  \n"
     ]
    },
    {
     "name": "stderr",
     "output_type": "stream",
     "text": [
      "Processing videos:  64%|█████████████████████████████████████████████████████████████████████████████████████████████▉                                                     | 191/299 [41:16<31:02, 17.25s/it]"
     ]
    },
    {
     "name": "stdout",
     "output_type": "stream",
     "text": [
      "[youtube] Extracting URL: https://www.youtube.com/watch?v=SC9lyDxbwUE\n",
      "[youtube] SC9lyDxbwUE: Downloading webpage\n",
      "[youtube] SC9lyDxbwUE: Downloading ios player API JSON\n",
      "[youtube] SC9lyDxbwUE: Downloading android player API JSON\n",
      "[youtube] SC9lyDxbwUE: Downloading m3u8 information\n",
      "[info] SC9lyDxbwUE: Downloading 1 format(s): 18\n",
      "[download] Destination: temp_folder/afternoon_39.mp4\n",
      "[download] 100% of   10.84MiB in 00:00:01 at 6.99MiB/s     \n"
     ]
    },
    {
     "name": "stderr",
     "output_type": "stream",
     "text": [
      "Processing videos:  64%|██████████████████████████████████████████████████████████████████████████████████████████████▍                                                    | 192/299 [41:28<28:07, 15.77s/it]"
     ]
    },
    {
     "name": "stdout",
     "output_type": "stream",
     "text": [
      "[youtube] Extracting URL: https://www.youtube.com/watch?v=CSj7IScvZnE\n",
      "[youtube] CSj7IScvZnE: Downloading webpage\n",
      "[youtube] CSj7IScvZnE: Downloading ios player API JSON\n",
      "[youtube] CSj7IScvZnE: Downloading android player API JSON\n",
      "[youtube] CSj7IScvZnE: Downloading m3u8 information\n",
      "[info] CSj7IScvZnE: Downloading 1 format(s): 18\n",
      "[download] Destination: temp_folder/afternoon_40.mp4\n",
      "[download] 100% of    6.13MiB in 00:00:00 at 13.98MiB/s    \n"
     ]
    },
    {
     "name": "stderr",
     "output_type": "stream",
     "text": [
      "Processing videos:  65%|██████████████████████████████████████████████████████████████████████████████████████████████▉                                                    | 193/299 [41:39<25:32, 14.46s/it]"
     ]
    },
    {
     "name": "stdout",
     "output_type": "stream",
     "text": [
      "[youtube] Extracting URL: https://www.youtube.com/watch?v=V7WEPn3RJsc\n",
      "[youtube] V7WEPn3RJsc: Downloading webpage\n",
      "[youtube] V7WEPn3RJsc: Downloading ios player API JSON\n"
     ]
    },
    {
     "name": "stderr",
     "output_type": "stream",
     "text": [
      "ERROR: [youtube] V7WEPn3RJsc: Video unavailable\n",
      "Processing videos:  65%|███████████████████████████████████████████████████████████████████████████████████████████████▍                                                   | 194/299 [41:40<18:05, 10.33s/it]"
     ]
    },
    {
     "name": "stdout",
     "output_type": "stream",
     "text": [
      "[youtube] V7WEPn3RJsc: Downloading android player API JSON\n",
      "[Errno 2] No such file or directory: 'temp_folder/afternoon_41.mp4'\n",
      "[youtube] Extracting URL: https://www.youtube.com/watch?v=_yqDuSdl28Q\n",
      "[youtube] _yqDuSdl28Q: Downloading webpage\n",
      "[youtube] _yqDuSdl28Q: Downloading ios player API JSON\n",
      "[youtube] _yqDuSdl28Q: Downloading android player API JSON\n"
     ]
    },
    {
     "name": "stderr",
     "output_type": "stream",
     "text": [
      "ERROR: [youtube] _yqDuSdl28Q: Video unavailable\n",
      "Processing videos:  65%|███████████████████████████████████████████████████████████████████████████████████████████████▊                                                   | 195/299 [41:41<12:52,  7.43s/it]"
     ]
    },
    {
     "name": "stdout",
     "output_type": "stream",
     "text": [
      "[Errno 2] No such file or directory: 'temp_folder/afternoon_42.mp4'\n",
      "[youtube] Extracting URL: https://www.youtube.com/watch?v=uPKOwziViaw\n",
      "[youtube] uPKOwziViaw: Downloading webpage\n",
      "[youtube] uPKOwziViaw: Downloading ios player API JSON\n",
      "[youtube] uPKOwziViaw: Downloading android player API JSON\n",
      "[youtube] uPKOwziViaw: Downloading m3u8 information\n",
      "[info] uPKOwziViaw: Downloading 1 format(s): 22\n",
      "[download] Destination: temp_folder/afternoon_43.mp4\n",
      "[download] 100% of   63.76MiB in 00:00:03 at 19.27MiB/s    \n"
     ]
    },
    {
     "name": "stderr",
     "output_type": "stream",
     "text": [
      "Processing videos:  66%|████████████████████████████████████████████████████████████████████████████████████████████████▎                                                  | 196/299 [42:15<26:25, 15.39s/it]"
     ]
    },
    {
     "name": "stdout",
     "output_type": "stream",
     "text": [
      "[youtube] Extracting URL: https://www.youtube.com/watch?v=Eq6SnaimpzQ\n",
      "[youtube] Eq6SnaimpzQ: Downloading webpage\n",
      "[youtube] Eq6SnaimpzQ: Downloading ios player API JSON\n",
      "[youtube] Eq6SnaimpzQ: Downloading android player API JSON\n",
      "[youtube] Eq6SnaimpzQ: Downloading m3u8 information\n",
      "[info] Eq6SnaimpzQ: Downloading 1 format(s): 22\n",
      "[download] Destination: temp_folder/afternoon_44.mp4\n",
      "[download] 100% of   54.64MiB in 00:00:03 at 16.35MiB/s    \n"
     ]
    },
    {
     "name": "stderr",
     "output_type": "stream",
     "text": [
      "Processing videos:  66%|████████████████████████████████████████████████████████████████████████████████████████████████▊                                                  | 197/299 [42:35<28:33, 16.80s/it]"
     ]
    },
    {
     "name": "stdout",
     "output_type": "stream",
     "text": [
      "[youtube] Extracting URL: https://www.youtube.com/watch?v=amWUHjchp8s\n",
      "[youtube] amWUHjchp8s: Downloading webpage\n",
      "[youtube] amWUHjchp8s: Downloading ios player API JSON\n",
      "[youtube] amWUHjchp8s: Downloading android player API JSON\n",
      "[youtube] amWUHjchp8s: Downloading m3u8 information\n",
      "[info] amWUHjchp8s: Downloading 1 format(s): 18\n",
      "[download] Destination: temp_folder/afternoon_45.mp4\n",
      "[download] 100% of    7.31MiB in 00:00:00 at 16.85MiB/s  \n"
     ]
    },
    {
     "name": "stderr",
     "output_type": "stream",
     "text": [
      "Processing videos:  66%|█████████████████████████████████████████████████████████████████████████████████████████████████▎                                                 | 198/299 [42:45<24:44, 14.70s/it]"
     ]
    },
    {
     "name": "stdout",
     "output_type": "stream",
     "text": [
      "[youtube] Extracting URL: https://www.youtube.com/watch?v=z4TGBHXWqdk\n",
      "[youtube] z4TGBHXWqdk: Downloading webpage\n",
      "[youtube] z4TGBHXWqdk: Downloading ios player API JSON\n",
      "[youtube] z4TGBHXWqdk: Downloading android player API JSON\n",
      "[youtube] z4TGBHXWqdk: Downloading m3u8 information\n",
      "[youtube] z4TGBHXWqdk: Downloading MPD manifest\n",
      "[info] z4TGBHXWqdk: Downloading 1 format(s): 22\n",
      "[download] Destination: temp_folder/afternoon_46.mp4\n",
      "[download] 100% of  485.31KiB in 00:00:00 at 1.72MiB/s     \n"
     ]
    },
    {
     "name": "stderr",
     "output_type": "stream",
     "text": [
      "Processing videos:  67%|█████████████████████████████████████████████████████████████████████████████████████████████████▊                                                 | 199/299 [42:49<19:08, 11.48s/it]"
     ]
    },
    {
     "name": "stdout",
     "output_type": "stream",
     "text": [
      "[youtube] Extracting URL: https://www.youtube.com/watch?v=q_p38s5JsXo\n",
      "[youtube] q_p38s5JsXo: Downloading webpage\n",
      "[youtube] q_p38s5JsXo: Downloading ios player API JSON\n",
      "[youtube] q_p38s5JsXo: Downloading android player API JSON\n",
      "[youtube] q_p38s5JsXo: Downloading m3u8 information\n",
      "[info] q_p38s5JsXo: Downloading 1 format(s): 22\n",
      "[download] Destination: temp_folder/afternoon_47.mp4\n",
      "[download] 100% of   30.22MiB in 00:00:02 at 12.91MiB/s    \n"
     ]
    },
    {
     "name": "stderr",
     "output_type": "stream",
     "text": [
      "Processing videos:  67%|██████████████████████████████████████████████████████████████████████████████████████████████████▎                                                | 200/299 [43:03<20:13, 12.25s/it]"
     ]
    },
    {
     "name": "stdout",
     "output_type": "stream",
     "text": [
      "[youtube] Extracting URL: https://www.youtube.com/watch?v=nvaS2J5mcEk\n",
      "[youtube] nvaS2J5mcEk: Downloading webpage\n",
      "[youtube] nvaS2J5mcEk: Downloading ios player API JSON\n",
      "[youtube] nvaS2J5mcEk: Downloading android player API JSON\n",
      "[youtube] nvaS2J5mcEk: Downloading m3u8 information\n",
      "[info] nvaS2J5mcEk: Downloading 1 format(s): 18\n",
      "[download] Destination: temp_folder/afternoon_48.mp4\n",
      "[download] 100% of   16.00MiB in 00:00:00 at 17.33MiB/s    \n"
     ]
    },
    {
     "name": "stderr",
     "output_type": "stream",
     "text": [
      "Processing videos:  67%|██████████████████████████████████████████████████████████████████████████████████████████████████▊                                                | 201/299 [43:17<20:52, 12.78s/it]"
     ]
    },
    {
     "name": "stdout",
     "output_type": "stream",
     "text": [
      "[youtube] Extracting URL: https://www.youtube.com/watch?v=jQb9NL9_S6U\n",
      "[youtube] jQb9NL9_S6U: Downloading webpage\n",
      "[youtube] jQb9NL9_S6U: Downloading ios player API JSON\n",
      "[youtube] jQb9NL9_S6U: Downloading android player API JSON\n",
      "[youtube] jQb9NL9_S6U: Downloading m3u8 information\n",
      "[youtube] jQb9NL9_S6U: Downloading MPD manifest\n",
      "[info] jQb9NL9_S6U: Downloading 1 format(s): 18\n",
      "[download] Destination: temp_folder/afternoon_49.mp4\n",
      "[download] 100% of   39.52MiB in 00:00:02 at 17.61MiB/s    \n"
     ]
    },
    {
     "name": "stderr",
     "output_type": "stream",
     "text": [
      "Processing videos:  68%|███████████████████████████████████████████████████████████████████████████████████████████████████▎                                               | 202/299 [43:39<25:30, 15.78s/it]"
     ]
    },
    {
     "name": "stdout",
     "output_type": "stream",
     "text": [
      "[youtube] Extracting URL: https://www.youtube.com/watch?v=jQb9NL9_S6U\n",
      "[youtube] jQb9NL9_S6U: Downloading webpage\n",
      "[youtube] jQb9NL9_S6U: Downloading ios player API JSON\n",
      "[youtube] jQb9NL9_S6U: Downloading android player API JSON\n",
      "[youtube] jQb9NL9_S6U: Downloading m3u8 information\n",
      "[youtube] jQb9NL9_S6U: Downloading MPD manifest\n",
      "[info] jQb9NL9_S6U: Downloading 1 format(s): 18\n",
      "[download] Destination: temp_folder/afternoon_50.mp4\n",
      "[download] 100% of   39.52MiB in 00:00:01 at 21.79MiB/s    \n"
     ]
    },
    {
     "name": "stderr",
     "output_type": "stream",
     "text": [
      "Processing videos:  68%|███████████████████████████████████████████████████████████████████████████████████████████████████▊                                               | 203/299 [44:02<28:40, 17.93s/it]"
     ]
    },
    {
     "name": "stdout",
     "output_type": "stream",
     "text": [
      "[youtube] Extracting URL: https://www.youtube.com/watch?v=jQb9NL9_S6U\n",
      "[youtube] jQb9NL9_S6U: Downloading webpage\n",
      "[youtube] jQb9NL9_S6U: Downloading ios player API JSON\n",
      "[youtube] jQb9NL9_S6U: Downloading android player API JSON\n",
      "[youtube] jQb9NL9_S6U: Downloading m3u8 information\n",
      "[youtube] jQb9NL9_S6U: Downloading MPD manifest\n",
      "[info] jQb9NL9_S6U: Downloading 1 format(s): 18\n",
      "[download] Destination: temp_folder/afternoon_51.mp4\n",
      "[download] 100% of   39.52MiB in 00:00:01 at 20.98MiB/s    \n"
     ]
    },
    {
     "name": "stderr",
     "output_type": "stream",
     "text": [
      "Processing videos:  68%|████████████████████████████████████████████████████████████████████████████████████████████████████▎                                              | 204/299 [44:24<30:16, 19.12s/it]"
     ]
    },
    {
     "name": "stdout",
     "output_type": "stream",
     "text": [
      "[youtube] Extracting URL: https://www.youtube.com/watch?v=mC0lNJ6iz-s\n",
      "[youtube] mC0lNJ6iz-s: Downloading webpage\n",
      "[youtube] mC0lNJ6iz-s: Downloading ios player API JSON\n",
      "[youtube] mC0lNJ6iz-s: Downloading android player API JSON\n",
      "[youtube] mC0lNJ6iz-s: Downloading m3u8 information\n",
      "[info] mC0lNJ6iz-s: Downloading 1 format(s): 18\n",
      "[download] Destination: temp_folder/afternoon_52.mp4\n",
      "[download] 100% of   42.76MiB in 00:00:03 at 13.32MiB/s    \n"
     ]
    },
    {
     "name": "stderr",
     "output_type": "stream",
     "text": [
      "Processing videos:  69%|████████████████████████████████████████████████████████████████████████████████████████████████████▊                                              | 205/299 [45:04<39:33, 25.25s/it]"
     ]
    },
    {
     "name": "stdout",
     "output_type": "stream",
     "text": [
      "[youtube] Extracting URL: https://www.youtube.com/watch?v=fKjsdtMU3fc\n",
      "[youtube] fKjsdtMU3fc: Downloading webpage\n",
      "[youtube] fKjsdtMU3fc: Downloading ios player API JSON\n",
      "[youtube] fKjsdtMU3fc: Downloading android player API JSON\n",
      "[youtube] fKjsdtMU3fc: Downloading m3u8 information\n",
      "[info] fKjsdtMU3fc: Downloading 1 format(s): 22\n",
      "[download] Destination: temp_folder/afternoon_53.mp4\n",
      "[download] 100% of   47.11MiB in 00:00:05 at 9.15MiB/s     \n"
     ]
    },
    {
     "name": "stderr",
     "output_type": "stream",
     "text": [
      "Processing videos:  69%|█████████████████████████████████████████████████████████████████████████████████████████████████████▎                                             | 206/299 [45:27<38:20, 24.73s/it]"
     ]
    },
    {
     "name": "stdout",
     "output_type": "stream",
     "text": [
      "[youtube] Extracting URL: https://www.youtube.com/watch?v=fKjsdtMU3fc\n",
      "[youtube] fKjsdtMU3fc: Downloading webpage\n",
      "[youtube] fKjsdtMU3fc: Downloading ios player API JSON\n",
      "[youtube] fKjsdtMU3fc: Downloading android player API JSON\n",
      "[youtube] fKjsdtMU3fc: Downloading m3u8 information\n",
      "[info] fKjsdtMU3fc: Downloading 1 format(s): 22\n",
      "[download] Destination: temp_folder/afternoon_54.mp4\n",
      "[download] 100% of   47.11MiB in 00:00:02 at 23.50MiB/s    \n"
     ]
    },
    {
     "name": "stderr",
     "output_type": "stream",
     "text": [
      "Processing videos:  69%|█████████████████████████████████████████████████████████████████████████████████████████████████████▊                                             | 207/299 [45:47<35:26, 23.11s/it]"
     ]
    },
    {
     "name": "stdout",
     "output_type": "stream",
     "text": [
      "[youtube] Extracting URL: https://www.youtube.com/watch?v=ZQygBFY2vyQ\n",
      "[youtube] ZQygBFY2vyQ: Downloading webpage\n",
      "[youtube] ZQygBFY2vyQ: Downloading ios player API JSON\n",
      "[youtube] ZQygBFY2vyQ: Downloading android player API JSON\n",
      "[youtube] ZQygBFY2vyQ: Downloading m3u8 information\n",
      "[youtube] ZQygBFY2vyQ: Downloading MPD manifest\n",
      "[info] ZQygBFY2vyQ: Downloading 1 format(s): 22\n",
      "[download] Destination: temp_folder/afternoon_55.mp4\n",
      "[download] 100% of    1.16MiB in 00:00:00 at 2.03MiB/s     \n"
     ]
    },
    {
     "name": "stderr",
     "output_type": "stream",
     "text": [
      "Processing videos:  70%|██████████████████████████████████████████████████████████████████████████████████████████████████████▎                                            | 208/299 [45:51<26:43, 17.62s/it]"
     ]
    },
    {
     "name": "stdout",
     "output_type": "stream",
     "text": [
      "[youtube] Extracting URL: https://www.youtube.com/watch?v=SHqX5AMATIQ\n",
      "[youtube] SHqX5AMATIQ: Downloading webpage\n",
      "[youtube] SHqX5AMATIQ: Downloading ios player API JSON\n",
      "[youtube] SHqX5AMATIQ: Downloading android player API JSON\n",
      "[youtube] SHqX5AMATIQ: Downloading m3u8 information\n",
      "[youtube] SHqX5AMATIQ: Downloading MPD manifest\n",
      "[info] SHqX5AMATIQ: Downloading 1 format(s): 22\n",
      "[download] Destination: temp_folder/afternoon_56.mp4\n",
      "[download] 100% of 1009.05KiB in 00:00:00 at 2.01MiB/s     \n"
     ]
    },
    {
     "name": "stderr",
     "output_type": "stream",
     "text": [
      "Processing videos:  70%|██████████████████████████████████████████████████████████████████████████████████████████████████████▊                                            | 209/299 [45:56<20:29, 13.67s/it]"
     ]
    },
    {
     "name": "stdout",
     "output_type": "stream",
     "text": [
      "[youtube] Extracting URL: https://www.youtube.com/watch?v=mCjHYreiZ24\n",
      "[youtube] mCjHYreiZ24: Downloading webpage\n",
      "[youtube] mCjHYreiZ24: Downloading ios player API JSON\n",
      "[youtube] mCjHYreiZ24: Downloading android player API JSON\n",
      "[youtube] mCjHYreiZ24: Downloading m3u8 information\n",
      "[info] mCjHYreiZ24: Downloading 1 format(s): 18\n",
      "[download] Destination: temp_folder/afternoon_57.mp4\n",
      "[download] 100% of   27.23MiB in 00:00:01 at 19.04MiB/s    \n"
     ]
    },
    {
     "name": "stderr",
     "output_type": "stream",
     "text": [
      "Processing videos:  70%|███████████████████████████████████████████████████████████████████████████████████████████████████████▏                                           | 210/299 [46:21<25:15, 17.03s/it]"
     ]
    },
    {
     "name": "stdout",
     "output_type": "stream",
     "text": [
      "[youtube] Extracting URL: https://www.youtube.com/watch?v=bIzaYAkX5o8\n",
      "[youtube] bIzaYAkX5o8: Downloading webpage\n",
      "[youtube] bIzaYAkX5o8: Downloading ios player API JSON\n",
      "[youtube] bIzaYAkX5o8: Downloading android player API JSON\n",
      "[youtube] bIzaYAkX5o8: Downloading m3u8 information\n",
      "[info] bIzaYAkX5o8: Downloading 1 format(s): 22\n",
      "[download] Destination: temp_folder/afternoon_58.mp4\n",
      "[download] 100% of  388.93KiB in 00:00:00 at 1.04MiB/s     \n"
     ]
    },
    {
     "name": "stderr",
     "output_type": "stream",
     "text": [
      "Processing videos:  71%|███████████████████████████████████████████████████████████████████████████████████████████████████████▋                                           | 211/299 [46:26<19:39, 13.41s/it]"
     ]
    },
    {
     "name": "stdout",
     "output_type": "stream",
     "text": [
      "[youtube] Extracting URL: https://www.youtube.com/watch?v=Xt6F1wT394I\n",
      "[youtube] Xt6F1wT394I: Downloading webpage\n",
      "[youtube] Xt6F1wT394I: Downloading ios player API JSON\n",
      "[youtube] Xt6F1wT394I: Downloading android player API JSON\n",
      "[youtube] Xt6F1wT394I: Downloading m3u8 information\n",
      "[info] Xt6F1wT394I: Downloading 1 format(s): 22\n",
      "[download] Destination: temp_folder/afternoon_59.mp4\n",
      "[download] 100% of   15.04MiB in 00:00:00 at 16.74MiB/s    \n"
     ]
    },
    {
     "name": "stderr",
     "output_type": "stream",
     "text": [
      "Processing videos:  71%|████████████████████████████████████████████████████████████████████████████████████████████████████████▏                                          | 212/299 [46:36<18:09, 12.52s/it]"
     ]
    },
    {
     "name": "stdout",
     "output_type": "stream",
     "text": [
      "[youtube] Extracting URL: https://www.youtube.com/watch?v=iMUjcZCLaGo\n",
      "[youtube] iMUjcZCLaGo: Downloading webpage\n",
      "[youtube] iMUjcZCLaGo: Downloading ios player API JSON\n"
     ]
    },
    {
     "name": "stderr",
     "output_type": "stream",
     "text": [
      "ERROR: [youtube] iMUjcZCLaGo: Private video. Sign in if you've been granted access to this video\n",
      "Processing videos:  71%|████████████████████████████████████████████████████████████████████████████████████████████████████████▋                                          | 213/299 [46:37<12:51,  8.97s/it]"
     ]
    },
    {
     "name": "stdout",
     "output_type": "stream",
     "text": [
      "[youtube] iMUjcZCLaGo: Downloading android player API JSON\n",
      "[Errno 2] No such file or directory: 'temp_folder/afternoon_60.mp4'\n",
      "[youtube] Extracting URL: https://www.youtube.com/watch?v=rnr_aY0X0dQ\n",
      "[youtube] rnr_aY0X0dQ: Downloading webpage\n",
      "[youtube] rnr_aY0X0dQ: Downloading ios player API JSON\n",
      "[youtube] rnr_aY0X0dQ: Downloading android player API JSON\n",
      "[youtube] rnr_aY0X0dQ: Downloading m3u8 information\n",
      "[info] rnr_aY0X0dQ: Downloading 1 format(s): 22\n",
      "[download] Destination: temp_folder/afternoon_61.mp4\n",
      "[download] 100% of   95.91MiB in 00:00:05 at 18.95MiB/s    \n"
     ]
    },
    {
     "name": "stderr",
     "output_type": "stream",
     "text": [
      "Processing videos:  72%|█████████████████████████████████████████████████████████████████████████████████████████████████████████▏                                         | 214/299 [47:10<22:56, 16.19s/it]"
     ]
    },
    {
     "name": "stdout",
     "output_type": "stream",
     "text": [
      "[youtube] Extracting URL: https://www.youtube.com/watch?v=p8OYydc3WQM\n",
      "[youtube] p8OYydc3WQM: Downloading webpage\n",
      "[youtube] p8OYydc3WQM: Downloading ios player API JSON\n",
      "[youtube] p8OYydc3WQM: Downloading android player API JSON\n",
      "[youtube] p8OYydc3WQM: Downloading m3u8 information\n",
      "[info] p8OYydc3WQM: Downloading 1 format(s): 18\n",
      "[download] Destination: temp_folder/afternoon_62.mp4\n",
      "[download] 100% of   22.35MiB in 00:00:01 at 13.71MiB/s  \n"
     ]
    },
    {
     "name": "stderr",
     "output_type": "stream",
     "text": [
      "Processing videos:  72%|█████████████████████████████████████████████████████████████████████████████████████████████████████████▋                                         | 215/299 [47:28<23:22, 16.70s/it]"
     ]
    },
    {
     "name": "stdout",
     "output_type": "stream",
     "text": [
      "[youtube] Extracting URL: https://www.youtube.com/watch?v=SC9lyDxbwUE\n",
      "[youtube] SC9lyDxbwUE: Downloading webpage\n",
      "[youtube] SC9lyDxbwUE: Downloading ios player API JSON\n",
      "[youtube] SC9lyDxbwUE: Downloading android player API JSON\n",
      "[youtube] SC9lyDxbwUE: Downloading m3u8 information\n",
      "[info] SC9lyDxbwUE: Downloading 1 format(s): 18\n",
      "[download] Destination: temp_folder/afternoon_63.mp4\n",
      "[download] 100% of   10.84MiB in 00:00:00 at 13.48MiB/s    \n"
     ]
    },
    {
     "name": "stderr",
     "output_type": "stream",
     "text": [
      "Processing videos:  72%|██████████████████████████████████████████████████████████████████████████████████████████████████████████▏                                        | 216/299 [47:39<20:51, 15.07s/it]"
     ]
    },
    {
     "name": "stdout",
     "output_type": "stream",
     "text": [
      "[youtube] Extracting URL: https://www.youtube.com/watch?v=CSj7IScvZnE\n",
      "[youtube] CSj7IScvZnE: Downloading webpage\n",
      "[youtube] CSj7IScvZnE: Downloading ios player API JSON\n",
      "[youtube] CSj7IScvZnE: Downloading android player API JSON\n",
      "[youtube] CSj7IScvZnE: Downloading m3u8 information\n",
      "[info] CSj7IScvZnE: Downloading 1 format(s): 18\n",
      "[download] Destination: temp_folder/afternoon_64.mp4\n",
      "[download] 100% of    6.13MiB in 00:00:00 at 9.67MiB/s     \n"
     ]
    },
    {
     "name": "stderr",
     "output_type": "stream",
     "text": [
      "Processing videos:  73%|██████████████████████████████████████████████████████████████████████████████████████████████████████████▋                                        | 217/299 [47:50<19:04, 13.96s/it]"
     ]
    },
    {
     "name": "stdout",
     "output_type": "stream",
     "text": [
      "[youtube] Extracting URL: https://www.youtube.com/watch?v=V7WEPn3RJsc\n",
      "[youtube] V7WEPn3RJsc: Downloading webpage\n",
      "[youtube] V7WEPn3RJsc: Downloading ios player API JSON\n",
      "[youtube] V7WEPn3RJsc: Downloading android player API JSON\n"
     ]
    },
    {
     "name": "stderr",
     "output_type": "stream",
     "text": [
      "ERROR: [youtube] V7WEPn3RJsc: Video unavailable\n",
      "Processing videos:  73%|███████████████████████████████████████████████████████████████████████████████████████████████████████████▏                                       | 218/299 [47:51<13:29,  9.99s/it]"
     ]
    },
    {
     "name": "stdout",
     "output_type": "stream",
     "text": [
      "[Errno 2] No such file or directory: 'temp_folder/afternoon_65.mp4'\n",
      "[youtube] Extracting URL: https://www.youtube.com/watch?v=_yqDuSdl28Q\n",
      "[youtube] _yqDuSdl28Q: Downloading webpage\n",
      "[youtube] _yqDuSdl28Q: Downloading ios player API JSON\n",
      "[youtube] _yqDuSdl28Q: Downloading android player API JSON\n"
     ]
    },
    {
     "name": "stderr",
     "output_type": "stream",
     "text": [
      "ERROR: [youtube] _yqDuSdl28Q: Video unavailable\n",
      "Processing videos:  73%|███████████████████████████████████████████████████████████████████████████████████████████████████████████▋                                       | 219/299 [47:52<09:35,  7.19s/it]"
     ]
    },
    {
     "name": "stdout",
     "output_type": "stream",
     "text": [
      "[Errno 2] No such file or directory: 'temp_folder/afternoon_66.mp4'\n",
      "[youtube] Extracting URL: https://www.youtube.com/watch?v=uPKOwziViaw\n",
      "[youtube] uPKOwziViaw: Downloading webpage\n",
      "[youtube] uPKOwziViaw: Downloading ios player API JSON\n",
      "[youtube] uPKOwziViaw: Downloading android player API JSON\n",
      "[youtube] uPKOwziViaw: Downloading m3u8 information\n",
      "[info] uPKOwziViaw: Downloading 1 format(s): 22\n",
      "[download] Destination: temp_folder/afternoon_67.mp4\n",
      "[download] 100% of   63.76MiB in 00:00:03 at 21.05MiB/s    \n"
     ]
    },
    {
     "name": "stderr",
     "output_type": "stream",
     "text": [
      "Processing videos:  74%|████████████████████████████████████████████████████████████████████████████████████████████████████████████▏                                      | 220/299 [48:24<19:31, 14.83s/it]"
     ]
    },
    {
     "name": "stdout",
     "output_type": "stream",
     "text": [
      "[youtube] Extracting URL: https://www.youtube.com/watch?v=Eq6SnaimpzQ\n",
      "[youtube] Eq6SnaimpzQ: Downloading webpage\n",
      "[youtube] Eq6SnaimpzQ: Downloading ios player API JSON\n",
      "[youtube] Eq6SnaimpzQ: Downloading android player API JSON\n",
      "[youtube] Eq6SnaimpzQ: Downloading m3u8 information\n",
      "[info] Eq6SnaimpzQ: Downloading 1 format(s): 22\n",
      "[download] Destination: temp_folder/afternoon_68.mp4\n",
      "[download] 100% of   54.64MiB in 00:00:02 at 18.90MiB/s    \n"
     ]
    },
    {
     "name": "stderr",
     "output_type": "stream",
     "text": [
      "Processing videos:  74%|████████████████████████████████████████████████████████████████████████████████████████████████████████████▋                                      | 221/299 [48:44<21:16, 16.37s/it]"
     ]
    },
    {
     "name": "stdout",
     "output_type": "stream",
     "text": [
      "[youtube] Extracting URL: https://www.youtube.com/watch?v=amWUHjchp8s\n",
      "[youtube] amWUHjchp8s: Downloading webpage\n",
      "[youtube] amWUHjchp8s: Downloading ios player API JSON\n",
      "[youtube] amWUHjchp8s: Downloading android player API JSON\n",
      "[youtube] amWUHjchp8s: Downloading m3u8 information\n",
      "[info] amWUHjchp8s: Downloading 1 format(s): 18\n",
      "[download] Destination: temp_folder/afternoon_69.mp4\n",
      "[download] 100% of    7.31MiB in 00:00:00 at 15.13MiB/s  \n"
     ]
    },
    {
     "name": "stderr",
     "output_type": "stream",
     "text": [
      "Processing videos:  74%|█████████████████████████████████████████████████████████████████████████████████████████████████████████████▏                                     | 222/299 [48:55<18:34, 14.48s/it]"
     ]
    },
    {
     "name": "stdout",
     "output_type": "stream",
     "text": [
      "[youtube] Extracting URL: https://www.youtube.com/watch?v=z4TGBHXWqdk\n",
      "[youtube] z4TGBHXWqdk: Downloading webpage\n",
      "[youtube] z4TGBHXWqdk: Downloading ios player API JSON\n",
      "[youtube] z4TGBHXWqdk: Downloading android player API JSON\n",
      "[youtube] z4TGBHXWqdk: Downloading m3u8 information\n",
      "[youtube] z4TGBHXWqdk: Downloading MPD manifest\n",
      "[info] z4TGBHXWqdk: Downloading 1 format(s): 22\n",
      "[download] Destination: temp_folder/afternoon_70.mp4\n",
      "[download] 100% of  485.31KiB in 00:00:00 at 1.24MiB/s     \n"
     ]
    },
    {
     "name": "stderr",
     "output_type": "stream",
     "text": [
      "Processing videos:  75%|█████████████████████████████████████████████████████████████████████████████████████████████████████████████▋                                     | 223/299 [48:59<14:25, 11.39s/it]"
     ]
    },
    {
     "name": "stdout",
     "output_type": "stream",
     "text": [
      "[youtube] Extracting URL: https://www.youtube.com/watch?v=q_p38s5JsXo\n",
      "[youtube] q_p38s5JsXo: Downloading webpage\n",
      "[youtube] q_p38s5JsXo: Downloading ios player API JSON\n",
      "[youtube] q_p38s5JsXo: Downloading android player API JSON\n",
      "[youtube] q_p38s5JsXo: Downloading m3u8 information\n",
      "[info] q_p38s5JsXo: Downloading 1 format(s): 22\n",
      "[download] Destination: temp_folder/afternoon_71.mp4\n",
      "[download] 100% of   30.22MiB in 00:00:02 at 10.32MiB/s    \n"
     ]
    },
    {
     "name": "stderr",
     "output_type": "stream",
     "text": [
      "Processing videos:  75%|██████████████████████████████████████████████████████████████████████████████████████████████████████████████▏                                    | 224/299 [49:13<15:17, 12.23s/it]"
     ]
    },
    {
     "name": "stdout",
     "output_type": "stream",
     "text": [
      "[youtube] Extracting URL: https://www.youtube.com/watch?v=nvaS2J5mcEk\n",
      "[youtube] nvaS2J5mcEk: Downloading webpage\n",
      "[youtube] nvaS2J5mcEk: Downloading ios player API JSON\n",
      "[youtube] nvaS2J5mcEk: Downloading android player API JSON\n",
      "[youtube] nvaS2J5mcEk: Downloading m3u8 information\n",
      "[info] nvaS2J5mcEk: Downloading 1 format(s): 18\n",
      "[download] Destination: temp_folder/afternoon_72.mp4\n",
      "[download] 100% of   16.00MiB in 00:00:00 at 16.71MiB/s    \n"
     ]
    },
    {
     "name": "stderr",
     "output_type": "stream",
     "text": [
      "Processing videos:  75%|██████████████████████████████████████████████████████████████████████████████████████████████████████████████▌                                    | 225/299 [49:28<16:10, 13.11s/it]"
     ]
    },
    {
     "name": "stdout",
     "output_type": "stream",
     "text": [
      "[generic] Extracting URL: www.youtube.com/watch?v=AoQAPgEUIAs\n",
      "[youtube] Extracting URL: http://www.youtube.com/watch?v=AoQAPgEUIAs\n",
      "[youtube] AoQAPgEUIAs: Downloading webpage\n",
      "[youtube] AoQAPgEUIAs: Downloading ios player API JSON\n"
     ]
    },
    {
     "name": "stderr",
     "output_type": "stream",
     "text": [
      "WARNING: [generic] The url doesn't specify the protocol, trying with http\n"
     ]
    },
    {
     "name": "stdout",
     "output_type": "stream",
     "text": [
      "[youtube] AoQAPgEUIAs: Downloading android player API JSON\n"
     ]
    },
    {
     "name": "stderr",
     "output_type": "stream",
     "text": [
      "ERROR: [youtube] AoQAPgEUIAs: Video unavailable\n",
      "Processing videos:  76%|███████████████████████████████████████████████████████████████████████████████████████████████████████████████                                    | 226/299 [49:29<11:35,  9.53s/it]"
     ]
    },
    {
     "name": "stdout",
     "output_type": "stream",
     "text": [
      "[Errno 2] No such file or directory: 'temp_folder/again.mp4'\n",
      "[youtube] Extracting URL: https://www.youtube.com/watch?v=htsdwxJ-fTo\n",
      "[youtube] htsdwxJ-fTo: Downloading webpage\n",
      "[youtube] htsdwxJ-fTo: Downloading ios player API JSON\n",
      "[youtube] htsdwxJ-fTo: Downloading android player API JSON\n",
      "[youtube] htsdwxJ-fTo: Downloading m3u8 information\n",
      "[info] htsdwxJ-fTo: Downloading 1 format(s): 22\n",
      "[download] Destination: temp_folder/again_2.mp4\n",
      "[download] 100% of   22.39MiB in 00:00:06 at 3.21MiB/s     \n"
     ]
    },
    {
     "name": "stderr",
     "output_type": "stream",
     "text": [
      "Processing videos:  76%|███████████████████████████████████████████████████████████████████████████████████████████████████████████████▌                                   | 227/299 [49:44<13:17, 11.07s/it]"
     ]
    },
    {
     "name": "stdout",
     "output_type": "stream",
     "text": [
      "[youtube] Extracting URL: https://www.youtube.com/watch?v=Cgh1DXAQBuI\n",
      "[youtube] Cgh1DXAQBuI: Downloading webpage\n",
      "[youtube] Cgh1DXAQBuI: Downloading ios player API JSON\n",
      "[youtube] Cgh1DXAQBuI: Downloading android player API JSON\n"
     ]
    },
    {
     "name": "stderr",
     "output_type": "stream",
     "text": [
      "ERROR: [youtube] Cgh1DXAQBuI: Video unavailable\n",
      "Processing videos:  76%|████████████████████████████████████████████████████████████████████████████████████████████████████████████████                                   | 228/299 [49:45<09:25,  7.97s/it]"
     ]
    },
    {
     "name": "stdout",
     "output_type": "stream",
     "text": [
      "[Errno 2] No such file or directory: 'temp_folder/again_3.mp4'\n",
      "[youtube] Extracting URL: https://www.youtube.com/watch?v=XlydB3y9Uec\n",
      "[youtube] XlydB3y9Uec: Downloading webpage\n",
      "[youtube] XlydB3y9Uec: Downloading ios player API JSON\n",
      "[youtube] XlydB3y9Uec: Downloading android player API JSON\n",
      "[youtube] XlydB3y9Uec: Downloading m3u8 information\n",
      "[info] XlydB3y9Uec: Downloading 1 format(s): 22\n",
      "[download] Destination: temp_folder/again_4.mp4\n",
      "[download] 100% of   21.06MiB in 00:00:03 at 5.47MiB/s     \n"
     ]
    },
    {
     "name": "stderr",
     "output_type": "stream",
     "text": [
      "Processing videos:  77%|████████████████████████████████████████████████████████████████████████████████████████████████████████████████▌                                  | 229/299 [49:57<10:40,  9.14s/it]"
     ]
    },
    {
     "name": "stdout",
     "output_type": "stream",
     "text": [
      "[youtube] Extracting URL: https://www.youtube.com/watch?v=7YYB3BEoksc\n",
      "[youtube] 7YYB3BEoksc: Downloading webpage\n",
      "[youtube] 7YYB3BEoksc: Downloading ios player API JSON\n",
      "[youtube] 7YYB3BEoksc: Downloading android player API JSON\n"
     ]
    },
    {
     "name": "stderr",
     "output_type": "stream",
     "text": [
      "ERROR: [youtube] 7YYB3BEoksc: Private video. Sign in if you've been granted access to this video\n",
      "Processing videos:  77%|█████████████████████████████████████████████████████████████████████████████████████████████████████████████████                                  | 230/299 [49:57<07:35,  6.60s/it]"
     ]
    },
    {
     "name": "stdout",
     "output_type": "stream",
     "text": [
      "[Errno 2] No such file or directory: 'temp_folder/again_5.mp4'\n",
      "[youtube] Extracting URL: https://www.youtube.com/watch?v=7YYB3BEoksc\n",
      "[youtube] 7YYB3BEoksc: Downloading webpage\n",
      "[youtube] 7YYB3BEoksc: Downloading ios player API JSON\n",
      "[youtube] 7YYB3BEoksc: Downloading android player API JSON\n"
     ]
    },
    {
     "name": "stderr",
     "output_type": "stream",
     "text": [
      "ERROR: [youtube] 7YYB3BEoksc: Private video. Sign in if you've been granted access to this video\n",
      "Processing videos:  77%|█████████████████████████████████████████████████████████████████████████████████████████████████████████████████▌                                 | 231/299 [49:58<05:28,  4.84s/it]"
     ]
    },
    {
     "name": "stdout",
     "output_type": "stream",
     "text": [
      "[Errno 2] No such file or directory: 'temp_folder/again_6.mp4'\n",
      "[youtube] Extracting URL: https://www.youtube.com/watch?v=34NJUhpwrBc\n",
      "[youtube] 34NJUhpwrBc: Downloading webpage\n",
      "[youtube] 34NJUhpwrBc: Downloading ios player API JSON\n",
      "[youtube] 34NJUhpwrBc: Downloading android player API JSON\n",
      "[youtube] 34NJUhpwrBc: Downloading m3u8 information\n",
      "[youtube] 34NJUhpwrBc: Downloading MPD manifest\n",
      "[info] 34NJUhpwrBc: Downloading 1 format(s): 22\n",
      "[download] Destination: temp_folder/again_7.mp4\n",
      "[download] 100% of    1.25MiB in 00:00:00 at 1.81MiB/s     \n"
     ]
    },
    {
     "name": "stderr",
     "output_type": "stream",
     "text": [
      "Processing videos:  78%|██████████████████████████████████████████████████████████████████████████████████████████████████████████████████                                 | 232/299 [50:03<05:19,  4.77s/it]"
     ]
    },
    {
     "name": "stdout",
     "output_type": "stream",
     "text": [
      "[youtube] Extracting URL: https://www.youtube.com/watch?v=eXpXg4q-qEQ&t=170s\n",
      "[youtube] eXpXg4q-qEQ: Downloading webpage\n",
      "[youtube] eXpXg4q-qEQ: Downloading ios player API JSON\n",
      "[youtube] eXpXg4q-qEQ: Downloading android player API JSON\n",
      "[youtube] eXpXg4q-qEQ: Downloading m3u8 information\n",
      "[youtube] eXpXg4q-qEQ: Downloading MPD manifest\n",
      "[info] eXpXg4q-qEQ: Downloading 1 format(s): 22\n",
      "[download] Destination: temp_folder/again_8.mp4\n",
      "[download] 100% of   60.38MiB in 00:00:05 at 10.68MiB/s    \n"
     ]
    },
    {
     "name": "stderr",
     "output_type": "stream",
     "text": [
      "Processing videos:  78%|██████████████████████████████████████████████████████████████████████████████████████████████████████████████████▌                                | 233/299 [50:41<16:31, 15.02s/it]"
     ]
    },
    {
     "name": "stdout",
     "output_type": "stream",
     "text": [
      "[youtube] Extracting URL: https://www.youtube.com/watch?v=84NJb1G4eLs\n",
      "[youtube] 84NJb1G4eLs: Downloading webpage\n",
      "[youtube] 84NJb1G4eLs: Downloading ios player API JSON\n",
      "[youtube] 84NJb1G4eLs: Downloading android player API JSON\n",
      "[youtube] 84NJb1G4eLs: Downloading m3u8 information\n",
      "[info] 84NJb1G4eLs: Downloading 1 format(s): 18\n",
      "[download] Destination: temp_folder/again_9.mp4\n",
      "[download] 100% of   92.31KiB in 00:00:00 at 148.86KiB/s   \n"
     ]
    },
    {
     "name": "stderr",
     "output_type": "stream",
     "text": [
      "Processing videos:  78%|███████████████████████████████████████████████████████████████████████████████████████████████████████████████████                                | 234/299 [50:45<12:36, 11.63s/it]"
     ]
    },
    {
     "name": "stdout",
     "output_type": "stream",
     "text": [
      "[youtube] Extracting URL: https://www.youtube.com/watch?v=2Tgl8gxz_HA\n",
      "[youtube] 2Tgl8gxz_HA: Downloading webpage\n",
      "[youtube] 2Tgl8gxz_HA: Downloading ios player API JSON\n",
      "[youtube] 2Tgl8gxz_HA: Downloading android player API JSON\n",
      "[youtube] 2Tgl8gxz_HA: Downloading m3u8 information\n",
      "[info] 2Tgl8gxz_HA: Downloading 1 format(s): 22\n",
      "[download] Destination: temp_folder/again_10.mp4\n",
      "[download] 100% of   26.12MiB in 00:00:04 at 5.28MiB/s     \n"
     ]
    },
    {
     "name": "stderr",
     "output_type": "stream",
     "text": [
      "Processing videos:  79%|███████████████████████████████████████████████████████████████████████████████████████████████████████████████████▌                               | 235/299 [50:58<12:42, 11.92s/it]"
     ]
    },
    {
     "name": "stdout",
     "output_type": "stream",
     "text": [
      "[generic] Extracting URL: www.youtube.com/watch?v=FMsqLT9Acso\n",
      "[youtube] Extracting URL: http://www.youtube.com/watch?v=FMsqLT9Acso\n",
      "[youtube] FMsqLT9Acso: Downloading webpage\n"
     ]
    },
    {
     "name": "stderr",
     "output_type": "stream",
     "text": [
      "WARNING: [generic] The url doesn't specify the protocol, trying with http\n"
     ]
    },
    {
     "name": "stdout",
     "output_type": "stream",
     "text": [
      "[youtube] FMsqLT9Acso: Downloading ios player API JSON\n",
      "[youtube] FMsqLT9Acso: Downloading android player API JSON\n",
      "[youtube] FMsqLT9Acso: Downloading m3u8 information\n",
      "[info] FMsqLT9Acso: Downloading 1 format(s): 22\n",
      "[download] Destination: temp_folder/again_11.mp4\n",
      "[download] 100% of  333.55KiB in 00:00:01 at 317.50KiB/s   \n"
     ]
    },
    {
     "name": "stderr",
     "output_type": "stream",
     "text": [
      "Processing videos:  79%|████████████████████████████████████████████████████████████████████████████████████████████████████████████████████                               | 236/299 [51:03<10:15,  9.77s/it]"
     ]
    },
    {
     "name": "stdout",
     "output_type": "stream",
     "text": [
      "[youtube] Extracting URL: https://www.youtube.com/watch?v=UI5KLVn8JKI\n",
      "[youtube] UI5KLVn8JKI: Downloading webpage\n",
      "[youtube] UI5KLVn8JKI: Downloading ios player API JSON\n",
      "[youtube] UI5KLVn8JKI: Downloading android player API JSON\n",
      "[youtube] UI5KLVn8JKI: Downloading m3u8 information\n",
      "[info] UI5KLVn8JKI: Downloading 1 format(s): 22\n",
      "[download] Destination: temp_folder/again_12.mp4\n",
      "[download] 100% of    4.25MiB in 00:00:00 at 4.69MiB/s     \n"
     ]
    },
    {
     "name": "stderr",
     "output_type": "stream",
     "text": [
      "Processing videos:  79%|████████████████████████████████████████████████████████████████████████████████████████████████████████████████████▌                              | 237/299 [51:08<08:54,  8.61s/it]"
     ]
    },
    {
     "name": "stdout",
     "output_type": "stream",
     "text": [
      "[youtube] Extracting URL: https://www.youtube.com/watch?v=lSxAVvE9sPc\n",
      "[youtube] lSxAVvE9sPc: Downloading webpage\n",
      "[youtube] lSxAVvE9sPc: Downloading ios player API JSON\n"
     ]
    },
    {
     "name": "stderr",
     "output_type": "stream",
     "text": [
      "ERROR: [youtube] lSxAVvE9sPc: Private video. Sign in if you've been granted access to this video\n",
      "Processing videos:  80%|█████████████████████████████████████████████████████████████████████████████████████████████████████████████████████                              | 238/299 [51:09<06:21,  6.25s/it]"
     ]
    },
    {
     "name": "stdout",
     "output_type": "stream",
     "text": [
      "[youtube] lSxAVvE9sPc: Downloading android player API JSON\n",
      "[Errno 2] No such file or directory: 'temp_folder/again_13.mp4'\n",
      "[youtube] Extracting URL: https://www.youtube.com/watch?v=lSxAVvE9sPc\n",
      "[youtube] lSxAVvE9sPc: Downloading webpage\n",
      "[youtube] lSxAVvE9sPc: Downloading ios player API JSON\n",
      "[youtube] lSxAVvE9sPc: Downloading android player API JSON\n"
     ]
    },
    {
     "name": "stderr",
     "output_type": "stream",
     "text": [
      "ERROR: [youtube] lSxAVvE9sPc: Private video. Sign in if you've been granted access to this video\n",
      "Processing videos:  80%|█████████████████████████████████████████████████████████████████████████████████████████████████████████████████████▌                             | 239/299 [51:10<04:36,  4.60s/it]"
     ]
    },
    {
     "name": "stdout",
     "output_type": "stream",
     "text": [
      "[Errno 2] No such file or directory: 'temp_folder/again_14.mp4'\n",
      "[youtube] Extracting URL: https://www.youtube.com/watch?v=lSxAVvE9sPc\n",
      "[youtube] lSxAVvE9sPc: Downloading webpage\n",
      "[youtube] lSxAVvE9sPc: Downloading ios player API JSON\n"
     ]
    },
    {
     "name": "stderr",
     "output_type": "stream",
     "text": [
      "ERROR: [youtube] lSxAVvE9sPc: Private video. Sign in if you've been granted access to this video\n",
      "Processing videos:  80%|█████████████████████████████████████████████████████████████████████████████████████████████████████████████████████▉                             | 240/299 [51:11<03:22,  3.43s/it]"
     ]
    },
    {
     "name": "stdout",
     "output_type": "stream",
     "text": [
      "[youtube] lSxAVvE9sPc: Downloading android player API JSON\n",
      "[Errno 2] No such file or directory: 'temp_folder/again_15.mp4'\n",
      "[youtube] Extracting URL: https://www.youtube.com/watch?v=8uo3JJuKzFg\n",
      "[youtube] 8uo3JJuKzFg: Downloading webpage\n",
      "[youtube] 8uo3JJuKzFg: Downloading ios player API JSON\n",
      "[youtube] 8uo3JJuKzFg: Downloading android player API JSON\n",
      "[youtube] 8uo3JJuKzFg: Downloading m3u8 information\n",
      "[youtube] 8uo3JJuKzFg: Downloading MPD manifest\n",
      "[info] 8uo3JJuKzFg: Downloading 1 format(s): 22\n",
      "[download] Destination: temp_folder/again_16.mp4\n",
      "[download] 100% of    1.52MiB in 00:00:00 at 2.22MiB/s     \n"
     ]
    },
    {
     "name": "stderr",
     "output_type": "stream",
     "text": [
      "Processing videos:  81%|██████████████████████████████████████████████████████████████████████████████████████████████████████████████████████▍                            | 241/299 [51:16<03:48,  3.94s/it]"
     ]
    },
    {
     "name": "stdout",
     "output_type": "stream",
     "text": [
      "[youtube] Extracting URL: https://www.youtube.com/watch?v=8uo3JJuKzFg\n",
      "[youtube] 8uo3JJuKzFg: Downloading webpage\n",
      "[youtube] 8uo3JJuKzFg: Downloading ios player API JSON\n",
      "[youtube] 8uo3JJuKzFg: Downloading android player API JSON\n",
      "[youtube] 8uo3JJuKzFg: Downloading m3u8 information\n",
      "[youtube] 8uo3JJuKzFg: Downloading MPD manifest\n",
      "[info] 8uo3JJuKzFg: Downloading 1 format(s): 22\n",
      "[download] Destination: temp_folder/again_17.mp4\n",
      "[download] 100% of    1.52MiB in 00:00:00 at 5.60MiB/s     \n"
     ]
    },
    {
     "name": "stderr",
     "output_type": "stream",
     "text": [
      "Processing videos:  81%|██████████████████████████████████████████████████████████████████████████████████████████████████████████████████████▉                            | 242/299 [51:19<03:41,  3.88s/it]"
     ]
    },
    {
     "name": "stdout",
     "output_type": "stream",
     "text": [
      "[youtube] Extracting URL: https://www.youtube.com/watch?v=wTNv94AY-yE\n",
      "[youtube] wTNv94AY-yE: Downloading webpage\n",
      "[youtube] wTNv94AY-yE: Downloading ios player API JSON\n",
      "[youtube] wTNv94AY-yE: Downloading android player API JSON\n",
      "[youtube] wTNv94AY-yE: Downloading m3u8 information\n",
      "[info] wTNv94AY-yE: Downloading 1 format(s): 22\n",
      "[download] Destination: temp_folder/again_18.mp4\n",
      "[download] 100% of  271.65KiB in 00:00:00 at 576.72KiB/s   \n"
     ]
    },
    {
     "name": "stderr",
     "output_type": "stream",
     "text": [
      "Processing videos:  81%|███████████████████████████████████████████████████████████████████████████████████████████████████████████████████████▍                           | 243/299 [51:23<03:35,  3.84s/it]"
     ]
    },
    {
     "name": "stdout",
     "output_type": "stream",
     "text": [
      "[youtube] Extracting URL: https://www.youtube.com/watch?v=dbzKXsyAcvY\n",
      "[youtube] dbzKXsyAcvY: Downloading webpage\n",
      "[youtube] dbzKXsyAcvY: Downloading ios player API JSON\n"
     ]
    },
    {
     "name": "stderr",
     "output_type": "stream",
     "text": [
      "ERROR: [youtube] dbzKXsyAcvY: Video unavailable\n",
      "Processing videos:  82%|███████████████████████████████████████████████████████████████████████████████████████████████████████████████████████▉                           | 244/299 [51:24<02:39,  2.89s/it]"
     ]
    },
    {
     "name": "stdout",
     "output_type": "stream",
     "text": [
      "[youtube] dbzKXsyAcvY: Downloading android player API JSON\n",
      "[Errno 2] No such file or directory: 'temp_folder/again_19.mp4'\n",
      "[youtube] Extracting URL: https://www.youtube.com/watch?v=iMUjcZCLaGo\n",
      "[youtube] iMUjcZCLaGo: Downloading webpage\n",
      "[youtube] iMUjcZCLaGo: Downloading ios player API JSON\n",
      "[youtube] iMUjcZCLaGo: Downloading android player API JSON\n"
     ]
    },
    {
     "name": "stderr",
     "output_type": "stream",
     "text": [
      "ERROR: [youtube] iMUjcZCLaGo: Private video. Sign in if you've been granted access to this video\n",
      "Processing videos:  82%|████████████████████████████████████████████████████████████████████████████████████████████████████████████████████████▍                          | 245/299 [51:25<02:02,  2.28s/it]"
     ]
    },
    {
     "name": "stdout",
     "output_type": "stream",
     "text": [
      "[Errno 2] No such file or directory: 'temp_folder/again_20.mp4'\n",
      "[youtube] Extracting URL: https://www.youtube.com/watch?v=rnr_aY0X0dQ\n",
      "[youtube] rnr_aY0X0dQ: Downloading webpage\n",
      "[youtube] rnr_aY0X0dQ: Downloading ios player API JSON\n",
      "[youtube] rnr_aY0X0dQ: Downloading android player API JSON\n",
      "[youtube] rnr_aY0X0dQ: Downloading m3u8 information\n",
      "[info] rnr_aY0X0dQ: Downloading 1 format(s): 22\n",
      "[download] Destination: temp_folder/again_21.mp4\n",
      "[download] 100% of   95.91MiB in 00:00:04 at 21.31MiB/s    \n"
     ]
    },
    {
     "name": "stderr",
     "output_type": "stream",
     "text": [
      "Processing videos:  82%|████████████████████████████████████████████████████████████████████████████████████████████████████████████████████████▉                          | 246/299 [51:56<09:40, 10.95s/it]"
     ]
    },
    {
     "name": "stdout",
     "output_type": "stream",
     "text": [
      "[youtube] Extracting URL: https://www.youtube.com/watch?v=rnr_aY0X0dQ\n",
      "[youtube] rnr_aY0X0dQ: Downloading webpage\n",
      "[youtube] rnr_aY0X0dQ: Downloading ios player API JSON\n",
      "[youtube] rnr_aY0X0dQ: Downloading android player API JSON\n",
      "[youtube] rnr_aY0X0dQ: Downloading m3u8 information\n",
      "[info] rnr_aY0X0dQ: Downloading 1 format(s): 22\n",
      "[download] Destination: temp_folder/again_22.mp4\n",
      "[download] 100% of   95.91MiB in 00:00:04 at 23.52MiB/s    \n"
     ]
    },
    {
     "name": "stderr",
     "output_type": "stream",
     "text": [
      "Processing videos:  83%|█████████████████████████████████████████████████████████████████████████████████████████████████████████████████████████▍                         | 247/299 [52:25<14:17, 16.50s/it]"
     ]
    },
    {
     "name": "stdout",
     "output_type": "stream",
     "text": [
      "[youtube] Extracting URL: https://www.youtube.com/watch?v=bDjiZ9Ngcfg\n",
      "[youtube] bDjiZ9Ngcfg: Downloading webpage\n",
      "[youtube] bDjiZ9Ngcfg: Downloading ios player API JSON\n",
      "[youtube] bDjiZ9Ngcfg: Downloading android player API JSON\n",
      "[youtube] bDjiZ9Ngcfg: Downloading m3u8 information\n",
      "[info] bDjiZ9Ngcfg: Downloading 1 format(s): 22\n",
      "[download] Destination: temp_folder/again_23.mp4\n",
      "[download] 100% of  211.21KiB in 00:00:00 at 467.23KiB/s   \n"
     ]
    },
    {
     "name": "stderr",
     "output_type": "stream",
     "text": [
      "Processing videos:  83%|█████████████████████████████████████████████████████████████████████████████████████████████████████████████████████████▉                         | 248/299 [52:29<10:48, 12.71s/it]"
     ]
    },
    {
     "name": "stdout",
     "output_type": "stream",
     "text": [
      "[youtube] Extracting URL: https://www.youtube.com/watch?v=p8OYydc3WQM\n",
      "[youtube] p8OYydc3WQM: Downloading webpage\n",
      "[youtube] p8OYydc3WQM: Downloading ios player API JSON\n",
      "[youtube] p8OYydc3WQM: Downloading android player API JSON\n",
      "[youtube] p8OYydc3WQM: Downloading m3u8 information\n",
      "[info] p8OYydc3WQM: Downloading 1 format(s): 18\n",
      "[download] Destination: temp_folder/again_24.mp4\n",
      "[download] 100% of   22.35MiB in 00:00:01 at 18.23MiB/s  \n"
     ]
    },
    {
     "name": "stderr",
     "output_type": "stream",
     "text": [
      "Processing videos:  83%|██████████████████████████████████████████████████████████████████████████████████████████████████████████████████████████▍                        | 249/299 [52:46<11:40, 14.02s/it]"
     ]
    },
    {
     "name": "stdout",
     "output_type": "stream",
     "text": [
      "[youtube] Extracting URL: https://www.youtube.com/watch?v=hjS0dQDgbjo\n",
      "[youtube] hjS0dQDgbjo: Downloading webpage\n",
      "[youtube] hjS0dQDgbjo: Downloading ios player API JSON\n",
      "[youtube] hjS0dQDgbjo: Downloading android player API JSON\n",
      "[youtube] hjS0dQDgbjo: Downloading m3u8 information\n",
      "[info] hjS0dQDgbjo: Downloading 1 format(s): 18\n",
      "[download] Destination: temp_folder/again_25.mp4\n",
      "[download] 100% of    4.00MiB in 00:00:01 at 2.94MiB/s     \n"
     ]
    },
    {
     "name": "stderr",
     "output_type": "stream",
     "text": [
      "Processing videos:  84%|██████████████████████████████████████████████████████████████████████████████████████████████████████████████████████████▉                        | 250/299 [52:56<10:29, 12.85s/it]"
     ]
    },
    {
     "name": "stdout",
     "output_type": "stream",
     "text": [
      "[youtube] Extracting URL: https://www.youtube.com/watch?v=MDQQ9WZNwcc\n",
      "[youtube] MDQQ9WZNwcc: Downloading webpage\n",
      "[youtube] MDQQ9WZNwcc: Downloading ios player API JSON\n",
      "[youtube] MDQQ9WZNwcc: Downloading android player API JSON\n",
      "[youtube] MDQQ9WZNwcc: Downloading m3u8 information\n",
      "[youtube] MDQQ9WZNwcc: Downloading MPD manifest\n",
      "[info] MDQQ9WZNwcc: Downloading 1 format(s): 22\n",
      "[download] Destination: temp_folder/again_26.mp4\n",
      "[download] 100% of   71.10MiB in 00:00:22 at 3.11MiB/s     \n"
     ]
    },
    {
     "name": "stderr",
     "output_type": "stream",
     "text": [
      "Processing videos:  84%|███████████████████████████████████████████████████████████████████████████████████████████████████████████████████████████▍                       | 251/299 [53:35<16:33, 20.70s/it]"
     ]
    },
    {
     "name": "stdout",
     "output_type": "stream",
     "text": [
      "[youtube] Extracting URL: https://www.youtube.com/watch?v=Fz1I_Ssr3AE\n",
      "[youtube] Fz1I_Ssr3AE: Downloading webpage\n",
      "[youtube] Fz1I_Ssr3AE: Downloading ios player API JSON\n",
      "[youtube] Fz1I_Ssr3AE: Downloading android player API JSON\n",
      "[youtube] Fz1I_Ssr3AE: Downloading m3u8 information\n",
      "[youtube] Fz1I_Ssr3AE: Downloading MPD manifest\n",
      "[info] Fz1I_Ssr3AE: Downloading 1 format(s): 22\n",
      "[download] Destination: temp_folder/again_27.mp4\n",
      "[download] 100% of   63.48MiB in 00:00:04 at 14.45MiB/s    \n"
     ]
    },
    {
     "name": "stderr",
     "output_type": "stream",
     "text": [
      "Processing videos:  84%|███████████████████████████████████████████████████████████████████████████████████████████████████████████████████████████▉                       | 252/299 [53:55<16:01, 20.47s/it]"
     ]
    },
    {
     "name": "stdout",
     "output_type": "stream",
     "text": [
      "[youtube] Extracting URL: https://www.youtube.com/watch?v=Fz1I_Ssr3AE\n",
      "[youtube] Fz1I_Ssr3AE: Downloading webpage\n",
      "[youtube] Fz1I_Ssr3AE: Downloading ios player API JSON\n",
      "[youtube] Fz1I_Ssr3AE: Downloading android player API JSON\n",
      "[youtube] Fz1I_Ssr3AE: Downloading m3u8 information\n",
      "[youtube] Fz1I_Ssr3AE: Downloading MPD manifest\n",
      "[info] Fz1I_Ssr3AE: Downloading 1 format(s): 22\n",
      "[download] Destination: temp_folder/again_28.mp4\n",
      "[download] 100% of   63.48MiB in 00:00:03 at 18.54MiB/s    \n"
     ]
    },
    {
     "name": "stderr",
     "output_type": "stream",
     "text": [
      "Processing videos:  85%|████████████████████████████████████████████████████████████████████████████████████████████████████████████████████████████▍                      | 253/299 [54:15<15:31, 20.25s/it]"
     ]
    },
    {
     "name": "stdout",
     "output_type": "stream",
     "text": [
      "[youtube] Extracting URL: https://www.youtube.com/watch?v=oqQ8Nt5NvjQ\n",
      "[youtube] oqQ8Nt5NvjQ: Downloading webpage\n",
      "[youtube] oqQ8Nt5NvjQ: Downloading ios player API JSON\n",
      "[youtube] oqQ8Nt5NvjQ: Downloading android player API JSON\n",
      "[youtube] oqQ8Nt5NvjQ: Downloading m3u8 information\n",
      "[info] oqQ8Nt5NvjQ: Downloading 1 format(s): 22\n",
      "[download] Destination: temp_folder/again_29.mp4\n",
      "[download] 100% of  281.27KiB in 00:00:00 at 537.34KiB/s   \n"
     ]
    },
    {
     "name": "stderr",
     "output_type": "stream",
     "text": [
      "Processing videos:  85%|████████████████████████████████████████████████████████████████████████████████████████████████████████████████████████████▉                      | 254/299 [54:19<11:29, 15.33s/it]"
     ]
    },
    {
     "name": "stdout",
     "output_type": "stream",
     "text": [
      "[generic] Extracting URL: www.youtube.com/watch?v=EYX5aL3d8_M\n",
      "[youtube] Extracting URL: http://www.youtube.com/watch?v=EYX5aL3d8_M\n",
      "[youtube] EYX5aL3d8_M: Downloading webpage\n"
     ]
    },
    {
     "name": "stderr",
     "output_type": "stream",
     "text": [
      "WARNING: [generic] The url doesn't specify the protocol, trying with http\n"
     ]
    },
    {
     "name": "stdout",
     "output_type": "stream",
     "text": [
      "[youtube] EYX5aL3d8_M: Downloading ios player API JSON\n",
      "[youtube] EYX5aL3d8_M: Downloading android player API JSON\n"
     ]
    },
    {
     "name": "stderr",
     "output_type": "stream",
     "text": [
      "ERROR: [youtube] EYX5aL3d8_M: Private video. Sign in if you've been granted access to this video\n",
      "Processing videos:  85%|█████████████████████████████████████████████████████████████████████████████████████████████████████████████████████████████▎                     | 255/299 [54:20<08:07, 11.07s/it]"
     ]
    },
    {
     "name": "stdout",
     "output_type": "stream",
     "text": [
      "[Errno 2] No such file or directory: 'temp_folder/again_30.mp4'\n",
      "[youtube] Extracting URL: https://www.youtube.com/watch?v=_yqDuSdl28Q\n",
      "[youtube] _yqDuSdl28Q: Downloading webpage\n",
      "[youtube] _yqDuSdl28Q: Downloading ios player API JSON\n",
      "[youtube] _yqDuSdl28Q: Downloading android player API JSON\n"
     ]
    },
    {
     "name": "stderr",
     "output_type": "stream",
     "text": [
      "ERROR: [youtube] _yqDuSdl28Q: Video unavailable\n",
      "Processing videos:  86%|█████████████████████████████████████████████████████████████████████████████████████████████████████████████████████████████▊                     | 256/299 [54:21<05:41,  7.94s/it]"
     ]
    },
    {
     "name": "stdout",
     "output_type": "stream",
     "text": [
      "[Errno 2] No such file or directory: 'temp_folder/again_31.mp4'\n",
      "[youtube] Extracting URL: https://www.youtube.com/watch?v=uPKOwziViaw\n",
      "[youtube] uPKOwziViaw: Downloading webpage\n",
      "[youtube] uPKOwziViaw: Downloading ios player API JSON\n",
      "[youtube] uPKOwziViaw: Downloading android player API JSON\n",
      "[youtube] uPKOwziViaw: Downloading m3u8 information\n",
      "[info] uPKOwziViaw: Downloading 1 format(s): 22\n",
      "[download] Destination: temp_folder/again_32.mp4\n",
      "[download] 100% of   63.76MiB in 00:00:03 at 19.37MiB/s    \n"
     ]
    },
    {
     "name": "stderr",
     "output_type": "stream",
     "text": [
      "Processing videos:  86%|██████████████████████████████████████████████████████████████████████████████████████████████████████████████████████████████▎                    | 257/299 [54:54<10:55, 15.60s/it]"
     ]
    },
    {
     "name": "stdout",
     "output_type": "stream",
     "text": [
      "[youtube] Extracting URL: https://www.youtube.com/watch?v=gU5EI_ZTzxw\n",
      "[youtube] gU5EI_ZTzxw: Downloading webpage\n",
      "[youtube] gU5EI_ZTzxw: Downloading ios player API JSON\n",
      "[youtube] gU5EI_ZTzxw: Downloading android player API JSON\n",
      "[youtube] gU5EI_ZTzxw: Downloading m3u8 information\n",
      "[info] gU5EI_ZTzxw: Downloading 1 format(s): 18\n",
      "[download] Destination: temp_folder/again_33.mp4\n",
      "[download] 100% of    2.58MiB in 00:00:00 at 3.46MiB/s     \n"
     ]
    },
    {
     "name": "stderr",
     "output_type": "stream",
     "text": [
      "Processing videos:  86%|██████████████████████████████████████████████████████████████████████████████████████████████████████████████████████████████▊                    | 258/299 [54:59<08:28, 12.40s/it]"
     ]
    },
    {
     "name": "stdout",
     "output_type": "stream",
     "text": [
      "[youtube] Extracting URL: https://www.youtube.com/watch?v=owXsDIKq4lk\n",
      "[youtube] owXsDIKq4lk: Downloading webpage\n",
      "[youtube] owXsDIKq4lk: Downloading ios player API JSON\n",
      "[youtube] owXsDIKq4lk: Downloading android player API JSON\n",
      "[youtube] owXsDIKq4lk: Downloading m3u8 information\n",
      "[info] owXsDIKq4lk: Downloading 1 format(s): 22\n",
      "[download] Destination: temp_folder/again_34.mp4\n",
      "[download] 100% of   15.90MiB in 00:00:01 at 12.05MiB/s    \n"
     ]
    },
    {
     "name": "stderr",
     "output_type": "stream",
     "text": [
      "Processing videos:  87%|███████████████████████████████████████████████████████████████████████████████████████████████████████████████████████████████▎                   | 259/299 [55:21<10:06, 15.16s/it]"
     ]
    },
    {
     "name": "stdout",
     "output_type": "stream",
     "text": [
      "[youtube] Extracting URL: https://www.youtube.com/watch?v=WxY7E9P46DM\n",
      "[youtube] WxY7E9P46DM: Downloading webpage\n",
      "[youtube] WxY7E9P46DM: Downloading ios player API JSON\n",
      "[youtube] WxY7E9P46DM: Downloading android player API JSON\n",
      "[youtube] WxY7E9P46DM: Downloading m3u8 information\n",
      "[info] WxY7E9P46DM: Downloading 1 format(s): 22\n",
      "[download] Destination: temp_folder/again_35.mp4\n",
      "[download] 100% of   51.57MiB in 00:00:03 at 12.93MiB/s    \n"
     ]
    },
    {
     "name": "stderr",
     "output_type": "stream",
     "text": [
      "Processing videos:  87%|███████████████████████████████████████████████████████████████████████████████████████████████████████████████████████████████▊                   | 260/299 [55:42<11:06, 17.08s/it]"
     ]
    },
    {
     "name": "stdout",
     "output_type": "stream",
     "text": [
      "[youtube] Extracting URL: https://www.youtube.com/watch?v=Eq6SnaimpzQ\n",
      "[youtube] Eq6SnaimpzQ: Downloading webpage\n",
      "[youtube] Eq6SnaimpzQ: Downloading ios player API JSON\n",
      "[youtube] Eq6SnaimpzQ: Downloading android player API JSON\n",
      "[youtube] Eq6SnaimpzQ: Downloading m3u8 information\n",
      "[info] Eq6SnaimpzQ: Downloading 1 format(s): 22\n",
      "[download] Destination: temp_folder/again_36.mp4\n",
      "[download] 100% of   54.64MiB in 00:00:02 at 19.03MiB/s    \n"
     ]
    },
    {
     "name": "stderr",
     "output_type": "stream",
     "text": [
      "Processing videos:  87%|████████████████████████████████████████████████████████████████████████████████████████████████████████████████████████████████▎                  | 261/299 [56:02<11:22, 17.95s/it]"
     ]
    },
    {
     "name": "stdout",
     "output_type": "stream",
     "text": [
      "[youtube] Extracting URL: https://www.youtube.com/watch?v=yG09SQB0Hds\n",
      "[youtube] yG09SQB0Hds: Downloading webpage\n",
      "[youtube] yG09SQB0Hds: Downloading ios player API JSON\n",
      "[youtube] yG09SQB0Hds: Downloading android player API JSON\n",
      "[youtube] yG09SQB0Hds: Downloading m3u8 information\n",
      "[youtube] yG09SQB0Hds: Downloading MPD manifest\n",
      "[info] yG09SQB0Hds: Downloading 1 format(s): 22\n",
      "[download] Destination: temp_folder/again_37.mp4\n",
      "[download] 100% of   19.33MiB in 00:00:01 at 11.21MiB/s  \n"
     ]
    },
    {
     "name": "stderr",
     "output_type": "stream",
     "text": [
      "Processing videos:  88%|████████████████████████████████████████████████████████████████████████████████████████████████████████████████████████████████▊                  | 262/299 [56:12<09:30, 15.43s/it]"
     ]
    },
    {
     "name": "stdout",
     "output_type": "stream",
     "text": [
      "[youtube] Extracting URL: https://www.youtube.com/watch?v=R_ES8RZua1g\n",
      "[youtube] R_ES8RZua1g: Downloading webpage\n",
      "[youtube] R_ES8RZua1g: Downloading ios player API JSON\n",
      "[youtube] R_ES8RZua1g: Downloading android player API JSON\n",
      "[youtube] R_ES8RZua1g: Downloading m3u8 information\n",
      "[info] R_ES8RZua1g: Downloading 1 format(s): 18\n",
      "[download] Destination: temp_folder/again_38.mp4\n",
      "[download] 100% of   22.84MiB in 00:00:01 at 13.57MiB/s  \n"
     ]
    },
    {
     "name": "stderr",
     "output_type": "stream",
     "text": [
      "Processing videos:  88%|█████████████████████████████████████████████████████████████████████████████████████████████████████████████████████████████████▎                 | 263/299 [56:31<09:51, 16.43s/it]"
     ]
    },
    {
     "name": "stdout",
     "output_type": "stream",
     "text": [
      "[youtube] Extracting URL: https://www.youtube.com/watch?v=TDoqoJDX280\n",
      "[youtube] TDoqoJDX280: Downloading webpage\n",
      "[youtube] TDoqoJDX280: Downloading ios player API JSON\n",
      "[youtube] TDoqoJDX280: Downloading android player API JSON\n",
      "[youtube] TDoqoJDX280: Downloading m3u8 information\n",
      "[info] TDoqoJDX280: Downloading 1 format(s): 22\n",
      "[download] Destination: temp_folder/again_39.mp4\n",
      "[download] 100% of   11.47MiB in 00:00:01 at 9.10MiB/s     \n"
     ]
    },
    {
     "name": "stderr",
     "output_type": "stream",
     "text": [
      "Processing videos:  88%|█████████████████████████████████████████████████████████████████████████████████████████████████████████████████████████████████▊                 | 264/299 [56:41<08:33, 14.66s/it]"
     ]
    },
    {
     "name": "stdout",
     "output_type": "stream",
     "text": [
      "[youtube] Extracting URL: https://www.youtube.com/watch?v=3RB642y8sgo\n",
      "[youtube] 3RB642y8sgo: Downloading webpage\n",
      "[youtube] 3RB642y8sgo: Downloading ios player API JSON\n",
      "[youtube] 3RB642y8sgo: Downloading android player API JSON\n",
      "[youtube] 3RB642y8sgo: Downloading m3u8 information\n",
      "[info] 3RB642y8sgo: Downloading 1 format(s): 18\n",
      "[download] Destination: temp_folder/again_40.mp4\n",
      "[download] 100% of   24.80MiB in 00:00:04 at 6.08MiB/s   \n"
     ]
    },
    {
     "name": "stderr",
     "output_type": "stream",
     "text": [
      "Processing videos:  89%|██████████████████████████████████████████████████████████████████████████████████████████████████████████████████████████████████▎                | 265/299 [57:07<10:10, 17.96s/it]"
     ]
    },
    {
     "name": "stdout",
     "output_type": "stream",
     "text": [
      "[youtube] Extracting URL: https://www.youtube.com/watch?v=UoITyyziLOw\n",
      "[youtube] UoITyyziLOw: Downloading webpage\n",
      "[youtube] UoITyyziLOw: Downloading ios player API JSON\n",
      "[youtube] UoITyyziLOw: Downloading android player API JSON\n",
      "[youtube] UoITyyziLOw: Downloading m3u8 information\n",
      "[info] UoITyyziLOw: Downloading 1 format(s): 18\n",
      "[download] Destination: temp_folder/again_41.mp4\n",
      "[download] 100% of    9.85MiB in 00:00:00 at 11.13MiB/s    \n"
     ]
    }
   ],
   "source": [
    "%%time\n",
    "filename_counter = {}\n",
    "for video in tqdm(collected_words[201:500], desc=\"Processing videos\"):\n",
    "    try:\n",
    "        word = video['word']\n",
    "        url = video['url']\n",
    "        start_frame = video['start']\n",
    "        end_frame = video['end']\n",
    "        if word in filename_counter:\n",
    "            filename_counter[word]+=1\n",
    "            filename = f\"{word}_{filename_counter[word]}\"\n",
    "        else:\n",
    "            filename_counter[word] = 1\n",
    "            filename = f\"{word}\"\n",
    "        #print(filename, url)\n",
    "        downloaded_filename = filename+\".mp4\"\n",
    "        download_vid(url, downloaded_filename)\n",
    "        video_array = load_video(downloaded_filename)\n",
    "        save_frame_file(video_array, filename, start_frame, end_frame, word)\n",
    "        local_filename = \"temp_folder/\"+downloaded_filename\n",
    "        os.remove(local_filename)\n",
    "    except Exception as e:\n",
    "        # print(f\"Error with video download. Skipping it\")\n",
    "        print(e)"
   ]
  },
  {
   "cell_type": "code",
   "execution_count": null,
   "id": "d32cb232-7de4-4eae-a20c-22a55b23cb78",
   "metadata": {},
   "outputs": [],
   "source": [
    "def get_instance_id():\n",
    "    \"\"\"Get current instance ID from metadata\"\"\"\n",
    "    url = \"http://169.254.169.254/latest/meta-data/instance-id\"\n",
    "    response = requests.get(url)\n",
    "    return response.text"
   ]
  },
  {
   "cell_type": "code",
   "execution_count": null,
   "id": "b0ad4f6d-2267-4648-bdae-d10b273b7a83",
   "metadata": {},
   "outputs": [],
   "source": [
    "def stop_instance(instance_id, region_name='us-west-2'):\n",
    "    \"\"\"Stop the EC2 instance\"\"\"\n",
    "    ec2 = boto3.client('ec2', aws_access_key_id = aws_access_key_id, aws_secret_access_key = aws_secret_access_key, region_name=region_name)\n",
    "    ec2.stop_instances(InstanceIds=[instance_id])"
   ]
  },
  {
   "cell_type": "code",
   "execution_count": null,
   "id": "779dfa1d-7ede-4720-b005-30866c6611d0",
   "metadata": {},
   "outputs": [],
   "source": [
    "# Get the current instance ID\n",
    "instance_id = get_instance_id()\n",
    "print(instance_id)\n",
    "# Stop the instance\n",
    "stop_instance(instance_id)"
   ]
  },
  {
   "cell_type": "code",
   "execution_count": null,
   "id": "7e58beb8-6414-47a2-8657-b2e6deb0a096",
   "metadata": {},
   "outputs": [],
   "source": []
  }
 ],
 "metadata": {
  "kernelspec": {
   "display_name": "Python 3 (ipykernel)",
   "language": "python",
   "name": "python3"
  },
  "language_info": {
   "codemirror_mode": {
    "name": "ipython",
    "version": 3
   },
   "file_extension": ".py",
   "mimetype": "text/x-python",
   "name": "python",
   "nbconvert_exporter": "python",
   "pygments_lexer": "ipython3",
   "version": "3.10.12"
  }
 },
 "nbformat": 4,
 "nbformat_minor": 5
}
