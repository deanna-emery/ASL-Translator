{
 "cells": [
  {
   "cell_type": "markdown",
   "id": "f3302ca6-cb54-4991-8bd0-9e86071d0f00",
   "metadata": {},
   "source": [
    "### Purpose of this notebook\n",
    "The purpose of this notebook is to convert 10 videos and its parquet into video frames to determine time taken for loading"
   ]
  },
  {
   "cell_type": "code",
   "execution_count": 1,
   "id": "74ea70dc-4528-4568-870d-07de046eff1a",
   "metadata": {},
   "outputs": [],
   "source": [
    "#Install missing packages\n",
    "#!pip install boto3\n",
    "#!pip install pyarrow\n",
    "#!pip install fastparquet\n",
    "#!pip install s3fs\n",
    "#!pip install mediapipe"
   ]
  },
  {
   "cell_type": "code",
   "execution_count": 2,
   "id": "8ae7a476-c650-46fa-b556-87fa80bf2a1a",
   "metadata": {},
   "outputs": [],
   "source": [
    "# Import required libraries\n",
    "import boto3 #Video files get read through this\n",
    "import cv2\n",
    "import os\n",
    "import pandas as pd\n",
    "import math\n",
    "import numpy as np\n",
    "import random\n",
    "import io\n",
    "import s3fs # Parquet files get read through this\n",
    "import zlib # For compression\n",
    "import time # To calculate download time\n",
    "import configparser\n",
    "import requests\n",
    "import psutil # Checks memory usage\n",
    "import tempfile\n",
    "#import mediapipe as mp\n"
   ]
  },
  {
   "cell_type": "code",
   "execution_count": 3,
   "id": "acebc799-53d0-4abc-8877-27ce920c34d1",
   "metadata": {},
   "outputs": [
    {
     "data": {
      "text/plain": [
       "['credentials']"
      ]
     },
     "execution_count": 3,
     "metadata": {},
     "output_type": "execute_result"
    }
   ],
   "source": [
    "# Let's read in the credentials file\n",
    "config = configparser.ConfigParser()\n",
    "config.read('credentials')"
   ]
  },
  {
   "cell_type": "code",
   "execution_count": 4,
   "id": "e1bc54a8-c2b2-4b31-934b-d0a97eaa68d8",
   "metadata": {},
   "outputs": [],
   "source": [
    "aws_access_key_id = config[\"default\"]['aws_access_key_id']\n",
    "aws_secret_access_key = config[\"default\"]['aws_secret_access_key']\n",
    "bucket_name = 'asl-capstone'\n",
    "prefix = 'youtube-asl/test_sample/'\n",
    "save_path = '/content/temp_folder'\n",
    "s3_URI = 's3://asl-capstone/'"
   ]
  },
  {
   "cell_type": "code",
   "execution_count": 5,
   "id": "e41445ca-7160-4280-83cc-ce7c0560e5ed",
   "metadata": {},
   "outputs": [],
   "source": [
    "# Create an s3 object\n",
    "s3 = boto3.client('s3',aws_access_key_id = aws_access_key_id, aws_secret_access_key = aws_secret_access_key,\n",
    "                  region_name = 'us-west-2')"
   ]
  },
  {
   "cell_type": "code",
   "execution_count": 6,
   "id": "44b8b6b3-ffc1-44a8-b028-743e098e06f1",
   "metadata": {},
   "outputs": [],
   "source": [
    "# List files in the S3 bucket\n",
    "response = s3.list_objects_v2(Bucket=bucket_name, Prefix=prefix)\n",
    "video_files = []\n",
    "for content in response.get('Contents', []):\n",
    "    if content['Key'].endswith(('.mkv','.webm','.mp4')):\n",
    "        video_files.append(content['Key'])"
   ]
  },
  {
   "cell_type": "code",
   "execution_count": 7,
   "id": "66697bad-187f-41b0-84d1-82d79381f972",
   "metadata": {},
   "outputs": [
    {
     "name": "stdout",
     "output_type": "stream",
     "text": [
      "['youtube-asl/test_sample/06kKvQp4SfM.webm', 'youtube-asl/test_sample/0XGfpv6PUq4.mkv', 'youtube-asl/test_sample/5J8a2CaXWvk.webm', 'youtube-asl/test_sample/8VTAvocbMpI.mkv', 'youtube-asl/test_sample/Dmvi3_q3gMc.mkv', 'youtube-asl/test_sample/UEryLHbfb0M.webm', 'youtube-asl/test_sample/aoLQ0VchSec.mkv', 'youtube-asl/test_sample/dzWgVm2oY44.webm', 'youtube-asl/test_sample/esx9dGfUuto.webm', 'youtube-asl/test_sample/oOkSSJbNv68.webm']\n"
     ]
    }
   ],
   "source": [
    "print(video_files)"
   ]
  },
  {
   "cell_type": "code",
   "execution_count": 8,
   "id": "176ccf40-5350-42a6-b387-9582ce46a81f",
   "metadata": {},
   "outputs": [],
   "source": [
    "# Let's capture the parquet files into a list\n",
    "caption_files = []\n",
    "for content in response.get('Contents',[]):\n",
    "    if content['Key'].endswith(('.parquet')):\n",
    "        caption_files.append(content['Key'])"
   ]
  },
  {
   "cell_type": "code",
   "execution_count": 9,
   "id": "f2dbedab-99a0-4f32-b420-cb49aa29c25a",
   "metadata": {},
   "outputs": [
    {
     "name": "stdout",
     "output_type": "stream",
     "text": [
      "['youtube-asl/test_sample/06kKvQp4SfM.en-0hllRZe4s5s.parquet', 'youtube-asl/test_sample/0XGfpv6PUq4.en.parquet', 'youtube-asl/test_sample/5J8a2CaXWvk.en.parquet', 'youtube-asl/test_sample/8VTAvocbMpI.en.parquet', 'youtube-asl/test_sample/Dmvi3_q3gMc.en-CA.parquet', 'youtube-asl/test_sample/UEryLHbfb0M.en-eEY6OEpapPo.parquet', 'youtube-asl/test_sample/aoLQ0VchSec.en.parquet', 'youtube-asl/test_sample/dzWgVm2oY44.en.parquet', 'youtube-asl/test_sample/esx9dGfUuto.en-xDMNrYfabLQ.parquet', 'youtube-asl/test_sample/oOkSSJbNv68.en.parquet']\n"
     ]
    }
   ],
   "source": [
    "print(caption_files)"
   ]
  },
  {
   "cell_type": "code",
   "execution_count": 10,
   "id": "59e66413-9235-44fd-9b46-b2659516a9ed",
   "metadata": {},
   "outputs": [
    {
     "data": {
      "text/html": [
       "<div>\n",
       "<style scoped>\n",
       "    .dataframe tbody tr th:only-of-type {\n",
       "        vertical-align: middle;\n",
       "    }\n",
       "\n",
       "    .dataframe tbody tr th {\n",
       "        vertical-align: top;\n",
       "    }\n",
       "\n",
       "    .dataframe thead th {\n",
       "        text-align: right;\n",
       "    }\n",
       "</style>\n",
       "<table border=\"1\" class=\"dataframe\">\n",
       "  <thead>\n",
       "    <tr style=\"text-align: right;\">\n",
       "      <th></th>\n",
       "      <th>File Name</th>\n",
       "      <th>Start Timestamp</th>\n",
       "      <th>End Timestamp</th>\n",
       "      <th>Caption</th>\n",
       "      <th>frame_rate</th>\n",
       "      <th>start_time_seconds</th>\n",
       "      <th>end_time_seconds</th>\n",
       "      <th>start_frame</th>\n",
       "      <th>end_frame</th>\n",
       "      <th>start_frame_float</th>\n",
       "      <th>end_frame_float</th>\n",
       "    </tr>\n",
       "  </thead>\n",
       "  <tbody>\n",
       "    <tr>\n",
       "      <th>0</th>\n",
       "      <td>06kKvQp4SfM.en-0hllRZe4s5s.vtt</td>\n",
       "      <td>00:00:00.000</td>\n",
       "      <td>00:00:02.236</td>\n",
       "      <td>Welcome to the third round</td>\n",
       "      <td>30.0</td>\n",
       "      <td>0.000</td>\n",
       "      <td>2.236</td>\n",
       "      <td>0.0</td>\n",
       "      <td>67.0</td>\n",
       "      <td>0.00</td>\n",
       "      <td>67.08</td>\n",
       "    </tr>\n",
       "    <tr>\n",
       "      <th>1</th>\n",
       "      <td>06kKvQp4SfM.en-0hllRZe4s5s.vtt</td>\n",
       "      <td>00:00:02.236</td>\n",
       "      <td>00:00:04.304</td>\n",
       "      <td>of the Pearls announcement.</td>\n",
       "      <td>30.0</td>\n",
       "      <td>2.236</td>\n",
       "      <td>4.304</td>\n",
       "      <td>67.0</td>\n",
       "      <td>129.0</td>\n",
       "      <td>67.08</td>\n",
       "      <td>129.12</td>\n",
       "    </tr>\n",
       "    <tr>\n",
       "      <th>2</th>\n",
       "      <td>06kKvQp4SfM.en-0hllRZe4s5s.vtt</td>\n",
       "      <td>00:00:04.304</td>\n",
       "      <td>00:00:07.207</td>\n",
       "      <td>Today's category is called the</td>\n",
       "      <td>30.0</td>\n",
       "      <td>4.304</td>\n",
       "      <td>7.207</td>\n",
       "      <td>129.0</td>\n",
       "      <td>216.0</td>\n",
       "      <td>129.12</td>\n",
       "      <td>216.21</td>\n",
       "    </tr>\n",
       "    <tr>\n",
       "      <th>3</th>\n",
       "      <td>06kKvQp4SfM.en-0hllRZe4s5s.vtt</td>\n",
       "      <td>00:00:07.207</td>\n",
       "      <td>00:00:09.610</td>\n",
       "      <td>Hidden Pearls. What is it?</td>\n",
       "      <td>30.0</td>\n",
       "      <td>7.207</td>\n",
       "      <td>9.610</td>\n",
       "      <td>216.0</td>\n",
       "      <td>288.0</td>\n",
       "      <td>216.21</td>\n",
       "      <td>288.30</td>\n",
       "    </tr>\n",
       "    <tr>\n",
       "      <th>4</th>\n",
       "      <td>06kKvQp4SfM.en-0hllRZe4s5s.vtt</td>\n",
       "      <td>00:00:09.610</td>\n",
       "      <td>00:00:12.379</td>\n",
       "      <td>Hidden Pearls...in other words,</td>\n",
       "      <td>30.0</td>\n",
       "      <td>9.610</td>\n",
       "      <td>12.379</td>\n",
       "      <td>288.0</td>\n",
       "      <td>371.0</td>\n",
       "      <td>288.30</td>\n",
       "      <td>371.37</td>\n",
       "    </tr>\n",
       "  </tbody>\n",
       "</table>\n",
       "</div>"
      ],
      "text/plain": [
       "                        File Name Start Timestamp End Timestamp  \\\n",
       "0  06kKvQp4SfM.en-0hllRZe4s5s.vtt    00:00:00.000  00:00:02.236   \n",
       "1  06kKvQp4SfM.en-0hllRZe4s5s.vtt    00:00:02.236  00:00:04.304   \n",
       "2  06kKvQp4SfM.en-0hllRZe4s5s.vtt    00:00:04.304  00:00:07.207   \n",
       "3  06kKvQp4SfM.en-0hllRZe4s5s.vtt    00:00:07.207  00:00:09.610   \n",
       "4  06kKvQp4SfM.en-0hllRZe4s5s.vtt    00:00:09.610  00:00:12.379   \n",
       "\n",
       "                           Caption  frame_rate  start_time_seconds  \\\n",
       "0       Welcome to the third round        30.0               0.000   \n",
       "1      of the Pearls announcement.        30.0               2.236   \n",
       "2   Today's category is called the        30.0               4.304   \n",
       "3       Hidden Pearls. What is it?        30.0               7.207   \n",
       "4  Hidden Pearls...in other words,        30.0               9.610   \n",
       "\n",
       "   end_time_seconds  start_frame  end_frame  start_frame_float  \\\n",
       "0             2.236          0.0       67.0               0.00   \n",
       "1             4.304         67.0      129.0              67.08   \n",
       "2             7.207        129.0      216.0             129.12   \n",
       "3             9.610        216.0      288.0             216.21   \n",
       "4            12.379        288.0      371.0             288.30   \n",
       "\n",
       "   end_frame_float  \n",
       "0            67.08  \n",
       "1           129.12  \n",
       "2           216.21  \n",
       "3           288.30  \n",
       "4           371.37  "
      ]
     },
     "execution_count": 10,
     "metadata": {},
     "output_type": "execute_result"
    }
   ],
   "source": [
    "# Let's read in one parquet file using S3FS\n",
    "fs = s3fs.S3FileSystem(key=aws_access_key_id, secret=aws_secret_access_key)\n",
    "with fs.open(f\"{bucket_name}/{caption_files[0]}\", 'rb') as f:\n",
    "    df = pd.read_parquet(f)\n",
    "df.head()"
   ]
  },
  {
   "cell_type": "code",
   "execution_count": 11,
   "id": "9523fd79-58ac-45f1-b1bc-3cf27288a428",
   "metadata": {},
   "outputs": [],
   "source": [
    "def crop_center_square(frame):\n",
    "    y, x = frame.shape[0:2]\n",
    "    if x > y:\n",
    "        start_x = (x-y)/2\n",
    "        end_x = start_x + y\n",
    "        start_x = int(start_x)\n",
    "        end_x = int(end_x)\n",
    "        return frame[:, int(start_x):int(end_x)]\n",
    "    else:\n",
    "        return frame"
   ]
  },
  {
   "cell_type": "code",
   "execution_count": 12,
   "id": "050f35dc-fd1c-4ca7-bf08-4e73a0c6f7fc",
   "metadata": {},
   "outputs": [],
   "source": [
    "def load_video(path, max_frames=0, resize=(256,256)):\n",
    "    local_video_path = \"temp_folder/\"+os.path.basename(path)\n",
    "    s3.download_file(bucket_name,path,local_video_path)\n",
    "    #print(local_video_path)\n",
    "    video_capture = cv2.VideoCapture(local_video_path)\n",
    "    frames = []\n",
    "    try:\n",
    "      while video_capture.isOpened():\n",
    "        ret, frame = video_capture.read()\n",
    "        if not ret:\n",
    "          #print(\"Did not read the video\")\n",
    "          break\n",
    "        frame = crop_center_square(frame)\n",
    "        frame = cv2.resize(frame, resize)\n",
    "        frame = frame[:, :, [2, 1, 0]]\n",
    "        frames.append(frame)\n",
    "\n",
    "        if len(frames) == max_frames:\n",
    "          break\n",
    "    finally:\n",
    "      video_capture.release()\n",
    "      os.remove(local_video_path)\n",
    "      #temp_file.close()\n",
    "    return np.array(frames) / 255.0"
   ]
  },
  {
   "cell_type": "code",
   "execution_count": 13,
   "id": "a47db211-db2b-49e2-88c5-4f657b9004ac",
   "metadata": {},
   "outputs": [],
   "source": [
    "def read_caption(caption_file):\n",
    "    with fs.open(f\"{bucket_name}/{caption_file}\", 'rb') as f:\n",
    "        df = pd.read_parquet(f)\n",
    "    return df"
   ]
  },
  {
   "cell_type": "code",
   "execution_count": 14,
   "id": "1b993361-14f1-44ab-879b-d5db56933f77",
   "metadata": {},
   "outputs": [],
   "source": [
    "def extract_number(text):\n",
    "    parts = text.split('_cap_')\n",
    "    if len(parts) > 1:\n",
    "        return parts[1].split('.')[0]\n",
    "    else:\n",
    "        return None"
   ]
  },
  {
   "cell_type": "code",
   "execution_count": 15,
   "id": "2dd31598-73a3-450d-8ba5-ef9351e26ca7",
   "metadata": {},
   "outputs": [],
   "source": [
    "def extract_video_number(text):\n",
    "    parts = text.split('_')\n",
    "   # print(parts)\n",
    "    if len(parts)>1:\n",
    "        return parts[1].split('.')[0]\n",
    "    else:\n",
    "        return None"
   ]
  },
  {
   "cell_type": "code",
   "execution_count": 16,
   "id": "76a919c8-ea38-4e30-9b84-4d02ab4f84b8",
   "metadata": {},
   "outputs": [],
   "source": [
    "def file_name_generator(filename):\n",
    "    filename = os.path.basename(filename).rsplit('.',1)[0]\n",
    "    # Let's get a list of all the Numpy Caption Files\n",
    "    paginator = s3.get_paginator('list_objects_v2')\n",
    "    caption_files = []\n",
    "    for page in paginator.paginate(Bucket = bucket_name, Prefix = 'youtube-asl/test_sample/numpy_files/RGB/'):\n",
    "        caption_files.extend(content['Key'] for content in page.get('Contents',[]) if '_cap' in content['Key'])\n",
    "    file_of_interest = [x for x in caption_files if filename in x]\n",
    "    #print(len(file_of_interest))\n",
    "    #print(file_of_interest)\n",
    "    if len(file_of_interest) == 1 and \"_cap.npy\" in file_of_interest[0]:\n",
    "        return (filename+\"_cap_1.npy\")\n",
    "    else:\n",
    "        file_of_interest = [os.path.basename(x) for x in file_of_interest]\n",
    "        file_of_interest = [x.replace('.npy','') for x in file_of_interest]\n",
    "        file_of_interest = [extract_number(x) for x in file_of_interest]\n",
    "        file_of_interest = [int(x) for x in file_of_interest if x !=None]\n",
    "        file_of_interest.sort(reverse=True)\n",
    "        #print(file_of_interest)\n",
    "        if len(file_of_interest) == 0:\n",
    "            return (filename+\"_cap.npy\")\n",
    "        else:\n",
    "            suffix_val = int(file_of_interest[0])+1\n",
    "            return (filename+\"_cap_\"+str(suffix_val)+\".npy\")\n",
    "            "
   ]
  },
  {
   "cell_type": "code",
   "execution_count": 17,
   "id": "ee237984-2d78-4e7f-8f09-ef298996d47f",
   "metadata": {},
   "outputs": [],
   "source": [
    "def video_name_generator(filename):\n",
    "    filename = os.path.basename(filename).rsplit('.',1)[0]\n",
    "    # Let's get a list of all the Numpy Caption Files\n",
    "    paginator = s3.get_paginator('list_objects_v2')\n",
    "    caption_files = []\n",
    "    for page in paginator.paginate(Bucket = bucket_name, Prefix = 'youtube-asl/test_sample/numpy_files/RGB/'):\n",
    "        caption_files.extend(content['Key'] for content in page.get('Contents',[]) if '_cap' not in content['Key'])\n",
    "    file_of_interest = [x for x in caption_files if filename in x]\n",
    "    #print((file_of_interest))\n",
    "    if len(file_of_interest) == 1:\n",
    "        return (filename+\"_1.npy\")\n",
    "    else:\n",
    "        file_of_interest = [os.path.basename(x) for x in file_of_interest]\n",
    "        file_of_interest = [x.replace('.npy','') for x in file_of_interest]\n",
    "        file_of_interest = [extract_video_number(x) for x in file_of_interest]\n",
    "        file_of_interest = [int(x) for x in file_of_interest if x !=None]\n",
    "        file_of_interest.sort(reverse=True)\n",
    "        if len(file_of_interest) == 0:\n",
    "            return (filename+\".npy\")\n",
    "        else:\n",
    "            suffix_val = int(file_of_interest[0])+1\n",
    "            return (filename+\"_\"+str(suffix_val)+\".npy\")\n",
    "            "
   ]
  },
  {
   "cell_type": "code",
   "execution_count": 18,
   "id": "8c87fdc6-2eaf-4ac0-b491-c6bdcc9923c1",
   "metadata": {},
   "outputs": [],
   "source": [
    "file_name = [\"06kKvQp4SfM_1\",\"06kKvQp4SfM\", \"06kKvQp4SfM\", \"06kKvQp4SfM\", \"06kKvQp4SfM\"]\n",
    "for file in file_name:\n",
    "    output = video_name_generator(file)\n",
    "    #print(output)"
   ]
  },
  {
   "cell_type": "code",
   "execution_count": 19,
   "id": "65177870-de59-4d8e-b2b8-99ece3378b3b",
   "metadata": {},
   "outputs": [],
   "source": [
    "def save_frame_file(video_array, filename, caption, start_frame, end_frame):\n",
    "    filename = filename.split('.')[0]\n",
    "    caption_array = np.array(caption, dtype = str)\n",
    "    s3_uri = \"s3://asl-capstone/youtube-asl/test_sample/numpy_files/RGB/\"\n",
    "    numpy_array = video_array[int(start_frame):int(end_frame)]\n",
    "    vid_filename = video_name_generator(filename)\n",
    "    print(vid_filename)\n",
    "    with fs.open(f\"{s3_uri+vid_filename}\",\"wb\") as f:\n",
    "        np.save(f,numpy_array)\n",
    "    new_filename = file_name_generator(filename)\n",
    "    print(new_filename)\n",
    "    with fs.open(f\"{s3_uri+new_filename}\",\"wb\") as f:\n",
    "        np.save(f,caption_array)"
   ]
  },
  {
   "cell_type": "code",
   "execution_count": null,
   "id": "9640f8e0-9efb-4333-88d8-9ad9030ee2ee",
   "metadata": {},
   "outputs": [
    {
     "name": "stdout",
     "output_type": "stream",
     "text": [
      "Reading 06kKvQp4SfM.webm\n",
      "06kKvQp4SfM.npy\n",
      "06kKvQp4SfM_cap.npy\n",
      "06kKvQp4SfM_1.npy\n",
      "06kKvQp4SfM_cap_1.npy\n",
      "06kKvQp4SfM_2.npy\n",
      "06kKvQp4SfM_cap_2.npy\n",
      "06kKvQp4SfM_3.npy\n",
      "06kKvQp4SfM_cap_3.npy\n",
      "06kKvQp4SfM_4.npy\n",
      "06kKvQp4SfM_cap_4.npy\n",
      "06kKvQp4SfM_5.npy\n",
      "06kKvQp4SfM_cap_5.npy\n",
      "06kKvQp4SfM_6.npy\n",
      "06kKvQp4SfM_cap_6.npy\n",
      "06kKvQp4SfM_7.npy\n",
      "06kKvQp4SfM_cap_7.npy\n",
      "06kKvQp4SfM_8.npy\n",
      "06kKvQp4SfM_cap_8.npy\n",
      "06kKvQp4SfM_9.npy\n",
      "06kKvQp4SfM_cap_9.npy\n",
      "06kKvQp4SfM_10.npy\n",
      "06kKvQp4SfM_cap_10.npy\n",
      "06kKvQp4SfM_11.npy\n",
      "06kKvQp4SfM_cap_11.npy\n",
      "06kKvQp4SfM_12.npy\n",
      "06kKvQp4SfM_cap_12.npy\n",
      "06kKvQp4SfM_13.npy\n"
     ]
    }
   ],
   "source": [
    "for video, caption in zip(video_files, caption_files):\n",
    "    filename = os.path.basename(video)\n",
    "    video_path = filename\n",
    "    video_array = load_video(video)\n",
    "    temp_df = read_caption(caption)\n",
    "    print(f\"Reading {filename}\")\n",
    "    for _, row in temp_df.iterrows():\n",
    "        save_frame_file(video_array, filename, row['Caption'],int(row['start_frame']), int(row['end_frame']))\n",
    "        "
   ]
  },
  {
   "cell_type": "code",
   "execution_count": null,
   "id": "d32cb232-7de4-4eae-a20c-22a55b23cb78",
   "metadata": {},
   "outputs": [],
   "source": []
  }
 ],
 "metadata": {
  "kernelspec": {
   "display_name": "Python 3 (ipykernel)",
   "language": "python",
   "name": "python3"
  },
  "language_info": {
   "codemirror_mode": {
    "name": "ipython",
    "version": 3
   },
   "file_extension": ".py",
   "mimetype": "text/x-python",
   "name": "python",
   "nbconvert_exporter": "python",
   "pygments_lexer": "ipython3",
   "version": "3.10.12"
  }
 },
 "nbformat": 4,
 "nbformat_minor": 5
}
