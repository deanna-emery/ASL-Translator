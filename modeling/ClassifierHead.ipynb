{
 "cells": [
  {
   "cell_type": "markdown",
   "id": "8ac2c7e6-6d6f-4179-b664-013e47344024",
   "metadata": {},
   "source": [
    "### Purpose of notebook:\n",
    "Purpose of notebook is to check the output of the model's ClassifierHead layer"
   ]
  },
  {
   "cell_type": "code",
   "execution_count": 14,
   "id": "78f4120d-c1ce-4b99-9221-5d8e4ec9cce5",
   "metadata": {},
   "outputs": [],
   "source": [
    "# Import the model files\n",
    "from official.projects.movinet.modeling import movinet\n",
    "from official.projects.movinet.modeling import movinet_layers"
   ]
  },
  {
   "cell_type": "code",
   "execution_count": 15,
   "id": "3b8ed4ed-ee26-4620-ab89-d6f5987359ed",
   "metadata": {},
   "outputs": [],
   "source": [
    "# Import the ClassifierHead\n",
    "from official.projects.movinet.modeling.movinet_layers import ClassifierHead\n",
    "import tensorflow as tf, tf_keras"
   ]
  },
  {
   "cell_type": "code",
   "execution_count": 16,
   "id": "07d6b6ab-a962-4835-b503-e4002b243d29",
   "metadata": {},
   "outputs": [],
   "source": [
    "# Instantiate the ClassifierHead\n",
    "classifier_head = ClassifierHead(head_filters = 2048, num_classes = 1161)"
   ]
  },
  {
   "cell_type": "code",
   "execution_count": 17,
   "id": "f4ef123e-60ac-4849-9a9a-d10713b1485a",
   "metadata": {},
   "outputs": [],
   "source": [
    "# Generate a random tensor \n",
    "input_tensor = tf.random.normal([6, 120, 8, 8, 168])"
   ]
  },
  {
   "cell_type": "code",
   "execution_count": 18,
   "id": "400cc6a4-622a-48f4-bc84-28210f5d4979",
   "metadata": {},
   "outputs": [],
   "source": [
    "input_tensor = tf_keras.layers.Reshape((-1,8*8*168))(input_tensor)"
   ]
  },
  {
   "cell_type": "code",
   "execution_count": 19,
   "id": "2ac9581f-4580-4def-b5b4-9736d493420c",
   "metadata": {},
   "outputs": [
    {
     "name": "stdout",
     "output_type": "stream",
     "text": [
      "(6, 120, 10752)\n"
     ]
    }
   ],
   "source": [
    "print(input_tensor.shape)"
   ]
  },
  {
   "cell_type": "code",
   "execution_count": 20,
   "id": "6cee9961-f1c9-42ec-b670-e0a01a9ce800",
   "metadata": {},
   "outputs": [
    {
     "name": "stdout",
     "output_type": "stream",
     "text": [
      "(6, 120, 1024)\n"
     ]
    }
   ],
   "source": [
    "input_tensor = tf_keras.layers.Dense(1024, activation='relu', name='final_embedding')(input_tensor)\n",
    "print(input_tensor.shape)"
   ]
  },
  {
   "cell_type": "code",
   "execution_count": 21,
   "id": "1352b0e7-d468-4968-a162-6508a3e44d05",
   "metadata": {},
   "outputs": [
    {
     "name": "stdout",
     "output_type": "stream",
     "text": [
      "(6, 1024)\n"
     ]
    }
   ],
   "source": [
    "input_tensor = tf_keras.layers.GlobalAvgPool1D()(input_tensor)\n",
    "print(input_tensor.shape)"
   ]
  },
  {
   "cell_type": "code",
   "execution_count": 22,
   "id": "0cb756d8-6747-4615-982a-0cb7346cd1fa",
   "metadata": {},
   "outputs": [
    {
     "name": "stdout",
     "output_type": "stream",
     "text": [
      "(6, 1161)\n"
     ]
    }
   ],
   "source": [
    "input_tensor = tf_keras.layers.Dense(1161, activation='softmax')(input_tensor)\n",
    "print(input_tensor.shape)"
   ]
  },
  {
   "cell_type": "code",
   "execution_count": 23,
   "id": "c57013bc-6a30-4eff-9d8b-c24f6277fb1c",
   "metadata": {},
   "outputs": [],
   "source": [
    "input_tensor = tf_keras.layers.Activation('linear', dtype='float32')(input_tensor)"
   ]
  },
  {
   "cell_type": "code",
   "execution_count": 24,
   "id": "e132d837-9660-48f3-8b12-d58e98e2dcf6",
   "metadata": {},
   "outputs": [
    {
     "name": "stdout",
     "output_type": "stream",
     "text": [
      "(6, 1161)\n"
     ]
    }
   ],
   "source": [
    "print(input_tensor.shape)"
   ]
  },
  {
   "cell_type": "code",
   "execution_count": 10,
   "id": "efefea15-4724-4438-b11b-b7fdc9effa39",
   "metadata": {},
   "outputs": [],
   "source": [
    "class ClassifierHeadInspector(ClassifierHead):\n",
    "    def call(self, inputs: tf.Tensor):\n",
    "        # Collect and return all intermediate outputs\n",
    "        x = inputs\n",
    "\n",
    "        #x = self._head(x)\n",
    "        #head_output = x\n",
    "\n",
    "        x = tf_keras.layers.Reshape((-1, 8*8*168))(x)\n",
    "        x = tf_keras.layers.Dense(1024, activation='relu', name='final_embedding')(x)\n",
    "\n",
    "        if self._dropout_rate and self._dropout_rate > 0:\n",
    "            x = self._dropout(x)\n",
    "            dropout_output = x\n",
    "\n",
    "        x = tf_keras.layers.Dense(1161, activation='softmax')(x)\n",
    "        #classifier_output = x\n",
    "\n",
    "        #if self._max_pool_predictions:\n",
    "        #    x = self._max_pool(x)\n",
    "        #    max_pool_output = x\n",
    "\n",
    "        #x = self._squeeze(x)\n",
    "        #squeeze_output = x\n",
    "\n",
    "        #x = self._cast(x)\n",
    "        #cast_output = x\n",
    "\n",
    "        # Return all intermediate outputs\n",
    "        return classifier_output"
   ]
  },
  {
   "cell_type": "code",
   "execution_count": 11,
   "id": "a4c6ac9d-8b97-43f6-9bd5-5c9858451d76",
   "metadata": {},
   "outputs": [],
   "source": [
    "inspector = ClassifierHeadInspector(head_filters=2048,num_classes=1161)"
   ]
  },
  {
   "cell_type": "code",
   "execution_count": 12,
   "id": "755417bc-c6c3-469d-92b9-026ad2a37952",
   "metadata": {},
   "outputs": [],
   "source": [
    "#preprocessed_tensor = tf.reduce_mean(input_tensor, axis=[1, 2, 3], keepdims=True)"
   ]
  },
  {
   "cell_type": "code",
   "execution_count": 13,
   "id": "20097dec-f99b-492b-badf-7d868da87f62",
   "metadata": {},
   "outputs": [
    {
     "ename": "InvalidArgumentError",
     "evalue": "Exception encountered when calling layer 'reshape_1' (type Reshape).\n\n{{function_node __wrapped__Reshape_device_/job:localhost/replica:0/task:0/device:CPU:0}} Input to reshape is a tensor with 6966 values, but the requested shape requires a multiple of 64512 [Op:Reshape]\n\nCall arguments received by layer 'reshape_1' (type Reshape):\n  • inputs=tf.Tensor(shape=(6, 1161), dtype=float32)",
     "output_type": "error",
     "traceback": [
      "\u001b[0;31m---------------------------------------------------------------------------\u001b[0m",
      "\u001b[0;31mInvalidArgumentError\u001b[0m                      Traceback (most recent call last)",
      "Cell \u001b[0;32mIn[13], line 1\u001b[0m\n\u001b[0;32m----> 1\u001b[0m outputs \u001b[38;5;241m=\u001b[39m \u001b[43minspector\u001b[49m\u001b[43m(\u001b[49m\u001b[43minput_tensor\u001b[49m\u001b[43m)\u001b[49m\n",
      "File \u001b[0;32m/opt/tensorflow/lib/python3.10/site-packages/keras/src/utils/traceback_utils.py:70\u001b[0m, in \u001b[0;36mfilter_traceback.<locals>.error_handler\u001b[0;34m(*args, **kwargs)\u001b[0m\n\u001b[1;32m     67\u001b[0m     filtered_tb \u001b[38;5;241m=\u001b[39m _process_traceback_frames(e\u001b[38;5;241m.\u001b[39m__traceback__)\n\u001b[1;32m     68\u001b[0m     \u001b[38;5;66;03m# To get the full stack trace, call:\u001b[39;00m\n\u001b[1;32m     69\u001b[0m     \u001b[38;5;66;03m# `tf.debugging.disable_traceback_filtering()`\u001b[39;00m\n\u001b[0;32m---> 70\u001b[0m     \u001b[38;5;28;01mraise\u001b[39;00m e\u001b[38;5;241m.\u001b[39mwith_traceback(filtered_tb) \u001b[38;5;28;01mfrom\u001b[39;00m \u001b[38;5;28;01mNone\u001b[39;00m\n\u001b[1;32m     71\u001b[0m \u001b[38;5;28;01mfinally\u001b[39;00m:\n\u001b[1;32m     72\u001b[0m     \u001b[38;5;28;01mdel\u001b[39;00m filtered_tb\n",
      "Cell \u001b[0;32mIn[10], line 9\u001b[0m, in \u001b[0;36mClassifierHeadInspector.call\u001b[0;34m(self, inputs)\u001b[0m\n\u001b[1;32m      4\u001b[0m x \u001b[38;5;241m=\u001b[39m inputs\n\u001b[1;32m      6\u001b[0m \u001b[38;5;66;03m#x = self._head(x)\u001b[39;00m\n\u001b[1;32m      7\u001b[0m \u001b[38;5;66;03m#head_output = x\u001b[39;00m\n\u001b[0;32m----> 9\u001b[0m x \u001b[38;5;241m=\u001b[39m \u001b[43mtf_keras\u001b[49m\u001b[38;5;241;43m.\u001b[39;49m\u001b[43mlayers\u001b[49m\u001b[38;5;241;43m.\u001b[39;49m\u001b[43mReshape\u001b[49m\u001b[43m(\u001b[49m\u001b[43m(\u001b[49m\u001b[38;5;241;43m-\u001b[39;49m\u001b[38;5;241;43m1\u001b[39;49m\u001b[43m,\u001b[49m\u001b[43m \u001b[49m\u001b[38;5;241;43m8\u001b[39;49m\u001b[38;5;241;43m*\u001b[39;49m\u001b[38;5;241;43m8\u001b[39;49m\u001b[38;5;241;43m*\u001b[39;49m\u001b[38;5;241;43m168\u001b[39;49m\u001b[43m)\u001b[49m\u001b[43m)\u001b[49m\u001b[43m(\u001b[49m\u001b[43mx\u001b[49m\u001b[43m)\u001b[49m\n\u001b[1;32m     10\u001b[0m x \u001b[38;5;241m=\u001b[39m tf_keras\u001b[38;5;241m.\u001b[39mlayers\u001b[38;5;241m.\u001b[39mDense(\u001b[38;5;241m1024\u001b[39m, activation\u001b[38;5;241m=\u001b[39m\u001b[38;5;124m'\u001b[39m\u001b[38;5;124mrelu\u001b[39m\u001b[38;5;124m'\u001b[39m, name\u001b[38;5;241m=\u001b[39m\u001b[38;5;124m'\u001b[39m\u001b[38;5;124mfinal_embedding\u001b[39m\u001b[38;5;124m'\u001b[39m)(x)\n\u001b[1;32m     12\u001b[0m \u001b[38;5;28;01mif\u001b[39;00m \u001b[38;5;28mself\u001b[39m\u001b[38;5;241m.\u001b[39m_dropout_rate \u001b[38;5;129;01mand\u001b[39;00m \u001b[38;5;28mself\u001b[39m\u001b[38;5;241m.\u001b[39m_dropout_rate \u001b[38;5;241m>\u001b[39m \u001b[38;5;241m0\u001b[39m:\n",
      "File \u001b[0;32m/opt/tensorflow/lib/python3.10/site-packages/tf_keras/src/utils/traceback_utils.py:70\u001b[0m, in \u001b[0;36mfilter_traceback.<locals>.error_handler\u001b[0;34m(*args, **kwargs)\u001b[0m\n\u001b[1;32m     67\u001b[0m     filtered_tb \u001b[38;5;241m=\u001b[39m _process_traceback_frames(e\u001b[38;5;241m.\u001b[39m__traceback__)\n\u001b[1;32m     68\u001b[0m     \u001b[38;5;66;03m# To get the full stack trace, call:\u001b[39;00m\n\u001b[1;32m     69\u001b[0m     \u001b[38;5;66;03m# `tf.debugging.disable_traceback_filtering()`\u001b[39;00m\n\u001b[0;32m---> 70\u001b[0m     \u001b[38;5;28;01mraise\u001b[39;00m e\u001b[38;5;241m.\u001b[39mwith_traceback(filtered_tb) \u001b[38;5;28;01mfrom\u001b[39;00m \u001b[38;5;28;01mNone\u001b[39;00m\n\u001b[1;32m     71\u001b[0m \u001b[38;5;28;01mfinally\u001b[39;00m:\n\u001b[1;32m     72\u001b[0m     \u001b[38;5;28;01mdel\u001b[39;00m filtered_tb\n",
      "\u001b[0;31mInvalidArgumentError\u001b[0m: Exception encountered when calling layer 'reshape_1' (type Reshape).\n\n{{function_node __wrapped__Reshape_device_/job:localhost/replica:0/task:0/device:CPU:0}} Input to reshape is a tensor with 6966 values, but the requested shape requires a multiple of 64512 [Op:Reshape]\n\nCall arguments received by layer 'reshape_1' (type Reshape):\n  • inputs=tf.Tensor(shape=(6, 1161), dtype=float32)"
     ]
    }
   ],
   "source": [
    "outputs = inspector(input_tensor)"
   ]
  },
  {
   "cell_type": "code",
   "execution_count": null,
   "id": "c575f0ad-4808-4f91-9fd8-31c543e02cce",
   "metadata": {},
   "outputs": [],
   "source": [
    "for i, output in enumerate(outputs):\n",
    "    print(f\"Output of layer {i}: {output.shape}\")"
   ]
  },
  {
   "cell_type": "code",
   "execution_count": null,
   "id": "d9778ac9-9c43-4d0f-bf9c-98d0e58a00d7",
   "metadata": {},
   "outputs": [],
   "source": []
  }
 ],
 "metadata": {
  "kernelspec": {
   "display_name": "Python 3 (ipykernel)",
   "language": "python",
   "name": "python3"
  },
  "language_info": {
   "codemirror_mode": {
    "name": "ipython",
    "version": 3
   },
   "file_extension": ".py",
   "mimetype": "text/x-python",
   "name": "python",
   "nbconvert_exporter": "python",
   "pygments_lexer": "ipython3",
   "version": "3.10.12"
  }
 },
 "nbformat": 4,
 "nbformat_minor": 5
}
