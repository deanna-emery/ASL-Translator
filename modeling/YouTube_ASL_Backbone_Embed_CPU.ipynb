{
 "cells": [
  {
   "cell_type": "markdown",
   "id": "c27e1e23-dac5-4414-920b-27d9c1e75064",
   "metadata": {},
   "source": [
    "### Purpose of notebook\n",
    "The purpose of this notebook is to pass the YouTube ASL videos through the MoviNet backbone and then save its output back to S3"
   ]
  },
  {
   "cell_type": "code",
   "execution_count": 1,
   "id": "60d8871c-78e0-43ff-bd9f-2d3d950858a1",
   "metadata": {},
   "outputs": [],
   "source": [
    "# Let's not show unnecessary warnings etc\n",
    "import warnings\n",
    "warnings.filterwarnings('ignore')"
   ]
  },
  {
   "cell_type": "code",
   "execution_count": 2,
   "id": "552897ab-4f96-4ad9-8eed-8b78a10f35d8",
   "metadata": {},
   "outputs": [
    {
     "data": {
      "text/plain": [
       "['/home/ec2-user/.aws/credentials']"
      ]
     },
     "execution_count": 2,
     "metadata": {},
     "output_type": "execute_result"
    }
   ],
   "source": [
    "import configparser\n",
    "\n",
    "config = configparser.ConfigParser()\n",
    "config.read('/home/ec2-user/.aws/credentials')"
   ]
  },
  {
   "cell_type": "code",
   "execution_count": 3,
   "id": "c4c261c2-7c81-45ca-963b-ebf1a5112600",
   "metadata": {},
   "outputs": [],
   "source": [
    "# AWS credentials and S3 settings\n",
    "aws_access_key_id = config[\"default\"]['aws_access_key_id']\n",
    "aws_secret_access_key = config[\"default\"]['aws_secret_access_key']\n",
    "bucket_name = 'asl-capstone'\n",
    "s3_URI = 's3://asl-capstone/'"
   ]
  },
  {
   "cell_type": "code",
   "execution_count": 4,
   "id": "bccdf3cc-2111-4930-9e3f-53cbec6ccd99",
   "metadata": {},
   "outputs": [],
   "source": [
    "import s3fs\n",
    "fs = s3fs.S3FileSystem(key=aws_access_key_id, secret=aws_secret_access_key)\n",
    "\n",
    "import boto3\n",
    "s3 = boto3.client('s3',aws_access_key_id = aws_access_key_id, aws_secret_access_key = aws_secret_access_key,\n",
    "                  region_name = 'us-west-2')"
   ]
  },
  {
   "cell_type": "code",
   "execution_count": 5,
   "id": "b5e8f36b-657a-4a90-90d9-534df6f71616",
   "metadata": {},
   "outputs": [
    {
     "name": "stderr",
     "output_type": "stream",
     "text": [
      "2023-11-18 06:41:44.725835: I external/local_tsl/tsl/cuda/cudart_stub.cc:31] Could not find cuda drivers on your machine, GPU will not be used.\n",
      "2023-11-18 06:41:44.751042: E external/local_xla/xla/stream_executor/cuda/cuda_dnn.cc:9261] Unable to register cuDNN factory: Attempting to register factory for plugin cuDNN when one has already been registered\n",
      "2023-11-18 06:41:44.751063: E external/local_xla/xla/stream_executor/cuda/cuda_fft.cc:607] Unable to register cuFFT factory: Attempting to register factory for plugin cuFFT when one has already been registered\n",
      "2023-11-18 06:41:44.751750: E external/local_xla/xla/stream_executor/cuda/cuda_blas.cc:1515] Unable to register cuBLAS factory: Attempting to register factory for plugin cuBLAS when one has already been registered\n",
      "2023-11-18 06:41:44.755953: I external/local_tsl/tsl/cuda/cudart_stub.cc:31] Could not find cuda drivers on your machine, GPU will not be used.\n",
      "2023-11-18 06:41:44.756400: I tensorflow/core/platform/cpu_feature_guard.cc:182] This TensorFlow binary is optimized to use available CPU instructions in performance-critical operations.\n",
      "To enable the following instructions: AVX2 FMA, in other operations, rebuild TensorFlow with the appropriate compiler flags.\n",
      "2023-11-18 06:41:45.457795: W tensorflow/compiler/tf2tensorrt/utils/py_utils.cc:38] TF-TRT Warning: Could not find TensorRT\n"
     ]
    }
   ],
   "source": [
    "# Import all required libraries. Keep adding here as you code\n",
    "import tensorflow as tf\n",
    "import tensorflow_hub as hub\n",
    "import cv2\n",
    "import numpy as np\n",
    "import pandas as pd\n",
    "from tqdm import tqdm\n",
    "import os\n",
    "\n",
    "tf.keras.backend.clear_session()"
   ]
  },
  {
   "cell_type": "code",
   "execution_count": 6,
   "id": "841a3636-946a-4455-b2c9-5e41e80e388b",
   "metadata": {},
   "outputs": [
    {
     "name": "stdout",
     "output_type": "stream",
     "text": [
      "/home/ec2-user/models\n"
     ]
    }
   ],
   "source": [
    "# Set working directory\n",
    "%cd /home/ec2-user/models"
   ]
  },
  {
   "cell_type": "code",
   "execution_count": 7,
   "id": "43818e80-121e-484b-bcd6-e20506f03209",
   "metadata": {},
   "outputs": [],
   "source": [
    "# Define the model you are going to use\n",
    "model_version = 'a3'\n",
    "\n",
    "if model_version=='a3':\n",
    "  max_frames = 120\n",
    "  image_dims = (256,256)\n",
    "elif model_version=='a0':\n",
    "  max_frames = 50\n",
    "  image_dims = (172,172)\n",
    "elif model_version=='a5':\n",
    "  max_frames = 120\n",
    "  image_dims = (320,302)"
   ]
  },
  {
   "cell_type": "code",
   "execution_count": 8,
   "id": "b4a11dbc-2db0-4660-b5c5-384fb3383e15",
   "metadata": {},
   "outputs": [
    {
     "name": "stdout",
     "output_type": "stream",
     "text": [
      "Found 600 labels.\n"
     ]
    }
   ],
   "source": [
    "# Get the kinetics-600 action labels\n",
    "KINETICS_URL = \"official/projects/movinet/files/kinetics_600_labels.txt\"\n",
    "with open(KINETICS_URL) as obj:\n",
    "  labels_600 = [line for line in obj.readlines()]\n",
    "print(\"Found %d labels.\" % len(labels_600))"
   ]
  },
  {
   "cell_type": "code",
   "execution_count": 9,
   "id": "f8927f97-1ad6-45db-b622-0c53e7b05dad",
   "metadata": {},
   "outputs": [
    {
     "name": "stderr",
     "output_type": "stream",
     "text": [
      "2023-11-18 06:41:51.030589: E external/local_xla/xla/stream_executor/cuda/cuda_driver.cc:274] failed call to cuInit: CUDA_ERROR_NO_DEVICE: no CUDA-capable device is detected\n"
     ]
    }
   ],
   "source": [
    "# Create the backbone using the Movinet model\n",
    "from official.projects.movinet.modeling import movinet\n",
    "\n",
    "# Create backbone and model.\n",
    "backbone = movinet.Movinet(\n",
    "    model_id=model_version, #change to correspond to model\n",
    "    causal=False,\n",
    "    use_external_states=False,\n",
    ")"
   ]
  },
  {
   "cell_type": "code",
   "execution_count": 16,
   "id": "f6695dca-577c-4a5e-8bab-132a2bb65136",
   "metadata": {},
   "outputs": [
    {
     "name": "stdout",
     "output_type": "stream",
     "text": [
      "59042\n"
     ]
    }
   ],
   "source": [
    "# Get a list of all the numpy files from S3\n",
    "\n",
    "paginator = s3.get_paginator('list_objects_v2')\n",
    "video_files = []\n",
    "for page in paginator.paginate(Bucket = bucket_name, Prefix = 'youtube-asl/1000-samples/numpy_files/'):\n",
    "    video_files.extend(content['Key'] for content in page.get('Contents',[]) if content['Key'].endswith(('.npy')))\n",
    "print(len(video_files))"
   ]
  },
  {
   "cell_type": "code",
   "execution_count": 17,
   "id": "c003ab1d-fe73-4cce-889b-77cf4e6d33fa",
   "metadata": {},
   "outputs": [
    {
     "name": "stdout",
     "output_type": "stream",
     "text": [
      "460\n"
     ]
    }
   ],
   "source": [
    "# Get a list of all the numpy files from S3\n",
    "\n",
    "paginator = s3.get_paginator('list_objects_v2')\n",
    "already_finished = []\n",
    "for page in paginator.paginate(Bucket = bucket_name, Prefix = 'youtube-asl/1000-samples/movinet/backbone/'):\n",
    "    already_finished.extend(content['Key'] for content in page.get('Contents',[]) if content['Key'].endswith(('.npy')))\n",
    "print(len(already_finished))"
   ]
  },
  {
   "cell_type": "code",
   "execution_count": 18,
   "id": "f7b28c59-5460-4da8-8e65-aea3786906ce",
   "metadata": {},
   "outputs": [],
   "source": [
    "# Add the S3 prefix\n",
    "video_files = ['s3://asl-capstone/'+x for x in video_files]\n",
    "already_finished = ['s3://asl-capstone/'+x for x in already_finished]"
   ]
  },
  {
   "cell_type": "code",
   "execution_count": 19,
   "id": "fc95fbd0-e61d-4365-9cb1-174a67d847fe",
   "metadata": {},
   "outputs": [],
   "source": [
    "# Let's break this into batches\n",
    "video_files = video_files[40000:]"
   ]
  },
  {
   "cell_type": "code",
   "execution_count": 20,
   "id": "62996823-b7e0-4daa-b433-e859f860f447",
   "metadata": {},
   "outputs": [],
   "source": [
    "# Iteration batch\n",
    "iteration_1 = video_files[:5000]\n",
    "iteration_2 = video_files[5001:10000]\n",
    "iteration_3 = video_files[10001:15000]\n",
    "iteration_4 = video_files[15000:]"
   ]
  },
  {
   "cell_type": "code",
   "execution_count": 21,
   "id": "2a4ef316-c0a7-498a-982b-98dea6649350",
   "metadata": {},
   "outputs": [
    {
     "data": {
      "text/plain": [
       "4890"
      ]
     },
     "execution_count": 21,
     "metadata": {},
     "output_type": "execute_result"
    }
   ],
   "source": [
    "iteration_2 = [file for file in iteration_2 if file.replace('/numpy_files/', '/movinet/backbone/') not in already_finished]\n",
    "len(iteration_2)"
   ]
  },
  {
   "cell_type": "code",
   "execution_count": 22,
   "id": "37bafece-1b91-44fe-8c40-dfe179a94368",
   "metadata": {},
   "outputs": [],
   "source": [
    "movinet_uri = 's3://asl-capstone/youtube-asl/1000-samples/movinet/backbone/'"
   ]
  },
  {
   "cell_type": "code",
   "execution_count": 23,
   "id": "19ffbf15-40df-41d9-8d29-7be41d72fc15",
   "metadata": {},
   "outputs": [
    {
     "name": "stdout",
     "output_type": "stream",
     "text": [
      "s3://asl-capstone/youtube-asl/1000-samples/numpy_files/eXWZAMUjsNs_9.npy\n"
     ]
    }
   ],
   "source": [
    "print(iteration_1[0])"
   ]
  },
  {
   "cell_type": "code",
   "execution_count": null,
   "id": "0735afd7-0a75-4f2f-acfd-f8c2c7c90082",
   "metadata": {
    "scrolled": true
   },
   "outputs": [
    {
     "name": "stderr",
     "output_type": "stream",
     "text": [
      "2023-11-18 06:44:36.214582: I external/local_xla/xla/service/service.cc:168] XLA service 0x7fdb10042850 initialized for platform Host (this does not guarantee that XLA will be used). Devices:\n",
      "2023-11-18 06:44:36.214616: I external/local_xla/xla/service/service.cc:176]   StreamExecutor device (0): Host, Default Version\n",
      "WARNING: All log messages before absl::InitializeLog() is called are written to STDERR\n",
      "I0000 00:00:1700289876.223073    2687 device_compiler.h:186] Compiled cluster using XLA!  This line is logged at most once for the lifetime of the process.\n",
      "2023-11-18 06:44:36.223299: E external/local_xla/xla/stream_executor/stream_executor_internal.h:177] SetPriority unimplemented for this stream.\n"
     ]
    },
    {
     "name": "stdout",
     "output_type": "stream",
     "text": [
      "WARNING:tensorflow:5 out of the last 5 calls to <bound method Conv.call of <official.vision.modeling.layers.nn_layers.Conv3D object at 0x7fdbc825b9d0>> triggered tf.function retracing. Tracing is expensive and the excessive number of tracings could be due to (1) creating @tf.function repeatedly in a loop, (2) passing tensors with different shapes, (3) passing Python objects instead of tensors. For (1), please define your @tf.function outside of the loop. For (2), @tf.function has reduce_retracing=True option that can avoid unnecessary retracing. For (3), please refer to https://www.tensorflow.org/guide/function#controlling_retracing and https://www.tensorflow.org/api_docs/python/tf/function for  more details.\n",
      "WARNING:tensorflow:6 out of the last 6 calls to <bound method Conv.call of <official.vision.modeling.layers.nn_layers.Conv3D object at 0x7fdbc825b130>> triggered tf.function retracing. Tracing is expensive and the excessive number of tracings could be due to (1) creating @tf.function repeatedly in a loop, (2) passing tensors with different shapes, (3) passing Python objects instead of tensors. For (1), please define your @tf.function outside of the loop. For (2), @tf.function has reduce_retracing=True option that can avoid unnecessary retracing. For (3), please refer to https://www.tensorflow.org/guide/function#controlling_retracing and https://www.tensorflow.org/api_docs/python/tf/function for  more details.\n"
     ]
    },
    {
     "name": "stderr",
     "output_type": "stream",
     "text": [
      "2023-11-18 06:44:40.212644: E external/local_xla/xla/stream_executor/stream_executor_internal.h:177] SetPriority unimplemented for this stream.\n",
      "2023-11-18 06:44:42.897400: E external/local_xla/xla/stream_executor/stream_executor_internal.h:177] SetPriority unimplemented for this stream.\n",
      "2023-11-18 06:44:45.045174: E external/local_xla/xla/stream_executor/stream_executor_internal.h:177] SetPriority unimplemented for this stream.\n",
      "2023-11-18 06:44:45.325199: E external/local_xla/xla/stream_executor/stream_executor_internal.h:177] SetPriority unimplemented for this stream.\n",
      "2023-11-18 06:44:47.799398: E external/local_xla/xla/stream_executor/stream_executor_internal.h:177] SetPriority unimplemented for this stream.\n",
      "2023-11-18 06:44:47.803216: E external/local_xla/xla/stream_executor/stream_executor_internal.h:177] SetPriority unimplemented for this stream.\n",
      "2023-11-18 06:44:51.464652: E external/local_xla/xla/stream_executor/stream_executor_internal.h:177] SetPriority unimplemented for this stream.\n",
      "2023-11-18 06:44:55.068125: E external/local_xla/xla/stream_executor/stream_executor_internal.h:177] SetPriority unimplemented for this stream.\n",
      "2023-11-18 06:44:58.238512: E external/local_xla/xla/stream_executor/stream_executor_internal.h:177] SetPriority unimplemented for this stream.\n",
      "2023-11-18 06:44:58.281730: E external/local_xla/xla/stream_executor/stream_executor_internal.h:177] SetPriority unimplemented for this stream.\n",
      "2023-11-18 06:45:02.099060: E external/local_xla/xla/stream_executor/stream_executor_internal.h:177] SetPriority unimplemented for this stream.\n",
      "2023-11-18 06:45:02.303743: E external/local_xla/xla/stream_executor/stream_executor_internal.h:177] SetPriority unimplemented for this stream.\n",
      "2023-11-18 06:45:06.720635: E external/local_xla/xla/stream_executor/stream_executor_internal.h:177] SetPriority unimplemented for this stream.\n",
      "2023-11-18 06:45:08.995860: E external/local_xla/xla/stream_executor/stream_executor_internal.h:177] SetPriority unimplemented for this stream.\n",
      "2023-11-18 06:45:11.851117: E external/local_xla/xla/stream_executor/stream_executor_internal.h:177] SetPriority unimplemented for this stream.\n",
      "2023-11-18 06:45:12.210898: E external/local_xla/xla/stream_executor/stream_executor_internal.h:177] SetPriority unimplemented for this stream.\n",
      "2023-11-18 06:45:17.660771: E external/local_xla/xla/stream_executor/stream_executor_internal.h:177] SetPriority unimplemented for this stream.\n",
      "2023-11-18 06:45:26.478341: E external/local_xla/xla/stream_executor/stream_executor_internal.h:177] SetPriority unimplemented for this stream.\n",
      "2023-11-18 06:45:27.446391: E external/local_xla/xla/stream_executor/stream_executor_internal.h:177] SetPriority unimplemented for this stream.\n"
     ]
    }
   ],
   "source": [
    "%%time\n",
    "\n",
    "import concurrent.futures\n",
    "\n",
    "def process_image(vid):\n",
    "    filename = os.path.basename(vid)\n",
    "    with fs.open(vid,\"rb\") as f:\n",
    "        vid_file = np.load(f)\n",
    "    \n",
    "    vid_file = np.expand_dims(vid_file, axis=0)\n",
    "    embeddings = backbone(vid_file)[0]['block4_layer9'].numpy()\n",
    "    with fs.open(f\"{movinet_uri+filename}\",\"wb\") as f:\n",
    "        np.save(f,embeddings)\n",
    "\n",
    "    return filename\n",
    "\n",
    "\n",
    "with concurrent.futures.ThreadPoolExecutor() as executor:\n",
    "    # Submit tasks to the executor\n",
    "    futures = [executor.submit(process_image, i) for i in iteration_2]\n",
    "    # Collect the results\n",
    "    results = [future.result() for future in concurrent.futures.as_completed(futures)]\n",
    "\n",
    "print(len(results))"
   ]
  },
  {
   "cell_type": "code",
   "execution_count": 32,
   "id": "20ec4db6-bb81-471a-8e60-eba3f0e031c7",
   "metadata": {},
   "outputs": [
    {
     "data": {
      "text/plain": [
       "['eXWZAMUjsNs_90.npy',\n",
       " 'eXWZAMUjsNs_92.npy',\n",
       " 'eXWZAMUjsNs_96.npy',\n",
       " 'eXWZAMUjsNs_99.npy',\n",
       " 'eXWZAMUjsNs_91.npy',\n",
       " 'eXWZAMUjsNs_9.npy',\n",
       " 'eXWZAMUjsNs_93.npy',\n",
       " 'eXWZAMUjsNs_98.npy',\n",
       " 'eXWZAMUjsNs_97.npy',\n",
       " 'eXWZAMUjsNs_94.npy',\n",
       " 'eXWZAMUjsNs_95.npy',\n",
       " 'eYP1Z8zkyN4_14.npy',\n",
       " 'eYP1Z8zkyN4_1.npy',\n",
       " 'eYP1Z8zkyN4_16.npy',\n",
       " 'eYP1Z8zkyN4_15.npy',\n",
       " 'eYP1Z8zkyN4_0.npy',\n",
       " 'eYP1Z8zkyN4_10.npy',\n",
       " 'eYP1Z8zkyN4_13.npy',\n",
       " 'eYP1Z8zkyN4_11.npy',\n",
       " 'eYP1Z8zkyN4_12.npy']"
      ]
     },
     "execution_count": 32,
     "metadata": {},
     "output_type": "execute_result"
    }
   ],
   "source": [
    "results"
   ]
  },
  {
   "cell_type": "code",
   "execution_count": 1,
   "id": "4a179147-9b3c-4469-ace9-0246acdfee88",
   "metadata": {},
   "outputs": [],
   "source": [
    "# for vid in tqdm(iteration_1):\n",
    "#     # Generate video embeddings and store to CPU\n",
    "#     filename = os.path.basename(vid)\n",
    "#     with fs.open(vid,\"rb\") as f:\n",
    "#         vid_file = np.load(f)\n",
    "#     vid_file = np.expand_dims(vid_file, axis=0)\n",
    "#     embeddings = backbone(vid_file)[0]['block4_layer9'].cpu().numpy()\n",
    "#     with fs.open(f\"{movinet_uri+filename}\",\"wb\") as f:\n",
    "#         np.save(f,embeddings)\n",
    "#     #pbar.update(1)\n",
    "# #pbar.close() #Closing the bar"
   ]
  },
  {
   "cell_type": "code",
   "execution_count": null,
   "id": "2dfcf4c8-c8e4-4c64-aa42-cc14aa3f28ff",
   "metadata": {},
   "outputs": [],
   "source": []
  }
 ],
 "metadata": {
  "kernelspec": {
   "display_name": "Python 3 (ipykernel)",
   "language": "python",
   "name": "python3"
  },
  "language_info": {
   "codemirror_mode": {
    "name": "ipython",
    "version": 3
   },
   "file_extension": ".py",
   "mimetype": "text/x-python",
   "name": "python",
   "nbconvert_exporter": "python",
   "pygments_lexer": "ipython3",
   "version": "3.10.12"
  }
 },
 "nbformat": 4,
 "nbformat_minor": 5
}
