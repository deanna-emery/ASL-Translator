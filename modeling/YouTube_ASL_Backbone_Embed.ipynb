{
 "cells": [
  {
   "cell_type": "markdown",
   "id": "c27e1e23-dac5-4414-920b-27d9c1e75064",
   "metadata": {
    "id": "c27e1e23-dac5-4414-920b-27d9c1e75064"
   },
   "source": [
    "### Purpose of notebook\n",
    "The purpose of this notebook is to pass the YouTube ASL videos through the MoviNet backbone and then save its output back to S3"
   ]
  },
  {
   "cell_type": "code",
   "execution_count": 1,
   "id": "JqLrYIurc46N",
   "metadata": {
    "colab": {
     "base_uri": "https://localhost:8080/"
    },
    "id": "JqLrYIurc46N",
    "outputId": "e4574eca-ad2c-46a7-a11e-33f3f545e9d8"
   },
   "outputs": [],
   "source": [
    "# !git clone https://github.com/tensorflow/models.git\n",
    "# !pip install s3fs\n",
    "# !pip install boto3"
   ]
  },
  {
   "cell_type": "code",
   "execution_count": 2,
   "id": "60d8871c-78e0-43ff-bd9f-2d3d950858a1",
   "metadata": {
    "id": "60d8871c-78e0-43ff-bd9f-2d3d950858a1"
   },
   "outputs": [],
   "source": [
    "# Let's not show unnecessary warnings etc\n",
    "import warnings\n",
    "warnings.filterwarnings('ignore')"
   ]
  },
  {
   "cell_type": "code",
   "execution_count": 3,
   "id": "552897ab-4f96-4ad9-8eed-8b78a10f35d8",
   "metadata": {
    "colab": {
     "base_uri": "https://localhost:8080/"
    },
    "id": "552897ab-4f96-4ad9-8eed-8b78a10f35d8",
    "outputId": "af7db313-916a-43ef-de46-bd68149890fa"
   },
   "outputs": [
    {
     "data": {
      "text/plain": [
       "['/home/ec2-user/.aws/credentials']"
      ]
     },
     "execution_count": 3,
     "metadata": {},
     "output_type": "execute_result"
    }
   ],
   "source": [
    "import configparser\n",
    "\n",
    "config = configparser.ConfigParser()\n",
    "config.read('/home/ec2-user/.aws/credentials')"
   ]
  },
  {
   "cell_type": "code",
   "execution_count": 4,
   "id": "c4c261c2-7c81-45ca-963b-ebf1a5112600",
   "metadata": {
    "id": "c4c261c2-7c81-45ca-963b-ebf1a5112600"
   },
   "outputs": [],
   "source": [
    "# AWS credentials and S3 settings\n",
    "aws_access_key_id = config[\"default\"]['aws_access_key_id']\n",
    "aws_secret_access_key = config[\"default\"]['aws_secret_access_key']\n",
    "bucket_name = 'asl-capstone'\n",
    "s3_URI = 's3://asl-capstone/'"
   ]
  },
  {
   "cell_type": "code",
   "execution_count": 5,
   "id": "bccdf3cc-2111-4930-9e3f-53cbec6ccd99",
   "metadata": {
    "id": "bccdf3cc-2111-4930-9e3f-53cbec6ccd99"
   },
   "outputs": [],
   "source": [
    "import s3fs\n",
    "fs = s3fs.S3FileSystem(key=aws_access_key_id, secret=aws_secret_access_key)\n",
    "\n",
    "import boto3\n",
    "s3 = boto3.client('s3',aws_access_key_id = aws_access_key_id, aws_secret_access_key = aws_secret_access_key,\n",
    "                  region_name = 'us-west-2')"
   ]
  },
  {
   "cell_type": "code",
   "execution_count": 6,
   "id": "b5e8f36b-657a-4a90-90d9-534df6f71616",
   "metadata": {
    "id": "b5e8f36b-657a-4a90-90d9-534df6f71616"
   },
   "outputs": [
    {
     "name": "stderr",
     "output_type": "stream",
     "text": [
      "2023-11-20 03:14:10.837855: E tensorflow/compiler/xla/stream_executor/cuda/cuda_dnn.cc:9342] Unable to register cuDNN factory: Attempting to register factory for plugin cuDNN when one has already been registered\n",
      "2023-11-20 03:14:10.837915: E tensorflow/compiler/xla/stream_executor/cuda/cuda_fft.cc:609] Unable to register cuFFT factory: Attempting to register factory for plugin cuFFT when one has already been registered\n",
      "2023-11-20 03:14:10.837936: E tensorflow/compiler/xla/stream_executor/cuda/cuda_blas.cc:1518] Unable to register cuBLAS factory: Attempting to register factory for plugin cuBLAS when one has already been registered\n",
      "2023-11-20 03:14:10.844468: I tensorflow/core/platform/cpu_feature_guard.cc:182] This TensorFlow binary is optimized to use available CPU instructions in performance-critical operations.\n",
      "To enable the following instructions: AVX2 FMA, in other operations, rebuild TensorFlow with the appropriate compiler flags.\n",
      "2023-11-20 03:14:11.752979: W tensorflow/compiler/tf2tensorrt/utils/py_utils.cc:38] TF-TRT Warning: Could not find TensorRT\n"
     ]
    }
   ],
   "source": [
    "# Import all required libraries. Keep adding here as you code\n",
    "import tensorflow as tf\n",
    "import tensorflow_hub as hub\n",
    "import cv2\n",
    "import numpy as np\n",
    "import pandas as pd\n",
    "from tqdm import tqdm\n",
    "import os\n",
    "\n",
    "tf.keras.backend.clear_session()"
   ]
  },
  {
   "cell_type": "code",
   "execution_count": 7,
   "id": "841a3636-946a-4455-b2c9-5e41e80e388b",
   "metadata": {
    "colab": {
     "base_uri": "https://localhost:8080/"
    },
    "id": "841a3636-946a-4455-b2c9-5e41e80e388b",
    "outputId": "78b2c5ee-b5c0-42dd-c655-5059ebfde183"
   },
   "outputs": [
    {
     "name": "stdout",
     "output_type": "stream",
     "text": [
      "[Errno 2] No such file or directory: '/content/models'\n",
      "/home/ec2-user/ASL-Translator/modeling\n"
     ]
    }
   ],
   "source": [
    "# Set working directory\n",
    "%cd /content/models"
   ]
  },
  {
   "cell_type": "code",
   "execution_count": 8,
   "id": "0488cd8e-1fc8-4ce9-8e66-73056d604f4c",
   "metadata": {},
   "outputs": [
    {
     "name": "stdout",
     "output_type": "stream",
     "text": [
      "/home/ec2-user/ASL-Translator/modeling\n"
     ]
    }
   ],
   "source": [
    "!pwd"
   ]
  },
  {
   "cell_type": "code",
   "execution_count": 9,
   "id": "43818e80-121e-484b-bcd6-e20506f03209",
   "metadata": {
    "id": "43818e80-121e-484b-bcd6-e20506f03209"
   },
   "outputs": [],
   "source": [
    "# Define the model you are going to use\n",
    "model_version = 'a3'\n",
    "\n",
    "if model_version=='a3':\n",
    "  max_frames = 120\n",
    "  image_dims = (256,256)\n",
    "elif model_version=='a0':\n",
    "  max_frames = 50\n",
    "  image_dims = (172,172)\n",
    "elif model_version=='a5':\n",
    "  max_frames = 120\n",
    "  image_dims = (320,302)"
   ]
  },
  {
   "cell_type": "code",
   "execution_count": 10,
   "id": "b4a11dbc-2db0-4660-b5c5-384fb3383e15",
   "metadata": {
    "colab": {
     "base_uri": "https://localhost:8080/"
    },
    "id": "b4a11dbc-2db0-4660-b5c5-384fb3383e15",
    "outputId": "27533948-4c18-4356-810c-9916f65cfcf5"
   },
   "outputs": [
    {
     "name": "stdout",
     "output_type": "stream",
     "text": [
      "Found 600 labels.\n"
     ]
    }
   ],
   "source": [
    "# Get the kinetics-600 action labels\n",
    "KINETICS_URL = \"/home/ec2-user/models/official/projects/movinet/files/kinetics_600_labels.txt\"\n",
    "with open(KINETICS_URL) as obj:\n",
    "  labels_600 = [line for line in obj.readlines()]\n",
    "print(\"Found %d labels.\" % len(labels_600))"
   ]
  },
  {
   "cell_type": "code",
   "execution_count": 11,
   "id": "5QPiZfFgd7O3",
   "metadata": {
    "colab": {
     "base_uri": "https://localhost:8080/"
    },
    "id": "5QPiZfFgd7O3",
    "outputId": "4173810f-6530-4618-bd9c-95cd9de9e910"
   },
   "outputs": [],
   "source": [
    "# !pip install tf_keras\n",
    "# !pip install gin-config\n",
    "# !pip install immutabledict"
   ]
  },
  {
   "cell_type": "code",
   "execution_count": 12,
   "id": "f8927f97-1ad6-45db-b622-0c53e7b05dad",
   "metadata": {
    "id": "f8927f97-1ad6-45db-b622-0c53e7b05dad"
   },
   "outputs": [
    {
     "name": "stderr",
     "output_type": "stream",
     "text": [
      "2023-11-20 03:14:14.033464: I tensorflow/compiler/xla/stream_executor/cuda/cuda_gpu_executor.cc:894] successful NUMA node read from SysFS had negative value (-1), but there must be at least one NUMA node, so returning NUMA node zero. See more at https://github.com/torvalds/linux/blob/v6.0/Documentation/ABI/testing/sysfs-bus-pci#L344-L355\n",
      "2023-11-20 03:14:14.054700: I tensorflow/compiler/xla/stream_executor/cuda/cuda_gpu_executor.cc:894] successful NUMA node read from SysFS had negative value (-1), but there must be at least one NUMA node, so returning NUMA node zero. See more at https://github.com/torvalds/linux/blob/v6.0/Documentation/ABI/testing/sysfs-bus-pci#L344-L355\n",
      "2023-11-20 03:14:14.056518: I tensorflow/compiler/xla/stream_executor/cuda/cuda_gpu_executor.cc:894] successful NUMA node read from SysFS had negative value (-1), but there must be at least one NUMA node, so returning NUMA node zero. See more at https://github.com/torvalds/linux/blob/v6.0/Documentation/ABI/testing/sysfs-bus-pci#L344-L355\n",
      "2023-11-20 03:14:14.058962: I tensorflow/compiler/xla/stream_executor/cuda/cuda_gpu_executor.cc:894] successful NUMA node read from SysFS had negative value (-1), but there must be at least one NUMA node, so returning NUMA node zero. See more at https://github.com/torvalds/linux/blob/v6.0/Documentation/ABI/testing/sysfs-bus-pci#L344-L355\n",
      "2023-11-20 03:14:14.060934: I tensorflow/compiler/xla/stream_executor/cuda/cuda_gpu_executor.cc:894] successful NUMA node read from SysFS had negative value (-1), but there must be at least one NUMA node, so returning NUMA node zero. See more at https://github.com/torvalds/linux/blob/v6.0/Documentation/ABI/testing/sysfs-bus-pci#L344-L355\n",
      "2023-11-20 03:14:14.062671: I tensorflow/compiler/xla/stream_executor/cuda/cuda_gpu_executor.cc:894] successful NUMA node read from SysFS had negative value (-1), but there must be at least one NUMA node, so returning NUMA node zero. See more at https://github.com/torvalds/linux/blob/v6.0/Documentation/ABI/testing/sysfs-bus-pci#L344-L355\n",
      "2023-11-20 03:14:14.532059: I tensorflow/compiler/xla/stream_executor/cuda/cuda_gpu_executor.cc:894] successful NUMA node read from SysFS had negative value (-1), but there must be at least one NUMA node, so returning NUMA node zero. See more at https://github.com/torvalds/linux/blob/v6.0/Documentation/ABI/testing/sysfs-bus-pci#L344-L355\n",
      "2023-11-20 03:14:14.533004: I tensorflow/compiler/xla/stream_executor/cuda/cuda_gpu_executor.cc:894] successful NUMA node read from SysFS had negative value (-1), but there must be at least one NUMA node, so returning NUMA node zero. See more at https://github.com/torvalds/linux/blob/v6.0/Documentation/ABI/testing/sysfs-bus-pci#L344-L355\n",
      "2023-11-20 03:14:14.533763: I tensorflow/compiler/xla/stream_executor/cuda/cuda_gpu_executor.cc:894] successful NUMA node read from SysFS had negative value (-1), but there must be at least one NUMA node, so returning NUMA node zero. See more at https://github.com/torvalds/linux/blob/v6.0/Documentation/ABI/testing/sysfs-bus-pci#L344-L355\n",
      "2023-11-20 03:14:14.534494: I tensorflow/core/common_runtime/gpu/gpu_device.cc:1886] Created device /job:localhost/replica:0/task:0/device:GPU:0 with 20591 MB memory:  -> device: 0, name: NVIDIA A10G, pci bus id: 0000:00:1e.0, compute capability: 8.6\n"
     ]
    }
   ],
   "source": [
    "# Create the backbone using the Movinet model\n",
    "from official.projects.movinet.modeling import movinet\n",
    "\n",
    "# Create backbone and model.\n",
    "backbone = movinet.Movinet(\n",
    "    model_id=model_version, #change to correspond to model\n",
    "    causal=False,\n",
    "    use_external_states=False,\n",
    ")"
   ]
  },
  {
   "cell_type": "code",
   "execution_count": 33,
   "id": "f6695dca-577c-4a5e-8bab-132a2bb65136",
   "metadata": {
    "colab": {
     "base_uri": "https://localhost:8080/"
    },
    "id": "f6695dca-577c-4a5e-8bab-132a2bb65136",
    "outputId": "8b817455-69dc-4fb1-fa43-3f24179ca1ab"
   },
   "outputs": [
    {
     "name": "stdout",
     "output_type": "stream",
     "text": [
      "59042\n"
     ]
    }
   ],
   "source": [
    "# Get a list of all the numpy files from S3\n",
    "\n",
    "paginator = s3.get_paginator('list_objects_v2')\n",
    "video_files = []\n",
    "for page in paginator.paginate(Bucket = bucket_name, Prefix = 'youtube-asl/1000-samples/numpy_files/'):\n",
    "    video_files.extend(content['Key'] for content in page.get('Contents',[]) if content['Key'].endswith(('.npy')))\n",
    "print(len(video_files))"
   ]
  },
  {
   "cell_type": "code",
   "execution_count": 34,
   "id": "f7b28c59-5460-4da8-8e65-aea3786906ce",
   "metadata": {
    "id": "f7b28c59-5460-4da8-8e65-aea3786906ce"
   },
   "outputs": [],
   "source": [
    "# Add the S3 prefix\n",
    "video_files = ['s3://asl-capstone/'+x for x in video_files]"
   ]
  },
  {
   "cell_type": "code",
   "execution_count": 35,
   "id": "fc95fbd0-e61d-4365-9cb1-174a67d847fe",
   "metadata": {
    "id": "fc95fbd0-e61d-4365-9cb1-174a67d847fe"
   },
   "outputs": [],
   "source": [
    "# Let's break this into batches\n",
    "video_files = video_files[:1200]"
   ]
  },
  {
   "cell_type": "code",
   "execution_count": 36,
   "id": "TdyOediJQAzS",
   "metadata": {
    "id": "TdyOediJQAzS"
   },
   "outputs": [],
   "source": [
    "iteration_2 = video_files[:1200] #UPDATE HERE in 1000 video increments"
   ]
  },
  {
   "cell_type": "code",
   "execution_count": 37,
   "id": "WrBt289QawsZ",
   "metadata": {
    "colab": {
     "base_uri": "https://localhost:8080/"
    },
    "id": "WrBt289QawsZ",
    "outputId": "2ed7aa72-215d-48f1-e6c8-28ad79df19a9"
   },
   "outputs": [
    {
     "name": "stdout",
     "output_type": "stream",
     "text": [
      "1200\n"
     ]
    }
   ],
   "source": [
    "print(len(iteration_2))"
   ]
  },
  {
   "cell_type": "code",
   "execution_count": 38,
   "id": "DEYEUJszaFBY",
   "metadata": {
    "colab": {
     "base_uri": "https://localhost:8080/"
    },
    "id": "DEYEUJszaFBY",
    "outputId": "3deb3300-4431-4f31-941e-0a86da7378b4"
   },
   "outputs": [
    {
     "name": "stdout",
     "output_type": "stream",
     "text": [
      "3651\n"
     ]
    }
   ],
   "source": [
    "paginator = s3.get_paginator('list_objects_v2')\n",
    "completed_files = []\n",
    "for page in paginator.paginate(Bucket = bucket_name, Prefix = 'youtube-asl/1000-samples/movinet/backbone/'):\n",
    "    completed_files.extend(content['Key'] for content in page.get('Contents',[]) if content['Key'].endswith(('.npy')))\n",
    "print(len(completed_files))"
   ]
  },
  {
   "cell_type": "code",
   "execution_count": 39,
   "id": "94gAU7QucQiw",
   "metadata": {
    "id": "94gAU7QucQiw"
   },
   "outputs": [],
   "source": [
    "completed_files = [os.path.basename(x) for x in completed_files]"
   ]
  },
  {
   "cell_type": "code",
   "execution_count": 40,
   "id": "6nN7b7nDbfDT",
   "metadata": {
    "colab": {
     "base_uri": "https://localhost:8080/"
    },
    "id": "6nN7b7nDbfDT",
    "outputId": "ee14314b-2eb2-4f4d-b86d-8057adf7c76e"
   },
   "outputs": [
    {
     "name": "stdout",
     "output_type": "stream",
     "text": [
      "200\n"
     ]
    }
   ],
   "source": [
    "iteration_2 = [x for x in iteration_2 if os.path.basename(x) not in completed_files]\n",
    "print(len(iteration_2))"
   ]
  },
  {
   "cell_type": "code",
   "execution_count": 41,
   "id": "62996823-b7e0-4daa-b433-e859f860f447",
   "metadata": {
    "id": "62996823-b7e0-4daa-b433-e859f860f447"
   },
   "outputs": [],
   "source": [
    "# # Iteration batch\n",
    "# iteration_1 = video_files[:5000]\n",
    "# iteration_2 = video_files[5768:10000]\n",
    "# iteration_3 = video_files[10001:15000]\n",
    "# iteration_4 = video_files[15000:]"
   ]
  },
  {
   "cell_type": "code",
   "execution_count": 42,
   "id": "37bafece-1b91-44fe-8c40-dfe179a94368",
   "metadata": {
    "id": "37bafece-1b91-44fe-8c40-dfe179a94368"
   },
   "outputs": [],
   "source": [
    "movinet_uri = 's3://asl-capstone/youtube-asl/1000-samples/movinet/backbone/'"
   ]
  },
  {
   "cell_type": "code",
   "execution_count": 43,
   "id": "4a179147-9b3c-4469-ace9-0246acdfee88",
   "metadata": {
    "id": "4a179147-9b3c-4469-ace9-0246acdfee88"
   },
   "outputs": [],
   "source": [
    "def process_video(vid):\n",
    "  # Add a try except\n",
    "  try:\n",
    "      # Generate video embeddings and store to CPU\n",
    "      filename = os.path.basename(vid)\n",
    "      with fs.open(vid,\"rb\") as f:\n",
    "          vid_file = np.load(f)\n",
    "      vid_file = np.expand_dims(vid_file, axis=0)\n",
    "      embeddings = backbone(vid_file)[0]['block4_layer9'].cpu().numpy()\n",
    "      with fs.open(f\"{movinet_uri+filename}\",\"wb\") as f:\n",
    "          np.save(f,embeddings)\n",
    "  except:\n",
    "      print(f\"Error with processing {vid}\")"
   ]
  },
  {
   "cell_type": "code",
   "execution_count": 44,
   "id": "r14AOQolm2jX",
   "metadata": {
    "id": "r14AOQolm2jX"
   },
   "outputs": [],
   "source": [
    "import dask\n",
    "from dask.distributed import Client, progress, as_completed"
   ]
  },
  {
   "cell_type": "code",
   "execution_count": 45,
   "id": "b-u59xqjm_q_",
   "metadata": {
    "colab": {
     "base_uri": "https://localhost:8080/"
    },
    "id": "b-u59xqjm_q_",
    "outputId": "84597157-1852-4291-d5dd-2a14bda3eb36"
   },
   "outputs": [
    {
     "name": "stdout",
     "output_type": "stream",
     "text": [
      "-------------------------------------------------------------\n",
      "http://172.31.13.102:42283/status\n"
     ]
    }
   ],
   "source": [
    "# Start a Dask client\n",
    "client = Client(processes=False)\n",
    "# Print the link to the dashboard\n",
    "print(\"-------------------------------------------------------------\")\n",
    "print(client.dashboard_link)"
   ]
  },
  {
   "cell_type": "code",
   "execution_count": null,
   "id": "_RBWbXoTm6TA",
   "metadata": {
    "colab": {
     "base_uri": "https://localhost:8080/"
    },
    "id": "_RBWbXoTm6TA",
    "outputId": "bea75c35-19e7-4638-8630-23744cbd811f"
   },
   "outputs": [
    {
     "name": "stderr",
     "output_type": "stream",
     "text": [
      "  0%|                                                                                                                                                                              | 0/200 [00:00<?, ?it/s]2023-11-20 03:17:05.853383: I tensorflow/compiler/xla/service/service.cc:168] XLA service 0x7f3458031ad0 initialized for platform CUDA (this does not guarantee that XLA will be used). Devices:\n",
      "2023-11-20 03:17:05.853420: I tensorflow/compiler/xla/service/service.cc:176]   StreamExecutor device (0): NVIDIA A10G, Compute Capability 8.6\n",
      "2023-11-20 03:17:06.657220: I tensorflow/compiler/xla/stream_executor/cuda/cuda_dnn.cc:442] Loaded cuDNN version 8903\n",
      "2023-11-20 03:17:07.660820: I ./tensorflow/compiler/jit/device_compiler.h:186] Compiled cluster using XLA!  This line is logged at most once for the lifetime of the process.\n"
     ]
    },
    {
     "name": "stdout",
     "output_type": "stream",
     "text": [
      "WARNING:tensorflow:5 out of the last 5 calls to <bound method Conv.call of <official.vision.modeling.layers.nn_layers.Conv3D object at 0x7f39c4057940>> triggered tf.function retracing. Tracing is expensive and the excessive number of tracings could be due to (1) creating @tf.function repeatedly in a loop, (2) passing tensors with different shapes, (3) passing Python objects instead of tensors. For (1), please define your @tf.function outside of the loop. For (2), @tf.function has reduce_retracing=True option that can avoid unnecessary retracing. For (3), please refer to https://www.tensorflow.org/guide/function#controlling_retracing and https://www.tensorflow.org/api_docs/python/tf/function for  more details.\n",
      "WARNING:tensorflow:6 out of the last 6 calls to <bound method Conv.call of <official.vision.modeling.layers.nn_layers.Conv3D object at 0x7f348e602e90>> triggered tf.function retracing. Tracing is expensive and the excessive number of tracings could be due to (1) creating @tf.function repeatedly in a loop, (2) passing tensors with different shapes, (3) passing Python objects instead of tensors. For (1), please define your @tf.function outside of the loop. For (2), @tf.function has reduce_retracing=True option that can avoid unnecessary retracing. For (3), please refer to https://www.tensorflow.org/guide/function#controlling_retracing and https://www.tensorflow.org/api_docs/python/tf/function for  more details.\n",
      "WARNING:tensorflow:From /tmp/ipykernel_6042/2071351246.py:9: _EagerTensorBase.cpu (from tensorflow.python.framework.ops) is deprecated and will be removed in a future version.\n",
      "Instructions for updating:\n",
      "Use tf.identity with explicit device placement instead.\n"
     ]
    },
    {
     "name": "stderr",
     "output_type": "stream",
     "text": [
      "  8%|█████████████▏                                                                                                                                                       | 16/200 [03:11<15:19,  5.00s/it]"
     ]
    }
   ],
   "source": [
    "# Use Dask's map function to apply the process_video function to each video\n",
    "futures = client.map(process_video, iteration_2)\n",
    "\n",
    "# Create a progress bar with tqdm\n",
    "progress_bar = tqdm(total=len(iteration_2))\n",
    "\n",
    "# Use as_completed to update the progress bar as futures complete\n",
    "for future in as_completed(futures):\n",
    "    result = future.result()  # This blocks until the future is complete\n",
    "    progress_bar.update()\n",
    "\n",
    "progress_bar.close()\n",
    "\n",
    "# Wait for all futures to complete\n",
    "client.gather(futures)"
   ]
  },
  {
   "cell_type": "code",
   "execution_count": null,
   "id": "b92f4a1c-55ef-49a7-ba40-0f33338af04f",
   "metadata": {},
   "outputs": [],
   "source": []
  }
 ],
 "metadata": {
  "accelerator": "GPU",
  "colab": {
   "gpuType": "T4",
   "machine_shape": "hm",
   "provenance": []
  },
  "kernelspec": {
   "display_name": "Python 3 (ipykernel)",
   "language": "python",
   "name": "python3"
  },
  "language_info": {
   "codemirror_mode": {
    "name": "ipython",
    "version": 3
   },
   "file_extension": ".py",
   "mimetype": "text/x-python",
   "name": "python",
   "nbconvert_exporter": "python",
   "pygments_lexer": "ipython3",
   "version": "3.10.12"
  }
 },
 "nbformat": 4,
 "nbformat_minor": 5
}
