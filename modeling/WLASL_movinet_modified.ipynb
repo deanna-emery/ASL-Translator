{
 "cells": [
  {
   "cell_type": "code",
   "execution_count": 1,
   "metadata": {},
   "outputs": [],
   "source": [
    "#### DO NOT RUN THIS CODE IN THE NOTEBOOK - copy paste into terminal in the HOME directory!\n",
    "\n",
    "# git clone https://github.com/tensorflow/models.git"
   ]
  },
  {
   "cell_type": "code",
   "execution_count": 2,
   "metadata": {},
   "outputs": [],
   "source": [
    " # !pip install s3fs -q\n",
    " # !pip install tensorflow_hub -q\n",
    " # !pip install tensorflow_datasets -q\n",
    " # !pip install pycocotools -q\n",
    " # !pip install gin-config -q\n",
    " # !pip install immutabledict -q\n",
    " # !pip install sentencepiece -q\n",
    " # !pip install transformers -q\n",
    " # !pip install -r official/projects/movinet/requirements.txt -q"
   ]
  },
  {
   "cell_type": "code",
   "execution_count": 3,
   "metadata": {},
   "outputs": [],
   "source": [
    "import warnings\n",
    "warnings.filterwarnings('ignore')"
   ]
  },
  {
   "cell_type": "code",
   "execution_count": 4,
   "metadata": {
    "colab": {
     "base_uri": "https://localhost:8080/"
    },
    "id": "RKl6v7VuSQnW",
    "outputId": "6f82bd89-480a-4f94-dd2c-8cf3866a32ab"
   },
   "outputs": [
    {
     "data": {
      "text/plain": [
       "['/home/ec2-user/.aws/credentials']"
      ]
     },
     "execution_count": 4,
     "metadata": {},
     "output_type": "execute_result"
    }
   ],
   "source": [
    "import configparser\n",
    "\n",
    "config = configparser.ConfigParser()\n",
    "config.read('/home/ec2-user/.aws/credentials')"
   ]
  },
  {
   "cell_type": "code",
   "execution_count": 5,
   "metadata": {},
   "outputs": [],
   "source": [
    "# AWS credentials and S3 settings\n",
    "aws_access_key_id = config[\"default\"]['aws_access_key_id']\n",
    "aws_secret_access_key = config[\"default\"]['aws_secret_access_key']\n",
    "bucket_name = 'asl-capstone'\n",
    "s3_URI = 's3://asl-capstone/'"
   ]
  },
  {
   "cell_type": "code",
   "execution_count": 6,
   "metadata": {},
   "outputs": [],
   "source": [
    "import s3fs\n",
    "fs = s3fs.S3FileSystem(key=aws_access_key_id, secret=aws_secret_access_key)\n",
    "\n",
    "import boto3\n",
    "s3 = boto3.client('s3',aws_access_key_id = aws_access_key_id, aws_secret_access_key = aws_secret_access_key,\n",
    "                  region_name = 'us-west-2')\n"
   ]
  },
  {
   "cell_type": "code",
   "execution_count": 7,
   "metadata": {
    "id": "E7UuTYQS75b_"
   },
   "outputs": [
    {
     "name": "stderr",
     "output_type": "stream",
     "text": [
      "2023-11-28 23:45:24.450458: I tensorflow/core/platform/cpu_feature_guard.cc:182] This TensorFlow binary is optimized to use available CPU instructions in performance-critical operations.\n",
      "To enable the following instructions: AVX2 FMA, in other operations, rebuild TensorFlow with the appropriate compiler flags.\n",
      "2023-11-28 23:45:26.304300: W tensorflow/compiler/tf2tensorrt/utils/py_utils.cc:38] TF-TRT Warning: Could not find TensorRT\n"
     ]
    }
   ],
   "source": [
    "import tensorflow as tf, tf_keras\n",
    "import tensorflow_hub as hub\n",
    "import numpy as np\n",
    "import pandas as pd\n",
    "from tqdm import tqdm\n",
    "import os\n",
    "import requests\n",
    "from typing import List, Tuple\n",
    "import matplotlib.pyplot as plt\n",
    "\n",
    "from sklearn.model_selection import train_test_split\n",
    "\n",
    "tf.get_logger().setLevel('ERROR')\n",
    "tf.keras.backend.clear_session()"
   ]
  },
  {
   "cell_type": "code",
   "execution_count": 8,
   "metadata": {
    "colab": {
     "base_uri": "https://localhost:8080/"
    },
    "id": "tN2Puiz5JKot",
    "outputId": "1dc897f7-2c39-418f-bcb2-e8ce0ad0c28c"
   },
   "outputs": [
    {
     "name": "stdout",
     "output_type": "stream",
     "text": [
      "/home/ec2-user/models\n"
     ]
    }
   ],
   "source": [
    "%cd /home/ec2-user/models"
   ]
  },
  {
   "cell_type": "code",
   "execution_count": 9,
   "metadata": {},
   "outputs": [
    {
     "data": {
      "text/plain": [
       "'/home/ec2-user/models'"
      ]
     },
     "execution_count": 9,
     "metadata": {},
     "output_type": "execute_result"
    }
   ],
   "source": [
    "pwd"
   ]
  },
  {
   "cell_type": "code",
   "execution_count": 10,
   "metadata": {},
   "outputs": [],
   "source": [
    "# # !wget https://storage.googleapis.com/tf_model_garden/vision/movinet/movinet_a0_base.tar.gz\n",
    "# !wget https://storage.googleapis.com/tf_model_garden/vision/movinet/movinet_a3_base.tar.gz\n",
    "# # !wget https://storage.googleapis.com/tf_model_garden/vision/movinet/movinet_a5_base.tar.gz\n",
    "# # !wget https://storage.googleapis.com/tf_model_garden/vision/movinet/movinet_a5_base_k400.tar.gz\n",
    "\n",
    "# # !tar -xf movinet_a5_base_k400.tar.gz\n",
    "# # !mv movinet_a5_base movinet_a5_base_k400\n",
    "# # !tar -xf movinet_a0_base.tar.gz\n",
    "# !tar -xf movinet_a3_base.tar.gz\n",
    "# # !tar -xf movinet_a5_base.tar.gz"
   ]
  },
  {
   "cell_type": "code",
   "execution_count": 11,
   "metadata": {
    "id": "ZcnyP-HYBqpe"
   },
   "outputs": [],
   "source": [
    "model_version = 'a2'\n",
    "\n",
    "if model_version=='a3':\n",
    "  max_frames = 120\n",
    "  image_dims = (256,256)\n",
    "elif model_version=='a2':\n",
    "  max_frames = 80\n",
    "  image_dims = (224,224)\n",
    "elif model_version=='a0':\n",
    "  max_frames = 50\n",
    "  image_dims = (172,172)\n",
    "\n",
    "\n",
    "from official.projects.movinet.modeling import movinet\n",
    "\n",
    "if model_version == 'a3':\n",
    "    from official.projects.movinet.modeling import movinet_model_a3_modified as movinet_model_modified\n",
    "elif model_version == 'a2':\n",
    "    from official.projects.movinet.modeling import movinet_model_a2_modified as movinet_model_modified\n"
   ]
  },
  {
   "cell_type": "code",
   "execution_count": 12,
   "metadata": {
    "colab": {
     "base_uri": "https://localhost:8080/"
    },
    "id": "n2DBq25vLYly",
    "outputId": "ff1c62c5-4c8c-4abb-c915-fdcf6cd91a7d"
   },
   "outputs": [],
   "source": [
    "# # Get the kinetics-600 action labels\n",
    "# KINETICS_URL = \"official/projects/movinet/files/kinetics_600_labels.txt\"\n",
    "# with open(KINETICS_URL) as obj:\n",
    "#   labels_600 = [line for line in obj.readlines()]\n",
    "# print(\"Found %d labels.\" % len(labels_600))"
   ]
  },
  {
   "cell_type": "code",
   "execution_count": 13,
   "metadata": {},
   "outputs": [],
   "source": [
    "# vid1 = pd.read_parquet('s3://asl-capstone/wlasl/video_mappings_masterfile.parquet', \n",
    "#                        columns=['word','rgb_path','padded_path'])\n",
    "\n",
    "\n",
    "# vid2 = pd.read_parquet('s3://asl-capstone/msasl/video_mappings_masterfile.parquet')\n",
    "# vid2 = vid2.rename(columns={'caption':'word', 'path':'rgb_path'})\n",
    "# vid2['padded_path'] = vid2.rgb_path.replace('/RGB/', '/padded/')\n",
    "\n",
    "# video_files = pd.concat([vid1, vid2], axis=0)\n",
    "\n",
    "# label_nums = video_files.word.value_counts().reset_index().reset_index().rename(columns={'index':'label_num'})\n",
    "\n",
    "# label_nums.to_parquet('s3://asl-capstone/movinet_word_labels.parquet')\n",
    "\n",
    "# video_files = video_files.merge(label_nums, on='word')\n",
    "# video_files = video_files.drop_duplicates()\n",
    "# video_files['padded_path'] = video_files['padded_path'].str.replace('/RGB/', '/padded/')\n",
    "# video_files.to_parquet('s3://asl-capstone/movinet_masterfile_mappings.parquet')"
   ]
  },
  {
   "cell_type": "code",
   "execution_count": 14,
   "metadata": {},
   "outputs": [],
   "source": [
    "video_files = pd.read_parquet('s3://asl-capstone/movinet_masterfile_mappings.parquet')"
   ]
  },
  {
   "cell_type": "code",
   "execution_count": 15,
   "metadata": {},
   "outputs": [
    {
     "data": {
      "text/html": [
       "<div>\n",
       "<style scoped>\n",
       "    .dataframe tbody tr th:only-of-type {\n",
       "        vertical-align: middle;\n",
       "    }\n",
       "\n",
       "    .dataframe tbody tr th {\n",
       "        vertical-align: top;\n",
       "    }\n",
       "\n",
       "    .dataframe thead th {\n",
       "        text-align: right;\n",
       "    }\n",
       "</style>\n",
       "<table border=\"1\" class=\"dataframe\">\n",
       "  <thead>\n",
       "    <tr style=\"text-align: right;\">\n",
       "      <th></th>\n",
       "      <th>word</th>\n",
       "      <th>rgb_path</th>\n",
       "      <th>padded_path</th>\n",
       "      <th>label_num</th>\n",
       "      <th>count</th>\n",
       "    </tr>\n",
       "  </thead>\n",
       "  <tbody>\n",
       "    <tr>\n",
       "      <th>0</th>\n",
       "      <td>viewpoint</td>\n",
       "      <td>asl-capstone/wlasl/RGB/viewpoint_0.npy</td>\n",
       "      <td>asl-capstone/wlasl/padded/viewpoint_0.npy</td>\n",
       "      <td>1387</td>\n",
       "      <td>5</td>\n",
       "    </tr>\n",
       "    <tr>\n",
       "      <th>1</th>\n",
       "      <td>viewpoint</td>\n",
       "      <td>asl-capstone/wlasl/RGB/viewpoint_1.npy</td>\n",
       "      <td>asl-capstone/wlasl/padded/viewpoint_1.npy</td>\n",
       "      <td>1387</td>\n",
       "      <td>5</td>\n",
       "    </tr>\n",
       "    <tr>\n",
       "      <th>2</th>\n",
       "      <td>viewpoint</td>\n",
       "      <td>asl-capstone/wlasl/RGB/viewpoint_2.npy</td>\n",
       "      <td>asl-capstone/wlasl/padded/viewpoint_2.npy</td>\n",
       "      <td>1387</td>\n",
       "      <td>5</td>\n",
       "    </tr>\n",
       "    <tr>\n",
       "      <th>3</th>\n",
       "      <td>viewpoint</td>\n",
       "      <td>asl-capstone/wlasl/RGB/viewpoint_3.npy</td>\n",
       "      <td>asl-capstone/wlasl/padded/viewpoint_3.npy</td>\n",
       "      <td>1387</td>\n",
       "      <td>5</td>\n",
       "    </tr>\n",
       "    <tr>\n",
       "      <th>4</th>\n",
       "      <td>viewpoint</td>\n",
       "      <td>asl-capstone/wlasl/RGB/viewpoint_4.npy</td>\n",
       "      <td>asl-capstone/wlasl/padded/viewpoint_4.npy</td>\n",
       "      <td>1387</td>\n",
       "      <td>5</td>\n",
       "    </tr>\n",
       "  </tbody>\n",
       "</table>\n",
       "</div>"
      ],
      "text/plain": [
       "        word                                rgb_path  \\\n",
       "0  viewpoint  asl-capstone/wlasl/RGB/viewpoint_0.npy   \n",
       "1  viewpoint  asl-capstone/wlasl/RGB/viewpoint_1.npy   \n",
       "2  viewpoint  asl-capstone/wlasl/RGB/viewpoint_2.npy   \n",
       "3  viewpoint  asl-capstone/wlasl/RGB/viewpoint_3.npy   \n",
       "4  viewpoint  asl-capstone/wlasl/RGB/viewpoint_4.npy   \n",
       "\n",
       "                                 padded_path  label_num  count  \n",
       "0  asl-capstone/wlasl/padded/viewpoint_0.npy       1387      5  \n",
       "1  asl-capstone/wlasl/padded/viewpoint_1.npy       1387      5  \n",
       "2  asl-capstone/wlasl/padded/viewpoint_2.npy       1387      5  \n",
       "3  asl-capstone/wlasl/padded/viewpoint_3.npy       1387      5  \n",
       "4  asl-capstone/wlasl/padded/viewpoint_4.npy       1387      5  "
      ]
     },
     "metadata": {},
     "output_type": "display_data"
    },
    {
     "name": "stdout",
     "output_type": "stream",
     "text": [
      "(25479, 5)\n",
      "1997\n"
     ]
    }
   ],
   "source": [
    "display(video_files.head())\n",
    "print(video_files.shape)\n",
    "print(video_files.word.nunique())\n",
    "\n",
    "# media.show_video(vid, codec='gif', fps=10)"
   ]
  },
  {
   "cell_type": "code",
   "execution_count": 16,
   "metadata": {},
   "outputs": [],
   "source": [
    "video_files['padded_path'] = video_files['padded_path'].str.replace('/RGB/', '/padded/')"
   ]
  },
  {
   "cell_type": "code",
   "execution_count": 17,
   "metadata": {},
   "outputs": [
    {
     "data": {
      "text/plain": [
       "word\n",
       "africa       72\n",
       "afternoon    70\n",
       "afraid       54\n",
       "again        45\n",
       "accident     43\n",
       "thin         36\n",
       "before       36\n",
       "adopt        36\n",
       "tall         33\n",
       "cousin       33\n",
       "Name: count, dtype: int64"
      ]
     },
     "execution_count": 17,
     "metadata": {},
     "output_type": "execute_result"
    }
   ],
   "source": [
    "video_files.word.value_counts()[:10]"
   ]
  },
  {
   "cell_type": "code",
   "execution_count": 18,
   "metadata": {},
   "outputs": [
    {
     "data": {
      "text/plain": [
       "word\n",
       "afternoon    50\n",
       "africa       50\n",
       "afraid       50\n",
       "again        45\n",
       "accident     43\n",
       "thin         36\n",
       "adopt        36\n",
       "before       36\n",
       "tall         33\n",
       "cousin       33\n",
       "Name: count, dtype: int64"
      ]
     },
     "execution_count": 18,
     "metadata": {},
     "output_type": "execute_result"
    }
   ],
   "source": [
    "smaller_samples = video_files[video_files['count']<=50]\n",
    "larger_samples = video_files[video_files['count']>50].groupby('word').sample(50)\n",
    "\n",
    "video_files = pd.concat([smaller_samples,larger_samples])\n",
    "video_files.word.value_counts()[:10]"
   ]
  },
  {
   "cell_type": "code",
   "execution_count": 19,
   "metadata": {},
   "outputs": [
    {
     "data": {
      "text/plain": [
       "107"
      ]
     },
     "execution_count": 19,
     "metadata": {},
     "output_type": "execute_result"
    }
   ],
   "source": [
    "video_files[video_files['count'] >= 27].word.nunique()"
   ]
  },
  {
   "cell_type": "code",
   "execution_count": 20,
   "metadata": {},
   "outputs": [
    {
     "data": {
      "text/plain": [
       "(3148, 5)"
      ]
     },
     "execution_count": 20,
     "metadata": {},
     "output_type": "execute_result"
    }
   ],
   "source": [
    "# count = video_files.word.value_counts()[:200][-1]\n",
    "# words = video_files.word.value_counts()[video_files.word.value_counts() >= count].reset_index()['word'].unique()\n",
    "\n",
    "# video_files = video_files[video_files.word.isin(words)]\n",
    "\n",
    "video_files = video_files[video_files['count'] >= 27]\n",
    "\n",
    "video_files.shape"
   ]
  },
  {
   "cell_type": "code",
   "execution_count": 21,
   "metadata": {},
   "outputs": [
    {
     "data": {
      "text/plain": [
       "107"
      ]
     },
     "execution_count": 21,
     "metadata": {},
     "output_type": "execute_result"
    }
   ],
   "source": [
    "NUM_CLASSES = video_files.word.nunique()\n",
    "NUM_CLASSES"
   ]
  },
  {
   "cell_type": "code",
   "execution_count": 22,
   "metadata": {},
   "outputs": [],
   "source": [
    "# print(video_files['frame_count'].mean())\n",
    "# print(video_files['frame_count'].median())\n",
    "# print(video_files['frame_count'].max())"
   ]
  },
  {
   "cell_type": "code",
   "execution_count": 23,
   "metadata": {},
   "outputs": [],
   "source": [
    "if model_version=='a2':\n",
    "    video_files['padded_path'] = video_files['padded_path'].str.replace('/padded/', '/padded_a2/')"
   ]
  },
  {
   "cell_type": "code",
   "execution_count": 24,
   "metadata": {},
   "outputs": [
    {
     "name": "stdout",
     "output_type": "stream",
     "text": [
      "(2518, 5)\n",
      "(630, 5)\n"
     ]
    }
   ],
   "source": [
    "train_files, test_files = train_test_split(video_files, train_size=0.8)\n",
    "print(train_files.shape)\n",
    "print(test_files.shape)"
   ]
  },
  {
   "cell_type": "code",
   "execution_count": 25,
   "metadata": {},
   "outputs": [
    {
     "data": {
      "text/plain": [
       "(2732, 6)"
      ]
     },
     "execution_count": 25,
     "metadata": {},
     "output_type": "execute_result"
    }
   ],
   "source": [
    "train_files['flip'] = False\n",
    "\n",
    "bootstrap = train_files.groupby('word').sample(2)\n",
    "bootstrap['flip'] = True\n",
    "\n",
    "train_files = pd.concat([train_files, bootstrap]).sample(frac=1)\n",
    "train_files.shape"
   ]
  },
  {
   "cell_type": "code",
   "execution_count": 26,
   "metadata": {},
   "outputs": [
    {
     "name": "stderr",
     "output_type": "stream",
     "text": [
      "2023-11-28 23:45:33.631602: I tensorflow/compiler/xla/stream_executor/cuda/cuda_gpu_executor.cc:995] successful NUMA node read from SysFS had negative value (-1), but there must be at least one NUMA node, so returning NUMA node zero. See more at https://github.com/torvalds/linux/blob/v6.0/Documentation/ABI/testing/sysfs-bus-pci#L344-L355\n",
      "2023-11-28 23:45:34.014672: I tensorflow/compiler/xla/stream_executor/cuda/cuda_gpu_executor.cc:995] successful NUMA node read from SysFS had negative value (-1), but there must be at least one NUMA node, so returning NUMA node zero. See more at https://github.com/torvalds/linux/blob/v6.0/Documentation/ABI/testing/sysfs-bus-pci#L344-L355\n",
      "2023-11-28 23:45:34.017039: I tensorflow/compiler/xla/stream_executor/cuda/cuda_gpu_executor.cc:995] successful NUMA node read from SysFS had negative value (-1), but there must be at least one NUMA node, so returning NUMA node zero. See more at https://github.com/torvalds/linux/blob/v6.0/Documentation/ABI/testing/sysfs-bus-pci#L344-L355\n",
      "2023-11-28 23:45:34.021086: I tensorflow/compiler/xla/stream_executor/cuda/cuda_gpu_executor.cc:995] successful NUMA node read from SysFS had negative value (-1), but there must be at least one NUMA node, so returning NUMA node zero. See more at https://github.com/torvalds/linux/blob/v6.0/Documentation/ABI/testing/sysfs-bus-pci#L344-L355\n",
      "2023-11-28 23:45:34.023860: I tensorflow/compiler/xla/stream_executor/cuda/cuda_gpu_executor.cc:995] successful NUMA node read from SysFS had negative value (-1), but there must be at least one NUMA node, so returning NUMA node zero. See more at https://github.com/torvalds/linux/blob/v6.0/Documentation/ABI/testing/sysfs-bus-pci#L344-L355\n",
      "2023-11-28 23:45:34.025663: I tensorflow/compiler/xla/stream_executor/cuda/cuda_gpu_executor.cc:995] successful NUMA node read from SysFS had negative value (-1), but there must be at least one NUMA node, so returning NUMA node zero. See more at https://github.com/torvalds/linux/blob/v6.0/Documentation/ABI/testing/sysfs-bus-pci#L344-L355\n",
      "2023-11-28 23:45:35.650764: I tensorflow/compiler/xla/stream_executor/cuda/cuda_gpu_executor.cc:995] successful NUMA node read from SysFS had negative value (-1), but there must be at least one NUMA node, so returning NUMA node zero. See more at https://github.com/torvalds/linux/blob/v6.0/Documentation/ABI/testing/sysfs-bus-pci#L344-L355\n",
      "2023-11-28 23:45:35.651760: I tensorflow/compiler/xla/stream_executor/cuda/cuda_gpu_executor.cc:995] successful NUMA node read from SysFS had negative value (-1), but there must be at least one NUMA node, so returning NUMA node zero. See more at https://github.com/torvalds/linux/blob/v6.0/Documentation/ABI/testing/sysfs-bus-pci#L344-L355\n",
      "2023-11-28 23:45:35.652512: I tensorflow/compiler/xla/stream_executor/cuda/cuda_gpu_executor.cc:995] successful NUMA node read from SysFS had negative value (-1), but there must be at least one NUMA node, so returning NUMA node zero. See more at https://github.com/torvalds/linux/blob/v6.0/Documentation/ABI/testing/sysfs-bus-pci#L344-L355\n",
      "2023-11-28 23:45:35.653252: I tensorflow/core/common_runtime/gpu/gpu_device.cc:1639] Created device /job:localhost/replica:0/task:0/device:GPU:0 with 20591 MB memory:  -> device: 0, name: NVIDIA A10G, pci bus id: 0000:00:1e.0, compute capability: 8.6\n"
     ]
    }
   ],
   "source": [
    "def data_generator(file_paths_df, add_flip=False):\n",
    "    for _, row in file_paths_df.iterrows():\n",
    "        with fs.open(row['padded_path'], 'rb') as f:\n",
    "            video = np.load(f) #[:max_frames]\n",
    "\n",
    "        if add_flip:\n",
    "            if row['flip']==True:\n",
    "                video = np.flip(video, axis=2)\n",
    "\n",
    "        # video = tf.convert_to_tensor(video)\n",
    "\n",
    "        # if model_version=='a2':\n",
    "        #     video = tf.image.resize(video, image_dims)\n",
    "\n",
    "        label = tf.one_hot(row['label_num'], NUM_CLASSES)\n",
    "        yield video, label\n",
    "\n",
    "\n",
    "# Create TensorFlow Dataset for model input. \n",
    "train_dataset = tf.data.Dataset.from_generator(\n",
    "    generator=lambda: data_generator(train_files, add_flip=True),\n",
    "    output_signature=(\n",
    "        tf.TensorSpec(shape=(max_frames, image_dims[0], image_dims[1], 3)),\n",
    "        tf.TensorSpec(shape=(NUM_CLASSES), dtype=tf.int32)\n",
    "    )\n",
    ")\n",
    "\n",
    "# Create TensorFlow Dataset for model input. \n",
    "test_dataset = tf.data.Dataset.from_generator(\n",
    "    generator=lambda: data_generator(test_files),\n",
    "    output_signature=(\n",
    "        tf.TensorSpec(shape=(max_frames, image_dims[0], image_dims[1], 3)),\n",
    "        tf.TensorSpec(shape=(NUM_CLASSES), dtype=tf.int32)\n",
    "    )\n",
    ")"
   ]
  },
  {
   "cell_type": "code",
   "execution_count": 27,
   "metadata": {},
   "outputs": [],
   "source": [
    "#next(iter(train_dataset.batch(1))) #Does a sanity check to confirm that the dataset is processed in batches"
   ]
  },
  {
   "cell_type": "code",
   "execution_count": 28,
   "metadata": {},
   "outputs": [],
   "source": [
    "# Create backbone and model.\n",
    "backbone = movinet.Movinet(\n",
    "    model_id=model_version, #change to correspond to model\n",
    "    causal=False,\n",
    "    use_external_states=False,\n",
    ")"
   ]
  },
  {
   "cell_type": "code",
   "execution_count": 29,
   "metadata": {},
   "outputs": [],
   "source": [
    "def build_classifier(backbone, num_classes, encoder_dim=768, dropout_rate=0.05):\n",
    "    \"\"\"Builds a classifier on top of a backbone model.\"\"\"\n",
    "    model = movinet_model_modified.MovinetClassifier(\n",
    "        backbone=backbone,\n",
    "        num_classes=num_classes, \n",
    "        encoder_dim=encoder_dim, \n",
    "        dropout_rate=dropout_rate)\n",
    "    model.build([2, max_frames, image_dims[0], image_dims[1], 3])\n",
    "\n",
    "    model.layers[0].trainable = False\n",
    "    model.layers[1].trainable = True\n",
    "    model.layers[-1].trainable = True\n",
    "\n",
    "    if model_version == 'a2':\n",
    "        for i in range(21):\n",
    "            model.layers[1].layers[i].trainable = False\n",
    "    elif model_version == 'a3':\n",
    "        for i in range(25):\n",
    "            model.layers[1].layers[i].trainable = False\n",
    "\n",
    "    model.layers[1].layers[-1].trainable = False\n",
    "\n",
    "    return model\n",
    "\n",
    "# Wrap the backbone with a new classifier to create a new classifier head\n",
    "# with num_classes outputs (101 classes for UCF101).\n",
    "# Freeze all layers except for the final classifier head.\n",
    "model = build_classifier(backbone, NUM_CLASSES, encoder_dim=768, dropout_rate=0.05)"
   ]
  },
  {
   "cell_type": "code",
   "execution_count": 30,
   "metadata": {
    "scrolled": true
   },
   "outputs": [
    {
     "name": "stdout",
     "output_type": "stream",
     "text": [
      "Model: \"movinet_classifier\"\n",
      "_________________________________________________________________\n",
      " Layer (type)                Output Shape              Param #   \n",
      "=================================================================\n",
      " image (InputLayer)          [(None, None, None, Non   0         \n",
      "                             e, 3)]                              \n",
      "                                                                 \n",
      " movinet (Movinet)           ({'stem': (None, None,    2738754   \n",
      "                             None, None, 16),                    \n",
      "                              'block0_layer0': (None             \n",
      "                             , None, None, None, 16)             \n",
      "                             , 'block0_layer1': (Non             \n",
      "                             e, None, None, None, 16             \n",
      "                             ),                                  \n",
      "                              'block0_layer2': (None             \n",
      "                             , None, None, None, 16)             \n",
      "                             , 'block1_layer0': (Non             \n",
      "                             e, None, None, None, 40             \n",
      "                             ),                                  \n",
      "                              'block1_layer1': (None             \n",
      "                             , None, None, None, 40)             \n",
      "                             , 'block1_layer2': (Non             \n",
      "                             e, None, None, None, 40             \n",
      "                             ),                                  \n",
      "                              'block1_layer3': (None             \n",
      "                             , None, None, None, 40)             \n",
      "                             , 'block1_layer4': (Non             \n",
      "                             e, None, None, None, 40             \n",
      "                             ),                                  \n",
      "                              'block2_layer0': (None             \n",
      "                             , None, None, None, 72)             \n",
      "                             , 'block2_layer1': (Non             \n",
      "                             e, None, None, None, 72             \n",
      "                             ),                                  \n",
      "                              'block2_layer2': (None             \n",
      "                             , None, None, None, 72)             \n",
      "                             , 'block2_layer3': (Non             \n",
      "                             e, None, None, None, 72             \n",
      "                             ),                                  \n",
      "                              'block2_layer4': (None             \n",
      "                             , None, None, None, 72)             \n",
      "                             , 'block3_layer0': (Non             \n",
      "                             e, None, None, None, 72             \n",
      "                             ),                                  \n",
      "                              'block3_layer1': (None             \n",
      "                             , None, None, None, 72)             \n",
      "                             , 'block3_layer2': (Non             \n",
      "                             e, None, None, None, 72             \n",
      "                             ),                                  \n",
      "                              'block3_layer3': (None             \n",
      "                             , None, None, None, 72)             \n",
      "                             , 'block3_layer4': (Non             \n",
      "                             e, None, None, None, 72             \n",
      "                             ),                                  \n",
      "                              'block3_layer5': (None             \n",
      "                             , None, None, None, 72)             \n",
      "                             , 'block4_layer0': (Non             \n",
      "                             e, None, None, None, 14             \n",
      "                             4),                                 \n",
      "                              'block4_layer1': (None             \n",
      "                             , None, None, None, 144             \n",
      "                             ),                                  \n",
      "                              'block4_layer2': (None             \n",
      "                             , None, None, None, 144             \n",
      "                             ),                                  \n",
      "                              'block4_layer3': (None             \n",
      "                             , None, None, None, 144             \n",
      "                             ),                                  \n",
      "                              'block4_layer4': (None             \n",
      "                             , None, None, None, 144             \n",
      "                             ),                                  \n",
      "                              'block4_layer5': (None             \n",
      "                             , None, None, None, 144             \n",
      "                             ),                                  \n",
      "                              'block4_layer6': (None             \n",
      "                             , None, None, None, 144             \n",
      "                             ),                                  \n",
      "                              'head': (None, None, N             \n",
      "                             one, None, 640)},                   \n",
      "                              {'state_block0_layer0_             \n",
      "                             pool_buffer': (None, No             \n",
      "                             ne, None, None, 40),                \n",
      "                              'state_block0_layer0_p             \n",
      "                             ool_frame_count': (1,),             \n",
      "                              'state_block0_layer1_p             \n",
      "                             ool_buffer': (None, Non             \n",
      "                             e, None, None, 40),                 \n",
      "                              'state_block0_layer1_p             \n",
      "                             ool_frame_count': (1,),             \n",
      "                              'state_block0_layer2_p             \n",
      "                             ool_buffer': (None, Non             \n",
      "                             e, None, None, 64),                 \n",
      "                              'state_block0_layer2_p             \n",
      "                             ool_frame_count': (1,),             \n",
      "                              'state_block1_layer0_p             \n",
      "                             ool_buffer': (None, Non             \n",
      "                             e, None, None, 96),                 \n",
      "                              'state_block1_layer0_p             \n",
      "                             ool_frame_count': (1,),             \n",
      "                              'state_block1_layer1_p             \n",
      "                             ool_buffer': (None, Non             \n",
      "                             e, None, None, 120),                \n",
      "                              'state_block1_layer1_p             \n",
      "                             ool_frame_count': (1,),             \n",
      "                              'state_block1_layer2_p             \n",
      "                             ool_buffer': (None, Non             \n",
      "                             e, None, None, 96),                 \n",
      "                              'state_block1_layer2_p             \n",
      "                             ool_frame_count': (1,),             \n",
      "                              'state_block1_layer3_p             \n",
      "                             ool_buffer': (None, Non             \n",
      "                             e, None, None, 96),                 \n",
      "                              'state_block1_layer3_p             \n",
      "                             ool_frame_count': (1,),             \n",
      "                              'state_block1_layer4_p             \n",
      "                             ool_buffer': (None, Non             \n",
      "                             e, None, None, 120),                \n",
      "                              'state_block1_layer4_p             \n",
      "                             ool_frame_count': (1,),             \n",
      "                              'state_block2_layer0_p             \n",
      "                             ool_buffer': (None, Non             \n",
      "                             e, None, None, 240),                \n",
      "                              'state_block2_layer0_p             \n",
      "                             ool_frame_count': (1,),             \n",
      "                              'state_block2_layer1_p             \n",
      "                             ool_buffer': (None, Non             \n",
      "                             e, None, None, 160),                \n",
      "                              'state_block2_layer1_p             \n",
      "                             ool_frame_count': (1,),             \n",
      "                              'state_block2_layer2_p             \n",
      "                             ool_buffer': (None, Non             \n",
      "                             e, None, None, 240),                \n",
      "                              'state_block2_layer2_p             \n",
      "                             ool_frame_count': (1,),             \n",
      "                              'state_block2_layer3_p             \n",
      "                             ool_buffer': (None, Non             \n",
      "                             e, None, None, 192),                \n",
      "                              'state_block2_layer3_p             \n",
      "                             ool_frame_count': (1,),             \n",
      "                              'state_block2_layer4_p             \n",
      "                             ool_buffer': (None, Non             \n",
      "                             e, None, None, 240),                \n",
      "                              'state_block2_layer4_p             \n",
      "                             ool_frame_count': (1,),             \n",
      "                              'state_block3_layer0_p             \n",
      "                             ool_buffer': (None, Non             \n",
      "                             e, None, None, 240),                \n",
      "                              'state_block3_layer0_p             \n",
      "                             ool_frame_count': (1,),             \n",
      "                              'state_block3_layer1_p             \n",
      "                             ool_buffer': (None, Non             \n",
      "                             e, None, None, 240),                \n",
      "                              'state_block3_layer1_p             \n",
      "                             ool_frame_count': (1,),             \n",
      "                              'state_block3_layer2_p             \n",
      "                             ool_buffer': (None, Non             \n",
      "                             e, None, None, 240),                \n",
      "                              'state_block3_layer2_p             \n",
      "                             ool_frame_count': (1,),             \n",
      "                              'state_block3_layer3_p             \n",
      "                             ool_buffer': (None, Non             \n",
      "                             e, None, None, 240),                \n",
      "                              'state_block3_layer3_p             \n",
      "                             ool_frame_count': (1,),             \n",
      "                              'state_block3_layer4_p             \n",
      "                             ool_buffer': (None, Non             \n",
      "                             e, None, None, 144),                \n",
      "                              'state_block3_layer4_p             \n",
      "                             ool_frame_count': (1,),             \n",
      "                              'state_block3_layer5_p             \n",
      "                             ool_buffer': (None, Non             \n",
      "                             e, None, None, 240),                \n",
      "                              'state_block3_layer5_p             \n",
      "                             ool_frame_count': (1,),             \n",
      "                              'state_block4_layer0_p             \n",
      "                             ool_buffer': (None, Non             \n",
      "                             e, None, None, 480),                \n",
      "                              'state_block4_layer0_p             \n",
      "                             ool_frame_count': (1,),             \n",
      "                              'state_block4_layer1_p             \n",
      "                             ool_buffer': (None, Non             \n",
      "                             e, None, None, 384),                \n",
      "                              'state_block4_layer1_p             \n",
      "                             ool_frame_count': (1,),             \n",
      "                              'state_block4_layer2_p             \n",
      "                             ool_buffer': (None, Non             \n",
      "                             e, None, None, 384),                \n",
      "                              'state_block4_layer2_p             \n",
      "                             ool_frame_count': (1,),             \n",
      "                              'state_block4_layer3_p             \n",
      "                             ool_buffer': (None, Non             \n",
      "                             e, None, None, 480),                \n",
      "                              'state_block4_layer3_p             \n",
      "                             ool_frame_count': (1,),             \n",
      "                              'state_block4_layer4_p             \n",
      "                             ool_buffer': (None, Non             \n",
      "                             e, None, None, 480),                \n",
      "                              'state_block4_layer4_p             \n",
      "                             ool_frame_count': (1,),             \n",
      "                              'state_block4_layer5_p             \n",
      "                             ool_buffer': (None, Non             \n",
      "                             e, None, None, 480),                \n",
      "                              'state_block4_layer5_p             \n",
      "                             ool_frame_count': (1,),             \n",
      "                              'state_block4_layer6_p             \n",
      "                             ool_buffer': (None, Non             \n",
      "                             e, None, None, 576),                \n",
      "                              'state_block4_layer6_p             \n",
      "                             ool_frame_count': (1,),             \n",
      "                              'state_head_pool_buffe             \n",
      "                             r': (None, None, None,              \n",
      "                             None, 640),                         \n",
      "                              'state_head_pool_frame             \n",
      "                             _count': (1,)})                     \n",
      "                                                                 \n",
      " classifier_head (Classifie  ((None, 107),             179195    \n",
      " rHead)                       (None, None, 768))                 \n",
      "                                                                 \n",
      "=================================================================\n",
      "Total params: 2917949 (11.13 MB)\n",
      "Trainable params: 1971570 (7.52 MB)\n",
      "Non-trainable params: 946379 (3.61 MB)\n",
      "_________________________________________________________________\n"
     ]
    }
   ],
   "source": [
    "model.summary()"
   ]
  },
  {
   "cell_type": "code",
   "execution_count": 31,
   "metadata": {},
   "outputs": [
    {
     "name": "stdout",
     "output_type": "stream",
     "text": [
      "inputs 0 False\n",
      "stem 1 False\n",
      "block0_layer0 2 False\n",
      "block0_layer1 3 False\n",
      "block0_layer2 4 False\n",
      "block1_layer0 5 False\n",
      "block1_layer1 6 False\n",
      "block1_layer2 7 False\n",
      "block1_layer3 8 False\n",
      "block1_layer4 9 False\n",
      "block2_layer0 10 False\n",
      "block2_layer1 11 False\n",
      "block2_layer2 12 False\n",
      "block2_layer3 13 False\n",
      "block2_layer4 14 False\n",
      "block3_layer0 15 False\n",
      "block3_layer1 16 False\n",
      "block3_layer2 17 False\n",
      "block3_layer3 18 False\n",
      "block3_layer4 19 False\n",
      "block3_layer5 20 False\n",
      "block4_layer0 21 True\n",
      "block4_layer1 22 True\n",
      "block4_layer2 23 True\n",
      "block4_layer3 24 True\n",
      "block4_layer4 25 True\n",
      "block4_layer5 26 True\n",
      "block4_layer6 27 True\n",
      "head 28 False\n"
     ]
    }
   ],
   "source": [
    "for i in range(len(model.layers[1].layers)):\n",
    "    print(model.layers[1].layers[i].name, i, model.layers[1].layers[i].trainable)"
   ]
  },
  {
   "cell_type": "code",
   "execution_count": 49,
   "metadata": {},
   "outputs": [],
   "source": [
    "NUM_EPOCHS = 2\n",
    "BATCH_SIZE = 16\n",
    "\n",
    "train_steps = len(train_files) // BATCH_SIZE\n",
    "total_train_steps = train_steps * NUM_EPOCHS\n",
    "\n",
    "test_steps = len(test_files) // BATCH_SIZE\n",
    "\n",
    "loss_obj = tf_keras.losses.CategoricalCrossentropy(\n",
    "    from_logits=True, #label_smoothing=0.05\n",
    "    )\n",
    "\n",
    "metrics = [\n",
    "    tf_keras.metrics.TopKCategoricalAccuracy(\n",
    "        k=1, name='top_1', dtype=tf.float32),\n",
    "    tf_keras.metrics.TopKCategoricalAccuracy(\n",
    "        k=5, name='top_5', dtype=tf.float32),\n",
    "]\n",
    "\n",
    "initial_learning_rate = 0.001\n",
    "learning_rate = tf_keras.optimizers.schedules.CosineDecay(\n",
    "    initial_learning_rate, decay_steps=total_train_steps, warmup_target=0.01, warmup_steps=50\n",
    ")\n",
    "\n",
    "optimizer = tf_keras.optimizers.RMSprop(learning_rate=learning_rate,\n",
    "                                        rho=0.9, momentum=0.9, \n",
    "                                        epsilon=1.0, clipnorm=1.0)\n",
    "\n",
    "\n",
    "model.compile(loss={'prediction':loss_obj, 'vid_embedding':None}, \n",
    "              optimizer=optimizer, \n",
    "              metrics={'prediction':metrics, 'vid_embedding':None})\n",
    "\n",
    "\n",
    "# look into quantization for tf"
   ]
  },
  {
   "cell_type": "code",
   "execution_count": 50,
   "metadata": {},
   "outputs": [
    {
     "data": {
      "image/png": "[encoded data removed]",
      "text/plain": [
       "<Figure size 640x480 with 1 Axes>"
      ]
     },
     "metadata": {},
     "output_type": "display_data"
    }
   ],
   "source": [
    "%matplotlib inline\n",
    "\n",
    "def visualize_lr_schedule(opt, n_steps, step_s) -> Tuple[List[int], List[float]]:\n",
    "    \"\"\"Visualize tensorflow keras scheduler learning rate over the course of n_steps training steps.\n",
    "\n",
    "    Args:\n",
    "        opt (LearningRateSchedule): learning rate scheduler to be visualized.\n",
    "        n_steps (int): number of training steps to visualize over.\n",
    "        step_s (int): sampling step of the training steps, i.e. takes each step_s in the interval [0, n_steps].\n",
    "\n",
    "    Returns:\n",
    "        Tuple[List[int], List[float]]: returns x (steps), y (lr values) values of the plot.\n",
    "    \"\"\"\n",
    "    lr = []\n",
    "    steps = list(range(0, n_steps, step_s))\n",
    "\n",
    "    for step in steps:\n",
    "        lr_at_s = opt(step).numpy()\n",
    "        lr.append(lr_at_s)\n",
    "\n",
    "    plt.suptitle(f'Learning rate schedule of {type(opt).__name__}')\n",
    "    plt.plot(steps, lr)\n",
    "\n",
    "    return steps, lr\n",
    "\n",
    "\n",
    "steps, lr_values = visualize_lr_schedule(learning_rate, n_steps=total_train_steps, step_s=1)"
   ]
  },
  {
   "cell_type": "code",
   "execution_count": 35,
   "metadata": {},
   "outputs": [
    {
     "name": "stdout",
     "output_type": "stream",
     "text": [
      "Epoch 1/2\n"
     ]
    },
    {
     "name": "stderr",
     "output_type": "stream",
     "text": [
      "2023-11-28 23:48:11.301633: I tensorflow/compiler/xla/service/service.cc:168] XLA service 0x20b83ef0 initialized for platform CUDA (this does not guarantee that XLA will be used). Devices:\n",
      "2023-11-28 23:48:11.301679: I tensorflow/compiler/xla/service/service.cc:176]   StreamExecutor device (0): NVIDIA A10G, Compute Capability 8.6\n",
      "2023-11-28 23:48:14.686334: I tensorflow/compiler/xla/stream_executor/cuda/cuda_dnn.cc:432] Loaded cuDNN version 8903\n",
      "2023-11-28 23:48:21.086940: I ./tensorflow/compiler/jit/device_compiler.h:186] Compiled cluster using XLA!  This line is logged at most once for the lifetime of the process.\n",
      "2023-11-28 23:48:55.171574: I tensorflow/compiler/xla/stream_executor/cuda/cuda_blas.cc:606] TensorFloat-32 will be used for the matrix multiplication. This will only be logged once.\n",
      "2023-11-28 23:48:56.356857: I tensorflow/compiler/mlir/tensorflow/utils/dump_mlir_util.cc:255] disabling MLIR crash reproducer, set env var `MLIR_CRASH_REPRODUCER_DIRECTORY` to enable.\n"
     ]
    },
    {
     "name": "stdout",
     "output_type": "stream",
     "text": [
      "    170/Unknown - 10512s 61s/step - loss: 6.1214 - classifier_head_loss: 6.1214 - classifier_head_top_1: 0.0099 - classifier_head_top_5: 0.0533"
     ]
    },
    {
     "name": "stderr",
     "output_type": "stream",
     "text": [
      "2023-11-29 02:42:23.747292: I tensorflow/core/framework/local_rendezvous.cc:405] Local rendezvous recv item cancelled. Key hash: 15969740509382418904\n",
      "2023-11-29 02:42:23.747609: I tensorflow/core/framework/local_rendezvous.cc:405] Local rendezvous recv item cancelled. Key hash: 9486207515426799424\n"
     ]
    },
    {
     "name": "stdout",
     "output_type": "stream",
     "text": [
      "170/170 [==============================] - 12778s 75s/step - loss: 6.1214 - classifier_head_loss: 6.1214 - classifier_head_top_1: 0.0099 - classifier_head_top_5: 0.0533 - val_loss: 6.4611 - val_classifier_head_loss: 6.4611 - val_classifier_head_top_1: 0.0096 - val_classifier_head_top_5: 0.0529\n",
      "Epoch 2/2\n"
     ]
    },
    {
     "name": "stderr",
     "output_type": "stream",
     "text": [
      "2023-11-29 03:19:26.923475: I tensorflow/core/framework/local_rendezvous.cc:405] Local rendezvous recv item cancelled. Key hash: 11274507339056449989\n",
      "2023-11-29 03:19:26.923679: I tensorflow/core/framework/local_rendezvous.cc:405] Local rendezvous recv item cancelled. Key hash: 10111565612499979319\n"
     ]
    },
    {
     "name": "stdout",
     "output_type": "stream",
     "text": [
      "170/170 [==============================] - 12454s 73s/step - loss: 4.9298 - classifier_head_loss: 4.9298 - classifier_head_top_1: 0.0140 - classifier_head_top_5: 0.0768 - val_loss: 4.6845 - val_classifier_head_loss: 4.6845 - val_classifier_head_top_1: 0.0272 - val_classifier_head_top_5: 0.1010\n"
     ]
    }
   ],
   "source": [
    "# takes about 5 mins from start to find out if this will fail or not\n",
    "# got through 4 epochs in 12 minutes\n",
    "results = model.fit(\n",
    "                train_dataset.batch(BATCH_SIZE, drop_remainder=True),\n",
    "                validation_data=test_dataset.batch(BATCH_SIZE, drop_remainder=True),\n",
    "                epochs=NUM_EPOCHS,\n",
    "                verbose=1)\n"
   ]
  },
  {
   "cell_type": "code",
   "execution_count": 40,
   "metadata": {},
   "outputs": [
    {
     "name": "stdout",
     "output_type": "stream",
     "text": [
      "Epoch 1/2\n",
      "    170/Unknown - 10472s 61s/step - loss: 4.7070 - classifier_head_loss: 4.7070 - classifier_head_top_1: 0.0415 - classifier_head_top_5: 0.1312"
     ]
    },
    {
     "name": "stderr",
     "output_type": "stream",
     "text": [
      "2023-11-29 09:47:10.283198: I tensorflow/core/framework/local_rendezvous.cc:405] Local rendezvous recv item cancelled. Key hash: 15969740509382418904\n",
      "2023-11-29 09:47:10.283425: I tensorflow/core/framework/local_rendezvous.cc:405] Local rendezvous recv item cancelled. Key hash: 9486207515426799424\n"
     ]
    },
    {
     "name": "stdout",
     "output_type": "stream",
     "text": [
      "170/170 [==============================] - 12828s 75s/step - loss: 4.7070 - classifier_head_loss: 4.7070 - classifier_head_top_1: 0.0415 - classifier_head_top_5: 0.1312 - val_loss: 4.8420 - val_classifier_head_loss: 4.8420 - val_classifier_head_top_1: 0.0144 - val_classifier_head_top_5: 0.0609\n",
      "Epoch 2/2\n"
     ]
    },
    {
     "name": "stderr",
     "output_type": "stream",
     "text": [
      "2023-11-29 10:25:44.980384: I tensorflow/core/framework/local_rendezvous.cc:405] Local rendezvous recv item cancelled. Key hash: 11274507339056449989\n",
      "2023-11-29 10:25:44.980558: I tensorflow/core/framework/local_rendezvous.cc:405] Local rendezvous recv item cancelled. Key hash: 10111565612499979319\n"
     ]
    },
    {
     "name": "stdout",
     "output_type": "stream",
     "text": [
      "170/170 [==============================] - 11398s 67s/step - loss: 4.2032 - classifier_head_loss: 4.2032 - classifier_head_top_1: 0.1165 - classifier_head_top_5: 0.2548 - val_loss: 4.3741 - val_classifier_head_loss: 4.3741 - val_classifier_head_top_1: 0.0994 - val_classifier_head_top_5: 0.2115\n"
     ]
    }
   ],
   "source": [
    "results = model.fit(\n",
    "                train_dataset.batch(BATCH_SIZE, drop_remainder=True),\n",
    "                validation_data=test_dataset.batch(BATCH_SIZE, drop_remainder=True),\n",
    "                epochs=NUM_EPOCHS,\n",
    "                verbose=1)\n"
   ]
  },
  {
   "cell_type": "code",
   "execution_count": 41,
   "metadata": {
    "scrolled": true
   },
   "outputs": [
    {
     "name": "stdout",
     "output_type": "stream",
     "text": [
      "WARNING:tensorflow:Skipping full serialization of TF-Keras layer <official.vision.modeling.layers.nn_layers.SpatialAveragePool3D object at 0x7fb41e0672e0>, because it is not built.\n"
     ]
    },
    {
     "name": "stderr",
     "output_type": "stream",
     "text": [
      "WARNING:tensorflow:Skipping full serialization of TF-Keras layer <official.vision.modeling.layers.nn_layers.SpatialAveragePool3D object at 0x7fb41e0672e0>, because it is not built.\n"
     ]
    },
    {
     "name": "stdout",
     "output_type": "stream",
     "text": [
      "WARNING:tensorflow:Skipping full serialization of TF-Keras layer <official.vision.modeling.layers.nn_layers.SpatialAveragePool3D object at 0x7fb41e19ca90>, because it is not built.\n"
     ]
    },
    {
     "name": "stderr",
     "output_type": "stream",
     "text": [
      "WARNING:tensorflow:Skipping full serialization of TF-Keras layer <official.vision.modeling.layers.nn_layers.SpatialAveragePool3D object at 0x7fb41e19ca90>, because it is not built.\n"
     ]
    },
    {
     "name": "stdout",
     "output_type": "stream",
     "text": [
      "WARNING:tensorflow:Skipping full serialization of TF-Keras layer <official.vision.modeling.layers.nn_layers.SpatialAveragePool3D object at 0x7fb41d6fca00>, because it is not built.\n"
     ]
    },
    {
     "name": "stderr",
     "output_type": "stream",
     "text": [
      "WARNING:tensorflow:Skipping full serialization of TF-Keras layer <official.vision.modeling.layers.nn_layers.SpatialAveragePool3D object at 0x7fb41d6fca00>, because it is not built.\n"
     ]
    },
    {
     "name": "stdout",
     "output_type": "stream",
     "text": [
      "WARNING:tensorflow:Skipping full serialization of TF-Keras layer <official.vision.modeling.layers.nn_layers.SpatialAveragePool3D object at 0x7fb41e117700>, because it is not built.\n"
     ]
    },
    {
     "name": "stderr",
     "output_type": "stream",
     "text": [
      "WARNING:tensorflow:Skipping full serialization of TF-Keras layer <official.vision.modeling.layers.nn_layers.SpatialAveragePool3D object at 0x7fb41e117700>, because it is not built.\n"
     ]
    },
    {
     "name": "stdout",
     "output_type": "stream",
     "text": [
      "WARNING:tensorflow:Skipping full serialization of TF-Keras layer <official.vision.modeling.layers.nn_layers.SpatialAveragePool3D object at 0x7fb41e053730>, because it is not built.\n"
     ]
    },
    {
     "name": "stderr",
     "output_type": "stream",
     "text": [
      "WARNING:tensorflow:Skipping full serialization of TF-Keras layer <official.vision.modeling.layers.nn_layers.SpatialAveragePool3D object at 0x7fb41e053730>, because it is not built.\n"
     ]
    },
    {
     "name": "stdout",
     "output_type": "stream",
     "text": [
      "WARNING:tensorflow:Skipping full serialization of TF-Keras layer <official.vision.modeling.layers.nn_layers.SpatialAveragePool3D object at 0x7fb41d593490>, because it is not built.\n"
     ]
    },
    {
     "name": "stderr",
     "output_type": "stream",
     "text": [
      "WARNING:tensorflow:Skipping full serialization of TF-Keras layer <official.vision.modeling.layers.nn_layers.SpatialAveragePool3D object at 0x7fb41d593490>, because it is not built.\n"
     ]
    },
    {
     "name": "stdout",
     "output_type": "stream",
     "text": [
      "WARNING:tensorflow:Skipping full serialization of TF-Keras layer <official.vision.modeling.layers.nn_layers.SpatialAveragePool3D object at 0x7fb3a81e05b0>, because it is not built.\n"
     ]
    },
    {
     "name": "stderr",
     "output_type": "stream",
     "text": [
      "WARNING:tensorflow:Skipping full serialization of TF-Keras layer <official.vision.modeling.layers.nn_layers.SpatialAveragePool3D object at 0x7fb3a81e05b0>, because it is not built.\n"
     ]
    },
    {
     "name": "stdout",
     "output_type": "stream",
     "text": [
      "WARNING:tensorflow:Skipping full serialization of TF-Keras layer <official.vision.modeling.layers.nn_layers.SpatialAveragePool3D object at 0x7fb41d6fd810>, because it is not built.\n"
     ]
    },
    {
     "name": "stderr",
     "output_type": "stream",
     "text": [
      "WARNING:tensorflow:Skipping full serialization of TF-Keras layer <official.vision.modeling.layers.nn_layers.SpatialAveragePool3D object at 0x7fb41d6fd810>, because it is not built.\n"
     ]
    },
    {
     "name": "stdout",
     "output_type": "stream",
     "text": [
      "WARNING:tensorflow:Skipping full serialization of TF-Keras layer <official.vision.modeling.layers.nn_layers.SpatialAveragePool3D object at 0x7fb3a816b1c0>, because it is not built.\n"
     ]
    },
    {
     "name": "stderr",
     "output_type": "stream",
     "text": [
      "WARNING:tensorflow:Skipping full serialization of TF-Keras layer <official.vision.modeling.layers.nn_layers.SpatialAveragePool3D object at 0x7fb3a816b1c0>, because it is not built.\n"
     ]
    },
    {
     "name": "stdout",
     "output_type": "stream",
     "text": [
      "WARNING:tensorflow:Skipping full serialization of TF-Keras layer <official.vision.modeling.layers.nn_layers.SpatialAveragePool3D object at 0x7fb41e13bf40>, because it is not built.\n"
     ]
    },
    {
     "name": "stderr",
     "output_type": "stream",
     "text": [
      "WARNING:tensorflow:Skipping full serialization of TF-Keras layer <official.vision.modeling.layers.nn_layers.SpatialAveragePool3D object at 0x7fb41e13bf40>, because it is not built.\n"
     ]
    },
    {
     "name": "stdout",
     "output_type": "stream",
     "text": [
      "WARNING:tensorflow:Skipping full serialization of TF-Keras layer <official.vision.modeling.layers.nn_layers.SpatialAveragePool3D object at 0x7fb41dfedde0>, because it is not built.\n"
     ]
    },
    {
     "name": "stderr",
     "output_type": "stream",
     "text": [
      "WARNING:tensorflow:Skipping full serialization of TF-Keras layer <official.vision.modeling.layers.nn_layers.SpatialAveragePool3D object at 0x7fb41dfedde0>, because it is not built.\n"
     ]
    },
    {
     "name": "stdout",
     "output_type": "stream",
     "text": [
      "WARNING:tensorflow:Skipping full serialization of TF-Keras layer <official.vision.modeling.layers.nn_layers.SpatialAveragePool3D object at 0x7fb41d5aeda0>, because it is not built.\n"
     ]
    },
    {
     "name": "stderr",
     "output_type": "stream",
     "text": [
      "WARNING:tensorflow:Skipping full serialization of TF-Keras layer <official.vision.modeling.layers.nn_layers.SpatialAveragePool3D object at 0x7fb41d5aeda0>, because it is not built.\n"
     ]
    },
    {
     "name": "stdout",
     "output_type": "stream",
     "text": [
      "WARNING:tensorflow:Skipping full serialization of TF-Keras layer <official.vision.modeling.layers.nn_layers.SpatialAveragePool3D object at 0x7fb3a818cb20>, because it is not built.\n"
     ]
    },
    {
     "name": "stderr",
     "output_type": "stream",
     "text": [
      "WARNING:tensorflow:Skipping full serialization of TF-Keras layer <official.vision.modeling.layers.nn_layers.SpatialAveragePool3D object at 0x7fb3a818cb20>, because it is not built.\n"
     ]
    },
    {
     "name": "stdout",
     "output_type": "stream",
     "text": [
      "WARNING:tensorflow:Skipping full serialization of TF-Keras layer <official.vision.modeling.layers.nn_layers.SpatialAveragePool3D object at 0x7fb41d5e9a20>, because it is not built.\n"
     ]
    },
    {
     "name": "stderr",
     "output_type": "stream",
     "text": [
      "WARNING:tensorflow:Skipping full serialization of TF-Keras layer <official.vision.modeling.layers.nn_layers.SpatialAveragePool3D object at 0x7fb41d5e9a20>, because it is not built.\n"
     ]
    },
    {
     "name": "stdout",
     "output_type": "stream",
     "text": [
      "WARNING:tensorflow:Skipping full serialization of TF-Keras layer <official.vision.modeling.layers.nn_layers.SpatialAveragePool3D object at 0x7fb41d72fb20>, because it is not built.\n"
     ]
    },
    {
     "name": "stderr",
     "output_type": "stream",
     "text": [
      "WARNING:tensorflow:Skipping full serialization of TF-Keras layer <official.vision.modeling.layers.nn_layers.SpatialAveragePool3D object at 0x7fb41d72fb20>, because it is not built.\n"
     ]
    },
    {
     "name": "stdout",
     "output_type": "stream",
     "text": [
      "WARNING:tensorflow:Skipping full serialization of TF-Keras layer <official.vision.modeling.layers.nn_layers.SpatialAveragePool3D object at 0x7fb41e0d3fa0>, because it is not built.\n"
     ]
    },
    {
     "name": "stderr",
     "output_type": "stream",
     "text": [
      "WARNING:tensorflow:Skipping full serialization of TF-Keras layer <official.vision.modeling.layers.nn_layers.SpatialAveragePool3D object at 0x7fb41e0d3fa0>, because it is not built.\n"
     ]
    },
    {
     "name": "stdout",
     "output_type": "stream",
     "text": [
      "WARNING:tensorflow:Skipping full serialization of TF-Keras layer <official.vision.modeling.layers.nn_layers.SpatialAveragePool3D object at 0x7fb41e006320>, because it is not built.\n"
     ]
    },
    {
     "name": "stderr",
     "output_type": "stream",
     "text": [
      "WARNING:tensorflow:Skipping full serialization of TF-Keras layer <official.vision.modeling.layers.nn_layers.SpatialAveragePool3D object at 0x7fb41e006320>, because it is not built.\n"
     ]
    },
    {
     "name": "stdout",
     "output_type": "stream",
     "text": [
      "WARNING:tensorflow:Skipping full serialization of TF-Keras layer <official.vision.modeling.layers.nn_layers.SpatialAveragePool3D object at 0x7fb41de8b2e0>, because it is not built.\n"
     ]
    },
    {
     "name": "stderr",
     "output_type": "stream",
     "text": [
      "WARNING:tensorflow:Skipping full serialization of TF-Keras layer <official.vision.modeling.layers.nn_layers.SpatialAveragePool3D object at 0x7fb41de8b2e0>, because it is not built.\n"
     ]
    },
    {
     "name": "stdout",
     "output_type": "stream",
     "text": [
      "WARNING:tensorflow:Skipping full serialization of TF-Keras layer <official.vision.modeling.layers.nn_layers.SpatialAveragePool3D object at 0x7fb41d7b43a0>, because it is not built.\n"
     ]
    },
    {
     "name": "stderr",
     "output_type": "stream",
     "text": [
      "WARNING:tensorflow:Skipping full serialization of TF-Keras layer <official.vision.modeling.layers.nn_layers.SpatialAveragePool3D object at 0x7fb41d7b43a0>, because it is not built.\n"
     ]
    },
    {
     "name": "stdout",
     "output_type": "stream",
     "text": [
      "WARNING:tensorflow:Skipping full serialization of TF-Keras layer <official.vision.modeling.layers.nn_layers.SpatialAveragePool3D object at 0x7fb41e0ef5b0>, because it is not built.\n"
     ]
    },
    {
     "name": "stderr",
     "output_type": "stream",
     "text": [
      "WARNING:tensorflow:Skipping full serialization of TF-Keras layer <official.vision.modeling.layers.nn_layers.SpatialAveragePool3D object at 0x7fb41e0ef5b0>, because it is not built.\n"
     ]
    },
    {
     "name": "stdout",
     "output_type": "stream",
     "text": [
      "WARNING:tensorflow:Skipping full serialization of TF-Keras layer <official.vision.modeling.layers.nn_layers.SpatialAveragePool3D object at 0x7fb41d910310>, because it is not built.\n"
     ]
    },
    {
     "name": "stderr",
     "output_type": "stream",
     "text": [
      "WARNING:tensorflow:Skipping full serialization of TF-Keras layer <official.vision.modeling.layers.nn_layers.SpatialAveragePool3D object at 0x7fb41d910310>, because it is not built.\n"
     ]
    },
    {
     "name": "stdout",
     "output_type": "stream",
     "text": [
      "WARNING:tensorflow:Skipping full serialization of TF-Keras layer <official.vision.modeling.layers.nn_layers.SpatialAveragePool3D object at 0x7fb3a81573d0>, because it is not built.\n"
     ]
    },
    {
     "name": "stderr",
     "output_type": "stream",
     "text": [
      "WARNING:tensorflow:Skipping full serialization of TF-Keras layer <official.vision.modeling.layers.nn_layers.SpatialAveragePool3D object at 0x7fb3a81573d0>, because it is not built.\n"
     ]
    },
    {
     "name": "stdout",
     "output_type": "stream",
     "text": [
      "WARNING:tensorflow:Skipping full serialization of TF-Keras layer <official.vision.modeling.layers.nn_layers.SpatialAveragePool3D object at 0x7fb2ee0eb1f0>, because it is not built.\n"
     ]
    },
    {
     "name": "stderr",
     "output_type": "stream",
     "text": [
      "WARNING:tensorflow:Skipping full serialization of TF-Keras layer <official.vision.modeling.layers.nn_layers.SpatialAveragePool3D object at 0x7fb2ee0eb1f0>, because it is not built.\n"
     ]
    },
    {
     "name": "stdout",
     "output_type": "stream",
     "text": [
      "WARNING:tensorflow:Skipping full serialization of TF-Keras layer <official.vision.modeling.layers.nn_layers.SpatialAveragePool3D object at 0x7fb2ee1b4850>, because it is not built.\n"
     ]
    },
    {
     "name": "stderr",
     "output_type": "stream",
     "text": [
      "WARNING:tensorflow:Skipping full serialization of TF-Keras layer <official.vision.modeling.layers.nn_layers.SpatialAveragePool3D object at 0x7fb2ee1b4850>, because it is not built.\n"
     ]
    },
    {
     "name": "stdout",
     "output_type": "stream",
     "text": [
      "WARNING:tensorflow:Skipping full serialization of TF-Keras layer <official.vision.modeling.layers.nn_layers.SpatialAveragePool3D object at 0x7fb2e4ba1c60>, because it is not built.\n"
     ]
    },
    {
     "name": "stderr",
     "output_type": "stream",
     "text": [
      "WARNING:tensorflow:Skipping full serialization of TF-Keras layer <official.vision.modeling.layers.nn_layers.SpatialAveragePool3D object at 0x7fb2e4ba1c60>, because it is not built.\n"
     ]
    },
    {
     "name": "stdout",
     "output_type": "stream",
     "text": [
      "WARNING:tensorflow:Skipping full serialization of TF-Keras layer <official.vision.modeling.layers.nn_layers.SpatialAveragePool3D object at 0x7fb2e4a56020>, because it is not built.\n"
     ]
    },
    {
     "name": "stderr",
     "output_type": "stream",
     "text": [
      "WARNING:tensorflow:Skipping full serialization of TF-Keras layer <official.vision.modeling.layers.nn_layers.SpatialAveragePool3D object at 0x7fb2e4a56020>, because it is not built.\n"
     ]
    },
    {
     "name": "stdout",
     "output_type": "stream",
     "text": [
      "INFO:tensorflow:Assets written to: /home/ec2-user/ASL-Translator/modeling/movinet_checkpoints_a2/assets\n"
     ]
    },
    {
     "name": "stderr",
     "output_type": "stream",
     "text": [
      "INFO:tensorflow:Assets written to: /home/ec2-user/ASL-Translator/modeling/movinet_checkpoints_a2/assets\n"
     ]
    }
   ],
   "source": [
    "model.save('/home/ec2-user/ASL-Translator/modeling/movinet_checkpoints_a2')"
   ]
  },
  {
   "cell_type": "code",
   "execution_count": 42,
   "metadata": {},
   "outputs": [],
   "source": [
    "model.save('/home/ec2-user/ASL-Translator/modeling/movinet_a2_epoch4_finetuned.h5')"
   ]
  },
  {
   "cell_type": "code",
   "execution_count": 43,
   "metadata": {},
   "outputs": [
    {
     "name": "stdout",
     "output_type": "stream",
     "text": [
      "Epoch 1/2\n",
      "    170/Unknown - 9455s 56s/step - loss: 3.7181 - classifier_head_loss: 3.7181 - classifier_head_top_1: 0.1926 - classifier_head_top_5: 0.3864"
     ]
    },
    {
     "name": "stderr",
     "output_type": "stream",
     "text": [
      "2023-11-29 16:16:04.220702: I tensorflow/core/framework/local_rendezvous.cc:405] Local rendezvous recv item cancelled. Key hash: 15969740509382418904\n",
      "2023-11-29 16:16:04.220958: I tensorflow/core/framework/local_rendezvous.cc:405] Local rendezvous recv item cancelled. Key hash: 9486207515426799424\n"
     ]
    },
    {
     "name": "stdout",
     "output_type": "stream",
     "text": [
      "170/170 [==============================] - 11817s 70s/step - loss: 3.7181 - classifier_head_loss: 3.7181 - classifier_head_top_1: 0.1926 - classifier_head_top_5: 0.3864 - val_loss: 4.3729 - val_classifier_head_loss: 4.3729 - val_classifier_head_top_1: 0.1042 - val_classifier_head_top_5: 0.2260\n",
      "Epoch 2/2\n"
     ]
    },
    {
     "name": "stderr",
     "output_type": "stream",
     "text": [
      "2023-11-29 16:54:39.697356: I tensorflow/core/framework/local_rendezvous.cc:405] Local rendezvous recv item cancelled. Key hash: 11274507339056449989\n",
      "2023-11-29 16:54:39.697531: I tensorflow/core/framework/local_rendezvous.cc:405] Local rendezvous recv item cancelled. Key hash: 10111565612499979319\n"
     ]
    },
    {
     "name": "stdout",
     "output_type": "stream",
     "text": [
      "170/170 [==============================] - 11871s 70s/step - loss: 3.7147 - classifier_head_loss: 3.7147 - classifier_head_top_1: 0.1952 - classifier_head_top_5: 0.3879 - val_loss: 4.3768 - val_classifier_head_loss: 4.3768 - val_classifier_head_top_1: 0.1042 - val_classifier_head_top_5: 0.2244\n"
     ]
    }
   ],
   "source": [
    "results = model.fit(\n",
    "                train_dataset.batch(BATCH_SIZE, drop_remainder=True),\n",
    "                validation_data=test_dataset.batch(BATCH_SIZE, drop_remainder=True),\n",
    "                epochs=NUM_EPOCHS,\n",
    "                verbose=1)"
   ]
  },
  {
   "cell_type": "code",
   "execution_count": 44,
   "metadata": {
    "scrolled": true
   },
   "outputs": [
    {
     "name": "stdout",
     "output_type": "stream",
     "text": [
      "WARNING:tensorflow:Skipping full serialization of TF-Keras layer <official.vision.modeling.layers.nn_layers.SpatialAveragePool3D object at 0x7fb41e0672e0>, because it is not built.\n"
     ]
    },
    {
     "name": "stderr",
     "output_type": "stream",
     "text": [
      "WARNING:tensorflow:Skipping full serialization of TF-Keras layer <official.vision.modeling.layers.nn_layers.SpatialAveragePool3D object at 0x7fb41e0672e0>, because it is not built.\n"
     ]
    },
    {
     "name": "stdout",
     "output_type": "stream",
     "text": [
      "WARNING:tensorflow:Skipping full serialization of TF-Keras layer <official.vision.modeling.layers.nn_layers.SpatialAveragePool3D object at 0x7fb41e19ca90>, because it is not built.\n"
     ]
    },
    {
     "name": "stderr",
     "output_type": "stream",
     "text": [
      "WARNING:tensorflow:Skipping full serialization of TF-Keras layer <official.vision.modeling.layers.nn_layers.SpatialAveragePool3D object at 0x7fb41e19ca90>, because it is not built.\n"
     ]
    },
    {
     "name": "stdout",
     "output_type": "stream",
     "text": [
      "WARNING:tensorflow:Skipping full serialization of TF-Keras layer <official.vision.modeling.layers.nn_layers.SpatialAveragePool3D object at 0x7fb41d6fca00>, because it is not built.\n"
     ]
    },
    {
     "name": "stderr",
     "output_type": "stream",
     "text": [
      "WARNING:tensorflow:Skipping full serialization of TF-Keras layer <official.vision.modeling.layers.nn_layers.SpatialAveragePool3D object at 0x7fb41d6fca00>, because it is not built.\n"
     ]
    },
    {
     "name": "stdout",
     "output_type": "stream",
     "text": [
      "WARNING:tensorflow:Skipping full serialization of TF-Keras layer <official.vision.modeling.layers.nn_layers.SpatialAveragePool3D object at 0x7fb41e117700>, because it is not built.\n"
     ]
    },
    {
     "name": "stderr",
     "output_type": "stream",
     "text": [
      "WARNING:tensorflow:Skipping full serialization of TF-Keras layer <official.vision.modeling.layers.nn_layers.SpatialAveragePool3D object at 0x7fb41e117700>, because it is not built.\n"
     ]
    },
    {
     "name": "stdout",
     "output_type": "stream",
     "text": [
      "WARNING:tensorflow:Skipping full serialization of TF-Keras layer <official.vision.modeling.layers.nn_layers.SpatialAveragePool3D object at 0x7fb41e053730>, because it is not built.\n"
     ]
    },
    {
     "name": "stderr",
     "output_type": "stream",
     "text": [
      "WARNING:tensorflow:Skipping full serialization of TF-Keras layer <official.vision.modeling.layers.nn_layers.SpatialAveragePool3D object at 0x7fb41e053730>, because it is not built.\n"
     ]
    },
    {
     "name": "stdout",
     "output_type": "stream",
     "text": [
      "WARNING:tensorflow:Skipping full serialization of TF-Keras layer <official.vision.modeling.layers.nn_layers.SpatialAveragePool3D object at 0x7fb41d593490>, because it is not built.\n"
     ]
    },
    {
     "name": "stderr",
     "output_type": "stream",
     "text": [
      "WARNING:tensorflow:Skipping full serialization of TF-Keras layer <official.vision.modeling.layers.nn_layers.SpatialAveragePool3D object at 0x7fb41d593490>, because it is not built.\n"
     ]
    },
    {
     "name": "stdout",
     "output_type": "stream",
     "text": [
      "WARNING:tensorflow:Skipping full serialization of TF-Keras layer <official.vision.modeling.layers.nn_layers.SpatialAveragePool3D object at 0x7fb3a81e05b0>, because it is not built.\n"
     ]
    },
    {
     "name": "stderr",
     "output_type": "stream",
     "text": [
      "WARNING:tensorflow:Skipping full serialization of TF-Keras layer <official.vision.modeling.layers.nn_layers.SpatialAveragePool3D object at 0x7fb3a81e05b0>, because it is not built.\n"
     ]
    },
    {
     "name": "stdout",
     "output_type": "stream",
     "text": [
      "WARNING:tensorflow:Skipping full serialization of TF-Keras layer <official.vision.modeling.layers.nn_layers.SpatialAveragePool3D object at 0x7fb41d6fd810>, because it is not built.\n"
     ]
    },
    {
     "name": "stderr",
     "output_type": "stream",
     "text": [
      "WARNING:tensorflow:Skipping full serialization of TF-Keras layer <official.vision.modeling.layers.nn_layers.SpatialAveragePool3D object at 0x7fb41d6fd810>, because it is not built.\n"
     ]
    },
    {
     "name": "stdout",
     "output_type": "stream",
     "text": [
      "WARNING:tensorflow:Skipping full serialization of TF-Keras layer <official.vision.modeling.layers.nn_layers.SpatialAveragePool3D object at 0x7fb3a816b1c0>, because it is not built.\n"
     ]
    },
    {
     "name": "stderr",
     "output_type": "stream",
     "text": [
      "WARNING:tensorflow:Skipping full serialization of TF-Keras layer <official.vision.modeling.layers.nn_layers.SpatialAveragePool3D object at 0x7fb3a816b1c0>, because it is not built.\n"
     ]
    },
    {
     "name": "stdout",
     "output_type": "stream",
     "text": [
      "WARNING:tensorflow:Skipping full serialization of TF-Keras layer <official.vision.modeling.layers.nn_layers.SpatialAveragePool3D object at 0x7fb41e13bf40>, because it is not built.\n"
     ]
    },
    {
     "name": "stderr",
     "output_type": "stream",
     "text": [
      "WARNING:tensorflow:Skipping full serialization of TF-Keras layer <official.vision.modeling.layers.nn_layers.SpatialAveragePool3D object at 0x7fb41e13bf40>, because it is not built.\n"
     ]
    },
    {
     "name": "stdout",
     "output_type": "stream",
     "text": [
      "WARNING:tensorflow:Skipping full serialization of TF-Keras layer <official.vision.modeling.layers.nn_layers.SpatialAveragePool3D object at 0x7fb41dfedde0>, because it is not built.\n"
     ]
    },
    {
     "name": "stderr",
     "output_type": "stream",
     "text": [
      "WARNING:tensorflow:Skipping full serialization of TF-Keras layer <official.vision.modeling.layers.nn_layers.SpatialAveragePool3D object at 0x7fb41dfedde0>, because it is not built.\n"
     ]
    },
    {
     "name": "stdout",
     "output_type": "stream",
     "text": [
      "WARNING:tensorflow:Skipping full serialization of TF-Keras layer <official.vision.modeling.layers.nn_layers.SpatialAveragePool3D object at 0x7fb41d5aeda0>, because it is not built.\n"
     ]
    },
    {
     "name": "stderr",
     "output_type": "stream",
     "text": [
      "WARNING:tensorflow:Skipping full serialization of TF-Keras layer <official.vision.modeling.layers.nn_layers.SpatialAveragePool3D object at 0x7fb41d5aeda0>, because it is not built.\n"
     ]
    },
    {
     "name": "stdout",
     "output_type": "stream",
     "text": [
      "WARNING:tensorflow:Skipping full serialization of TF-Keras layer <official.vision.modeling.layers.nn_layers.SpatialAveragePool3D object at 0x7fb3a818cb20>, because it is not built.\n"
     ]
    },
    {
     "name": "stderr",
     "output_type": "stream",
     "text": [
      "WARNING:tensorflow:Skipping full serialization of TF-Keras layer <official.vision.modeling.layers.nn_layers.SpatialAveragePool3D object at 0x7fb3a818cb20>, because it is not built.\n"
     ]
    },
    {
     "name": "stdout",
     "output_type": "stream",
     "text": [
      "WARNING:tensorflow:Skipping full serialization of TF-Keras layer <official.vision.modeling.layers.nn_layers.SpatialAveragePool3D object at 0x7fb41d5e9a20>, because it is not built.\n"
     ]
    },
    {
     "name": "stderr",
     "output_type": "stream",
     "text": [
      "WARNING:tensorflow:Skipping full serialization of TF-Keras layer <official.vision.modeling.layers.nn_layers.SpatialAveragePool3D object at 0x7fb41d5e9a20>, because it is not built.\n"
     ]
    },
    {
     "name": "stdout",
     "output_type": "stream",
     "text": [
      "WARNING:tensorflow:Skipping full serialization of TF-Keras layer <official.vision.modeling.layers.nn_layers.SpatialAveragePool3D object at 0x7fb41d72fb20>, because it is not built.\n"
     ]
    },
    {
     "name": "stderr",
     "output_type": "stream",
     "text": [
      "WARNING:tensorflow:Skipping full serialization of TF-Keras layer <official.vision.modeling.layers.nn_layers.SpatialAveragePool3D object at 0x7fb41d72fb20>, because it is not built.\n"
     ]
    },
    {
     "name": "stdout",
     "output_type": "stream",
     "text": [
      "WARNING:tensorflow:Skipping full serialization of TF-Keras layer <official.vision.modeling.layers.nn_layers.SpatialAveragePool3D object at 0x7fb41e0d3fa0>, because it is not built.\n"
     ]
    },
    {
     "name": "stderr",
     "output_type": "stream",
     "text": [
      "WARNING:tensorflow:Skipping full serialization of TF-Keras layer <official.vision.modeling.layers.nn_layers.SpatialAveragePool3D object at 0x7fb41e0d3fa0>, because it is not built.\n"
     ]
    },
    {
     "name": "stdout",
     "output_type": "stream",
     "text": [
      "WARNING:tensorflow:Skipping full serialization of TF-Keras layer <official.vision.modeling.layers.nn_layers.SpatialAveragePool3D object at 0x7fb41e006320>, because it is not built.\n"
     ]
    },
    {
     "name": "stderr",
     "output_type": "stream",
     "text": [
      "WARNING:tensorflow:Skipping full serialization of TF-Keras layer <official.vision.modeling.layers.nn_layers.SpatialAveragePool3D object at 0x7fb41e006320>, because it is not built.\n"
     ]
    },
    {
     "name": "stdout",
     "output_type": "stream",
     "text": [
      "WARNING:tensorflow:Skipping full serialization of TF-Keras layer <official.vision.modeling.layers.nn_layers.SpatialAveragePool3D object at 0x7fb41de8b2e0>, because it is not built.\n"
     ]
    },
    {
     "name": "stderr",
     "output_type": "stream",
     "text": [
      "WARNING:tensorflow:Skipping full serialization of TF-Keras layer <official.vision.modeling.layers.nn_layers.SpatialAveragePool3D object at 0x7fb41de8b2e0>, because it is not built.\n"
     ]
    },
    {
     "name": "stdout",
     "output_type": "stream",
     "text": [
      "WARNING:tensorflow:Skipping full serialization of TF-Keras layer <official.vision.modeling.layers.nn_layers.SpatialAveragePool3D object at 0x7fb41d7b43a0>, because it is not built.\n"
     ]
    },
    {
     "name": "stderr",
     "output_type": "stream",
     "text": [
      "WARNING:tensorflow:Skipping full serialization of TF-Keras layer <official.vision.modeling.layers.nn_layers.SpatialAveragePool3D object at 0x7fb41d7b43a0>, because it is not built.\n"
     ]
    },
    {
     "name": "stdout",
     "output_type": "stream",
     "text": [
      "WARNING:tensorflow:Skipping full serialization of TF-Keras layer <official.vision.modeling.layers.nn_layers.SpatialAveragePool3D object at 0x7fb41e0ef5b0>, because it is not built.\n"
     ]
    },
    {
     "name": "stderr",
     "output_type": "stream",
     "text": [
      "WARNING:tensorflow:Skipping full serialization of TF-Keras layer <official.vision.modeling.layers.nn_layers.SpatialAveragePool3D object at 0x7fb41e0ef5b0>, because it is not built.\n"
     ]
    },
    {
     "name": "stdout",
     "output_type": "stream",
     "text": [
      "WARNING:tensorflow:Skipping full serialization of TF-Keras layer <official.vision.modeling.layers.nn_layers.SpatialAveragePool3D object at 0x7fb41d910310>, because it is not built.\n"
     ]
    },
    {
     "name": "stderr",
     "output_type": "stream",
     "text": [
      "WARNING:tensorflow:Skipping full serialization of TF-Keras layer <official.vision.modeling.layers.nn_layers.SpatialAveragePool3D object at 0x7fb41d910310>, because it is not built.\n"
     ]
    },
    {
     "name": "stdout",
     "output_type": "stream",
     "text": [
      "WARNING:tensorflow:Skipping full serialization of TF-Keras layer <official.vision.modeling.layers.nn_layers.SpatialAveragePool3D object at 0x7fb3a81573d0>, because it is not built.\n"
     ]
    },
    {
     "name": "stderr",
     "output_type": "stream",
     "text": [
      "WARNING:tensorflow:Skipping full serialization of TF-Keras layer <official.vision.modeling.layers.nn_layers.SpatialAveragePool3D object at 0x7fb3a81573d0>, because it is not built.\n"
     ]
    },
    {
     "name": "stdout",
     "output_type": "stream",
     "text": [
      "WARNING:tensorflow:Skipping full serialization of TF-Keras layer <official.vision.modeling.layers.nn_layers.SpatialAveragePool3D object at 0x7fb2ee0eb1f0>, because it is not built.\n"
     ]
    },
    {
     "name": "stderr",
     "output_type": "stream",
     "text": [
      "WARNING:tensorflow:Skipping full serialization of TF-Keras layer <official.vision.modeling.layers.nn_layers.SpatialAveragePool3D object at 0x7fb2ee0eb1f0>, because it is not built.\n"
     ]
    },
    {
     "name": "stdout",
     "output_type": "stream",
     "text": [
      "WARNING:tensorflow:Skipping full serialization of TF-Keras layer <official.vision.modeling.layers.nn_layers.SpatialAveragePool3D object at 0x7fb2ee1b4850>, because it is not built.\n"
     ]
    },
    {
     "name": "stderr",
     "output_type": "stream",
     "text": [
      "WARNING:tensorflow:Skipping full serialization of TF-Keras layer <official.vision.modeling.layers.nn_layers.SpatialAveragePool3D object at 0x7fb2ee1b4850>, because it is not built.\n"
     ]
    },
    {
     "name": "stdout",
     "output_type": "stream",
     "text": [
      "WARNING:tensorflow:Skipping full serialization of TF-Keras layer <official.vision.modeling.layers.nn_layers.SpatialAveragePool3D object at 0x7fb2e4ba1c60>, because it is not built.\n"
     ]
    },
    {
     "name": "stderr",
     "output_type": "stream",
     "text": [
      "WARNING:tensorflow:Skipping full serialization of TF-Keras layer <official.vision.modeling.layers.nn_layers.SpatialAveragePool3D object at 0x7fb2e4ba1c60>, because it is not built.\n"
     ]
    },
    {
     "name": "stdout",
     "output_type": "stream",
     "text": [
      "WARNING:tensorflow:Skipping full serialization of TF-Keras layer <official.vision.modeling.layers.nn_layers.SpatialAveragePool3D object at 0x7fb2e4a56020>, because it is not built.\n"
     ]
    },
    {
     "name": "stderr",
     "output_type": "stream",
     "text": [
      "WARNING:tensorflow:Skipping full serialization of TF-Keras layer <official.vision.modeling.layers.nn_layers.SpatialAveragePool3D object at 0x7fb2e4a56020>, because it is not built.\n"
     ]
    },
    {
     "name": "stdout",
     "output_type": "stream",
     "text": [
      "INFO:tensorflow:Assets written to: /home/ec2-user/ASL-Translator/modeling/movinet_checkpoints_a2/assets\n"
     ]
    },
    {
     "name": "stderr",
     "output_type": "stream",
     "text": [
      "INFO:tensorflow:Assets written to: /home/ec2-user/ASL-Translator/modeling/movinet_checkpoints_a2/assets\n"
     ]
    }
   ],
   "source": [
    "model.save('/home/ec2-user/ASL-Translator/modeling/movinet_a2_epoch6_finetuned.h5')\n",
    "model.save('/home/ec2-user/ASL-Translator/modeling/movinet_checkpoints_a2')"
   ]
  },
  {
   "cell_type": "code",
   "execution_count": 52,
   "metadata": {},
   "outputs": [
    {
     "name": "stdout",
     "output_type": "stream",
     "text": [
      "inputs 0 False\n",
      "stem 1 False\n",
      "block0_layer0 2 False\n",
      "block0_layer1 3 False\n",
      "block0_layer2 4 False\n",
      "block1_layer0 5 False\n",
      "block1_layer1 6 False\n",
      "block1_layer2 7 False\n",
      "block1_layer3 8 False\n",
      "block1_layer4 9 False\n",
      "block2_layer0 10 False\n",
      "block2_layer1 11 False\n",
      "block2_layer2 12 False\n",
      "block2_layer3 13 False\n",
      "block2_layer4 14 False\n",
      "block3_layer0 15 True\n",
      "block3_layer1 16 True\n",
      "block3_layer2 17 True\n",
      "block3_layer3 18 True\n",
      "block3_layer4 19 True\n",
      "block3_layer5 20 True\n",
      "block4_layer0 21 False\n",
      "block4_layer1 22 False\n",
      "block4_layer2 23 False\n",
      "block4_layer3 24 False\n",
      "block4_layer4 25 False\n",
      "block4_layer5 26 False\n",
      "block4_layer6 27 False\n",
      "head 28 False\n"
     ]
    }
   ],
   "source": [
    "for i in range(15,21):\n",
    "    model.layers[1].layers[i].trainable = True\n",
    "\n",
    "for i in range(21,len(model.layers[1].layers)):\n",
    "    model.layers[1].layers[i].trainable = False\n",
    "\n",
    "for i in range(len(model.layers[1].layers)):\n",
    "    print(model.layers[1].layers[i].name, i, model.layers[1].layers[i].trainable)"
   ]
  },
  {
   "cell_type": "code",
   "execution_count": null,
   "metadata": {},
   "outputs": [
    {
     "name": "stdout",
     "output_type": "stream",
     "text": [
      "Epoch 1/2\n",
      "     86/Unknown - 4668s 54s/step - loss: 3.4298 - classifier_head_loss: 3.4298 - classifier_head_top_1: 0.2369 - classifier_head_top_5: 0.4433"
     ]
    }
   ],
   "source": [
    "results = model.fit(\n",
    "                train_dataset.batch(BATCH_SIZE, drop_remainder=True),\n",
    "                validation_data=test_dataset.batch(BATCH_SIZE, drop_remainder=True),\n",
    "                epochs=NUM_EPOCHS,\n",
    "                verbose=1)"
   ]
  },
  {
   "cell_type": "code",
   "execution_count": null,
   "metadata": {},
   "outputs": [],
   "source": [
    "model.save('/home/ec2-user/ASL-Translator/modeling/movinet_a2_epoch8_finetuned.h5')\n",
    "# model.save('/home/ec2-user/ASL-Translator/modeling/movinet_checkpoints_a2')"
   ]
  },
  {
   "cell_type": "code",
   "execution_count": null,
   "metadata": {},
   "outputs": [],
   "source": [
    "for i in range(10,16):\n",
    "    model.layers[1].layers[i].trainable = True\n",
    "\n",
    "for i in range(16,len(model.layers[1].layers)):\n",
    "    model.layers[1].layers[i].trainable = False\n",
    "\n",
    "for i in range(len(model.layers[1].layers)):\n",
    "    print(model.layers[1].layers[i].name, i, model.layers[1].layers[i].trainable)\n",
    "\n",
    "NUM_EPOCHS = 1\n",
    "BATCH_SIZE = 16\n",
    "\n",
    "train_steps = len(train_files) // BATCH_SIZE\n",
    "total_train_steps = train_steps * NUM_EPOCHS\n",
    "\n",
    "test_steps = len(test_files) // BATCH_SIZE\n",
    "\n",
    "initial_learning_rate = 0.001\n",
    "learning_rate = tf_keras.optimizers.schedules.CosineDecay(\n",
    "    initial_learning_rate, decay_steps=total_train_steps, warmup_target=0.005, warmup_steps=10\n",
    ")\n",
    "\n",
    "optimizer = tf_keras.optimizers.RMSprop(learning_rate=learning_rate,\n",
    "                                        rho=0.9, momentum=0.9, \n",
    "                                        epsilon=1.0, clipnorm=1.0)\n",
    "\n",
    "model.compile(loss={'prediction':loss_obj, 'vid_embedding':None}, \n",
    "              optimizer=optimizer, \n",
    "              metrics={'prediction':metrics, 'vid_embedding':None})\n",
    "\n",
    "steps, lr_values = visualize_lr_schedule(learning_rate, n_steps=total_train_steps, step_s=1)"
   ]
  },
  {
   "cell_type": "code",
   "execution_count": null,
   "metadata": {},
   "outputs": [],
   "source": [
    "results = model.fit(\n",
    "                train_dataset.batch(BATCH_SIZE, drop_remainder=True),\n",
    "                validation_data=test_dataset.batch(BATCH_SIZE, drop_remainder=True),\n",
    "                epochs=1,\n",
    "                verbose=1)"
   ]
  },
  {
   "cell_type": "code",
   "execution_count": null,
   "metadata": {},
   "outputs": [],
   "source": [
    "model.save('/home/ec2-user/ASL-Translator/modeling/movinet_a2_epoch10_finetuned.h5')"
   ]
  },
  {
   "cell_type": "code",
   "execution_count": null,
   "metadata": {},
   "outputs": [],
   "source": [
    "model.layers[1].trainable = True\n",
    "\n",
    "for i in range(25):\n",
    "            model.layers[1].layers[i].trainable = False\n",
    "\n",
    "for i in range(len(model.layers[1].layers)):\n",
    "    print(model.layers[1].layers[i].name, i, model.layers[1].layers[i].trainable)\n",
    "\n",
    "\n",
    "initial_learning_rate = 0.001\n",
    "learning_rate = tf_keras.optimizers.schedules.CosineDecay(\n",
    "    initial_learning_rate, decay_steps=total_train_steps, warmup_target=0.01, warmup_steps=10\n",
    ")\n",
    "\n",
    "optimizer = tf_keras.optimizers.RMSprop(learning_rate=learning_rate,\n",
    "                                        rho=0.9, momentum=0.9, \n",
    "                                        epsilon=1.0, clipnorm=1.0)\n",
    "\n",
    "model.compile(loss={'prediction':loss_obj, 'vid_embedding':None}, \n",
    "              optimizer=optimizer, \n",
    "              metrics={'prediction':metrics, 'vid_embedding':None})"
   ]
  },
  {
   "cell_type": "markdown",
   "metadata": {},
   "source": [
    "# Shut Down Instance"
   ]
  },
  {
   "cell_type": "code",
   "execution_count": null,
   "metadata": {},
   "outputs": [],
   "source": [
    "def get_instance_id():\n",
    "    \"\"\"Get current instance ID from metadata\"\"\"\n",
    "    url = \"http://169.254.169.254/latest/meta-data/instance-id\"\n",
    "    response = requests.get(url)\n",
    "    return response.text\n",
    "\n",
    "def stop_instance(instance_id, region_name='us-west-2'):\n",
    "    \"\"\"Stop the EC2 instance\"\"\"\n",
    "    ec2 = boto3.client('ec2', aws_access_key_id = aws_access_key_id, aws_secret_access_key = aws_secret_access_key, region_name=region_name)\n",
    "    ec2.stop_instances(InstanceIds=[instance_id])"
   ]
  },
  {
   "cell_type": "code",
   "execution_count": null,
   "metadata": {},
   "outputs": [],
   "source": [
    "# Get the current instance ID\n",
    "instance_id = get_instance_id()\n",
    "print(instance_id)\n",
    "# Stop the instance\n",
    "stop_instance(instance_id)"
   ]
  }
 ],
 "metadata": {
  "accelerator": "GPU",
  "colab": {
   "gpuType": "T4",
   "provenance": []
  },
  "kernelspec": {
   "display_name": "Python 3 (ipykernel)",
   "language": "python",
   "name": "python3"
  },
  "language_info": {
   "codemirror_mode": {
    "name": "ipython",
    "version": 3
   },
   "file_extension": ".py",
   "mimetype": "text/x-python",
   "name": "python",
   "nbconvert_exporter": "python",
   "pygments_lexer": "ipython3",
   "version": "3.10.12"
  },
  "widgets": {
   "application/vnd.jupyter.widget-state+json": {
    "05fc3b60f8d141e996b22059c9a7ca09": {
     "model_module": "@jupyter-widgets/controls",
     "model_module_version": "1.5.0",
     "model_name": "DescriptionStyleModel",
     "state": {
      "_model_module": "@jupyter-widgets/controls",
      "_model_module_version": "1.5.0",
      "_model_name": "DescriptionStyleModel",
      "_view_count": null,
      "_view_module": "@jupyter-widgets/base",
      "_view_module_version": "1.2.0",
      "_view_name": "StyleView",
      "description_width": ""
     }
    },
    "0701ca98a52745a9a6981e0ec6b25d7d": {
     "model_module": "@jupyter-widgets/controls",
     "model_module_version": "1.5.0",
     "model_name": "ProgressStyleModel",
     "state": {
      "_model_module": "@jupyter-widgets/controls",
      "_model_module_version": "1.5.0",
      "_model_name": "ProgressStyleModel",
      "_view_count": null,
      "_view_module": "@jupyter-widgets/base",
      "_view_module_version": "1.2.0",
      "_view_name": "StyleView",
      "bar_color": null,
      "description_width": ""
     }
    },
    "08743108f461407d804357c0dbf6ded7": {
     "model_module": "@jupyter-widgets/base",
     "model_module_version": "1.2.0",
     "model_name": "LayoutModel",
     "state": {
      "_model_module": "@jupyter-widgets/base",
      "_model_module_version": "1.2.0",
      "_model_name": "LayoutModel",
      "_view_count": null,
      "_view_module": "@jupyter-widgets/base",
      "_view_module_version": "1.2.0",
      "_view_name": "LayoutView",
      "align_content": null,
      "align_items": null,
      "align_self": null,
      "border": null,
      "bottom": null,
      "display": null,
      "flex": null,
      "flex_flow": null,
      "grid_area": null,
      "grid_auto_columns": null,
      "grid_auto_flow": null,
      "grid_auto_rows": null,
      "grid_column": null,
      "grid_gap": null,
      "grid_row": null,
      "grid_template_areas": null,
      "grid_template_columns": null,
      "grid_template_rows": null,
      "height": null,
      "justify_content": null,
      "justify_items": null,
      "left": null,
      "margin": null,
      "max_height": null,
      "max_width": null,
      "min_height": null,
      "min_width": null,
      "object_fit": null,
      "object_position": null,
      "order": null,
      "overflow": null,
      "overflow_x": null,
      "overflow_y": null,
      "padding": null,
      "right": null,
      "top": null,
      "visibility": null,
      "width": null
     }
    },
    "098322ea0ed94efb946bffb6cbcfec25": {
     "model_module": "@jupyter-widgets/controls",
     "model_module_version": "1.5.0",
     "model_name": "HTMLModel",
     "state": {
      "_dom_classes": [],
      "_model_module": "@jupyter-widgets/controls",
      "_model_module_version": "1.5.0",
      "_model_name": "HTMLModel",
      "_view_count": null,
      "_view_module": "@jupyter-widgets/controls",
      "_view_module_version": "1.5.0",
      "_view_name": "HTMLView",
      "description": "",
      "description_tooltip": null,
      "layout": "IPY_MODEL_6f2bc280945e4521ac50a48302d55ee2",
      "placeholder": "​",
      "style": "IPY_MODEL_a54bda6555174aad910291160a5741de",
      "value": "Downloading (…)cial_tokens_map.json: 100%"
     }
    },
    "0a28ab105a7647959914a094d68d9b5a": {
     "model_module": "@jupyter-widgets/base",
     "model_module_version": "1.2.0",
     "model_name": "LayoutModel",
     "state": {
      "_model_module": "@jupyter-widgets/base",
      "_model_module_version": "1.2.0",
      "_model_name": "LayoutModel",
      "_view_count": null,
      "_view_module": "@jupyter-widgets/base",
      "_view_module_version": "1.2.0",
      "_view_name": "LayoutView",
      "align_content": null,
      "align_items": null,
      "align_self": null,
      "border": null,
      "bottom": null,
      "display": null,
      "flex": null,
      "flex_flow": null,
      "grid_area": null,
      "grid_auto_columns": null,
      "grid_auto_flow": null,
      "grid_auto_rows": null,
      "grid_column": null,
      "grid_gap": null,
      "grid_row": null,
      "grid_template_areas": null,
      "grid_template_columns": null,
      "grid_template_rows": null,
      "height": null,
      "justify_content": null,
      "justify_items": null,
      "left": null,
      "margin": null,
      "max_height": null,
      "max_width": null,
      "min_height": null,
      "min_width": null,
      "object_fit": null,
      "object_position": null,
      "order": null,
      "overflow": null,
      "overflow_x": null,
      "overflow_y": null,
      "padding": null,
      "right": null,
      "top": null,
      "visibility": null,
      "width": null
     }
    },
    "0e0d36daeda3441791d3e7ca21a7b097": {
     "model_module": "@jupyter-widgets/controls",
     "model_module_version": "1.5.0",
     "model_name": "FloatProgressModel",
     "state": {
      "_dom_classes": [],
      "_model_module": "@jupyter-widgets/controls",
      "_model_module_version": "1.5.0",
      "_model_name": "FloatProgressModel",
      "_view_count": null,
      "_view_module": "@jupyter-widgets/controls",
      "_view_module_version": "1.5.0",
      "_view_name": "ProgressView",
      "bar_style": "success",
      "description": "",
      "description_tooltip": null,
      "layout": "IPY_MODEL_5583644bec2d4be1a889338aede2859e",
      "max": 607,
      "min": 0,
      "orientation": "horizontal",
      "style": "IPY_MODEL_3b73926262334455b671fa33d31eadd9",
      "value": 607
     }
    },
    "113fe85010e74cb4b535157febf808e8": {
     "model_module": "@jupyter-widgets/controls",
     "model_module_version": "1.5.0",
     "model_name": "HTMLModel",
     "state": {
      "_dom_classes": [],
      "_model_module": "@jupyter-widgets/controls",
      "_model_module_version": "1.5.0",
      "_model_name": "HTMLModel",
      "_view_count": null,
      "_view_module": "@jupyter-widgets/controls",
      "_view_module_version": "1.5.0",
      "_view_name": "HTMLView",
      "description": "",
      "description_tooltip": null,
      "layout": "IPY_MODEL_d1a345df9d904996b2423960655673ff",
      "placeholder": "​",
      "style": "IPY_MODEL_3e8b1c7ca5ed42ba80703728543a09c1",
      "value": "Downloading (…)lve/main/config.json: 100%"
     }
    },
    "119885c300d84755ae30152641ddc866": {
     "model_module": "@jupyter-widgets/base",
     "model_module_version": "1.2.0",
     "model_name": "LayoutModel",
     "state": {
      "_model_module": "@jupyter-widgets/base",
      "_model_module_version": "1.2.0",
      "_model_name": "LayoutModel",
      "_view_count": null,
      "_view_module": "@jupyter-widgets/base",
      "_view_module_version": "1.2.0",
      "_view_name": "LayoutView",
      "align_content": null,
      "align_items": null,
      "align_self": null,
      "border": null,
      "bottom": null,
      "display": null,
      "flex": null,
      "flex_flow": null,
      "grid_area": null,
      "grid_auto_columns": null,
      "grid_auto_flow": null,
      "grid_auto_rows": null,
      "grid_column": null,
      "grid_gap": null,
      "grid_row": null,
      "grid_template_areas": null,
      "grid_template_columns": null,
      "grid_template_rows": null,
      "height": null,
      "justify_content": null,
      "justify_items": null,
      "left": null,
      "margin": null,
      "max_height": null,
      "max_width": null,
      "min_height": null,
      "min_width": null,
      "object_fit": null,
      "object_position": null,
      "order": null,
      "overflow": null,
      "overflow_x": null,
      "overflow_y": null,
      "padding": null,
      "right": null,
      "top": null,
      "visibility": null,
      "width": null
     }
    },
    "148c585f4ddf406681b05b1daf27227d": {
     "model_module": "@jupyter-widgets/controls",
     "model_module_version": "1.5.0",
     "model_name": "FloatProgressModel",
     "state": {
      "_dom_classes": [],
      "_model_module": "@jupyter-widgets/controls",
      "_model_module_version": "1.5.0",
      "_model_name": "FloatProgressModel",
      "_view_count": null,
      "_view_module": "@jupyter-widgets/controls",
      "_view_module_version": "1.5.0",
      "_view_name": "ProgressView",
      "bar_style": "success",
      "description": "",
      "description_tooltip": null,
      "layout": "IPY_MODEL_4b951dfaf385457fadd2f1e1d2bc7785",
      "max": 1786,
      "min": 0,
      "orientation": "horizontal",
      "style": "IPY_MODEL_bb3d0d3d20dc47d39aef1798b0a4f637",
      "value": 1786
     }
    },
    "1b6fc395e4c14b95a9c2624a8d0aa211": {
     "model_module": "@jupyter-widgets/base",
     "model_module_version": "1.2.0",
     "model_name": "LayoutModel",
     "state": {
      "_model_module": "@jupyter-widgets/base",
      "_model_module_version": "1.2.0",
      "_model_name": "LayoutModel",
      "_view_count": null,
      "_view_module": "@jupyter-widgets/base",
      "_view_module_version": "1.2.0",
      "_view_name": "LayoutView",
      "align_content": null,
      "align_items": null,
      "align_self": null,
      "border": null,
      "bottom": null,
      "display": null,
      "flex": null,
      "flex_flow": null,
      "grid_area": null,
      "grid_auto_columns": null,
      "grid_auto_flow": null,
      "grid_auto_rows": null,
      "grid_column": null,
      "grid_gap": null,
      "grid_row": null,
      "grid_template_areas": null,
      "grid_template_columns": null,
      "grid_template_rows": null,
      "height": null,
      "justify_content": null,
      "justify_items": null,
      "left": null,
      "margin": null,
      "max_height": null,
      "max_width": null,
      "min_height": null,
      "min_width": null,
      "object_fit": null,
      "object_position": null,
      "order": null,
      "overflow": null,
      "overflow_x": null,
      "overflow_y": null,
      "padding": null,
      "right": null,
      "top": null,
      "visibility": null,
      "width": null
     }
    },
    "1dd59591368343d19923a0c5e0169bc0": {
     "model_module": "@jupyter-widgets/base",
     "model_module_version": "1.2.0",
     "model_name": "LayoutModel",
     "state": {
      "_model_module": "@jupyter-widgets/base",
      "_model_module_version": "1.2.0",
      "_model_name": "LayoutModel",
      "_view_count": null,
      "_view_module": "@jupyter-widgets/base",
      "_view_module_version": "1.2.0",
      "_view_name": "LayoutView",
      "align_content": null,
      "align_items": null,
      "align_self": null,
      "border": null,
      "bottom": null,
      "display": null,
      "flex": null,
      "flex_flow": null,
      "grid_area": null,
      "grid_auto_columns": null,
      "grid_auto_flow": null,
      "grid_auto_rows": null,
      "grid_column": null,
      "grid_gap": null,
      "grid_row": null,
      "grid_template_areas": null,
      "grid_template_columns": null,
      "grid_template_rows": null,
      "height": null,
      "justify_content": null,
      "justify_items": null,
      "left": null,
      "margin": null,
      "max_height": null,
      "max_width": null,
      "min_height": null,
      "min_width": null,
      "object_fit": null,
      "object_position": null,
      "order": null,
      "overflow": null,
      "overflow_x": null,
      "overflow_y": null,
      "padding": null,
      "right": null,
      "top": null,
      "visibility": null,
      "width": null
     }
    },
    "1e24e4a1f6564cb7aa61af39ce310283": {
     "model_module": "@jupyter-widgets/controls",
     "model_module_version": "1.5.0",
     "model_name": "DescriptionStyleModel",
     "state": {
      "_model_module": "@jupyter-widgets/controls",
      "_model_module_version": "1.5.0",
      "_model_name": "DescriptionStyleModel",
      "_view_count": null,
      "_view_module": "@jupyter-widgets/base",
      "_view_module_version": "1.2.0",
      "_view_name": "StyleView",
      "description_width": ""
     }
    },
    "1efebdbb775c4ba3b6b5d465b1605930": {
     "model_module": "@jupyter-widgets/controls",
     "model_module_version": "1.5.0",
     "model_name": "DescriptionStyleModel",
     "state": {
      "_model_module": "@jupyter-widgets/controls",
      "_model_module_version": "1.5.0",
      "_model_name": "DescriptionStyleModel",
      "_view_count": null,
      "_view_module": "@jupyter-widgets/base",
      "_view_module_version": "1.2.0",
      "_view_name": "StyleView",
      "description_width": ""
     }
    },
    "244d17e04a4f41d285503960087ce67e": {
     "model_module": "@jupyter-widgets/controls",
     "model_module_version": "1.5.0",
     "model_name": "HBoxModel",
     "state": {
      "_dom_classes": [],
      "_model_module": "@jupyter-widgets/controls",
      "_model_module_version": "1.5.0",
      "_model_name": "HBoxModel",
      "_view_count": null,
      "_view_module": "@jupyter-widgets/controls",
      "_view_module_version": "1.5.0",
      "_view_name": "HBoxView",
      "box_style": "",
      "children": [
       "IPY_MODEL_098322ea0ed94efb946bffb6cbcfec25",
       "IPY_MODEL_148c585f4ddf406681b05b1daf27227d",
       "IPY_MODEL_c35c2d9a151d4e899fd935fd7c95a3b9"
      ],
      "layout": "IPY_MODEL_6457a5ad2c5c465490a79036edd15c1f"
     }
    },
    "247b5875632a4134adc870e7e9b241ac": {
     "model_module": "@jupyter-widgets/controls",
     "model_module_version": "1.5.0",
     "model_name": "HTMLModel",
     "state": {
      "_dom_classes": [],
      "_model_module": "@jupyter-widgets/controls",
      "_model_module_version": "1.5.0",
      "_model_name": "HTMLModel",
      "_view_count": null,
      "_view_module": "@jupyter-widgets/controls",
      "_view_module_version": "1.5.0",
      "_view_name": "HTMLView",
      "description": "",
      "description_tooltip": null,
      "layout": "IPY_MODEL_bcc438b1d54d4a2192fbf13d16723a67",
      "placeholder": "​",
      "style": "IPY_MODEL_6c8fa39a797748db8d87444310adb049",
      "value": " 3.13G/3.13G [00:44&lt;00:00, 97.1MB/s]"
     }
    },
    "2a410589229442c5a08b1e19aae62c23": {
     "model_module": "@jupyter-widgets/controls",
     "model_module_version": "1.5.0",
     "model_name": "HTMLModel",
     "state": {
      "_dom_classes": [],
      "_model_module": "@jupyter-widgets/controls",
      "_model_module_version": "1.5.0",
      "_model_name": "HTMLModel",
      "_view_count": null,
      "_view_module": "@jupyter-widgets/controls",
      "_view_module_version": "1.5.0",
      "_view_name": "HTMLView",
      "description": "",
      "description_tooltip": null,
      "layout": "IPY_MODEL_5bccfe21423e4b65af8997a314e51921",
      "placeholder": "​",
      "style": "IPY_MODEL_acf6a8e5f44c4638aeb38b6984a69ca8",
      "value": "Downloading (…)ve/main/spiece.model: 100%"
     }
    },
    "2e39b5786e294d638372db2e143fc70a": {
     "model_module": "@jupyter-widgets/controls",
     "model_module_version": "1.5.0",
     "model_name": "FloatProgressModel",
     "state": {
      "_dom_classes": [],
      "_model_module": "@jupyter-widgets/controls",
      "_model_module_version": "1.5.0",
      "_model_name": "FloatProgressModel",
      "_view_count": null,
      "_view_module": "@jupyter-widgets/controls",
      "_view_module_version": "1.5.0",
      "_view_name": "ProgressView",
      "bar_style": "success",
      "description": "",
      "description_tooltip": null,
      "layout": "IPY_MODEL_97749df1adfa4535b0d38aac2b028f02",
      "max": 3132858253,
      "min": 0,
      "orientation": "horizontal",
      "style": "IPY_MODEL_6285176e71c941d69d1b82cbbdcee879",
      "value": 3132858253
     }
    },
    "3b73926262334455b671fa33d31eadd9": {
     "model_module": "@jupyter-widgets/controls",
     "model_module_version": "1.5.0",
     "model_name": "ProgressStyleModel",
     "state": {
      "_model_module": "@jupyter-widgets/controls",
      "_model_module_version": "1.5.0",
      "_model_name": "ProgressStyleModel",
      "_view_count": null,
      "_view_module": "@jupyter-widgets/base",
      "_view_module_version": "1.2.0",
      "_view_name": "StyleView",
      "bar_color": null,
      "description_width": ""
     }
    },
    "3d61cbf445824ae681019e743a97b8fe": {
     "model_module": "@jupyter-widgets/controls",
     "model_module_version": "1.5.0",
     "model_name": "HTMLModel",
     "state": {
      "_dom_classes": [],
      "_model_module": "@jupyter-widgets/controls",
      "_model_module_version": "1.5.0",
      "_model_name": "HTMLModel",
      "_view_count": null,
      "_view_module": "@jupyter-widgets/controls",
      "_view_module_version": "1.5.0",
      "_view_name": "HTMLView",
      "description": "",
      "description_tooltip": null,
      "layout": "IPY_MODEL_a09bca0d594942aa93f097a4ffa58c1d",
      "placeholder": "​",
      "style": "IPY_MODEL_8d75ab215a4140b5b58ae71110ff187f",
      "value": " 3.13G/3.13G [00:57&lt;00:00, 92.4MB/s]"
     }
    },
    "3e8b1c7ca5ed42ba80703728543a09c1": {
     "model_module": "@jupyter-widgets/controls",
     "model_module_version": "1.5.0",
     "model_name": "DescriptionStyleModel",
     "state": {
      "_model_module": "@jupyter-widgets/controls",
      "_model_module_version": "1.5.0",
      "_model_name": "DescriptionStyleModel",
      "_view_count": null,
      "_view_module": "@jupyter-widgets/base",
      "_view_module_version": "1.2.0",
      "_view_name": "StyleView",
      "description_width": ""
     }
    },
    "41f196dea0004e958c91fc628c19c771": {
     "model_module": "@jupyter-widgets/controls",
     "model_module_version": "1.5.0",
     "model_name": "ProgressStyleModel",
     "state": {
      "_model_module": "@jupyter-widgets/controls",
      "_model_module_version": "1.5.0",
      "_model_name": "ProgressStyleModel",
      "_view_count": null,
      "_view_module": "@jupyter-widgets/base",
      "_view_module_version": "1.2.0",
      "_view_name": "StyleView",
      "bar_color": null,
      "description_width": ""
     }
    },
    "46ec6504b7504b76959615555e610ddd": {
     "model_module": "@jupyter-widgets/base",
     "model_module_version": "1.2.0",
     "model_name": "LayoutModel",
     "state": {
      "_model_module": "@jupyter-widgets/base",
      "_model_module_version": "1.2.0",
      "_model_name": "LayoutModel",
      "_view_count": null,
      "_view_module": "@jupyter-widgets/base",
      "_view_module_version": "1.2.0",
      "_view_name": "LayoutView",
      "align_content": null,
      "align_items": null,
      "align_self": null,
      "border": null,
      "bottom": null,
      "display": null,
      "flex": null,
      "flex_flow": null,
      "grid_area": null,
      "grid_auto_columns": null,
      "grid_auto_flow": null,
      "grid_auto_rows": null,
      "grid_column": null,
      "grid_gap": null,
      "grid_row": null,
      "grid_template_areas": null,
      "grid_template_columns": null,
      "grid_template_rows": null,
      "height": null,
      "justify_content": null,
      "justify_items": null,
      "left": null,
      "margin": null,
      "max_height": null,
      "max_width": null,
      "min_height": null,
      "min_width": null,
      "object_fit": null,
      "object_position": null,
      "order": null,
      "overflow": null,
      "overflow_x": null,
      "overflow_y": null,
      "padding": null,
      "right": null,
      "top": null,
      "visibility": null,
      "width": null
     }
    },
    "4b951dfaf385457fadd2f1e1d2bc7785": {
     "model_module": "@jupyter-widgets/base",
     "model_module_version": "1.2.0",
     "model_name": "LayoutModel",
     "state": {
      "_model_module": "@jupyter-widgets/base",
      "_model_module_version": "1.2.0",
      "_model_name": "LayoutModel",
      "_view_count": null,
      "_view_module": "@jupyter-widgets/base",
      "_view_module_version": "1.2.0",
      "_view_name": "LayoutView",
      "align_content": null,
      "align_items": null,
      "align_self": null,
      "border": null,
      "bottom": null,
      "display": null,
      "flex": null,
      "flex_flow": null,
      "grid_area": null,
      "grid_auto_columns": null,
      "grid_auto_flow": null,
      "grid_auto_rows": null,
      "grid_column": null,
      "grid_gap": null,
      "grid_row": null,
      "grid_template_areas": null,
      "grid_template_columns": null,
      "grid_template_rows": null,
      "height": null,
      "justify_content": null,
      "justify_items": null,
      "left": null,
      "margin": null,
      "max_height": null,
      "max_width": null,
      "min_height": null,
      "min_width": null,
      "object_fit": null,
      "object_position": null,
      "order": null,
      "overflow": null,
      "overflow_x": null,
      "overflow_y": null,
      "padding": null,
      "right": null,
      "top": null,
      "visibility": null,
      "width": null
     }
    },
    "4d580ef8885c4837b16566ac52929fb0": {
     "model_module": "@jupyter-widgets/controls",
     "model_module_version": "1.5.0",
     "model_name": "HBoxModel",
     "state": {
      "_dom_classes": [],
      "_model_module": "@jupyter-widgets/controls",
      "_model_module_version": "1.5.0",
      "_model_name": "HBoxModel",
      "_view_count": null,
      "_view_module": "@jupyter-widgets/controls",
      "_view_module_version": "1.5.0",
      "_view_name": "HBoxView",
      "box_style": "",
      "children": [
       "IPY_MODEL_bde961601a7f446ba7b5bb4e2fafbeaf",
       "IPY_MODEL_2e39b5786e294d638372db2e143fc70a",
       "IPY_MODEL_3d61cbf445824ae681019e743a97b8fe"
      ],
      "layout": "IPY_MODEL_1b6fc395e4c14b95a9c2624a8d0aa211"
     }
    },
    "53f1249d01e44f1eb846b90a9ac3f21a": {
     "model_module": "@jupyter-widgets/controls",
     "model_module_version": "1.5.0",
     "model_name": "FloatProgressModel",
     "state": {
      "_dom_classes": [],
      "_model_module": "@jupyter-widgets/controls",
      "_model_module_version": "1.5.0",
      "_model_name": "FloatProgressModel",
      "_view_count": null,
      "_view_module": "@jupyter-widgets/controls",
      "_view_module_version": "1.5.0",
      "_view_name": "ProgressView",
      "bar_style": "success",
      "description": "",
      "description_tooltip": null,
      "layout": "IPY_MODEL_8185ffd3cdce4433ae54c559ab75cb57",
      "max": 1857,
      "min": 0,
      "orientation": "horizontal",
      "style": "IPY_MODEL_76f81bba35c74daaa131d293b74f16f6",
      "value": 1857
     }
    },
    "5583644bec2d4be1a889338aede2859e": {
     "model_module": "@jupyter-widgets/base",
     "model_module_version": "1.2.0",
     "model_name": "LayoutModel",
     "state": {
      "_model_module": "@jupyter-widgets/base",
      "_model_module_version": "1.2.0",
      "_model_name": "LayoutModel",
      "_view_count": null,
      "_view_module": "@jupyter-widgets/base",
      "_view_module_version": "1.2.0",
      "_view_name": "LayoutView",
      "align_content": null,
      "align_items": null,
      "align_self": null,
      "border": null,
      "bottom": null,
      "display": null,
      "flex": null,
      "flex_flow": null,
      "grid_area": null,
      "grid_auto_columns": null,
      "grid_auto_flow": null,
      "grid_auto_rows": null,
      "grid_column": null,
      "grid_gap": null,
      "grid_row": null,
      "grid_template_areas": null,
      "grid_template_columns": null,
      "grid_template_rows": null,
      "height": null,
      "justify_content": null,
      "justify_items": null,
      "left": null,
      "margin": null,
      "max_height": null,
      "max_width": null,
      "min_height": null,
      "min_width": null,
      "object_fit": null,
      "object_position": null,
      "order": null,
      "overflow": null,
      "overflow_x": null,
      "overflow_y": null,
      "padding": null,
      "right": null,
      "top": null,
      "visibility": null,
      "width": null
     }
    },
    "5bccfe21423e4b65af8997a314e51921": {
     "model_module": "@jupyter-widgets/base",
     "model_module_version": "1.2.0",
     "model_name": "LayoutModel",
     "state": {
      "_model_module": "@jupyter-widgets/base",
      "_model_module_version": "1.2.0",
      "_model_name": "LayoutModel",
      "_view_count": null,
      "_view_module": "@jupyter-widgets/base",
      "_view_module_version": "1.2.0",
      "_view_name": "LayoutView",
      "align_content": null,
      "align_items": null,
      "align_self": null,
      "border": null,
      "bottom": null,
      "display": null,
      "flex": null,
      "flex_flow": null,
      "grid_area": null,
      "grid_auto_columns": null,
      "grid_auto_flow": null,
      "grid_auto_rows": null,
      "grid_column": null,
      "grid_gap": null,
      "grid_row": null,
      "grid_template_areas": null,
      "grid_template_columns": null,
      "grid_template_rows": null,
      "height": null,
      "justify_content": null,
      "justify_items": null,
      "left": null,
      "margin": null,
      "max_height": null,
      "max_width": null,
      "min_height": null,
      "min_width": null,
      "object_fit": null,
      "object_position": null,
      "order": null,
      "overflow": null,
      "overflow_x": null,
      "overflow_y": null,
      "padding": null,
      "right": null,
      "top": null,
      "visibility": null,
      "width": null
     }
    },
    "5f52628b5aca41078df434e961292f4a": {
     "model_module": "@jupyter-widgets/base",
     "model_module_version": "1.2.0",
     "model_name": "LayoutModel",
     "state": {
      "_model_module": "@jupyter-widgets/base",
      "_model_module_version": "1.2.0",
      "_model_name": "LayoutModel",
      "_view_count": null,
      "_view_module": "@jupyter-widgets/base",
      "_view_module_version": "1.2.0",
      "_view_name": "LayoutView",
      "align_content": null,
      "align_items": null,
      "align_self": null,
      "border": null,
      "bottom": null,
      "display": null,
      "flex": null,
      "flex_flow": null,
      "grid_area": null,
      "grid_auto_columns": null,
      "grid_auto_flow": null,
      "grid_auto_rows": null,
      "grid_column": null,
      "grid_gap": null,
      "grid_row": null,
      "grid_template_areas": null,
      "grid_template_columns": null,
      "grid_template_rows": null,
      "height": null,
      "justify_content": null,
      "justify_items": null,
      "left": null,
      "margin": null,
      "max_height": null,
      "max_width": null,
      "min_height": null,
      "min_width": null,
      "object_fit": null,
      "object_position": null,
      "order": null,
      "overflow": null,
      "overflow_x": null,
      "overflow_y": null,
      "padding": null,
      "right": null,
      "top": null,
      "visibility": null,
      "width": null
     }
    },
    "62383dac2ba2405d855b6bea35b0358a": {
     "model_module": "@jupyter-widgets/controls",
     "model_module_version": "1.5.0",
     "model_name": "HBoxModel",
     "state": {
      "_dom_classes": [],
      "_model_module": "@jupyter-widgets/controls",
      "_model_module_version": "1.5.0",
      "_model_name": "HBoxModel",
      "_view_count": null,
      "_view_module": "@jupyter-widgets/controls",
      "_view_module_version": "1.5.0",
      "_view_name": "HBoxView",
      "box_style": "",
      "children": [
       "IPY_MODEL_fa8f77c6ed7a40c68591f8843caef5a0",
       "IPY_MODEL_64d82bcf90de412c85f03b5bf157c0d7",
       "IPY_MODEL_ddabb3d36b794288bb3d8db94107c84a"
      ],
      "layout": "IPY_MODEL_e2a7daa66f574bde9248fde4487d6c08"
     }
    },
    "6285176e71c941d69d1b82cbbdcee879": {
     "model_module": "@jupyter-widgets/controls",
     "model_module_version": "1.5.0",
     "model_name": "ProgressStyleModel",
     "state": {
      "_model_module": "@jupyter-widgets/controls",
      "_model_module_version": "1.5.0",
      "_model_name": "ProgressStyleModel",
      "_view_count": null,
      "_view_module": "@jupyter-widgets/base",
      "_view_module_version": "1.2.0",
      "_view_name": "StyleView",
      "bar_color": null,
      "description_width": ""
     }
    },
    "63feb6f007894f8ba0554139e1d95ad9": {
     "model_module": "@jupyter-widgets/controls",
     "model_module_version": "1.5.0",
     "model_name": "DescriptionStyleModel",
     "state": {
      "_model_module": "@jupyter-widgets/controls",
      "_model_module_version": "1.5.0",
      "_model_name": "DescriptionStyleModel",
      "_view_count": null,
      "_view_module": "@jupyter-widgets/base",
      "_view_module_version": "1.2.0",
      "_view_name": "StyleView",
      "description_width": ""
     }
    },
    "6457a5ad2c5c465490a79036edd15c1f": {
     "model_module": "@jupyter-widgets/base",
     "model_module_version": "1.2.0",
     "model_name": "LayoutModel",
     "state": {
      "_model_module": "@jupyter-widgets/base",
      "_model_module_version": "1.2.0",
      "_model_name": "LayoutModel",
      "_view_count": null,
      "_view_module": "@jupyter-widgets/base",
      "_view_module_version": "1.2.0",
      "_view_name": "LayoutView",
      "align_content": null,
      "align_items": null,
      "align_self": null,
      "border": null,
      "bottom": null,
      "display": null,
      "flex": null,
      "flex_flow": null,
      "grid_area": null,
      "grid_auto_columns": null,
      "grid_auto_flow": null,
      "grid_auto_rows": null,
      "grid_column": null,
      "grid_gap": null,
      "grid_row": null,
      "grid_template_areas": null,
      "grid_template_columns": null,
      "grid_template_rows": null,
      "height": null,
      "justify_content": null,
      "justify_items": null,
      "left": null,
      "margin": null,
      "max_height": null,
      "max_width": null,
      "min_height": null,
      "min_width": null,
      "object_fit": null,
      "object_position": null,
      "order": null,
      "overflow": null,
      "overflow_x": null,
      "overflow_y": null,
      "padding": null,
      "right": null,
      "top": null,
      "visibility": null,
      "width": null
     }
    },
    "64d82bcf90de412c85f03b5bf157c0d7": {
     "model_module": "@jupyter-widgets/controls",
     "model_module_version": "1.5.0",
     "model_name": "FloatProgressModel",
     "state": {
      "_dom_classes": [],
      "_model_module": "@jupyter-widgets/controls",
      "_model_module_version": "1.5.0",
      "_model_name": "FloatProgressModel",
      "_view_count": null,
      "_view_module": "@jupyter-widgets/controls",
      "_view_module_version": "1.5.0",
      "_view_name": "ProgressView",
      "bar_style": "success",
      "description": "",
      "description_tooltip": null,
      "layout": "IPY_MODEL_70828d14ca154e80a0ebb08a44a4e270",
      "max": 147,
      "min": 0,
      "orientation": "horizontal",
      "style": "IPY_MODEL_aa04001aa5994a94bb8bf4b05fb8d156",
      "value": 147
     }
    },
    "67355b68cba847eba42038f9dce8b8ba": {
     "model_module": "@jupyter-widgets/controls",
     "model_module_version": "1.5.0",
     "model_name": "DescriptionStyleModel",
     "state": {
      "_model_module": "@jupyter-widgets/controls",
      "_model_module_version": "1.5.0",
      "_model_name": "DescriptionStyleModel",
      "_view_count": null,
      "_view_module": "@jupyter-widgets/base",
      "_view_module_version": "1.2.0",
      "_view_name": "StyleView",
      "description_width": ""
     }
    },
    "67a00b046d254e0ab4473317c637059e": {
     "model_module": "@jupyter-widgets/base",
     "model_module_version": "1.2.0",
     "model_name": "LayoutModel",
     "state": {
      "_model_module": "@jupyter-widgets/base",
      "_model_module_version": "1.2.0",
      "_model_name": "LayoutModel",
      "_view_count": null,
      "_view_module": "@jupyter-widgets/base",
      "_view_module_version": "1.2.0",
      "_view_name": "LayoutView",
      "align_content": null,
      "align_items": null,
      "align_self": null,
      "border": null,
      "bottom": null,
      "display": null,
      "flex": null,
      "flex_flow": null,
      "grid_area": null,
      "grid_auto_columns": null,
      "grid_auto_flow": null,
      "grid_auto_rows": null,
      "grid_column": null,
      "grid_gap": null,
      "grid_row": null,
      "grid_template_areas": null,
      "grid_template_columns": null,
      "grid_template_rows": null,
      "height": null,
      "justify_content": null,
      "justify_items": null,
      "left": null,
      "margin": null,
      "max_height": null,
      "max_width": null,
      "min_height": null,
      "min_width": null,
      "object_fit": null,
      "object_position": null,
      "order": null,
      "overflow": null,
      "overflow_x": null,
      "overflow_y": null,
      "padding": null,
      "right": null,
      "top": null,
      "visibility": null,
      "width": null
     }
    },
    "69eed7e8d4db4bf883ea69cf788cd5fe": {
     "model_module": "@jupyter-widgets/base",
     "model_module_version": "1.2.0",
     "model_name": "LayoutModel",
     "state": {
      "_model_module": "@jupyter-widgets/base",
      "_model_module_version": "1.2.0",
      "_model_name": "LayoutModel",
      "_view_count": null,
      "_view_module": "@jupyter-widgets/base",
      "_view_module_version": "1.2.0",
      "_view_name": "LayoutView",
      "align_content": null,
      "align_items": null,
      "align_self": null,
      "border": null,
      "bottom": null,
      "display": null,
      "flex": null,
      "flex_flow": null,
      "grid_area": null,
      "grid_auto_columns": null,
      "grid_auto_flow": null,
      "grid_auto_rows": null,
      "grid_column": null,
      "grid_gap": null,
      "grid_row": null,
      "grid_template_areas": null,
      "grid_template_columns": null,
      "grid_template_rows": null,
      "height": null,
      "justify_content": null,
      "justify_items": null,
      "left": null,
      "margin": null,
      "max_height": null,
      "max_width": null,
      "min_height": null,
      "min_width": null,
      "object_fit": null,
      "object_position": null,
      "order": null,
      "overflow": null,
      "overflow_x": null,
      "overflow_y": null,
      "padding": null,
      "right": null,
      "top": null,
      "visibility": null,
      "width": null
     }
    },
    "6c8fa39a797748db8d87444310adb049": {
     "model_module": "@jupyter-widgets/controls",
     "model_module_version": "1.5.0",
     "model_name": "DescriptionStyleModel",
     "state": {
      "_model_module": "@jupyter-widgets/controls",
      "_model_module_version": "1.5.0",
      "_model_name": "DescriptionStyleModel",
      "_view_count": null,
      "_view_module": "@jupyter-widgets/base",
      "_view_module_version": "1.2.0",
      "_view_name": "StyleView",
      "description_width": ""
     }
    },
    "6f2bc280945e4521ac50a48302d55ee2": {
     "model_module": "@jupyter-widgets/base",
     "model_module_version": "1.2.0",
     "model_name": "LayoutModel",
     "state": {
      "_model_module": "@jupyter-widgets/base",
      "_model_module_version": "1.2.0",
      "_model_name": "LayoutModel",
      "_view_count": null,
      "_view_module": "@jupyter-widgets/base",
      "_view_module_version": "1.2.0",
      "_view_name": "LayoutView",
      "align_content": null,
      "align_items": null,
      "align_self": null,
      "border": null,
      "bottom": null,
      "display": null,
      "flex": null,
      "flex_flow": null,
      "grid_area": null,
      "grid_auto_columns": null,
      "grid_auto_flow": null,
      "grid_auto_rows": null,
      "grid_column": null,
      "grid_gap": null,
      "grid_row": null,
      "grid_template_areas": null,
      "grid_template_columns": null,
      "grid_template_rows": null,
      "height": null,
      "justify_content": null,
      "justify_items": null,
      "left": null,
      "margin": null,
      "max_height": null,
      "max_width": null,
      "min_height": null,
      "min_width": null,
      "object_fit": null,
      "object_position": null,
      "order": null,
      "overflow": null,
      "overflow_x": null,
      "overflow_y": null,
      "padding": null,
      "right": null,
      "top": null,
      "visibility": null,
      "width": null
     }
    },
    "70828d14ca154e80a0ebb08a44a4e270": {
     "model_module": "@jupyter-widgets/base",
     "model_module_version": "1.2.0",
     "model_name": "LayoutModel",
     "state": {
      "_model_module": "@jupyter-widgets/base",
      "_model_module_version": "1.2.0",
      "_model_name": "LayoutModel",
      "_view_count": null,
      "_view_module": "@jupyter-widgets/base",
      "_view_module_version": "1.2.0",
      "_view_name": "LayoutView",
      "align_content": null,
      "align_items": null,
      "align_self": null,
      "border": null,
      "bottom": null,
      "display": null,
      "flex": null,
      "flex_flow": null,
      "grid_area": null,
      "grid_auto_columns": null,
      "grid_auto_flow": null,
      "grid_auto_rows": null,
      "grid_column": null,
      "grid_gap": null,
      "grid_row": null,
      "grid_template_areas": null,
      "grid_template_columns": null,
      "grid_template_rows": null,
      "height": null,
      "justify_content": null,
      "justify_items": null,
      "left": null,
      "margin": null,
      "max_height": null,
      "max_width": null,
      "min_height": null,
      "min_width": null,
      "object_fit": null,
      "object_position": null,
      "order": null,
      "overflow": null,
      "overflow_x": null,
      "overflow_y": null,
      "padding": null,
      "right": null,
      "top": null,
      "visibility": null,
      "width": null
     }
    },
    "7506923b6a8f4cffbe94dd9194d5ef78": {
     "model_module": "@jupyter-widgets/controls",
     "model_module_version": "1.5.0",
     "model_name": "DescriptionStyleModel",
     "state": {
      "_model_module": "@jupyter-widgets/controls",
      "_model_module_version": "1.5.0",
      "_model_name": "DescriptionStyleModel",
      "_view_count": null,
      "_view_module": "@jupyter-widgets/base",
      "_view_module_version": "1.2.0",
      "_view_name": "StyleView",
      "description_width": ""
     }
    },
    "76f81bba35c74daaa131d293b74f16f6": {
     "model_module": "@jupyter-widgets/controls",
     "model_module_version": "1.5.0",
     "model_name": "ProgressStyleModel",
     "state": {
      "_model_module": "@jupyter-widgets/controls",
      "_model_module_version": "1.5.0",
      "_model_name": "ProgressStyleModel",
      "_view_count": null,
      "_view_module": "@jupyter-widgets/base",
      "_view_module_version": "1.2.0",
      "_view_name": "StyleView",
      "bar_color": null,
      "description_width": ""
     }
    },
    "775bb9dd303347dcadf0604b02d233b8": {
     "model_module": "@jupyter-widgets/base",
     "model_module_version": "1.2.0",
     "model_name": "LayoutModel",
     "state": {
      "_model_module": "@jupyter-widgets/base",
      "_model_module_version": "1.2.0",
      "_model_name": "LayoutModel",
      "_view_count": null,
      "_view_module": "@jupyter-widgets/base",
      "_view_module_version": "1.2.0",
      "_view_name": "LayoutView",
      "align_content": null,
      "align_items": null,
      "align_self": null,
      "border": null,
      "bottom": null,
      "display": null,
      "flex": null,
      "flex_flow": null,
      "grid_area": null,
      "grid_auto_columns": null,
      "grid_auto_flow": null,
      "grid_auto_rows": null,
      "grid_column": null,
      "grid_gap": null,
      "grid_row": null,
      "grid_template_areas": null,
      "grid_template_columns": null,
      "grid_template_rows": null,
      "height": null,
      "justify_content": null,
      "justify_items": null,
      "left": null,
      "margin": null,
      "max_height": null,
      "max_width": null,
      "min_height": null,
      "min_width": null,
      "object_fit": null,
      "object_position": null,
      "order": null,
      "overflow": null,
      "overflow_x": null,
      "overflow_y": null,
      "padding": null,
      "right": null,
      "top": null,
      "visibility": null,
      "width": null
     }
    },
    "80d6ccb946c240cfbcb10a91f8c44c79": {
     "model_module": "@jupyter-widgets/controls",
     "model_module_version": "1.5.0",
     "model_name": "FloatProgressModel",
     "state": {
      "_dom_classes": [],
      "_model_module": "@jupyter-widgets/controls",
      "_model_module_version": "1.5.0",
      "_model_name": "FloatProgressModel",
      "_view_count": null,
      "_view_module": "@jupyter-widgets/controls",
      "_view_module_version": "1.5.0",
      "_view_name": "ProgressView",
      "bar_style": "success",
      "description": "",
      "description_tooltip": null,
      "layout": "IPY_MODEL_a17d3747768746bd9cc19a9bb07dd8f1",
      "max": 791656,
      "min": 0,
      "orientation": "horizontal",
      "style": "IPY_MODEL_41f196dea0004e958c91fc628c19c771",
      "value": 791656
     }
    },
    "8185ffd3cdce4433ae54c559ab75cb57": {
     "model_module": "@jupyter-widgets/base",
     "model_module_version": "1.2.0",
     "model_name": "LayoutModel",
     "state": {
      "_model_module": "@jupyter-widgets/base",
      "_model_module_version": "1.2.0",
      "_model_name": "LayoutModel",
      "_view_count": null,
      "_view_module": "@jupyter-widgets/base",
      "_view_module_version": "1.2.0",
      "_view_name": "LayoutView",
      "align_content": null,
      "align_items": null,
      "align_self": null,
      "border": null,
      "bottom": null,
      "display": null,
      "flex": null,
      "flex_flow": null,
      "grid_area": null,
      "grid_auto_columns": null,
      "grid_auto_flow": null,
      "grid_auto_rows": null,
      "grid_column": null,
      "grid_gap": null,
      "grid_row": null,
      "grid_template_areas": null,
      "grid_template_columns": null,
      "grid_template_rows": null,
      "height": null,
      "justify_content": null,
      "justify_items": null,
      "left": null,
      "margin": null,
      "max_height": null,
      "max_width": null,
      "min_height": null,
      "min_width": null,
      "object_fit": null,
      "object_position": null,
      "order": null,
      "overflow": null,
      "overflow_x": null,
      "overflow_y": null,
      "padding": null,
      "right": null,
      "top": null,
      "visibility": null,
      "width": null
     }
    },
    "8721eacce4b44913a798a82e44ca10a6": {
     "model_module": "@jupyter-widgets/controls",
     "model_module_version": "1.5.0",
     "model_name": "HTMLModel",
     "state": {
      "_dom_classes": [],
      "_model_module": "@jupyter-widgets/controls",
      "_model_module_version": "1.5.0",
      "_model_name": "HTMLModel",
      "_view_count": null,
      "_view_module": "@jupyter-widgets/controls",
      "_view_module_version": "1.5.0",
      "_view_name": "HTMLView",
      "description": "",
      "description_tooltip": null,
      "layout": "IPY_MODEL_1dd59591368343d19923a0c5e0169bc0",
      "placeholder": "​",
      "style": "IPY_MODEL_cc21a0b25944497a844d8a1fc36fcc5d",
      "value": " 1.86k/1.86k [00:00&lt;00:00, 89.2kB/s]"
     }
    },
    "8ce503ec21094870b987d9fef0c1364d": {
     "model_module": "@jupyter-widgets/base",
     "model_module_version": "1.2.0",
     "model_name": "LayoutModel",
     "state": {
      "_model_module": "@jupyter-widgets/base",
      "_model_module_version": "1.2.0",
      "_model_name": "LayoutModel",
      "_view_count": null,
      "_view_module": "@jupyter-widgets/base",
      "_view_module_version": "1.2.0",
      "_view_name": "LayoutView",
      "align_content": null,
      "align_items": null,
      "align_self": null,
      "border": null,
      "bottom": null,
      "display": null,
      "flex": null,
      "flex_flow": null,
      "grid_area": null,
      "grid_auto_columns": null,
      "grid_auto_flow": null,
      "grid_auto_rows": null,
      "grid_column": null,
      "grid_gap": null,
      "grid_row": null,
      "grid_template_areas": null,
      "grid_template_columns": null,
      "grid_template_rows": null,
      "height": null,
      "justify_content": null,
      "justify_items": null,
      "left": null,
      "margin": null,
      "max_height": null,
      "max_width": null,
      "min_height": null,
      "min_width": null,
      "object_fit": null,
      "object_position": null,
      "order": null,
      "overflow": null,
      "overflow_x": null,
      "overflow_y": null,
      "padding": null,
      "right": null,
      "top": null,
      "visibility": null,
      "width": null
     }
    },
    "8d75ab215a4140b5b58ae71110ff187f": {
     "model_module": "@jupyter-widgets/controls",
     "model_module_version": "1.5.0",
     "model_name": "DescriptionStyleModel",
     "state": {
      "_model_module": "@jupyter-widgets/controls",
      "_model_module_version": "1.5.0",
      "_model_name": "DescriptionStyleModel",
      "_view_count": null,
      "_view_module": "@jupyter-widgets/base",
      "_view_module_version": "1.2.0",
      "_view_name": "StyleView",
      "description_width": ""
     }
    },
    "97749df1adfa4535b0d38aac2b028f02": {
     "model_module": "@jupyter-widgets/base",
     "model_module_version": "1.2.0",
     "model_name": "LayoutModel",
     "state": {
      "_model_module": "@jupyter-widgets/base",
      "_model_module_version": "1.2.0",
      "_model_name": "LayoutModel",
      "_view_count": null,
      "_view_module": "@jupyter-widgets/base",
      "_view_module_version": "1.2.0",
      "_view_name": "LayoutView",
      "align_content": null,
      "align_items": null,
      "align_self": null,
      "border": null,
      "bottom": null,
      "display": null,
      "flex": null,
      "flex_flow": null,
      "grid_area": null,
      "grid_auto_columns": null,
      "grid_auto_flow": null,
      "grid_auto_rows": null,
      "grid_column": null,
      "grid_gap": null,
      "grid_row": null,
      "grid_template_areas": null,
      "grid_template_columns": null,
      "grid_template_rows": null,
      "height": null,
      "justify_content": null,
      "justify_items": null,
      "left": null,
      "margin": null,
      "max_height": null,
      "max_width": null,
      "min_height": null,
      "min_width": null,
      "object_fit": null,
      "object_position": null,
      "order": null,
      "overflow": null,
      "overflow_x": null,
      "overflow_y": null,
      "padding": null,
      "right": null,
      "top": null,
      "visibility": null,
      "width": null
     }
    },
    "983815eaf4a5449e88dee260fc3cb986": {
     "model_module": "@jupyter-widgets/controls",
     "model_module_version": "1.5.0",
     "model_name": "FloatProgressModel",
     "state": {
      "_dom_classes": [],
      "_model_module": "@jupyter-widgets/controls",
      "_model_module_version": "1.5.0",
      "_model_name": "FloatProgressModel",
      "_view_count": null,
      "_view_module": "@jupyter-widgets/controls",
      "_view_module_version": "1.5.0",
      "_view_name": "ProgressView",
      "bar_style": "success",
      "description": "",
      "description_tooltip": null,
      "layout": "IPY_MODEL_ab3bf657fe1c47aeb9a05a5de0832f20",
      "max": 3133710136,
      "min": 0,
      "orientation": "horizontal",
      "style": "IPY_MODEL_0701ca98a52745a9a6981e0ec6b25d7d",
      "value": 3133710136
     }
    },
    "9dd8f481e1de48429cbe8f3c41b3361c": {
     "model_module": "@jupyter-widgets/controls",
     "model_module_version": "1.5.0",
     "model_name": "HTMLModel",
     "state": {
      "_dom_classes": [],
      "_model_module": "@jupyter-widgets/controls",
      "_model_module_version": "1.5.0",
      "_model_name": "HTMLModel",
      "_view_count": null,
      "_view_module": "@jupyter-widgets/controls",
      "_view_module_version": "1.5.0",
      "_view_name": "HTMLView",
      "description": "",
      "description_tooltip": null,
      "layout": "IPY_MODEL_8ce503ec21094870b987d9fef0c1364d",
      "placeholder": "​",
      "style": "IPY_MODEL_63feb6f007894f8ba0554139e1d95ad9",
      "value": "Downloading (…)okenizer_config.json: 100%"
     }
    },
    "a09bca0d594942aa93f097a4ffa58c1d": {
     "model_module": "@jupyter-widgets/base",
     "model_module_version": "1.2.0",
     "model_name": "LayoutModel",
     "state": {
      "_model_module": "@jupyter-widgets/base",
      "_model_module_version": "1.2.0",
      "_model_name": "LayoutModel",
      "_view_count": null,
      "_view_module": "@jupyter-widgets/base",
      "_view_module_version": "1.2.0",
      "_view_name": "LayoutView",
      "align_content": null,
      "align_items": null,
      "align_self": null,
      "border": null,
      "bottom": null,
      "display": null,
      "flex": null,
      "flex_flow": null,
      "grid_area": null,
      "grid_auto_columns": null,
      "grid_auto_flow": null,
      "grid_auto_rows": null,
      "grid_column": null,
      "grid_gap": null,
      "grid_row": null,
      "grid_template_areas": null,
      "grid_template_columns": null,
      "grid_template_rows": null,
      "height": null,
      "justify_content": null,
      "justify_items": null,
      "left": null,
      "margin": null,
      "max_height": null,
      "max_width": null,
      "min_height": null,
      "min_width": null,
      "object_fit": null,
      "object_position": null,
      "order": null,
      "overflow": null,
      "overflow_x": null,
      "overflow_y": null,
      "padding": null,
      "right": null,
      "top": null,
      "visibility": null,
      "width": null
     }
    },
    "a17d3747768746bd9cc19a9bb07dd8f1": {
     "model_module": "@jupyter-widgets/base",
     "model_module_version": "1.2.0",
     "model_name": "LayoutModel",
     "state": {
      "_model_module": "@jupyter-widgets/base",
      "_model_module_version": "1.2.0",
      "_model_name": "LayoutModel",
      "_view_count": null,
      "_view_module": "@jupyter-widgets/base",
      "_view_module_version": "1.2.0",
      "_view_name": "LayoutView",
      "align_content": null,
      "align_items": null,
      "align_self": null,
      "border": null,
      "bottom": null,
      "display": null,
      "flex": null,
      "flex_flow": null,
      "grid_area": null,
      "grid_auto_columns": null,
      "grid_auto_flow": null,
      "grid_auto_rows": null,
      "grid_column": null,
      "grid_gap": null,
      "grid_row": null,
      "grid_template_areas": null,
      "grid_template_columns": null,
      "grid_template_rows": null,
      "height": null,
      "justify_content": null,
      "justify_items": null,
      "left": null,
      "margin": null,
      "max_height": null,
      "max_width": null,
      "min_height": null,
      "min_width": null,
      "object_fit": null,
      "object_position": null,
      "order": null,
      "overflow": null,
      "overflow_x": null,
      "overflow_y": null,
      "padding": null,
      "right": null,
      "top": null,
      "visibility": null,
      "width": null
     }
    },
    "a54bda6555174aad910291160a5741de": {
     "model_module": "@jupyter-widgets/controls",
     "model_module_version": "1.5.0",
     "model_name": "DescriptionStyleModel",
     "state": {
      "_model_module": "@jupyter-widgets/controls",
      "_model_module_version": "1.5.0",
      "_model_name": "DescriptionStyleModel",
      "_view_count": null,
      "_view_module": "@jupyter-widgets/base",
      "_view_module_version": "1.2.0",
      "_view_name": "StyleView",
      "description_width": ""
     }
    },
    "aa04001aa5994a94bb8bf4b05fb8d156": {
     "model_module": "@jupyter-widgets/controls",
     "model_module_version": "1.5.0",
     "model_name": "ProgressStyleModel",
     "state": {
      "_model_module": "@jupyter-widgets/controls",
      "_model_module_version": "1.5.0",
      "_model_name": "ProgressStyleModel",
      "_view_count": null,
      "_view_module": "@jupyter-widgets/base",
      "_view_module_version": "1.2.0",
      "_view_name": "StyleView",
      "bar_color": null,
      "description_width": ""
     }
    },
    "ab3bf657fe1c47aeb9a05a5de0832f20": {
     "model_module": "@jupyter-widgets/base",
     "model_module_version": "1.2.0",
     "model_name": "LayoutModel",
     "state": {
      "_model_module": "@jupyter-widgets/base",
      "_model_module_version": "1.2.0",
      "_model_name": "LayoutModel",
      "_view_count": null,
      "_view_module": "@jupyter-widgets/base",
      "_view_module_version": "1.2.0",
      "_view_name": "LayoutView",
      "align_content": null,
      "align_items": null,
      "align_self": null,
      "border": null,
      "bottom": null,
      "display": null,
      "flex": null,
      "flex_flow": null,
      "grid_area": null,
      "grid_auto_columns": null,
      "grid_auto_flow": null,
      "grid_auto_rows": null,
      "grid_column": null,
      "grid_gap": null,
      "grid_row": null,
      "grid_template_areas": null,
      "grid_template_columns": null,
      "grid_template_rows": null,
      "height": null,
      "justify_content": null,
      "justify_items": null,
      "left": null,
      "margin": null,
      "max_height": null,
      "max_width": null,
      "min_height": null,
      "min_width": null,
      "object_fit": null,
      "object_position": null,
      "order": null,
      "overflow": null,
      "overflow_x": null,
      "overflow_y": null,
      "padding": null,
      "right": null,
      "top": null,
      "visibility": null,
      "width": null
     }
    },
    "ac7f8914736f4b5eaa1390537cc39d31": {
     "model_module": "@jupyter-widgets/controls",
     "model_module_version": "1.5.0",
     "model_name": "HTMLModel",
     "state": {
      "_dom_classes": [],
      "_model_module": "@jupyter-widgets/controls",
      "_model_module_version": "1.5.0",
      "_model_name": "HTMLModel",
      "_view_count": null,
      "_view_module": "@jupyter-widgets/controls",
      "_view_module_version": "1.5.0",
      "_view_name": "HTMLView",
      "description": "",
      "description_tooltip": null,
      "layout": "IPY_MODEL_d287c8fe184f41369fa597626cb1b12b",
      "placeholder": "​",
      "style": "IPY_MODEL_d0669d9654564c049d9c0b28e6655c47",
      "value": " 792k/792k [00:00&lt;00:00, 5.83MB/s]"
     }
    },
    "acf6a8e5f44c4638aeb38b6984a69ca8": {
     "model_module": "@jupyter-widgets/controls",
     "model_module_version": "1.5.0",
     "model_name": "DescriptionStyleModel",
     "state": {
      "_model_module": "@jupyter-widgets/controls",
      "_model_module_version": "1.5.0",
      "_model_name": "DescriptionStyleModel",
      "_view_count": null,
      "_view_module": "@jupyter-widgets/base",
      "_view_module_version": "1.2.0",
      "_view_name": "StyleView",
      "description_width": ""
     }
    },
    "ad51dcd5891e45cca9a290a9a744d28c": {
     "model_module": "@jupyter-widgets/controls",
     "model_module_version": "1.5.0",
     "model_name": "HBoxModel",
     "state": {
      "_dom_classes": [],
      "_model_module": "@jupyter-widgets/controls",
      "_model_module_version": "1.5.0",
      "_model_name": "HBoxModel",
      "_view_count": null,
      "_view_module": "@jupyter-widgets/controls",
      "_view_module_version": "1.5.0",
      "_view_name": "HBoxView",
      "box_style": "",
      "children": [
       "IPY_MODEL_113fe85010e74cb4b535157febf808e8",
       "IPY_MODEL_0e0d36daeda3441791d3e7ca21a7b097",
       "IPY_MODEL_bcd00e6c788f46aea761913b87c7331b"
      ],
      "layout": "IPY_MODEL_5f52628b5aca41078df434e961292f4a"
     }
    },
    "af517973c08c4bac83127ece0ea4964b": {
     "model_module": "@jupyter-widgets/controls",
     "model_module_version": "1.5.0",
     "model_name": "DescriptionStyleModel",
     "state": {
      "_model_module": "@jupyter-widgets/controls",
      "_model_module_version": "1.5.0",
      "_model_name": "DescriptionStyleModel",
      "_view_count": null,
      "_view_module": "@jupyter-widgets/base",
      "_view_module_version": "1.2.0",
      "_view_name": "StyleView",
      "description_width": ""
     }
    },
    "bb3d0d3d20dc47d39aef1798b0a4f637": {
     "model_module": "@jupyter-widgets/controls",
     "model_module_version": "1.5.0",
     "model_name": "ProgressStyleModel",
     "state": {
      "_model_module": "@jupyter-widgets/controls",
      "_model_module_version": "1.5.0",
      "_model_name": "ProgressStyleModel",
      "_view_count": null,
      "_view_module": "@jupyter-widgets/base",
      "_view_module_version": "1.2.0",
      "_view_name": "StyleView",
      "bar_color": null,
      "description_width": ""
     }
    },
    "bcc438b1d54d4a2192fbf13d16723a67": {
     "model_module": "@jupyter-widgets/base",
     "model_module_version": "1.2.0",
     "model_name": "LayoutModel",
     "state": {
      "_model_module": "@jupyter-widgets/base",
      "_model_module_version": "1.2.0",
      "_model_name": "LayoutModel",
      "_view_count": null,
      "_view_module": "@jupyter-widgets/base",
      "_view_module_version": "1.2.0",
      "_view_name": "LayoutView",
      "align_content": null,
      "align_items": null,
      "align_self": null,
      "border": null,
      "bottom": null,
      "display": null,
      "flex": null,
      "flex_flow": null,
      "grid_area": null,
      "grid_auto_columns": null,
      "grid_auto_flow": null,
      "grid_auto_rows": null,
      "grid_column": null,
      "grid_gap": null,
      "grid_row": null,
      "grid_template_areas": null,
      "grid_template_columns": null,
      "grid_template_rows": null,
      "height": null,
      "justify_content": null,
      "justify_items": null,
      "left": null,
      "margin": null,
      "max_height": null,
      "max_width": null,
      "min_height": null,
      "min_width": null,
      "object_fit": null,
      "object_position": null,
      "order": null,
      "overflow": null,
      "overflow_x": null,
      "overflow_y": null,
      "padding": null,
      "right": null,
      "top": null,
      "visibility": null,
      "width": null
     }
    },
    "bcd00e6c788f46aea761913b87c7331b": {
     "model_module": "@jupyter-widgets/controls",
     "model_module_version": "1.5.0",
     "model_name": "HTMLModel",
     "state": {
      "_dom_classes": [],
      "_model_module": "@jupyter-widgets/controls",
      "_model_module_version": "1.5.0",
      "_model_name": "HTMLModel",
      "_view_count": null,
      "_view_module": "@jupyter-widgets/controls",
      "_view_module_version": "1.5.0",
      "_view_name": "HTMLView",
      "description": "",
      "description_tooltip": null,
      "layout": "IPY_MODEL_775bb9dd303347dcadf0604b02d233b8",
      "placeholder": "​",
      "style": "IPY_MODEL_7506923b6a8f4cffbe94dd9194d5ef78",
      "value": " 607/607 [00:00&lt;00:00, 31.6kB/s]"
     }
    },
    "bdc0d514733c4e049429752530e10643": {
     "model_module": "@jupyter-widgets/controls",
     "model_module_version": "1.5.0",
     "model_name": "HBoxModel",
     "state": {
      "_dom_classes": [],
      "_model_module": "@jupyter-widgets/controls",
      "_model_module_version": "1.5.0",
      "_model_name": "HBoxModel",
      "_view_count": null,
      "_view_module": "@jupyter-widgets/controls",
      "_view_module_version": "1.5.0",
      "_view_name": "HBoxView",
      "box_style": "",
      "children": [
       "IPY_MODEL_2a410589229442c5a08b1e19aae62c23",
       "IPY_MODEL_80d6ccb946c240cfbcb10a91f8c44c79",
       "IPY_MODEL_ac7f8914736f4b5eaa1390537cc39d31"
      ],
      "layout": "IPY_MODEL_67a00b046d254e0ab4473317c637059e"
     }
    },
    "bde961601a7f446ba7b5bb4e2fafbeaf": {
     "model_module": "@jupyter-widgets/controls",
     "model_module_version": "1.5.0",
     "model_name": "HTMLModel",
     "state": {
      "_dom_classes": [],
      "_model_module": "@jupyter-widgets/controls",
      "_model_module_version": "1.5.0",
      "_model_name": "HTMLModel",
      "_view_count": null,
      "_view_module": "@jupyter-widgets/controls",
      "_view_module_version": "1.5.0",
      "_view_name": "HTMLView",
      "description": "",
      "description_tooltip": null,
      "layout": "IPY_MODEL_69eed7e8d4db4bf883ea69cf788cd5fe",
      "placeholder": "​",
      "style": "IPY_MODEL_05fc3b60f8d141e996b22059c9a7ca09",
      "value": "Downloading pytorch_model.bin: 100%"
     }
    },
    "c35c2d9a151d4e899fd935fd7c95a3b9": {
     "model_module": "@jupyter-widgets/controls",
     "model_module_version": "1.5.0",
     "model_name": "HTMLModel",
     "state": {
      "_dom_classes": [],
      "_model_module": "@jupyter-widgets/controls",
      "_model_module_version": "1.5.0",
      "_model_name": "HTMLModel",
      "_view_count": null,
      "_view_module": "@jupyter-widgets/controls",
      "_view_module_version": "1.5.0",
      "_view_name": "HTMLView",
      "description": "",
      "description_tooltip": null,
      "layout": "IPY_MODEL_fe7f16ce9e774787a956d5a3fc77c7ed",
      "placeholder": "​",
      "style": "IPY_MODEL_1e24e4a1f6564cb7aa61af39ce310283",
      "value": " 1.79k/1.79k [00:00&lt;00:00, 120kB/s]"
     }
    },
    "c8730bc225c448ed83d03c980411ec37": {
     "model_module": "@jupyter-widgets/controls",
     "model_module_version": "1.5.0",
     "model_name": "HBoxModel",
     "state": {
      "_dom_classes": [],
      "_model_module": "@jupyter-widgets/controls",
      "_model_module_version": "1.5.0",
      "_model_name": "HBoxModel",
      "_view_count": null,
      "_view_module": "@jupyter-widgets/controls",
      "_view_module_version": "1.5.0",
      "_view_name": "HBoxView",
      "box_style": "",
      "children": [
       "IPY_MODEL_9dd8f481e1de48429cbe8f3c41b3361c",
       "IPY_MODEL_53f1249d01e44f1eb846b90a9ac3f21a",
       "IPY_MODEL_8721eacce4b44913a798a82e44ca10a6"
      ],
      "layout": "IPY_MODEL_08743108f461407d804357c0dbf6ded7"
     }
    },
    "cc21a0b25944497a844d8a1fc36fcc5d": {
     "model_module": "@jupyter-widgets/controls",
     "model_module_version": "1.5.0",
     "model_name": "DescriptionStyleModel",
     "state": {
      "_model_module": "@jupyter-widgets/controls",
      "_model_module_version": "1.5.0",
      "_model_name": "DescriptionStyleModel",
      "_view_count": null,
      "_view_module": "@jupyter-widgets/base",
      "_view_module_version": "1.2.0",
      "_view_name": "StyleView",
      "description_width": ""
     }
    },
    "ccb7103fbd924eedb25f994580153855": {
     "model_module": "@jupyter-widgets/controls",
     "model_module_version": "1.5.0",
     "model_name": "HBoxModel",
     "state": {
      "_dom_classes": [],
      "_model_module": "@jupyter-widgets/controls",
      "_model_module_version": "1.5.0",
      "_model_name": "HBoxModel",
      "_view_count": null,
      "_view_module": "@jupyter-widgets/controls",
      "_view_module_version": "1.5.0",
      "_view_name": "HBoxView",
      "box_style": "",
      "children": [
       "IPY_MODEL_d79218f755c74875b5bcb07a9b1f0b54",
       "IPY_MODEL_983815eaf4a5449e88dee260fc3cb986",
       "IPY_MODEL_247b5875632a4134adc870e7e9b241ac"
      ],
      "layout": "IPY_MODEL_119885c300d84755ae30152641ddc866"
     }
    },
    "d0669d9654564c049d9c0b28e6655c47": {
     "model_module": "@jupyter-widgets/controls",
     "model_module_version": "1.5.0",
     "model_name": "DescriptionStyleModel",
     "state": {
      "_model_module": "@jupyter-widgets/controls",
      "_model_module_version": "1.5.0",
      "_model_name": "DescriptionStyleModel",
      "_view_count": null,
      "_view_module": "@jupyter-widgets/base",
      "_view_module_version": "1.2.0",
      "_view_name": "StyleView",
      "description_width": ""
     }
    },
    "d1a345df9d904996b2423960655673ff": {
     "model_module": "@jupyter-widgets/base",
     "model_module_version": "1.2.0",
     "model_name": "LayoutModel",
     "state": {
      "_model_module": "@jupyter-widgets/base",
      "_model_module_version": "1.2.0",
      "_model_name": "LayoutModel",
      "_view_count": null,
      "_view_module": "@jupyter-widgets/base",
      "_view_module_version": "1.2.0",
      "_view_name": "LayoutView",
      "align_content": null,
      "align_items": null,
      "align_self": null,
      "border": null,
      "bottom": null,
      "display": null,
      "flex": null,
      "flex_flow": null,
      "grid_area": null,
      "grid_auto_columns": null,
      "grid_auto_flow": null,
      "grid_auto_rows": null,
      "grid_column": null,
      "grid_gap": null,
      "grid_row": null,
      "grid_template_areas": null,
      "grid_template_columns": null,
      "grid_template_rows": null,
      "height": null,
      "justify_content": null,
      "justify_items": null,
      "left": null,
      "margin": null,
      "max_height": null,
      "max_width": null,
      "min_height": null,
      "min_width": null,
      "object_fit": null,
      "object_position": null,
      "order": null,
      "overflow": null,
      "overflow_x": null,
      "overflow_y": null,
      "padding": null,
      "right": null,
      "top": null,
      "visibility": null,
      "width": null
     }
    },
    "d287c8fe184f41369fa597626cb1b12b": {
     "model_module": "@jupyter-widgets/base",
     "model_module_version": "1.2.0",
     "model_name": "LayoutModel",
     "state": {
      "_model_module": "@jupyter-widgets/base",
      "_model_module_version": "1.2.0",
      "_model_name": "LayoutModel",
      "_view_count": null,
      "_view_module": "@jupyter-widgets/base",
      "_view_module_version": "1.2.0",
      "_view_name": "LayoutView",
      "align_content": null,
      "align_items": null,
      "align_self": null,
      "border": null,
      "bottom": null,
      "display": null,
      "flex": null,
      "flex_flow": null,
      "grid_area": null,
      "grid_auto_columns": null,
      "grid_auto_flow": null,
      "grid_auto_rows": null,
      "grid_column": null,
      "grid_gap": null,
      "grid_row": null,
      "grid_template_areas": null,
      "grid_template_columns": null,
      "grid_template_rows": null,
      "height": null,
      "justify_content": null,
      "justify_items": null,
      "left": null,
      "margin": null,
      "max_height": null,
      "max_width": null,
      "min_height": null,
      "min_width": null,
      "object_fit": null,
      "object_position": null,
      "order": null,
      "overflow": null,
      "overflow_x": null,
      "overflow_y": null,
      "padding": null,
      "right": null,
      "top": null,
      "visibility": null,
      "width": null
     }
    },
    "d79218f755c74875b5bcb07a9b1f0b54": {
     "model_module": "@jupyter-widgets/controls",
     "model_module_version": "1.5.0",
     "model_name": "HTMLModel",
     "state": {
      "_dom_classes": [],
      "_model_module": "@jupyter-widgets/controls",
      "_model_module_version": "1.5.0",
      "_model_name": "HTMLModel",
      "_view_count": null,
      "_view_module": "@jupyter-widgets/controls",
      "_view_module_version": "1.5.0",
      "_view_name": "HTMLView",
      "description": "",
      "description_tooltip": null,
      "layout": "IPY_MODEL_eb525cc2161b4a668cf42f4397847ebe",
      "placeholder": "​",
      "style": "IPY_MODEL_af517973c08c4bac83127ece0ea4964b",
      "value": "Downloading tf_model.h5: 100%"
     }
    },
    "ddabb3d36b794288bb3d8db94107c84a": {
     "model_module": "@jupyter-widgets/controls",
     "model_module_version": "1.5.0",
     "model_name": "HTMLModel",
     "state": {
      "_dom_classes": [],
      "_model_module": "@jupyter-widgets/controls",
      "_model_module_version": "1.5.0",
      "_model_name": "HTMLModel",
      "_view_count": null,
      "_view_module": "@jupyter-widgets/controls",
      "_view_module_version": "1.5.0",
      "_view_name": "HTMLView",
      "description": "",
      "description_tooltip": null,
      "layout": "IPY_MODEL_46ec6504b7504b76959615555e610ddd",
      "placeholder": "​",
      "style": "IPY_MODEL_1efebdbb775c4ba3b6b5d465b1605930",
      "value": " 147/147 [00:00&lt;00:00, 2.53kB/s]"
     }
    },
    "e2a7daa66f574bde9248fde4487d6c08": {
     "model_module": "@jupyter-widgets/base",
     "model_module_version": "1.2.0",
     "model_name": "LayoutModel",
     "state": {
      "_model_module": "@jupyter-widgets/base",
      "_model_module_version": "1.2.0",
      "_model_name": "LayoutModel",
      "_view_count": null,
      "_view_module": "@jupyter-widgets/base",
      "_view_module_version": "1.2.0",
      "_view_name": "LayoutView",
      "align_content": null,
      "align_items": null,
      "align_self": null,
      "border": null,
      "bottom": null,
      "display": null,
      "flex": null,
      "flex_flow": null,
      "grid_area": null,
      "grid_auto_columns": null,
      "grid_auto_flow": null,
      "grid_auto_rows": null,
      "grid_column": null,
      "grid_gap": null,
      "grid_row": null,
      "grid_template_areas": null,
      "grid_template_columns": null,
      "grid_template_rows": null,
      "height": null,
      "justify_content": null,
      "justify_items": null,
      "left": null,
      "margin": null,
      "max_height": null,
      "max_width": null,
      "min_height": null,
      "min_width": null,
      "object_fit": null,
      "object_position": null,
      "order": null,
      "overflow": null,
      "overflow_x": null,
      "overflow_y": null,
      "padding": null,
      "right": null,
      "top": null,
      "visibility": null,
      "width": null
     }
    },
    "eb525cc2161b4a668cf42f4397847ebe": {
     "model_module": "@jupyter-widgets/base",
     "model_module_version": "1.2.0",
     "model_name": "LayoutModel",
     "state": {
      "_model_module": "@jupyter-widgets/base",
      "_model_module_version": "1.2.0",
      "_model_name": "LayoutModel",
      "_view_count": null,
      "_view_module": "@jupyter-widgets/base",
      "_view_module_version": "1.2.0",
      "_view_name": "LayoutView",
      "align_content": null,
      "align_items": null,
      "align_self": null,
      "border": null,
      "bottom": null,
      "display": null,
      "flex": null,
      "flex_flow": null,
      "grid_area": null,
      "grid_auto_columns": null,
      "grid_auto_flow": null,
      "grid_auto_rows": null,
      "grid_column": null,
      "grid_gap": null,
      "grid_row": null,
      "grid_template_areas": null,
      "grid_template_columns": null,
      "grid_template_rows": null,
      "height": null,
      "justify_content": null,
      "justify_items": null,
      "left": null,
      "margin": null,
      "max_height": null,
      "max_width": null,
      "min_height": null,
      "min_width": null,
      "object_fit": null,
      "object_position": null,
      "order": null,
      "overflow": null,
      "overflow_x": null,
      "overflow_y": null,
      "padding": null,
      "right": null,
      "top": null,
      "visibility": null,
      "width": null
     }
    },
    "fa8f77c6ed7a40c68591f8843caef5a0": {
     "model_module": "@jupyter-widgets/controls",
     "model_module_version": "1.5.0",
     "model_name": "HTMLModel",
     "state": {
      "_dom_classes": [],
      "_model_module": "@jupyter-widgets/controls",
      "_model_module_version": "1.5.0",
      "_model_name": "HTMLModel",
      "_view_count": null,
      "_view_module": "@jupyter-widgets/controls",
      "_view_module_version": "1.5.0",
      "_view_name": "HTMLView",
      "description": "",
      "description_tooltip": null,
      "layout": "IPY_MODEL_0a28ab105a7647959914a094d68d9b5a",
      "placeholder": "​",
      "style": "IPY_MODEL_67355b68cba847eba42038f9dce8b8ba",
      "value": "Downloading (…)neration_config.json: 100%"
     }
    },
    "fe7f16ce9e774787a956d5a3fc77c7ed": {
     "model_module": "@jupyter-widgets/base",
     "model_module_version": "1.2.0",
     "model_name": "LayoutModel",
     "state": {
      "_model_module": "@jupyter-widgets/base",
      "_model_module_version": "1.2.0",
      "_model_name": "LayoutModel",
      "_view_count": null,
      "_view_module": "@jupyter-widgets/base",
      "_view_module_version": "1.2.0",
      "_view_name": "LayoutView",
      "align_content": null,
      "align_items": null,
      "align_self": null,
      "border": null,
      "bottom": null,
      "display": null,
      "flex": null,
      "flex_flow": null,
      "grid_area": null,
      "grid_auto_columns": null,
      "grid_auto_flow": null,
      "grid_auto_rows": null,
      "grid_column": null,
      "grid_gap": null,
      "grid_row": null,
      "grid_template_areas": null,
      "grid_template_columns": null,
      "grid_template_rows": null,
      "height": null,
      "justify_content": null,
      "justify_items": null,
      "left": null,
      "margin": null,
      "max_height": null,
      "max_width": null,
      "min_height": null,
      "min_width": null,
      "object_fit": null,
      "object_position": null,
      "order": null,
      "overflow": null,
      "overflow_x": null,
      "overflow_y": null,
      "padding": null,
      "right": null,
      "top": null,
      "visibility": null,
      "width": null
     }
    }
   }
  }
 },
 "nbformat": 4,
 "nbformat_minor": 4
}
