{
 "cells": [
  {
   "cell_type": "markdown",
   "id": "f3302ca6-cb54-4991-8bd0-9e86071d0f00",
   "metadata": {},
   "source": [
    "### Purpose of this notebook\n",
    "The purpose of this notebook is to convert 10 videos and its parquet into video frames to determine time taken for loading"
   ]
  },
  {
   "cell_type": "code",
   "execution_count": 1,
   "id": "74ea70dc-4528-4568-870d-07de046eff1a",
   "metadata": {},
   "outputs": [],
   "source": [
    "#Install missing packages\n",
    "#!pip install boto3\n",
    "#!pip install pyarrow\n",
    "#!pip install fastparquet\n",
    "#!pip install s3fs"
   ]
  },
  {
   "cell_type": "code",
   "execution_count": 1,
   "id": "8ae7a476-c650-46fa-b556-87fa80bf2a1a",
   "metadata": {},
   "outputs": [],
   "source": [
    "# Import required libraries\n",
    "import boto3 #Video files get read through this\n",
    "import cv2\n",
    "import os\n",
    "import pandas as pd\n",
    "import math\n",
    "import numpy as np\n",
    "import random\n",
    "import io\n",
    "import s3fs # Parquet files get read through this\n",
    "import zlib # For compression\n",
    "import time # To calculate download time"
   ]
  },
  {
   "cell_type": "code",
   "execution_count": 2,
   "id": "e41445ca-7160-4280-83cc-ce7c0560e5ed",
   "metadata": {},
   "outputs": [],
   "source": [
    "# Setup the S3 object\n",
    "aws_access_key_id = 'AWS_KEY'\n",
    "aws_secret_access_key = 'AWS_SECRET'\n",
    "bucket_name = 'asl-capstone'\n",
    "prefix = 'youtube-asl/test_sample/'\n",
    "s3 = boto3.client(\n",
    "    's3',\n",
    "    aws_access_key_id=aws_access_key_id,\n",
    "    aws_secret_access_key=aws_secret_access_key,\n",
    "    region_name='us-west-2'\n",
    ")"
   ]
  },
  {
   "cell_type": "code",
   "execution_count": 3,
   "id": "44b8b6b3-ffc1-44a8-b028-743e098e06f1",
   "metadata": {},
   "outputs": [],
   "source": [
    "# List files in the S3 bucket\n",
    "response = s3.list_objects_v2(Bucket=bucket_name, Prefix=prefix)\n",
    "video_files = []\n",
    "for content in response.get('Contents', []):\n",
    "    if content['Key'].endswith(('.mkv','.webm','.mp4')):\n",
    "        video_files.append(content['Key'])"
   ]
  },
  {
   "cell_type": "code",
   "execution_count": 4,
   "id": "66697bad-187f-41b0-84d1-82d79381f972",
   "metadata": {},
   "outputs": [
    {
     "name": "stdout",
     "output_type": "stream",
     "text": [
      "['youtube-asl/test_sample/06kKvQp4SfM.webm', 'youtube-asl/test_sample/0XGfpv6PUq4.mkv', 'youtube-asl/test_sample/5J8a2CaXWvk.webm', 'youtube-asl/test_sample/8VTAvocbMpI.mkv', 'youtube-asl/test_sample/Dmvi3_q3gMc.mkv', 'youtube-asl/test_sample/UEryLHbfb0M.webm', 'youtube-asl/test_sample/aoLQ0VchSec.mkv', 'youtube-asl/test_sample/dzWgVm2oY44.webm', 'youtube-asl/test_sample/esx9dGfUuto.webm', 'youtube-asl/test_sample/oOkSSJbNv68.webm']\n"
     ]
    }
   ],
   "source": [
    "print(video_files)"
   ]
  },
  {
   "cell_type": "code",
   "execution_count": 5,
   "id": "176ccf40-5350-42a6-b387-9582ce46a81f",
   "metadata": {},
   "outputs": [],
   "source": [
    "# Let's capture the parquet files into a list\n",
    "caption_files = []\n",
    "for content in response.get('Contents',[]):\n",
    "    if content['Key'].endswith(('.parquet')):\n",
    "        caption_files.append(content['Key'])"
   ]
  },
  {
   "cell_type": "code",
   "execution_count": 6,
   "id": "f2dbedab-99a0-4f32-b420-cb49aa29c25a",
   "metadata": {},
   "outputs": [
    {
     "name": "stdout",
     "output_type": "stream",
     "text": [
      "['youtube-asl/test_sample/06kKvQp4SfM.en-0hllRZe4s5s.parquet', 'youtube-asl/test_sample/0XGfpv6PUq4.en.parquet', 'youtube-asl/test_sample/5J8a2CaXWvk.en.parquet', 'youtube-asl/test_sample/8VTAvocbMpI.en.parquet', 'youtube-asl/test_sample/Dmvi3_q3gMc.en-CA.parquet', 'youtube-asl/test_sample/UEryLHbfb0M.en-eEY6OEpapPo.parquet', 'youtube-asl/test_sample/aoLQ0VchSec.en.parquet', 'youtube-asl/test_sample/dzWgVm2oY44.en.parquet', 'youtube-asl/test_sample/esx9dGfUuto.en-xDMNrYfabLQ.parquet', 'youtube-asl/test_sample/oOkSSJbNv68.en.parquet']\n"
     ]
    }
   ],
   "source": [
    "print(caption_files)"
   ]
  },
  {
   "cell_type": "code",
   "execution_count": 7,
   "id": "59e66413-9235-44fd-9b46-b2659516a9ed",
   "metadata": {},
   "outputs": [
    {
     "data": {
      "text/html": [
       "<div>\n",
       "<style scoped>\n",
       "    .dataframe tbody tr th:only-of-type {\n",
       "        vertical-align: middle;\n",
       "    }\n",
       "\n",
       "    .dataframe tbody tr th {\n",
       "        vertical-align: top;\n",
       "    }\n",
       "\n",
       "    .dataframe thead th {\n",
       "        text-align: right;\n",
       "    }\n",
       "</style>\n",
       "<table border=\"1\" class=\"dataframe\">\n",
       "  <thead>\n",
       "    <tr style=\"text-align: right;\">\n",
       "      <th></th>\n",
       "      <th>File Name</th>\n",
       "      <th>Start Timestamp</th>\n",
       "      <th>End Timestamp</th>\n",
       "      <th>Caption</th>\n",
       "      <th>frame_rate</th>\n",
       "      <th>start_time_seconds</th>\n",
       "      <th>end_time_seconds</th>\n",
       "      <th>start_frame</th>\n",
       "      <th>end_frame</th>\n",
       "      <th>start_frame_float</th>\n",
       "      <th>end_frame_float</th>\n",
       "    </tr>\n",
       "  </thead>\n",
       "  <tbody>\n",
       "    <tr>\n",
       "      <th>0</th>\n",
       "      <td>06kKvQp4SfM.en-0hllRZe4s5s.vtt</td>\n",
       "      <td>00:00:00.000</td>\n",
       "      <td>00:00:02.236</td>\n",
       "      <td>Welcome to the third round</td>\n",
       "      <td>30.0</td>\n",
       "      <td>0.000</td>\n",
       "      <td>2.236</td>\n",
       "      <td>0.0</td>\n",
       "      <td>67.0</td>\n",
       "      <td>0.00</td>\n",
       "      <td>67.08</td>\n",
       "    </tr>\n",
       "    <tr>\n",
       "      <th>1</th>\n",
       "      <td>06kKvQp4SfM.en-0hllRZe4s5s.vtt</td>\n",
       "      <td>00:00:02.236</td>\n",
       "      <td>00:00:04.304</td>\n",
       "      <td>of the Pearls announcement.</td>\n",
       "      <td>30.0</td>\n",
       "      <td>2.236</td>\n",
       "      <td>4.304</td>\n",
       "      <td>67.0</td>\n",
       "      <td>129.0</td>\n",
       "      <td>67.08</td>\n",
       "      <td>129.12</td>\n",
       "    </tr>\n",
       "    <tr>\n",
       "      <th>2</th>\n",
       "      <td>06kKvQp4SfM.en-0hllRZe4s5s.vtt</td>\n",
       "      <td>00:00:04.304</td>\n",
       "      <td>00:00:07.207</td>\n",
       "      <td>Today's category is called the</td>\n",
       "      <td>30.0</td>\n",
       "      <td>4.304</td>\n",
       "      <td>7.207</td>\n",
       "      <td>129.0</td>\n",
       "      <td>216.0</td>\n",
       "      <td>129.12</td>\n",
       "      <td>216.21</td>\n",
       "    </tr>\n",
       "    <tr>\n",
       "      <th>3</th>\n",
       "      <td>06kKvQp4SfM.en-0hllRZe4s5s.vtt</td>\n",
       "      <td>00:00:07.207</td>\n",
       "      <td>00:00:09.610</td>\n",
       "      <td>Hidden Pearls. What is it?</td>\n",
       "      <td>30.0</td>\n",
       "      <td>7.207</td>\n",
       "      <td>9.610</td>\n",
       "      <td>216.0</td>\n",
       "      <td>288.0</td>\n",
       "      <td>216.21</td>\n",
       "      <td>288.30</td>\n",
       "    </tr>\n",
       "    <tr>\n",
       "      <th>4</th>\n",
       "      <td>06kKvQp4SfM.en-0hllRZe4s5s.vtt</td>\n",
       "      <td>00:00:09.610</td>\n",
       "      <td>00:00:12.379</td>\n",
       "      <td>Hidden Pearls...in other words,</td>\n",
       "      <td>30.0</td>\n",
       "      <td>9.610</td>\n",
       "      <td>12.379</td>\n",
       "      <td>288.0</td>\n",
       "      <td>371.0</td>\n",
       "      <td>288.30</td>\n",
       "      <td>371.37</td>\n",
       "    </tr>\n",
       "  </tbody>\n",
       "</table>\n",
       "</div>"
      ],
      "text/plain": [
       "                        File Name Start Timestamp End Timestamp  \\\n",
       "0  06kKvQp4SfM.en-0hllRZe4s5s.vtt    00:00:00.000  00:00:02.236   \n",
       "1  06kKvQp4SfM.en-0hllRZe4s5s.vtt    00:00:02.236  00:00:04.304   \n",
       "2  06kKvQp4SfM.en-0hllRZe4s5s.vtt    00:00:04.304  00:00:07.207   \n",
       "3  06kKvQp4SfM.en-0hllRZe4s5s.vtt    00:00:07.207  00:00:09.610   \n",
       "4  06kKvQp4SfM.en-0hllRZe4s5s.vtt    00:00:09.610  00:00:12.379   \n",
       "\n",
       "                           Caption  frame_rate  start_time_seconds  \\\n",
       "0       Welcome to the third round        30.0               0.000   \n",
       "1      of the Pearls announcement.        30.0               2.236   \n",
       "2   Today's category is called the        30.0               4.304   \n",
       "3       Hidden Pearls. What is it?        30.0               7.207   \n",
       "4  Hidden Pearls...in other words,        30.0               9.610   \n",
       "\n",
       "   end_time_seconds  start_frame  end_frame  start_frame_float  \\\n",
       "0             2.236          0.0       67.0               0.00   \n",
       "1             4.304         67.0      129.0              67.08   \n",
       "2             7.207        129.0      216.0             129.12   \n",
       "3             9.610        216.0      288.0             216.21   \n",
       "4            12.379        288.0      371.0             288.30   \n",
       "\n",
       "   end_frame_float  \n",
       "0            67.08  \n",
       "1           129.12  \n",
       "2           216.21  \n",
       "3           288.30  \n",
       "4           371.37  "
      ]
     },
     "execution_count": 7,
     "metadata": {},
     "output_type": "execute_result"
    }
   ],
   "source": [
    "# Let's read in one parquet file using S3FS\n",
    "fs = s3fs.S3FileSystem(key=aws_access_key_id, secret=aws_secret_access_key)\n",
    "with fs.open(f\"{bucket_name}/{caption_files[0]}\", 'rb') as f:\n",
    "    df = pd.read_parquet(f)\n",
    "df.head()"
   ]
  },
  {
   "cell_type": "code",
   "execution_count": 18,
   "id": "7dce12df-6354-43dd-8f00-13d5f0e3d0c3",
   "metadata": {},
   "outputs": [],
   "source": [
    "# Define function to process video\n",
    "def video_frame_capturer(video_name, start_frame, end_frame):\n",
    "  current_frame = start_frame\n",
    "  filename = os.path.basename(video_name)\n",
    "  video_path = \"temp_folder/\" + filename\n",
    "  #download_from_s3('asl-capstone', video_name, local_video_path, aws_access_key_id, aws_secret_access_key)\n",
    "  #print(f\"Reading {video_path}\") \n",
    "  video_capture = cv2.VideoCapture(video_path)\n",
    "  video_capture.set(cv2.CAP_PROP_POS_FRAMES, start_frame)\n",
    "  while video_capture.isOpened() and current_frame <= end_frame:\n",
    "    ret, frame = video_capture.read()\n",
    "    #print(\"In frame number \",video_capture.get(cv2.CAP_PROP_POS_FRAMES))\n",
    "    if not ret:\n",
    "      break\n",
    "    frame = cv2.cvtColor(frame, cv2.COLOR_BGR2GRAY)\n",
    "    frame = cv2.resize(frame, (1280, 720))\n",
    "    current_frame+=1\n",
    "    yield frame # Does not terminate the function call; but comes back to it\n",
    "  video_capture.release()"
   ]
  },
  {
   "cell_type": "code",
   "execution_count": 14,
   "id": "a47db211-db2b-49e2-88c5-4f657b9004ac",
   "metadata": {},
   "outputs": [],
   "source": [
    "def read_caption(caption_file):\n",
    "    with fs.open(f\"{bucket_name}/{caption_file}\", 'rb') as f:\n",
    "        df = pd.read_parquet(f)\n",
    "    return df"
   ]
  },
  {
   "cell_type": "code",
   "execution_count": 21,
   "id": "0dd61a04-35b9-4897-a6f7-78726e19d41d",
   "metadata": {},
   "outputs": [],
   "source": [
    "def save_frames_file(frame_list, filename, caption_list):\n",
    "    numpy_array = frame_list[0]\n",
    "    caption_array = np.array(caption_list[0], dtype = str)\n",
    "    filename = filename.split('.')[0]\n",
    "    s3_file_path = f'{prefix}numpy_files/{filename}.npy'\n",
    "    s3_cap_path = f'{prefix}numpy_files/{filename}_cap.npy'\n",
    "    file_path = \"temp_folder/\"+filename+\".npy\"\n",
    "    caption_path = \"temp_folder/\"+filename+\"_cap.npy\"\n",
    "    #file_path = \"s3://asl-capstone/youtube-asl/test_sample/numpy_files/\"+filename\n",
    "    np.save(f\"{file_path}\",numpy_array)\n",
    "    np.save(f\"{caption_path}\",caption_array)\n",
    "    s3.upload_file(file_path, bucket_name, s3_file_path)\n",
    "    s3.upload_file(caption_path, bucket_name, s3_cap_path)\n",
    "    os.remove(file_path)\n",
    "    os.remove(caption_path)"
   ]
  },
  {
   "cell_type": "code",
   "execution_count": 22,
   "id": "bb6753d6-2474-4d12-ac99-9a59d88712ea",
   "metadata": {},
   "outputs": [
    {
     "name": "stdout",
     "output_type": "stream",
     "text": [
      "Time taken to process 06kKvQp4SfM.webm of size 17.86 MB is 9.05 seconds\n",
      "Time taken to process 0XGfpv6PUq4.mkv of size 59.04 MB is 22.47 seconds\n",
      "Time taken to process 5J8a2CaXWvk.webm of size 82.17 MB is 60.20 seconds\n",
      "Time taken to process 8VTAvocbMpI.mkv of size 9.07 MB is 3.33 seconds\n",
      "Time taken to process Dmvi3_q3gMc.mkv of size 145.80 MB is 36.41 seconds\n",
      "Time taken to process UEryLHbfb0M.webm of size 17.73 MB is 10.61 seconds\n",
      "Time taken to process aoLQ0VchSec.mkv of size 10.50 MB is 5.06 seconds\n",
      "Time taken to process dzWgVm2oY44.webm of size 204.51 MB is 105.13 seconds\n",
      "Time taken to process esx9dGfUuto.webm of size 6.80 MB is 8.96 seconds\n",
      "Time taken to process oOkSSJbNv68.webm of size 280.17 MB is 114.41 seconds\n"
     ]
    }
   ],
   "source": [
    "#vid_frames = [] #Empty list to store video frames\n",
    "#master_caption = [] # Empty list to store captions\n",
    "download_time = []\n",
    "for video, caption in zip(video_files, caption_files):\n",
    "    vid_frames = []\n",
    "    master_caption = []\n",
    "    start_time = time.time()\n",
    "    filename = os.path.basename(video)\n",
    "    local_video_path = \"temp_folder/\"+filename\n",
    "    if os.path.exists(local_video_path):\n",
    "        print(\"Video already exists. Not downloading again\")\n",
    "    else:\n",
    "        s3.download_file(bucket_name,video,local_video_path)\n",
    "    temp_df = read_caption(caption)\n",
    "    for _, row in temp_df.iterrows():\n",
    "        #print(f\"Reading {video} at frame number {row['start_frame']}\")\n",
    "        temp_frame = video_frame_capturer(video,int(row['start_frame']), int(row['end_frame']))\n",
    "        for frame in temp_frame:\n",
    "            vid_frames.append(frame)\n",
    "        master_caption.append(row['Caption'])\n",
    "    save_frames_file(vid_frames,filename, master_caption)\n",
    "    file_size = os.path.getsize(local_video_path)/(1024*1024)\n",
    "    os.remove(local_video_path)\n",
    "    end_time = time.time()\n",
    "    download_time.append(end_time-start_time)\n",
    "    print(f\"Time taken to process {filename} of size {file_size:.2f} MB is {((end_time - start_time)):.2f} seconds\")"
   ]
  },
  {
   "cell_type": "code",
   "execution_count": 23,
   "id": "4859d4c5-b395-4ebc-82d7-8337963fcc72",
   "metadata": {},
   "outputs": [
    {
     "name": "stdout",
     "output_type": "stream",
     "text": [
      "Average processing time per video is 37.56 seconds\n"
     ]
    }
   ],
   "source": [
    "time_download = sum(download_time)/len(download_time)\n",
    "print(f\"Average processing time per video is {time_download:.2f} seconds\")"
   ]
  }
 ],
 "metadata": {
  "kernelspec": {
   "display_name": "Python 3 (ipykernel)",
   "language": "python",
   "name": "python3"
  },
  "language_info": {
   "codemirror_mode": {
    "name": "ipython",
    "version": 3
   },
   "file_extension": ".py",
   "mimetype": "text/x-python",
   "name": "python",
   "nbconvert_exporter": "python",
   "pygments_lexer": "ipython3",
   "version": "3.10.12"
  }
 },
 "nbformat": 4,
 "nbformat_minor": 5
}
